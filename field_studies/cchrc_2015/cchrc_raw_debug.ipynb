{
 "cells": [
  {
   "cell_type": "markdown",
   "metadata": {},
   "source": [
    "# This is for Reconciling results between Tom Marsik and I"
   ]
  },
  {
   "cell_type": "code",
   "execution_count": 1,
   "metadata": {},
   "outputs": [],
   "source": [
    "from datetime import datetime, timedelta\n",
    "import pandas as pd\n",
    "import numpy as np\n",
    "# import matplotlib pyplot commands\n",
    "from matplotlib.pyplot import *\n",
    "# Show Plots in the Notebook\n",
    "%matplotlib inline\n",
    " \n",
    "# 'style' the plot like fivethirtyeight.com website\n",
    "style.use('bmh')"
   ]
  },
  {
   "cell_type": "code",
   "execution_count": 2,
   "metadata": {},
   "outputs": [],
   "source": [
    "rcParams['figure.figsize']= (9, 6)   # set Chart Size\n",
    "rcParams['font.size'] = 14            # set Font size in Chart"
   ]
  },
  {
   "cell_type": "code",
   "execution_count": 3,
   "metadata": {},
   "outputs": [],
   "source": [
    "fn = 'data/Dillingham_DLG_DHP_TenSecond.dat'\n",
    "dfd = pd.read_csv(fn, skiprows=[0, 2, 3], parse_dates=['TIMESTAMP'], na_values=['NAN'])"
   ]
  },
  {
   "cell_type": "code",
   "execution_count": 6,
   "metadata": {},
   "outputs": [
    {
     "data": {
      "text/html": [
       "<div>\n",
       "<style scoped>\n",
       "    .dataframe tbody tr th:only-of-type {\n",
       "        vertical-align: middle;\n",
       "    }\n",
       "\n",
       "    .dataframe tbody tr th {\n",
       "        vertical-align: top;\n",
       "    }\n",
       "\n",
       "    .dataframe thead th {\n",
       "        text-align: right;\n",
       "    }\n",
       "</style>\n",
       "<table border=\"1\" class=\"dataframe\">\n",
       "  <thead>\n",
       "    <tr style=\"text-align: right;\">\n",
       "      <th></th>\n",
       "      <th>t_coil</th>\n",
       "      <th>t_out</th>\n",
       "      <th>power</th>\n",
       "      <th>airspeed</th>\n",
       "      <th>t_delivery</th>\n",
       "      <th>t_return</th>\n",
       "    </tr>\n",
       "  </thead>\n",
       "  <tbody>\n",
       "    <tr>\n",
       "      <th>count</th>\n",
       "      <td>1.819915e+06</td>\n",
       "      <td>1.819915e+06</td>\n",
       "      <td>1.818550e+06</td>\n",
       "      <td>1.819674e+06</td>\n",
       "      <td>1.819915e+06</td>\n",
       "      <td>1.819915e+06</td>\n",
       "    </tr>\n",
       "    <tr>\n",
       "      <th>mean</th>\n",
       "      <td>2.897679e+01</td>\n",
       "      <td>2.890385e+01</td>\n",
       "      <td>1.150438e+02</td>\n",
       "      <td>1.226483e+01</td>\n",
       "      <td>6.938441e+01</td>\n",
       "      <td>6.660027e+01</td>\n",
       "    </tr>\n",
       "    <tr>\n",
       "      <th>std</th>\n",
       "      <td>1.105391e+01</td>\n",
       "      <td>1.090487e+01</td>\n",
       "      <td>3.968522e+02</td>\n",
       "      <td>3.794369e+01</td>\n",
       "      <td>1.444734e+01</td>\n",
       "      <td>4.193026e+00</td>\n",
       "    </tr>\n",
       "    <tr>\n",
       "      <th>min</th>\n",
       "      <td>-1.676911e+01</td>\n",
       "      <td>-1.211544e+01</td>\n",
       "      <td>-6.378184e+00</td>\n",
       "      <td>-9.511621e+00</td>\n",
       "      <td>1.628906e+01</td>\n",
       "      <td>1.641421e+01</td>\n",
       "    </tr>\n",
       "    <tr>\n",
       "      <th>25%</th>\n",
       "      <td>2.344835e+01</td>\n",
       "      <td>2.335494e+01</td>\n",
       "      <td>4.890676e+00</td>\n",
       "      <td>1.820209e-01</td>\n",
       "      <td>6.417661e+01</td>\n",
       "      <td>6.443917e+01</td>\n",
       "    </tr>\n",
       "    <tr>\n",
       "      <th>50%</th>\n",
       "      <td>3.154517e+01</td>\n",
       "      <td>3.124205e+01</td>\n",
       "      <td>5.214241e+00</td>\n",
       "      <td>2.004053e-01</td>\n",
       "      <td>6.547210e+01</td>\n",
       "      <td>6.567928e+01</td>\n",
       "    </tr>\n",
       "    <tr>\n",
       "      <th>75%</th>\n",
       "      <td>3.629568e+01</td>\n",
       "      <td>3.633908e+01</td>\n",
       "      <td>5.610726e+00</td>\n",
       "      <td>2.932821e-01</td>\n",
       "      <td>6.723580e+01</td>\n",
       "      <td>6.751149e+01</td>\n",
       "    </tr>\n",
       "    <tr>\n",
       "      <th>max</th>\n",
       "      <td>1.203533e+02</td>\n",
       "      <td>6.334097e+01</td>\n",
       "      <td>2.394634e+03</td>\n",
       "      <td>4.978166e+02</td>\n",
       "      <td>1.436833e+02</td>\n",
       "      <td>1.018910e+02</td>\n",
       "    </tr>\n",
       "  </tbody>\n",
       "</table>\n",
       "</div>"
      ],
      "text/plain": [
       "             t_coil         t_out         power      airspeed    t_delivery  \\\n",
       "count  1.819915e+06  1.819915e+06  1.818550e+06  1.819674e+06  1.819915e+06   \n",
       "mean   2.897679e+01  2.890385e+01  1.150438e+02  1.226483e+01  6.938441e+01   \n",
       "std    1.105391e+01  1.090487e+01  3.968522e+02  3.794369e+01  1.444734e+01   \n",
       "min   -1.676911e+01 -1.211544e+01 -6.378184e+00 -9.511621e+00  1.628906e+01   \n",
       "25%    2.344835e+01  2.335494e+01  4.890676e+00  1.820209e-01  6.417661e+01   \n",
       "50%    3.154517e+01  3.124205e+01  5.214241e+00  2.004053e-01  6.547210e+01   \n",
       "75%    3.629568e+01  3.633908e+01  5.610726e+00  2.932821e-01  6.723580e+01   \n",
       "max    1.203533e+02  6.334097e+01  2.394634e+03  4.978166e+02  1.436833e+02   \n",
       "\n",
       "           t_return  \n",
       "count  1.819915e+06  \n",
       "mean   6.660027e+01  \n",
       "std    4.193026e+00  \n",
       "min    1.641421e+01  \n",
       "25%    6.443917e+01  \n",
       "50%    6.567928e+01  \n",
       "75%    6.751149e+01  \n",
       "max    1.018910e+02  "
      ]
     },
     "execution_count": 6,
     "metadata": {},
     "output_type": "execute_result"
    }
   ],
   "source": [
    "dfd['t_delivery'] = (dfd.DLG_DeliveryT1_F + dfd.DLG_DeliveryT2_F + dfd.DLG_DeliveryT3_F) / 3.0\n",
    "dfd['t_return'] = (dfd.DLG_ReturnT1_F + dfd.DLG_ReturnT2_F + dfd.DLG_ReturnT3_F) / 3.0\n",
    "dfd.drop(columns=['RECORD', 'DLG_DeliveryT1_F', 'DLG_DeliveryT2_F', 'DLG_DeliveryT3_F', 'DLG_ReturnT1_F', 'DLG_ReturnT2_F', 'DLG_ReturnT3_F'], inplace=True)\n",
    "dfd.rename(columns={\n",
    "    'DLG_CoilT_F': 't_coil',\n",
    "    'DLG_OutsideT_F': 't_out',\n",
    "    'DLG_Electricity_W_Avg': 'power',\n",
    "    'DLG_Airflow_fpm_Avg': 'airspeed',\n",
    "    'TIMESTAMP': 'ts',\n",
    "}, inplace=True)\n",
    "dfd.set_index('ts', inplace=True)\n",
    "dfd.describe()"
   ]
  },
  {
   "cell_type": "code",
   "execution_count": 12,
   "metadata": {},
   "outputs": [
    {
     "data": {
      "text/plain": [
       "<matplotlib.axes._subplots.AxesSubplot at 0x150e445d2e8>"
      ]
     },
     "execution_count": 12,
     "metadata": {},
     "output_type": "execute_result"
    },
    {
     "data": {
      "image/png": "[encoded data removed]",
      "text/plain": [
       "<matplotlib.figure.Figure at 0x150e4468828>"
      ]
     },
     "metadata": {},
     "output_type": "display_data"
    }
   ],
   "source": [
    "# Compute Air Flow in CFM from calibration data\n",
    "airflow = 1.0566 * dfd.airspeed + 18.333         # Air flow in cfm from proxy calibration\n",
    "nonzero_speed = (dfd.airspeed > 40)              # Speed less than 40 fpm counts as zero speed\n",
    "dfd['airflow'] = airflow * nonzero_speed         # Zero speed means zero flow\n",
    "dfd.plot(x='airspeed', y='airflow', kind='scatter')"
   ]
  },
  {
   "cell_type": "markdown",
   "metadata": {},
   "source": [
    "I am not removing any airflow outliers here."
   ]
  },
  {
   "cell_type": "code",
   "execution_count": 13,
   "metadata": {},
   "outputs": [
    {
     "name": "stdout",
     "output_type": "stream",
     "text": [
      "0.017976\n"
     ]
    },
    {
     "data": {
      "text/html": [
       "<div>\n",
       "<style scoped>\n",
       "    .dataframe tbody tr th:only-of-type {\n",
       "        vertical-align: middle;\n",
       "    }\n",
       "\n",
       "    .dataframe tbody tr th {\n",
       "        vertical-align: top;\n",
       "    }\n",
       "\n",
       "    .dataframe thead th {\n",
       "        text-align: right;\n",
       "    }\n",
       "</style>\n",
       "<table border=\"1\" class=\"dataframe\">\n",
       "  <thead>\n",
       "    <tr style=\"text-align: right;\">\n",
       "      <th></th>\n",
       "      <th>t_out</th>\n",
       "      <th>power</th>\n",
       "      <th>airspeed</th>\n",
       "      <th>t_delivery</th>\n",
       "      <th>t_return</th>\n",
       "      <th>airflow</th>\n",
       "      <th>heat_out</th>\n",
       "    </tr>\n",
       "  </thead>\n",
       "  <tbody>\n",
       "    <tr>\n",
       "      <th>count</th>\n",
       "      <td>1.819915e+06</td>\n",
       "      <td>1.818550e+06</td>\n",
       "      <td>1.819674e+06</td>\n",
       "      <td>1.819915e+06</td>\n",
       "      <td>1.819915e+06</td>\n",
       "      <td>1.819674e+06</td>\n",
       "      <td>1.819674e+06</td>\n",
       "    </tr>\n",
       "    <tr>\n",
       "      <th>mean</th>\n",
       "      <td>2.890385e+01</td>\n",
       "      <td>1.150438e+02</td>\n",
       "      <td>1.226483e+01</td>\n",
       "      <td>6.938441e+01</td>\n",
       "      <td>6.660027e+01</td>\n",
       "      <td>1.453934e+01</td>\n",
       "      <td>1.593016e+02</td>\n",
       "    </tr>\n",
       "    <tr>\n",
       "      <th>std</th>\n",
       "      <td>1.090487e+01</td>\n",
       "      <td>3.968522e+02</td>\n",
       "      <td>3.794369e+01</td>\n",
       "      <td>1.444734e+01</td>\n",
       "      <td>4.193026e+00</td>\n",
       "      <td>4.539594e+01</td>\n",
       "      <td>6.038603e+02</td>\n",
       "    </tr>\n",
       "    <tr>\n",
       "      <th>min</th>\n",
       "      <td>-1.211544e+01</td>\n",
       "      <td>-6.378184e+00</td>\n",
       "      <td>-9.511621e+00</td>\n",
       "      <td>1.628906e+01</td>\n",
       "      <td>1.641421e+01</td>\n",
       "      <td>0.000000e+00</td>\n",
       "      <td>-1.130452e+03</td>\n",
       "    </tr>\n",
       "    <tr>\n",
       "      <th>25%</th>\n",
       "      <td>2.335494e+01</td>\n",
       "      <td>4.890676e+00</td>\n",
       "      <td>1.820209e-01</td>\n",
       "      <td>6.417661e+01</td>\n",
       "      <td>6.443917e+01</td>\n",
       "      <td>0.000000e+00</td>\n",
       "      <td>-0.000000e+00</td>\n",
       "    </tr>\n",
       "    <tr>\n",
       "      <th>50%</th>\n",
       "      <td>3.124205e+01</td>\n",
       "      <td>5.214241e+00</td>\n",
       "      <td>2.004053e-01</td>\n",
       "      <td>6.547210e+01</td>\n",
       "      <td>6.567928e+01</td>\n",
       "      <td>0.000000e+00</td>\n",
       "      <td>-0.000000e+00</td>\n",
       "    </tr>\n",
       "    <tr>\n",
       "      <th>75%</th>\n",
       "      <td>3.633908e+01</td>\n",
       "      <td>5.610726e+00</td>\n",
       "      <td>2.932821e-01</td>\n",
       "      <td>6.723580e+01</td>\n",
       "      <td>6.751149e+01</td>\n",
       "      <td>0.000000e+00</td>\n",
       "      <td>-0.000000e+00</td>\n",
       "    </tr>\n",
       "    <tr>\n",
       "      <th>max</th>\n",
       "      <td>6.334097e+01</td>\n",
       "      <td>2.394634e+03</td>\n",
       "      <td>4.978166e+02</td>\n",
       "      <td>1.436833e+02</td>\n",
       "      <td>1.018910e+02</td>\n",
       "      <td>5.443260e+02</td>\n",
       "      <td>4.153383e+03</td>\n",
       "    </tr>\n",
       "  </tbody>\n",
       "</table>\n",
       "</div>"
      ],
      "text/plain": [
       "              t_out         power      airspeed    t_delivery      t_return  \\\n",
       "count  1.819915e+06  1.818550e+06  1.819674e+06  1.819915e+06  1.819915e+06   \n",
       "mean   2.890385e+01  1.150438e+02  1.226483e+01  6.938441e+01  6.660027e+01   \n",
       "std    1.090487e+01  3.968522e+02  3.794369e+01  1.444734e+01  4.193026e+00   \n",
       "min   -1.211544e+01 -6.378184e+00 -9.511621e+00  1.628906e+01  1.641421e+01   \n",
       "25%    2.335494e+01  4.890676e+00  1.820209e-01  6.417661e+01  6.443917e+01   \n",
       "50%    3.124205e+01  5.214241e+00  2.004053e-01  6.547210e+01  6.567928e+01   \n",
       "75%    3.633908e+01  5.610726e+00  2.932821e-01  6.723580e+01  6.751149e+01   \n",
       "max    6.334097e+01  2.394634e+03  4.978166e+02  1.436833e+02  1.018910e+02   \n",
       "\n",
       "            airflow      heat_out  \n",
       "count  1.819674e+06  1.819674e+06  \n",
       "mean   1.453934e+01  1.593016e+02  \n",
       "std    4.539594e+01  6.038603e+02  \n",
       "min    0.000000e+00 -1.130452e+03  \n",
       "25%    0.000000e+00 -0.000000e+00  \n",
       "50%    0.000000e+00 -0.000000e+00  \n",
       "75%    0.000000e+00 -0.000000e+00  \n",
       "max    5.443260e+02  4.153383e+03  "
      ]
     },
     "execution_count": 13,
     "metadata": {},
     "output_type": "execute_result"
    }
   ],
   "source": [
    "# Calculate Heat Output in Watts\n",
    "\n",
    "# Constants:\n",
    "c_p = 0.240 # Specific heat of air in Btu/lb-F\n",
    "ro = 0.0749   # Density of air (in lb/ft^3) at standard conditions\n",
    "VHC = c_p*ro  # Volumetric heat capacity of air in Btu/ft^3-F\n",
    "print(VHC)\n",
    "\n",
    "dfd['heat_out'] = dfd.airflow * (dfd.t_delivery - dfd.t_return) * VHC * 60 / 3.412\n",
    "\n",
    "# Eliminate the coil temp column\n",
    "dfd.drop(columns=['t_coil'], inplace=True)\n",
    "dfd.describe()"
   ]
  },
  {
   "cell_type": "code",
   "execution_count": 15,
   "metadata": {},
   "outputs": [
    {
     "name": "stdout",
     "output_type": "stream",
     "text": [
      "Energy In: 581.1 kWh\n",
      "Energy Out: 805.2 kWh\n",
      "COP: 1.39\n"
     ]
    }
   ],
   "source": [
    "e_in = dfd.power.sum() * 10./3600/1000\n",
    "e_out = dfd.heat_out.sum() * 10./3600/1000\n",
    "print(f'Energy In: {e_in:.1f} kWh')\n",
    "print(f'Energy Out: {e_out:.1f} kWh')\n",
    "print(f'COP: {e_out / e_in:.2f}')"
   ]
  },
  {
   "cell_type": "code",
   "execution_count": 16,
   "metadata": {},
   "outputs": [
    {
     "data": {
      "text/plain": [
       "t_out         5.260254e+07\n",
       "power         2.092130e+08\n",
       "airspeed      2.231800e+07\n",
       "t_delivery    1.262737e+08\n",
       "t_return      1.212068e+08\n",
       "airflow       2.645685e+07\n",
       "heat_out      2.898770e+08\n",
       "dtype: float64"
      ]
     },
     "execution_count": 16,
     "metadata": {},
     "output_type": "execute_result"
    }
   ],
   "source": [
    "dfd.sum()"
   ]
  }
 ],
 "metadata": {
  "kernelspec": {
   "display_name": "Python 3",
   "language": "python",
   "name": "python3"
  },
  "language_info": {
   "codemirror_mode": {
    "name": "ipython",
    "version": 3
   },
   "file_extension": ".py",
   "mimetype": "text/x-python",
   "name": "python",
   "nbconvert_exporter": "python",
   "pygments_lexer": "ipython3",
   "version": "3.6.6"
  }
 },
 "nbformat": 4,
 "nbformat_minor": 2
}
