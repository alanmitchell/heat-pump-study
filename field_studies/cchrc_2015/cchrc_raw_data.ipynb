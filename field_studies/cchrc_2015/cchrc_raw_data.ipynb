{
 "cells": [
  {
   "cell_type": "markdown",
   "metadata": {},
   "source": [
    "# Analysis of 2015 CCHRC Air Source Heat Pump Study Data"
   ]
  },
  {
   "cell_type": "code",
   "execution_count": 1,
   "metadata": {},
   "outputs": [],
   "source": [
    "from datetime import datetime, timedelta\n",
    "import pandas as pd\n",
    "import numpy as np\n",
    "# import matplotlib pyplot commands\n",
    "from matplotlib.pyplot import *\n",
    "# Show Plots in the Notebook\n",
    "%matplotlib inline\n",
    " \n",
    "# 'style' the plot like fivethirtyeight.com website\n",
    "style.use('bmh')"
   ]
  },
  {
   "cell_type": "code",
   "execution_count": 2,
   "metadata": {},
   "outputs": [],
   "source": [
    "rcParams['figure.figsize']= (9, 6)   # set Chart Size\n",
    "rcParams['font.size'] = 14            # set Font size in Chart"
   ]
  },
  {
   "cell_type": "code",
   "execution_count": 3,
   "metadata": {},
   "outputs": [
    {
     "name": "stdout",
     "output_type": "stream",
     "text": [
      "Line 0: \"TOA5\",\"Dillingham\",\"CR1000\",\"27206\",\"CR1000.Std.27\",\"CPU:ASHP DHP 2014.CR1\",\"34100\",\"DLG_DHP_TenSecond\"\n",
      "Line 1: \"TIMESTAMP\",\"RECORD\",\"DLG_DeliveryT1_F\",\"DLG_DeliveryT2_F\",\"DLG_DeliveryT3_F\",\"DLG_ReturnT1_F\",\"DLG_ReturnT2_F\",\"DLG_ReturnT3_F\",\"DLG_CoilT_F\",\"DLG_OutsideT_F\",\"DLG_Electricity_W_Avg\",\"DLG_Airflow_fpm_Avg\"\n",
      "Line 2: \"TS\",\"RN\",\"\",\"\",\"\",\"\",\"\",\"\",\"\",\"\",\"\",\"\"\n",
      "Line 3: \"\",\"\",\"Smp\",\"Smp\",\"Smp\",\"Smp\",\"Smp\",\"Smp\",\"Smp\",\"Smp\",\"Avg\",\"Avg\"\n",
      "Line 4: \"2014-10-04 18:03:20\",0,49.86922,49.72235,49.672,49.88553,49.8515,49.86922,30.51785,30.51633,\"NAN\",0.1071669\n"
     ]
    }
   ],
   "source": [
    "fn = 'data/Dillingham_DLG_DHP_TenSecond.dat'\n",
    "# Take a look at the header rows\n",
    "f = open(fn)\n",
    "for i in range(5):\n",
    "    print(f'Line {i}: {f.readline().strip()}')"
   ]
  },
  {
   "cell_type": "code",
   "execution_count": 4,
   "metadata": {},
   "outputs": [
    {
     "data": {
      "text/html": [
       "<div>\n",
       "<style scoped>\n",
       "    .dataframe tbody tr th:only-of-type {\n",
       "        vertical-align: middle;\n",
       "    }\n",
       "\n",
       "    .dataframe tbody tr th {\n",
       "        vertical-align: top;\n",
       "    }\n",
       "\n",
       "    .dataframe thead th {\n",
       "        text-align: right;\n",
       "    }\n",
       "</style>\n",
       "<table border=\"1\" class=\"dataframe\">\n",
       "  <thead>\n",
       "    <tr style=\"text-align: right;\">\n",
       "      <th></th>\n",
       "      <th>TIMESTAMP</th>\n",
       "      <th>RECORD</th>\n",
       "      <th>DLG_DeliveryT1_F</th>\n",
       "      <th>DLG_DeliveryT2_F</th>\n",
       "      <th>DLG_DeliveryT3_F</th>\n",
       "      <th>DLG_ReturnT1_F</th>\n",
       "      <th>DLG_ReturnT2_F</th>\n",
       "      <th>DLG_ReturnT3_F</th>\n",
       "      <th>DLG_CoilT_F</th>\n",
       "      <th>DLG_OutsideT_F</th>\n",
       "      <th>DLG_Electricity_W_Avg</th>\n",
       "      <th>DLG_Airflow_fpm_Avg</th>\n",
       "    </tr>\n",
       "  </thead>\n",
       "  <tbody>\n",
       "    <tr>\n",
       "      <th>0</th>\n",
       "      <td>2014-10-04 18:03:20</td>\n",
       "      <td>0</td>\n",
       "      <td>49.86922</td>\n",
       "      <td>49.72235</td>\n",
       "      <td>49.67200</td>\n",
       "      <td>49.88553</td>\n",
       "      <td>49.85150</td>\n",
       "      <td>49.86922</td>\n",
       "      <td>30.51785</td>\n",
       "      <td>30.51633</td>\n",
       "      <td>NaN</td>\n",
       "      <td>0.107167</td>\n",
       "    </tr>\n",
       "    <tr>\n",
       "      <th>1</th>\n",
       "      <td>2014-10-04 18:03:30</td>\n",
       "      <td>1</td>\n",
       "      <td>66.49229</td>\n",
       "      <td>66.29536</td>\n",
       "      <td>66.22681</td>\n",
       "      <td>66.50751</td>\n",
       "      <td>66.45961</td>\n",
       "      <td>66.48685</td>\n",
       "      <td>40.68156</td>\n",
       "      <td>40.71555</td>\n",
       "      <td>NaN</td>\n",
       "      <td>0.107660</td>\n",
       "    </tr>\n",
       "    <tr>\n",
       "      <th>2</th>\n",
       "      <td>2014-10-04 18:03:40</td>\n",
       "      <td>2</td>\n",
       "      <td>66.49229</td>\n",
       "      <td>66.28444</td>\n",
       "      <td>66.23115</td>\n",
       "      <td>66.50316</td>\n",
       "      <td>66.45311</td>\n",
       "      <td>66.48466</td>\n",
       "      <td>40.70706</td>\n",
       "      <td>40.77493</td>\n",
       "      <td>NaN</td>\n",
       "      <td>0.106630</td>\n",
       "    </tr>\n",
       "    <tr>\n",
       "      <th>3</th>\n",
       "      <td>2014-10-04 18:03:50</td>\n",
       "      <td>3</td>\n",
       "      <td>66.48685</td>\n",
       "      <td>66.27574</td>\n",
       "      <td>66.23115</td>\n",
       "      <td>66.50208</td>\n",
       "      <td>66.44226</td>\n",
       "      <td>66.47047</td>\n",
       "      <td>40.71556</td>\n",
       "      <td>40.72401</td>\n",
       "      <td>NaN</td>\n",
       "      <td>0.105903</td>\n",
       "    </tr>\n",
       "    <tr>\n",
       "      <th>4</th>\n",
       "      <td>2014-10-04 18:04:00</td>\n",
       "      <td>4</td>\n",
       "      <td>66.49120</td>\n",
       "      <td>66.27900</td>\n",
       "      <td>66.23115</td>\n",
       "      <td>66.49229</td>\n",
       "      <td>66.43791</td>\n",
       "      <td>66.46939</td>\n",
       "      <td>40.69735</td>\n",
       "      <td>40.64272</td>\n",
       "      <td>NaN</td>\n",
       "      <td>0.107903</td>\n",
       "    </tr>\n",
       "  </tbody>\n",
       "</table>\n",
       "</div>"
      ],
      "text/plain": [
       "            TIMESTAMP  RECORD  DLG_DeliveryT1_F  DLG_DeliveryT2_F  \\\n",
       "0 2014-10-04 18:03:20       0          49.86922          49.72235   \n",
       "1 2014-10-04 18:03:30       1          66.49229          66.29536   \n",
       "2 2014-10-04 18:03:40       2          66.49229          66.28444   \n",
       "3 2014-10-04 18:03:50       3          66.48685          66.27574   \n",
       "4 2014-10-04 18:04:00       4          66.49120          66.27900   \n",
       "\n",
       "   DLG_DeliveryT3_F  DLG_ReturnT1_F  DLG_ReturnT2_F  DLG_ReturnT3_F  \\\n",
       "0          49.67200        49.88553        49.85150        49.86922   \n",
       "1          66.22681        66.50751        66.45961        66.48685   \n",
       "2          66.23115        66.50316        66.45311        66.48466   \n",
       "3          66.23115        66.50208        66.44226        66.47047   \n",
       "4          66.23115        66.49229        66.43791        66.46939   \n",
       "\n",
       "   DLG_CoilT_F  DLG_OutsideT_F  DLG_Electricity_W_Avg  DLG_Airflow_fpm_Avg  \n",
       "0     30.51785        30.51633                    NaN             0.107167  \n",
       "1     40.68156        40.71555                    NaN             0.107660  \n",
       "2     40.70706        40.77493                    NaN             0.106630  \n",
       "3     40.71556        40.72401                    NaN             0.105903  \n",
       "4     40.69735        40.64272                    NaN             0.107903  "
      ]
     },
     "execution_count": 4,
     "metadata": {},
     "output_type": "execute_result"
    }
   ],
   "source": [
    "dfd = pd.read_csv(fn, skiprows=[0, 2, 3], parse_dates=['TIMESTAMP'], na_values=['NAN'])\n",
    "dfd.head()"
   ]
  },
  {
   "cell_type": "code",
   "execution_count": 5,
   "metadata": {},
   "outputs": [
    {
     "name": "stdout",
     "output_type": "stream",
     "text": [
      "<class 'pandas.core.frame.DataFrame'>\n",
      "RangeIndex: 1819915 entries, 0 to 1819914\n",
      "Data columns (total 12 columns):\n",
      "TIMESTAMP                datetime64[ns]\n",
      "RECORD                   int64\n",
      "DLG_DeliveryT1_F         float64\n",
      "DLG_DeliveryT2_F         float64\n",
      "DLG_DeliveryT3_F         float64\n",
      "DLG_ReturnT1_F           float64\n",
      "DLG_ReturnT2_F           float64\n",
      "DLG_ReturnT3_F           float64\n",
      "DLG_CoilT_F              float64\n",
      "DLG_OutsideT_F           float64\n",
      "DLG_Electricity_W_Avg    float64\n",
      "DLG_Airflow_fpm_Avg      float64\n",
      "dtypes: datetime64[ns](1), float64(10), int64(1)\n",
      "memory usage: 166.6 MB\n"
     ]
    }
   ],
   "source": [
    "dfd.info()"
   ]
  },
  {
   "cell_type": "code",
   "execution_count": 6,
   "metadata": {},
   "outputs": [
    {
     "data": {
      "text/html": [
       "<div>\n",
       "<style scoped>\n",
       "    .dataframe tbody tr th:only-of-type {\n",
       "        vertical-align: middle;\n",
       "    }\n",
       "\n",
       "    .dataframe tbody tr th {\n",
       "        vertical-align: top;\n",
       "    }\n",
       "\n",
       "    .dataframe thead th {\n",
       "        text-align: right;\n",
       "    }\n",
       "</style>\n",
       "<table border=\"1\" class=\"dataframe\">\n",
       "  <thead>\n",
       "    <tr style=\"text-align: right;\">\n",
       "      <th></th>\n",
       "      <th>t_coil</th>\n",
       "      <th>t_out</th>\n",
       "      <th>power</th>\n",
       "      <th>airspeed</th>\n",
       "      <th>t_delivery</th>\n",
       "      <th>t_return</th>\n",
       "    </tr>\n",
       "  </thead>\n",
       "  <tbody>\n",
       "    <tr>\n",
       "      <th>count</th>\n",
       "      <td>1.819915e+06</td>\n",
       "      <td>1.819915e+06</td>\n",
       "      <td>1.818550e+06</td>\n",
       "      <td>1.819674e+06</td>\n",
       "      <td>1.819915e+06</td>\n",
       "      <td>1.819915e+06</td>\n",
       "    </tr>\n",
       "    <tr>\n",
       "      <th>mean</th>\n",
       "      <td>2.897679e+01</td>\n",
       "      <td>2.890385e+01</td>\n",
       "      <td>1.150438e+02</td>\n",
       "      <td>1.226483e+01</td>\n",
       "      <td>6.938441e+01</td>\n",
       "      <td>6.660027e+01</td>\n",
       "    </tr>\n",
       "    <tr>\n",
       "      <th>std</th>\n",
       "      <td>1.105391e+01</td>\n",
       "      <td>1.090487e+01</td>\n",
       "      <td>3.968522e+02</td>\n",
       "      <td>3.794369e+01</td>\n",
       "      <td>1.444734e+01</td>\n",
       "      <td>4.193026e+00</td>\n",
       "    </tr>\n",
       "    <tr>\n",
       "      <th>min</th>\n",
       "      <td>-1.676911e+01</td>\n",
       "      <td>-1.211544e+01</td>\n",
       "      <td>-6.378184e+00</td>\n",
       "      <td>-9.511621e+00</td>\n",
       "      <td>1.628906e+01</td>\n",
       "      <td>1.641421e+01</td>\n",
       "    </tr>\n",
       "    <tr>\n",
       "      <th>25%</th>\n",
       "      <td>2.344835e+01</td>\n",
       "      <td>2.335494e+01</td>\n",
       "      <td>4.890676e+00</td>\n",
       "      <td>1.820209e-01</td>\n",
       "      <td>6.417661e+01</td>\n",
       "      <td>6.443917e+01</td>\n",
       "    </tr>\n",
       "    <tr>\n",
       "      <th>50%</th>\n",
       "      <td>3.154517e+01</td>\n",
       "      <td>3.124205e+01</td>\n",
       "      <td>5.214241e+00</td>\n",
       "      <td>2.004053e-01</td>\n",
       "      <td>6.547210e+01</td>\n",
       "      <td>6.567928e+01</td>\n",
       "    </tr>\n",
       "    <tr>\n",
       "      <th>75%</th>\n",
       "      <td>3.629568e+01</td>\n",
       "      <td>3.633908e+01</td>\n",
       "      <td>5.610726e+00</td>\n",
       "      <td>2.932821e-01</td>\n",
       "      <td>6.723580e+01</td>\n",
       "      <td>6.751149e+01</td>\n",
       "    </tr>\n",
       "    <tr>\n",
       "      <th>max</th>\n",
       "      <td>1.203533e+02</td>\n",
       "      <td>6.334097e+01</td>\n",
       "      <td>2.394634e+03</td>\n",
       "      <td>4.978166e+02</td>\n",
       "      <td>1.436833e+02</td>\n",
       "      <td>1.018910e+02</td>\n",
       "    </tr>\n",
       "  </tbody>\n",
       "</table>\n",
       "</div>"
      ],
      "text/plain": [
       "             t_coil         t_out         power      airspeed    t_delivery  \\\n",
       "count  1.819915e+06  1.819915e+06  1.818550e+06  1.819674e+06  1.819915e+06   \n",
       "mean   2.897679e+01  2.890385e+01  1.150438e+02  1.226483e+01  6.938441e+01   \n",
       "std    1.105391e+01  1.090487e+01  3.968522e+02  3.794369e+01  1.444734e+01   \n",
       "min   -1.676911e+01 -1.211544e+01 -6.378184e+00 -9.511621e+00  1.628906e+01   \n",
       "25%    2.344835e+01  2.335494e+01  4.890676e+00  1.820209e-01  6.417661e+01   \n",
       "50%    3.154517e+01  3.124205e+01  5.214241e+00  2.004053e-01  6.547210e+01   \n",
       "75%    3.629568e+01  3.633908e+01  5.610726e+00  2.932821e-01  6.723580e+01   \n",
       "max    1.203533e+02  6.334097e+01  2.394634e+03  4.978166e+02  1.436833e+02   \n",
       "\n",
       "           t_return  \n",
       "count  1.819915e+06  \n",
       "mean   6.660027e+01  \n",
       "std    4.193026e+00  \n",
       "min    1.641421e+01  \n",
       "25%    6.443917e+01  \n",
       "50%    6.567928e+01  \n",
       "75%    6.751149e+01  \n",
       "max    1.018910e+02  "
      ]
     },
     "execution_count": 6,
     "metadata": {},
     "output_type": "execute_result"
    }
   ],
   "source": [
    "# Calculate average delivery and return temperatures, and clean up DataFrame\n",
    "# renaming columns to shorter names.\n",
    "dfd['t_delivery'] = (dfd.DLG_DeliveryT1_F + dfd.DLG_DeliveryT2_F + dfd.DLG_DeliveryT3_F) / 3.0\n",
    "dfd['t_return'] = (dfd.DLG_ReturnT1_F + dfd.DLG_ReturnT2_F + dfd.DLG_ReturnT3_F) / 3.0\n",
    "dfd.drop(columns=['RECORD', 'DLG_DeliveryT1_F', 'DLG_DeliveryT2_F', 'DLG_DeliveryT3_F', 'DLG_ReturnT1_F', 'DLG_ReturnT2_F', 'DLG_ReturnT3_F'], inplace=True)\n",
    "dfd.rename(columns={\n",
    "    'DLG_CoilT_F': 't_coil',\n",
    "    'DLG_OutsideT_F': 't_out',\n",
    "    'DLG_Electricity_W_Avg': 'power',\n",
    "    'DLG_Airflow_fpm_Avg': 'airspeed',\n",
    "    'TIMESTAMP': 'ts',\n",
    "}, inplace=True)\n",
    "dfd.set_index('ts', inplace=True)\n",
    "dfd.describe()"
   ]
  },
  {
   "cell_type": "code",
   "execution_count": 7,
   "metadata": {},
   "outputs": [
    {
     "name": "stdout",
     "output_type": "stream",
     "text": [
      "Average Delivery delta-T when Off: -0.29\n"
     ]
    },
    {
     "data": {
      "text/plain": [
       "<matplotlib.axes._subplots.AxesSubplot at 0x16c4d4a8630>"
      ]
     },
     "execution_count": 7,
     "metadata": {},
     "output_type": "execute_result"
    },
    {
     "data": {
      "image/png": "[encoded data removed]",
      "text/plain": [
       "<matplotlib.figure.Figure at 0x16c4d4abc18>"
      ]
     },
     "metadata": {},
     "output_type": "display_data"
    }
   ],
   "source": [
    "# Check calibration of Delivery and Return Temp Sensors.\n",
    "# They should be pretty close to each other when heat pump is off.\n",
    "df_off = dfd.query('power < 100')\n",
    "delta_t = df_off.t_delivery - df_off.t_return\n",
    "# also knock out large delta-T's\n",
    "delta_t = delta_t.where(np.abs(delta_t) < 3)\n",
    "print(f'Average Delivery delta-T when Off: {delta_t.mean():.2f}')\n",
    "delta_t.hist(bins=30)"
   ]
  },
  {
   "cell_type": "code",
   "execution_count": 8,
   "metadata": {},
   "outputs": [
    {
     "name": "stdout",
     "output_type": "stream",
     "text": [
      "38.03481030971885\n"
     ]
    }
   ],
   "source": [
    "# How important is accurate delta-T?  What is the average delta-T\n",
    "# when the unit is On?\n",
    "df_on = dfd.query('power >= 100')\n",
    "delta_t = df_on.t_delivery - df_on.t_return\n",
    "print(delta_t.mean())\n",
    "\n",
    "# About 38 deg delta-T.  So inaccuracy of 0.3 out of 38 F is about\n",
    "# 1%.  No big deal if you are looking at the COP just during the On\n",
    "# periods."
   ]
  },
  {
   "cell_type": "code",
   "execution_count": 9,
   "metadata": {},
   "outputs": [
    {
     "data": {
      "text/plain": [
       "<matplotlib.axes._subplots.AxesSubplot at 0x16c43e4db00>"
      ]
     },
     "execution_count": 9,
     "metadata": {},
     "output_type": "execute_result"
    },
    {
     "data": {
      "image/png": "[encoded data removed]",
      "text/plain": [
       "<matplotlib.figure.Figure at 0x16c43e5a908>"
      ]
     },
     "metadata": {},
     "output_type": "display_data"
    }
   ],
   "source": [
    "# Compute Air Flow in CFM from calibration data\n",
    "airflow = 1.0566 * dfd.airspeed + 18.333         # Air flow in cfm from proxy calibration\n",
    "nonzero_speed = (dfd.airspeed > 40)              # Speed less than 40 fpm counts as zero speed\n",
    "dfd['airflow'] = airflow * nonzero_speed         # Zero speed means zero flow\n",
    "dfd.airflow.hist(bins=30)"
   ]
  },
  {
   "cell_type": "code",
   "execution_count": 10,
   "metadata": {},
   "outputs": [
    {
     "data": {
      "text/plain": [
       "<matplotlib.axes._subplots.AxesSubplot at 0x16c43fd2128>"
      ]
     },
     "execution_count": 10,
     "metadata": {},
     "output_type": "execute_result"
    },
    {
     "data": {
      "image/png": "[encoded data removed]",
      "text/plain": [
       "<matplotlib.figure.Figure at 0x16c43dbdd68>"
      ]
     },
     "metadata": {},
     "output_type": "display_data"
    }
   ],
   "source": [
    "# Look like there may be some outliers\n",
    "dfd.query('airflow > 250').airflow.hist(bins=30)"
   ]
  },
  {
   "cell_type": "code",
   "execution_count": 11,
   "metadata": {},
   "outputs": [
    {
     "data": {
      "text/plain": [
       "<matplotlib.lines.Line2D at 0x16c43ed4358>"
      ]
     },
     "execution_count": 11,
     "metadata": {},
     "output_type": "execute_result"
    },
    {
     "data": {
      "image/png": "[encoded data removed]",
      "text/plain": [
       "<matplotlib.figure.Figure at 0x16c43e826a0>"
      ]
     },
     "metadata": {},
     "output_type": "display_data"
    }
   ],
   "source": [
    "# Substitute NaN for values over 300\n",
    "dfd['airflow'] = dfd.airflow.where(dfd.airflow < 300)\n",
    "dfd.query('airflow > 0').airflow.hist(bins=30)\n",
    "xlabel('Air Flow, cfm')\n",
    "ylabel('# of Samples')\n",
    "axvline(x=249, linestyle='--', color='red')\n",
    "# Very few points reach the high speed calibration value."
   ]
  },
  {
   "cell_type": "code",
   "execution_count": 12,
   "metadata": {},
   "outputs": [
    {
     "data": {
      "text/html": [
       "<div>\n",
       "<style scoped>\n",
       "    .dataframe tbody tr th:only-of-type {\n",
       "        vertical-align: middle;\n",
       "    }\n",
       "\n",
       "    .dataframe tbody tr th {\n",
       "        vertical-align: top;\n",
       "    }\n",
       "\n",
       "    .dataframe thead th {\n",
       "        text-align: right;\n",
       "    }\n",
       "</style>\n",
       "<table border=\"1\" class=\"dataframe\">\n",
       "  <thead>\n",
       "    <tr style=\"text-align: right;\">\n",
       "      <th></th>\n",
       "      <th>t_out</th>\n",
       "      <th>power</th>\n",
       "      <th>airspeed</th>\n",
       "      <th>t_delivery</th>\n",
       "      <th>t_return</th>\n",
       "      <th>airflow</th>\n",
       "      <th>heat_out</th>\n",
       "    </tr>\n",
       "  </thead>\n",
       "  <tbody>\n",
       "    <tr>\n",
       "      <th>count</th>\n",
       "      <td>1.818302e+06</td>\n",
       "      <td>1.818302e+06</td>\n",
       "      <td>1.818302e+06</td>\n",
       "      <td>1.818302e+06</td>\n",
       "      <td>1.818302e+06</td>\n",
       "      <td>1.818302e+06</td>\n",
       "      <td>1.818302e+06</td>\n",
       "    </tr>\n",
       "    <tr>\n",
       "      <th>mean</th>\n",
       "      <td>2.890040e+01</td>\n",
       "      <td>1.150540e+02</td>\n",
       "      <td>1.226947e+01</td>\n",
       "      <td>6.938633e+01</td>\n",
       "      <td>6.660027e+01</td>\n",
       "      <td>1.454504e+01</td>\n",
       "      <td>1.593716e+02</td>\n",
       "    </tr>\n",
       "    <tr>\n",
       "      <th>std</th>\n",
       "      <td>1.090656e+01</td>\n",
       "      <td>3.968731e+02</td>\n",
       "      <td>3.794456e+01</td>\n",
       "      <td>1.445126e+01</td>\n",
       "      <td>4.193890e+00</td>\n",
       "      <td>4.539843e+01</td>\n",
       "      <td>6.039727e+02</td>\n",
       "    </tr>\n",
       "    <tr>\n",
       "      <th>min</th>\n",
       "      <td>-1.211544e+01</td>\n",
       "      <td>-6.378184e+00</td>\n",
       "      <td>-8.598010e-01</td>\n",
       "      <td>1.628906e+01</td>\n",
       "      <td>1.641421e+01</td>\n",
       "      <td>0.000000e+00</td>\n",
       "      <td>-1.130452e+03</td>\n",
       "    </tr>\n",
       "    <tr>\n",
       "      <th>25%</th>\n",
       "      <td>2.335200e+01</td>\n",
       "      <td>4.890689e+00</td>\n",
       "      <td>1.820817e-01</td>\n",
       "      <td>6.417654e+01</td>\n",
       "      <td>6.443862e+01</td>\n",
       "      <td>0.000000e+00</td>\n",
       "      <td>-0.000000e+00</td>\n",
       "    </tr>\n",
       "    <tr>\n",
       "      <th>50%</th>\n",
       "      <td>3.123535e+01</td>\n",
       "      <td>5.214249e+00</td>\n",
       "      <td>2.004225e-01</td>\n",
       "      <td>6.547210e+01</td>\n",
       "      <td>6.567888e+01</td>\n",
       "      <td>0.000000e+00</td>\n",
       "      <td>-0.000000e+00</td>\n",
       "    </tr>\n",
       "    <tr>\n",
       "      <th>75%</th>\n",
       "      <td>3.634174e+01</td>\n",
       "      <td>5.610741e+00</td>\n",
       "      <td>2.932770e-01</td>\n",
       "      <td>6.723584e+01</td>\n",
       "      <td>6.751153e+01</td>\n",
       "      <td>0.000000e+00</td>\n",
       "      <td>-0.000000e+00</td>\n",
       "    </tr>\n",
       "    <tr>\n",
       "      <th>max</th>\n",
       "      <td>6.334097e+01</td>\n",
       "      <td>2.394634e+03</td>\n",
       "      <td>2.586901e+02</td>\n",
       "      <td>1.436833e+02</td>\n",
       "      <td>1.018910e+02</td>\n",
       "      <td>2.916650e+02</td>\n",
       "      <td>4.153383e+03</td>\n",
       "    </tr>\n",
       "  </tbody>\n",
       "</table>\n",
       "</div>"
      ],
      "text/plain": [
       "              t_out         power      airspeed    t_delivery      t_return  \\\n",
       "count  1.818302e+06  1.818302e+06  1.818302e+06  1.818302e+06  1.818302e+06   \n",
       "mean   2.890040e+01  1.150540e+02  1.226947e+01  6.938633e+01  6.660027e+01   \n",
       "std    1.090656e+01  3.968731e+02  3.794456e+01  1.445126e+01  4.193890e+00   \n",
       "min   -1.211544e+01 -6.378184e+00 -8.598010e-01  1.628906e+01  1.641421e+01   \n",
       "25%    2.335200e+01  4.890689e+00  1.820817e-01  6.417654e+01  6.443862e+01   \n",
       "50%    3.123535e+01  5.214249e+00  2.004225e-01  6.547210e+01  6.567888e+01   \n",
       "75%    3.634174e+01  5.610741e+00  2.932770e-01  6.723584e+01  6.751153e+01   \n",
       "max    6.334097e+01  2.394634e+03  2.586901e+02  1.436833e+02  1.018910e+02   \n",
       "\n",
       "            airflow      heat_out  \n",
       "count  1.818302e+06  1.818302e+06  \n",
       "mean   1.454504e+01  1.593716e+02  \n",
       "std    4.539843e+01  6.039727e+02  \n",
       "min    0.000000e+00 -1.130452e+03  \n",
       "25%    0.000000e+00 -0.000000e+00  \n",
       "50%    0.000000e+00 -0.000000e+00  \n",
       "75%    0.000000e+00 -0.000000e+00  \n",
       "max    2.916650e+02  4.153383e+03  "
      ]
     },
     "execution_count": 12,
     "metadata": {},
     "output_type": "execute_result"
    }
   ],
   "source": [
    "# Calculate Heat Output in Watts\n",
    "\n",
    "# Constants:\n",
    "c_p = 0.240 # Specific heat of air in Btu/lb-F\n",
    "ro = 0.0749   # Density of air (in lb/ft^3) at standard conditions\n",
    "VHC = c_p*ro  # Volumetric heat capacity of air in Btu/ft^3-F\n",
    "\n",
    "dfd['heat_out'] = dfd.airflow * (dfd.t_delivery - dfd.t_return) * VHC * 60 / 3.412\n",
    "\n",
    "# Eliminate the coil temp column\n",
    "dfd2 = dfd.drop(columns=['t_coil'])\n",
    "\n",
    "# drop the rows that have one or more NaNs\n",
    "dfd2.dropna(inplace=True)\n",
    "\n",
    "dfd2.describe()\n",
    "# Looking at the overall mean power and heat_out, COP is 1.39 for the\n",
    "# entire period, counting periods when the heat pump is Off."
   ]
  },
  {
   "cell_type": "code",
   "execution_count": 13,
   "metadata": {},
   "outputs": [
    {
     "data": {
      "text/plain": [
       "<matplotlib.axes._subplots.AxesSubplot at 0x16c44beea58>"
      ]
     },
     "execution_count": 13,
     "metadata": {},
     "output_type": "execute_result"
    },
    {
     "data": {
      "image/png": "[encoded data removed]",
      "text/plain": [
       "<matplotlib.figure.Figure at 0x16c44ca4c88>"
      ]
     },
     "metadata": {},
     "output_type": "display_data"
    }
   ],
   "source": [
    "dfd2.query('power > 50').power.hist(bins=30)"
   ]
  },
  {
   "cell_type": "code",
   "execution_count": 14,
   "metadata": {},
   "outputs": [
    {
     "data": {
      "text/plain": [
       "<matplotlib.axes._subplots.AxesSubplot at 0x16c44bfa128>"
      ]
     },
     "execution_count": 14,
     "metadata": {},
     "output_type": "execute_result"
    },
    {
     "data": {
      "image/png": "[encoded data removed]",
      "text/plain": [
       "<matplotlib.figure.Figure at 0x16c43ee9128>"
      ]
     },
     "metadata": {},
     "output_type": "display_data"
    }
   ],
   "source": [
    "# Look at Power Consumption when the heat pump is essentially off\n",
    "dfd2.query('power <= 50').power.hist(bins=60)"
   ]
  },
  {
   "cell_type": "code",
   "execution_count": 15,
   "metadata": {},
   "outputs": [
    {
     "data": {
      "text/html": [
       "<div>\n",
       "<style scoped>\n",
       "    .dataframe tbody tr th:only-of-type {\n",
       "        vertical-align: middle;\n",
       "    }\n",
       "\n",
       "    .dataframe tbody tr th {\n",
       "        vertical-align: top;\n",
       "    }\n",
       "\n",
       "    .dataframe thead th {\n",
       "        text-align: right;\n",
       "    }\n",
       "</style>\n",
       "<table border=\"1\" class=\"dataframe\">\n",
       "  <thead>\n",
       "    <tr style=\"text-align: right;\">\n",
       "      <th></th>\n",
       "      <th>t_out</th>\n",
       "      <th>power</th>\n",
       "      <th>airspeed</th>\n",
       "      <th>t_delivery</th>\n",
       "      <th>t_return</th>\n",
       "      <th>airflow</th>\n",
       "      <th>heat_out</th>\n",
       "    </tr>\n",
       "    <tr>\n",
       "      <th>ts</th>\n",
       "      <th></th>\n",
       "      <th></th>\n",
       "      <th></th>\n",
       "      <th></th>\n",
       "      <th></th>\n",
       "      <th></th>\n",
       "      <th></th>\n",
       "    </tr>\n",
       "  </thead>\n",
       "  <tbody>\n",
       "    <tr>\n",
       "      <th>2014-10-04 18:17:00</th>\n",
       "      <td>40.13540</td>\n",
       "      <td>20.01131</td>\n",
       "      <td>81.48087</td>\n",
       "      <td>66.274317</td>\n",
       "      <td>66.317117</td>\n",
       "      <td>104.425687</td>\n",
       "      <td>-1.412819</td>\n",
       "    </tr>\n",
       "    <tr>\n",
       "      <th>2014-10-04 18:17:10</th>\n",
       "      <td>40.17805</td>\n",
       "      <td>19.02945</td>\n",
       "      <td>79.31525</td>\n",
       "      <td>66.322180</td>\n",
       "      <td>66.285550</td>\n",
       "      <td>102.137493</td>\n",
       "      <td>1.182653</td>\n",
       "    </tr>\n",
       "    <tr>\n",
       "      <th>2014-10-04 18:17:20</th>\n",
       "      <td>40.07320</td>\n",
       "      <td>52.37772</td>\n",
       "      <td>73.07473</td>\n",
       "      <td>66.314917</td>\n",
       "      <td>66.271403</td>\n",
       "      <td>95.543760</td>\n",
       "      <td>1.314195</td>\n",
       "    </tr>\n",
       "    <tr>\n",
       "      <th>2014-10-04 18:17:30</th>\n",
       "      <td>40.00608</td>\n",
       "      <td>295.97850</td>\n",
       "      <td>76.00609</td>\n",
       "      <td>66.260883</td>\n",
       "      <td>66.251100</td>\n",
       "      <td>98.641035</td>\n",
       "      <td>0.305056</td>\n",
       "    </tr>\n",
       "    <tr>\n",
       "      <th>2014-10-04 18:17:40</th>\n",
       "      <td>40.01583</td>\n",
       "      <td>406.67120</td>\n",
       "      <td>77.21709</td>\n",
       "      <td>64.986887</td>\n",
       "      <td>66.165847</td>\n",
       "      <td>99.920577</td>\n",
       "      <td>-37.238252</td>\n",
       "    </tr>\n",
       "  </tbody>\n",
       "</table>\n",
       "</div>"
      ],
      "text/plain": [
       "                        t_out      power  airspeed  t_delivery   t_return  \\\n",
       "ts                                                                          \n",
       "2014-10-04 18:17:00  40.13540   20.01131  81.48087   66.274317  66.317117   \n",
       "2014-10-04 18:17:10  40.17805   19.02945  79.31525   66.322180  66.285550   \n",
       "2014-10-04 18:17:20  40.07320   52.37772  73.07473   66.314917  66.271403   \n",
       "2014-10-04 18:17:30  40.00608  295.97850  76.00609   66.260883  66.251100   \n",
       "2014-10-04 18:17:40  40.01583  406.67120  77.21709   64.986887  66.165847   \n",
       "\n",
       "                        airflow   heat_out  \n",
       "ts                                          \n",
       "2014-10-04 18:17:00  104.425687  -1.412819  \n",
       "2014-10-04 18:17:10  102.137493   1.182653  \n",
       "2014-10-04 18:17:20   95.543760   1.314195  \n",
       "2014-10-04 18:17:30   98.641035   0.305056  \n",
       "2014-10-04 18:17:40   99.920577 -37.238252  "
      ]
     },
     "execution_count": 15,
     "metadata": {},
     "output_type": "execute_result"
    }
   ],
   "source": [
    "dfd2.query('airspeed > 40').head()"
   ]
  },
  {
   "cell_type": "code",
   "execution_count": 16,
   "metadata": {},
   "outputs": [
    {
     "data": {
      "text/html": [
       "<div>\n",
       "<style scoped>\n",
       "    .dataframe tbody tr th:only-of-type {\n",
       "        vertical-align: middle;\n",
       "    }\n",
       "\n",
       "    .dataframe tbody tr th {\n",
       "        vertical-align: top;\n",
       "    }\n",
       "\n",
       "    .dataframe thead th {\n",
       "        text-align: right;\n",
       "    }\n",
       "</style>\n",
       "<table border=\"1\" class=\"dataframe\">\n",
       "  <thead>\n",
       "    <tr style=\"text-align: right;\">\n",
       "      <th></th>\n",
       "      <th>t_out</th>\n",
       "      <th>power</th>\n",
       "      <th>airspeed</th>\n",
       "      <th>t_delivery</th>\n",
       "      <th>t_return</th>\n",
       "      <th>airflow</th>\n",
       "      <th>heat_out</th>\n",
       "    </tr>\n",
       "  </thead>\n",
       "  <tbody>\n",
       "    <tr>\n",
       "      <th>count</th>\n",
       "      <td>1.818302e+06</td>\n",
       "      <td>1.818302e+06</td>\n",
       "      <td>1.818302e+06</td>\n",
       "      <td>1.818302e+06</td>\n",
       "      <td>1.818302e+06</td>\n",
       "      <td>1.818302e+06</td>\n",
       "      <td>1.818302e+06</td>\n",
       "    </tr>\n",
       "    <tr>\n",
       "      <th>mean</th>\n",
       "      <td>2.890040e+01</td>\n",
       "      <td>1.150540e+02</td>\n",
       "      <td>1.226947e+01</td>\n",
       "      <td>6.938633e+01</td>\n",
       "      <td>6.660027e+01</td>\n",
       "      <td>1.454504e+01</td>\n",
       "      <td>1.593716e+02</td>\n",
       "    </tr>\n",
       "    <tr>\n",
       "      <th>std</th>\n",
       "      <td>1.090656e+01</td>\n",
       "      <td>3.968731e+02</td>\n",
       "      <td>3.794456e+01</td>\n",
       "      <td>1.445126e+01</td>\n",
       "      <td>4.193890e+00</td>\n",
       "      <td>4.539843e+01</td>\n",
       "      <td>6.039727e+02</td>\n",
       "    </tr>\n",
       "    <tr>\n",
       "      <th>min</th>\n",
       "      <td>-1.211544e+01</td>\n",
       "      <td>-6.378184e+00</td>\n",
       "      <td>-8.598010e-01</td>\n",
       "      <td>1.628906e+01</td>\n",
       "      <td>1.641421e+01</td>\n",
       "      <td>0.000000e+00</td>\n",
       "      <td>-1.130452e+03</td>\n",
       "    </tr>\n",
       "    <tr>\n",
       "      <th>25%</th>\n",
       "      <td>2.335200e+01</td>\n",
       "      <td>4.890689e+00</td>\n",
       "      <td>1.820817e-01</td>\n",
       "      <td>6.417654e+01</td>\n",
       "      <td>6.443862e+01</td>\n",
       "      <td>0.000000e+00</td>\n",
       "      <td>-0.000000e+00</td>\n",
       "    </tr>\n",
       "    <tr>\n",
       "      <th>50%</th>\n",
       "      <td>3.123535e+01</td>\n",
       "      <td>5.214249e+00</td>\n",
       "      <td>2.004225e-01</td>\n",
       "      <td>6.547210e+01</td>\n",
       "      <td>6.567888e+01</td>\n",
       "      <td>0.000000e+00</td>\n",
       "      <td>-0.000000e+00</td>\n",
       "    </tr>\n",
       "    <tr>\n",
       "      <th>75%</th>\n",
       "      <td>3.634174e+01</td>\n",
       "      <td>5.610741e+00</td>\n",
       "      <td>2.932770e-01</td>\n",
       "      <td>6.723584e+01</td>\n",
       "      <td>6.751153e+01</td>\n",
       "      <td>0.000000e+00</td>\n",
       "      <td>-0.000000e+00</td>\n",
       "    </tr>\n",
       "    <tr>\n",
       "      <th>max</th>\n",
       "      <td>6.334097e+01</td>\n",
       "      <td>2.394634e+03</td>\n",
       "      <td>2.586901e+02</td>\n",
       "      <td>1.436833e+02</td>\n",
       "      <td>1.018910e+02</td>\n",
       "      <td>2.916650e+02</td>\n",
       "      <td>4.153383e+03</td>\n",
       "    </tr>\n",
       "  </tbody>\n",
       "</table>\n",
       "</div>"
      ],
      "text/plain": [
       "              t_out         power      airspeed    t_delivery      t_return  \\\n",
       "count  1.818302e+06  1.818302e+06  1.818302e+06  1.818302e+06  1.818302e+06   \n",
       "mean   2.890040e+01  1.150540e+02  1.226947e+01  6.938633e+01  6.660027e+01   \n",
       "std    1.090656e+01  3.968731e+02  3.794456e+01  1.445126e+01  4.193890e+00   \n",
       "min   -1.211544e+01 -6.378184e+00 -8.598010e-01  1.628906e+01  1.641421e+01   \n",
       "25%    2.335200e+01  4.890689e+00  1.820817e-01  6.417654e+01  6.443862e+01   \n",
       "50%    3.123535e+01  5.214249e+00  2.004225e-01  6.547210e+01  6.567888e+01   \n",
       "75%    3.634174e+01  5.610741e+00  2.932770e-01  6.723584e+01  6.751153e+01   \n",
       "max    6.334097e+01  2.394634e+03  2.586901e+02  1.436833e+02  1.018910e+02   \n",
       "\n",
       "            airflow      heat_out  \n",
       "count  1.818302e+06  1.818302e+06  \n",
       "mean   1.454504e+01  1.593716e+02  \n",
       "std    4.539843e+01  6.039727e+02  \n",
       "min    0.000000e+00 -1.130452e+03  \n",
       "25%    0.000000e+00 -0.000000e+00  \n",
       "50%    0.000000e+00 -0.000000e+00  \n",
       "75%    0.000000e+00 -0.000000e+00  \n",
       "max    2.916650e+02  4.153383e+03  "
      ]
     },
     "execution_count": 16,
     "metadata": {},
     "output_type": "execute_result"
    }
   ],
   "source": [
    "dfd2.describe()"
   ]
  },
  {
   "cell_type": "code",
   "execution_count": 17,
   "metadata": {},
   "outputs": [],
   "source": [
    "# Function to average over some 'interval_string' time period,\n",
    "# and then plot Power against outdoor temperature.\n",
    "def plot_avg_power(df, interval_string):\n",
    "    df_avg = df.resample(interval_string).mean()\n",
    "    df_avg.plot(x='t_out', y='power', kind='scatter')"
   ]
  },
  {
   "cell_type": "code",
   "execution_count": 18,
   "metadata": {},
   "outputs": [
    {
     "data": {
      "image/png": "[encoded data removed]",
      "text/plain": [
       "<matplotlib.figure.Figure at 0x16c00089da0>"
      ]
     },
     "metadata": {},
     "output_type": "display_data"
    }
   ],
   "source": [
    "# Experiment with different averaging intervals to see where the data settles down.\n",
    "plot_avg_power(dfd2, '3D')"
   ]
  },
  {
   "cell_type": "code",
   "execution_count": 19,
   "metadata": {},
   "outputs": [
    {
     "data": {
      "text/plain": [
       "(0, 2.5)"
      ]
     },
     "execution_count": 19,
     "metadata": {},
     "output_type": "execute_result"
    },
    {
     "data": {
      "image/png": "[encoded data removed]",
      "text/plain": [
       "<matplotlib.figure.Figure at 0x16c00139400>"
      ]
     },
     "metadata": {},
     "output_type": "display_data"
    }
   ],
   "source": [
    "# Do 3 day averages and compute COP for those intervals\n",
    "# Look at filtering out the low power readings so that the COP\n",
    "# only considers time periods when the heat pump is running.  Tom\n",
    "# had it scheduled to only run once or twice a day.\n",
    "power_threshold = 25   # Watts required to consider the unit running\n",
    "dfd2_3day = dfd2.query('power >= @power_threshold').resample('3D').mean()\n",
    "dfd2_3day['cop'] = dfd2_3day.heat_out / dfd2_3day.power\n",
    "dfd2_3day.plot(x='t_out', y='cop', kind='scatter')\n",
    "ylim(0, 2.5)"
   ]
  },
  {
   "cell_type": "code",
   "execution_count": 20,
   "metadata": {},
   "outputs": [
    {
     "data": {
      "text/plain": [
       "1.4435786923589227"
      ]
     },
     "execution_count": 20,
     "metadata": {},
     "output_type": "execute_result"
    }
   ],
   "source": [
    "# Calculate seasonal average COP, only looking at periods when heat\n",
    "# pump is on.\n",
    "dfd2_mean = dfd2.query('power >= @power_threshold').mean()\n",
    "dfd2_mean.heat_out / dfd2_mean.power"
   ]
  },
  {
   "cell_type": "code",
   "execution_count": 35,
   "metadata": {},
   "outputs": [],
   "source": [
    "# Date to start for the graph in the next cell.\n",
    "dt = datetime(2014, 10, 5)"
   ]
  },
  {
   "cell_type": "code",
   "execution_count": 38,
   "metadata": {},
   "outputs": [
    {
     "data": {
      "image/png": "[encoded data removed]",
      "text/plain": [
       "<matplotlib.figure.Figure at 0x16c001e7668>"
      ]
     },
     "metadata": {},
     "output_type": "display_data"
    }
   ],
   "source": [
    "# Step through the days looking at the heat pump power consumption\n",
    "# across the day.\n",
    "dfd[dt.strftime('%Y-%m-%d')].power.plot()\n",
    "dt += timedelta(days=1)"
   ]
  }
 ],
 "metadata": {
  "kernelspec": {
   "display_name": "Python 3",
   "language": "python",
   "name": "python3"
  },
  "language_info": {
   "codemirror_mode": {
    "name": "ipython",
    "version": 3
   },
   "file_extension": ".py",
   "mimetype": "text/x-python",
   "name": "python",
   "nbconvert_exporter": "python",
   "pygments_lexer": "ipython3",
   "version": "3.6.6"
  }
 },
 "nbformat": 4,
 "nbformat_minor": 2
}
