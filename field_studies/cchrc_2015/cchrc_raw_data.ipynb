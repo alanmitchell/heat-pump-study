{
 "cells": [
  {
   "cell_type": "markdown",
   "metadata": {},
   "source": [
    "# Analysis of 2015 CCHRC Air Source Heat Pump Study Data"
   ]
  },
  {
   "cell_type": "code",
   "execution_count": 30,
   "metadata": {},
   "outputs": [],
   "source": [
    "from datetime import datetime, timedelta\n",
    "import pandas as pd\n",
    "import numpy as np\n",
    "# import matplotlib pyplot commands\n",
    "from matplotlib.pyplot import *\n",
    "# Show Plots in the Notebook\n",
    "%matplotlib inline\n",
    " \n",
    "# 'style' the plot like fivethirtyeight.com website\n",
    "style.use('bmh')"
   ]
  },
  {
   "cell_type": "code",
   "execution_count": 31,
   "metadata": {},
   "outputs": [],
   "source": [
    "rcParams['figure.figsize']= (9, 6)   # set Chart Size\n",
    "rcParams['font.size'] = 14            # set Font size in Chart"
   ]
  },
  {
   "cell_type": "markdown",
   "metadata": {},
   "source": [
    "## Dillingham Mitsubishi Mini-Split Analysis"
   ]
  },
  {
   "cell_type": "code",
   "execution_count": 32,
   "metadata": {},
   "outputs": [
    {
     "name": "stdout",
     "output_type": "stream",
     "text": [
      "Line 0: \"TOA5\",\"Dillingham\",\"CR1000\",\"27206\",\"CR1000.Std.27\",\"CPU:ASHP DHP 2014.CR1\",\"34100\",\"DLG_DHP_TenSecond\"\n",
      "Line 1: \"TIMESTAMP\",\"RECORD\",\"DLG_DeliveryT1_F\",\"DLG_DeliveryT2_F\",\"DLG_DeliveryT3_F\",\"DLG_ReturnT1_F\",\"DLG_ReturnT2_F\",\"DLG_ReturnT3_F\",\"DLG_CoilT_F\",\"DLG_OutsideT_F\",\"DLG_Electricity_W_Avg\",\"DLG_Airflow_fpm_Avg\"\n",
      "Line 2: \"TS\",\"RN\",\"\",\"\",\"\",\"\",\"\",\"\",\"\",\"\",\"\",\"\"\n",
      "Line 3: \"\",\"\",\"Smp\",\"Smp\",\"Smp\",\"Smp\",\"Smp\",\"Smp\",\"Smp\",\"Smp\",\"Avg\",\"Avg\"\n",
      "Line 4: \"2014-10-04 18:03:20\",0,49.86922,49.72235,49.672,49.88553,49.8515,49.86922,30.51785,30.51633,\"NAN\",0.1071669\n"
     ]
    }
   ],
   "source": [
    "fn = 'data/Dillingham_DLG_DHP_TenSecond.dat'\n",
    "# Take a look at the header rows\n",
    "f = open(fn)\n",
    "for i in range(5):\n",
    "    print(f'Line {i}: {f.readline().strip()}')"
   ]
  },
  {
   "cell_type": "code",
   "execution_count": 33,
   "metadata": {},
   "outputs": [
    {
     "data": {
      "text/html": [
       "<div>\n",
       "<style scoped>\n",
       "    .dataframe tbody tr th:only-of-type {\n",
       "        vertical-align: middle;\n",
       "    }\n",
       "\n",
       "    .dataframe tbody tr th {\n",
       "        vertical-align: top;\n",
       "    }\n",
       "\n",
       "    .dataframe thead th {\n",
       "        text-align: right;\n",
       "    }\n",
       "</style>\n",
       "<table border=\"1\" class=\"dataframe\">\n",
       "  <thead>\n",
       "    <tr style=\"text-align: right;\">\n",
       "      <th></th>\n",
       "      <th>TIMESTAMP</th>\n",
       "      <th>RECORD</th>\n",
       "      <th>DLG_DeliveryT1_F</th>\n",
       "      <th>DLG_DeliveryT2_F</th>\n",
       "      <th>DLG_DeliveryT3_F</th>\n",
       "      <th>DLG_ReturnT1_F</th>\n",
       "      <th>DLG_ReturnT2_F</th>\n",
       "      <th>DLG_ReturnT3_F</th>\n",
       "      <th>DLG_CoilT_F</th>\n",
       "      <th>DLG_OutsideT_F</th>\n",
       "      <th>DLG_Electricity_W_Avg</th>\n",
       "      <th>DLG_Airflow_fpm_Avg</th>\n",
       "    </tr>\n",
       "  </thead>\n",
       "  <tbody>\n",
       "    <tr>\n",
       "      <th>0</th>\n",
       "      <td>2014-10-04 18:03:20</td>\n",
       "      <td>0</td>\n",
       "      <td>49.86922</td>\n",
       "      <td>49.72235</td>\n",
       "      <td>49.67200</td>\n",
       "      <td>49.88553</td>\n",
       "      <td>49.85150</td>\n",
       "      <td>49.86922</td>\n",
       "      <td>30.51785</td>\n",
       "      <td>30.51633</td>\n",
       "      <td>NaN</td>\n",
       "      <td>0.107167</td>\n",
       "    </tr>\n",
       "    <tr>\n",
       "      <th>1</th>\n",
       "      <td>2014-10-04 18:03:30</td>\n",
       "      <td>1</td>\n",
       "      <td>66.49229</td>\n",
       "      <td>66.29536</td>\n",
       "      <td>66.22681</td>\n",
       "      <td>66.50751</td>\n",
       "      <td>66.45961</td>\n",
       "      <td>66.48685</td>\n",
       "      <td>40.68156</td>\n",
       "      <td>40.71555</td>\n",
       "      <td>NaN</td>\n",
       "      <td>0.107660</td>\n",
       "    </tr>\n",
       "    <tr>\n",
       "      <th>2</th>\n",
       "      <td>2014-10-04 18:03:40</td>\n",
       "      <td>2</td>\n",
       "      <td>66.49229</td>\n",
       "      <td>66.28444</td>\n",
       "      <td>66.23115</td>\n",
       "      <td>66.50316</td>\n",
       "      <td>66.45311</td>\n",
       "      <td>66.48466</td>\n",
       "      <td>40.70706</td>\n",
       "      <td>40.77493</td>\n",
       "      <td>NaN</td>\n",
       "      <td>0.106630</td>\n",
       "    </tr>\n",
       "    <tr>\n",
       "      <th>3</th>\n",
       "      <td>2014-10-04 18:03:50</td>\n",
       "      <td>3</td>\n",
       "      <td>66.48685</td>\n",
       "      <td>66.27574</td>\n",
       "      <td>66.23115</td>\n",
       "      <td>66.50208</td>\n",
       "      <td>66.44226</td>\n",
       "      <td>66.47047</td>\n",
       "      <td>40.71556</td>\n",
       "      <td>40.72401</td>\n",
       "      <td>NaN</td>\n",
       "      <td>0.105903</td>\n",
       "    </tr>\n",
       "    <tr>\n",
       "      <th>4</th>\n",
       "      <td>2014-10-04 18:04:00</td>\n",
       "      <td>4</td>\n",
       "      <td>66.49120</td>\n",
       "      <td>66.27900</td>\n",
       "      <td>66.23115</td>\n",
       "      <td>66.49229</td>\n",
       "      <td>66.43791</td>\n",
       "      <td>66.46939</td>\n",
       "      <td>40.69735</td>\n",
       "      <td>40.64272</td>\n",
       "      <td>NaN</td>\n",
       "      <td>0.107903</td>\n",
       "    </tr>\n",
       "  </tbody>\n",
       "</table>\n",
       "</div>"
      ],
      "text/plain": [
       "            TIMESTAMP  RECORD  DLG_DeliveryT1_F  DLG_DeliveryT2_F  \\\n",
       "0 2014-10-04 18:03:20       0          49.86922          49.72235   \n",
       "1 2014-10-04 18:03:30       1          66.49229          66.29536   \n",
       "2 2014-10-04 18:03:40       2          66.49229          66.28444   \n",
       "3 2014-10-04 18:03:50       3          66.48685          66.27574   \n",
       "4 2014-10-04 18:04:00       4          66.49120          66.27900   \n",
       "\n",
       "   DLG_DeliveryT3_F  DLG_ReturnT1_F  DLG_ReturnT2_F  DLG_ReturnT3_F  \\\n",
       "0          49.67200        49.88553        49.85150        49.86922   \n",
       "1          66.22681        66.50751        66.45961        66.48685   \n",
       "2          66.23115        66.50316        66.45311        66.48466   \n",
       "3          66.23115        66.50208        66.44226        66.47047   \n",
       "4          66.23115        66.49229        66.43791        66.46939   \n",
       "\n",
       "   DLG_CoilT_F  DLG_OutsideT_F  DLG_Electricity_W_Avg  DLG_Airflow_fpm_Avg  \n",
       "0     30.51785        30.51633                    NaN             0.107167  \n",
       "1     40.68156        40.71555                    NaN             0.107660  \n",
       "2     40.70706        40.77493                    NaN             0.106630  \n",
       "3     40.71556        40.72401                    NaN             0.105903  \n",
       "4     40.69735        40.64272                    NaN             0.107903  "
      ]
     },
     "execution_count": 33,
     "metadata": {},
     "output_type": "execute_result"
    }
   ],
   "source": [
    "dfd = pd.read_csv(fn, skiprows=[0, 2, 3], parse_dates=['TIMESTAMP'], na_values=['NAN'])\n",
    "dfd.head()"
   ]
  },
  {
   "cell_type": "code",
   "execution_count": 34,
   "metadata": {},
   "outputs": [
    {
     "name": "stdout",
     "output_type": "stream",
     "text": [
      "<class 'pandas.core.frame.DataFrame'>\n",
      "RangeIndex: 1819915 entries, 0 to 1819914\n",
      "Data columns (total 12 columns):\n",
      "TIMESTAMP                datetime64[ns]\n",
      "RECORD                   int64\n",
      "DLG_DeliveryT1_F         float64\n",
      "DLG_DeliveryT2_F         float64\n",
      "DLG_DeliveryT3_F         float64\n",
      "DLG_ReturnT1_F           float64\n",
      "DLG_ReturnT2_F           float64\n",
      "DLG_ReturnT3_F           float64\n",
      "DLG_CoilT_F              float64\n",
      "DLG_OutsideT_F           float64\n",
      "DLG_Electricity_W_Avg    float64\n",
      "DLG_Airflow_fpm_Avg      float64\n",
      "dtypes: datetime64[ns](1), float64(10), int64(1)\n",
      "memory usage: 166.6 MB\n"
     ]
    }
   ],
   "source": [
    "dfd.info()"
   ]
  },
  {
   "cell_type": "code",
   "execution_count": 35,
   "metadata": {},
   "outputs": [
    {
     "data": {
      "text/html": [
       "<div>\n",
       "<style scoped>\n",
       "    .dataframe tbody tr th:only-of-type {\n",
       "        vertical-align: middle;\n",
       "    }\n",
       "\n",
       "    .dataframe tbody tr th {\n",
       "        vertical-align: top;\n",
       "    }\n",
       "\n",
       "    .dataframe thead th {\n",
       "        text-align: right;\n",
       "    }\n",
       "</style>\n",
       "<table border=\"1\" class=\"dataframe\">\n",
       "  <thead>\n",
       "    <tr style=\"text-align: right;\">\n",
       "      <th></th>\n",
       "      <th>RECORD</th>\n",
       "      <th>DLG_DeliveryT1_F</th>\n",
       "      <th>DLG_DeliveryT2_F</th>\n",
       "      <th>DLG_DeliveryT3_F</th>\n",
       "      <th>DLG_ReturnT1_F</th>\n",
       "      <th>DLG_ReturnT2_F</th>\n",
       "      <th>DLG_ReturnT3_F</th>\n",
       "      <th>DLG_CoilT_F</th>\n",
       "      <th>DLG_OutsideT_F</th>\n",
       "      <th>DLG_Electricity_W_Avg</th>\n",
       "      <th>DLG_Airflow_fpm_Avg</th>\n",
       "    </tr>\n",
       "  </thead>\n",
       "  <tbody>\n",
       "    <tr>\n",
       "      <th>count</th>\n",
       "      <td>1.328640e+05</td>\n",
       "      <td>132864.000000</td>\n",
       "      <td>132864.000000</td>\n",
       "      <td>132864.000000</td>\n",
       "      <td>132864.000000</td>\n",
       "      <td>132864.000000</td>\n",
       "      <td>132864.000000</td>\n",
       "      <td>132864.000000</td>\n",
       "      <td>132864.000000</td>\n",
       "      <td>132824.000000</td>\n",
       "      <td>132861.000000</td>\n",
       "    </tr>\n",
       "    <tr>\n",
       "      <th>mean</th>\n",
       "      <td>8.803918e+05</td>\n",
       "      <td>118.292658</td>\n",
       "      <td>118.756996</td>\n",
       "      <td>117.716718</td>\n",
       "      <td>75.976813</td>\n",
       "      <td>75.777930</td>\n",
       "      <td>75.135330</td>\n",
       "      <td>18.672206</td>\n",
       "      <td>22.127792</td>\n",
       "      <td>1395.705347</td>\n",
       "      <td>129.450783</td>\n",
       "    </tr>\n",
       "    <tr>\n",
       "      <th>std</th>\n",
       "      <td>4.120417e+05</td>\n",
       "      <td>12.378342</td>\n",
       "      <td>12.603702</td>\n",
       "      <td>12.449153</td>\n",
       "      <td>3.937349</td>\n",
       "      <td>4.087278</td>\n",
       "      <td>4.000935</td>\n",
       "      <td>11.820563</td>\n",
       "      <td>11.685911</td>\n",
       "      <td>544.248456</td>\n",
       "      <td>44.788585</td>\n",
       "    </tr>\n",
       "    <tr>\n",
       "      <th>min</th>\n",
       "      <td>1.070000e+02</td>\n",
       "      <td>89.506120</td>\n",
       "      <td>90.000400</td>\n",
       "      <td>85.558620</td>\n",
       "      <td>57.241420</td>\n",
       "      <td>58.100550</td>\n",
       "      <td>58.441460</td>\n",
       "      <td>-13.566730</td>\n",
       "      <td>-11.171270</td>\n",
       "      <td>6.844549</td>\n",
       "      <td>0.118378</td>\n",
       "    </tr>\n",
       "    <tr>\n",
       "      <th>25%</th>\n",
       "      <td>5.629818e+05</td>\n",
       "      <td>108.162075</td>\n",
       "      <td>108.574800</td>\n",
       "      <td>107.740700</td>\n",
       "      <td>73.310570</td>\n",
       "      <td>73.048037</td>\n",
       "      <td>72.508432</td>\n",
       "      <td>10.567710</td>\n",
       "      <td>14.957830</td>\n",
       "      <td>1016.134500</td>\n",
       "      <td>90.514200</td>\n",
       "    </tr>\n",
       "    <tr>\n",
       "      <th>50%</th>\n",
       "      <td>9.596815e+05</td>\n",
       "      <td>121.151250</td>\n",
       "      <td>121.697000</td>\n",
       "      <td>120.544200</td>\n",
       "      <td>76.329260</td>\n",
       "      <td>76.050315</td>\n",
       "      <td>75.386550</td>\n",
       "      <td>20.799135</td>\n",
       "      <td>24.105240</td>\n",
       "      <td>1263.040500</td>\n",
       "      <td>114.601500</td>\n",
       "    </tr>\n",
       "    <tr>\n",
       "      <th>75%</th>\n",
       "      <td>1.193161e+06</td>\n",
       "      <td>128.816700</td>\n",
       "      <td>129.503900</td>\n",
       "      <td>128.270400</td>\n",
       "      <td>78.765280</td>\n",
       "      <td>78.513805</td>\n",
       "      <td>77.830950</td>\n",
       "      <td>27.764770</td>\n",
       "      <td>31.332420</td>\n",
       "      <td>1881.032250</td>\n",
       "      <td>173.650900</td>\n",
       "    </tr>\n",
       "    <tr>\n",
       "      <th>max</th>\n",
       "      <td>1.684904e+06</td>\n",
       "      <td>143.329700</td>\n",
       "      <td>144.701400</td>\n",
       "      <td>143.018900</td>\n",
       "      <td>88.703350</td>\n",
       "      <td>108.228600</td>\n",
       "      <td>103.896000</td>\n",
       "      <td>116.098900</td>\n",
       "      <td>41.915710</td>\n",
       "      <td>2390.890000</td>\n",
       "      <td>241.238700</td>\n",
       "    </tr>\n",
       "  </tbody>\n",
       "</table>\n",
       "</div>"
      ],
      "text/plain": [
       "             RECORD  DLG_DeliveryT1_F  DLG_DeliveryT2_F  DLG_DeliveryT3_F  \\\n",
       "count  1.328640e+05     132864.000000     132864.000000     132864.000000   \n",
       "mean   8.803918e+05        118.292658        118.756996        117.716718   \n",
       "std    4.120417e+05         12.378342         12.603702         12.449153   \n",
       "min    1.070000e+02         89.506120         90.000400         85.558620   \n",
       "25%    5.629818e+05        108.162075        108.574800        107.740700   \n",
       "50%    9.596815e+05        121.151250        121.697000        120.544200   \n",
       "75%    1.193161e+06        128.816700        129.503900        128.270400   \n",
       "max    1.684904e+06        143.329700        144.701400        143.018900   \n",
       "\n",
       "       DLG_ReturnT1_F  DLG_ReturnT2_F  DLG_ReturnT3_F    DLG_CoilT_F  \\\n",
       "count   132864.000000   132864.000000   132864.000000  132864.000000   \n",
       "mean        75.976813       75.777930       75.135330      18.672206   \n",
       "std          3.937349        4.087278        4.000935      11.820563   \n",
       "min         57.241420       58.100550       58.441460     -13.566730   \n",
       "25%         73.310570       73.048037       72.508432      10.567710   \n",
       "50%         76.329260       76.050315       75.386550      20.799135   \n",
       "75%         78.765280       78.513805       77.830950      27.764770   \n",
       "max         88.703350      108.228600      103.896000     116.098900   \n",
       "\n",
       "       DLG_OutsideT_F  DLG_Electricity_W_Avg  DLG_Airflow_fpm_Avg  \n",
       "count   132864.000000          132824.000000        132861.000000  \n",
       "mean        22.127792            1395.705347           129.450783  \n",
       "std         11.685911             544.248456            44.788585  \n",
       "min        -11.171270               6.844549             0.118378  \n",
       "25%         14.957830            1016.134500            90.514200  \n",
       "50%         24.105240            1263.040500           114.601500  \n",
       "75%         31.332420            1881.032250           173.650900  \n",
       "max         41.915710            2390.890000           241.238700  "
      ]
     },
     "execution_count": 35,
     "metadata": {},
     "output_type": "execute_result"
    }
   ],
   "source": [
    "# Look at some statistics for periods when the unit is producing heat\n",
    "# Shows the differences between the 3 Supply and 3 Return temperature sensors.\n",
    "dfd[dfd.DLG_DeliveryT2_F > 90].describe()"
   ]
  },
  {
   "cell_type": "code",
   "execution_count": 36,
   "metadata": {},
   "outputs": [
    {
     "data": {
      "text/html": [
       "<div>\n",
       "<style scoped>\n",
       "    .dataframe tbody tr th:only-of-type {\n",
       "        vertical-align: middle;\n",
       "    }\n",
       "\n",
       "    .dataframe tbody tr th {\n",
       "        vertical-align: top;\n",
       "    }\n",
       "\n",
       "    .dataframe thead th {\n",
       "        text-align: right;\n",
       "    }\n",
       "</style>\n",
       "<table border=\"1\" class=\"dataframe\">\n",
       "  <thead>\n",
       "    <tr style=\"text-align: right;\">\n",
       "      <th></th>\n",
       "      <th>t_coil</th>\n",
       "      <th>t_out</th>\n",
       "      <th>power</th>\n",
       "      <th>airspeed</th>\n",
       "      <th>t_delivery</th>\n",
       "      <th>t_return</th>\n",
       "    </tr>\n",
       "  </thead>\n",
       "  <tbody>\n",
       "    <tr>\n",
       "      <th>count</th>\n",
       "      <td>1.819915e+06</td>\n",
       "      <td>1.819915e+06</td>\n",
       "      <td>1.818550e+06</td>\n",
       "      <td>1.819674e+06</td>\n",
       "      <td>1.819915e+06</td>\n",
       "      <td>1.819915e+06</td>\n",
       "    </tr>\n",
       "    <tr>\n",
       "      <th>mean</th>\n",
       "      <td>2.897679e+01</td>\n",
       "      <td>2.890385e+01</td>\n",
       "      <td>1.150438e+02</td>\n",
       "      <td>1.226483e+01</td>\n",
       "      <td>6.938441e+01</td>\n",
       "      <td>6.660027e+01</td>\n",
       "    </tr>\n",
       "    <tr>\n",
       "      <th>std</th>\n",
       "      <td>1.105391e+01</td>\n",
       "      <td>1.090487e+01</td>\n",
       "      <td>3.968522e+02</td>\n",
       "      <td>3.794369e+01</td>\n",
       "      <td>1.444734e+01</td>\n",
       "      <td>4.193026e+00</td>\n",
       "    </tr>\n",
       "    <tr>\n",
       "      <th>min</th>\n",
       "      <td>-1.676911e+01</td>\n",
       "      <td>-1.211544e+01</td>\n",
       "      <td>-6.378184e+00</td>\n",
       "      <td>-9.511621e+00</td>\n",
       "      <td>1.628906e+01</td>\n",
       "      <td>1.641421e+01</td>\n",
       "    </tr>\n",
       "    <tr>\n",
       "      <th>25%</th>\n",
       "      <td>2.344835e+01</td>\n",
       "      <td>2.335494e+01</td>\n",
       "      <td>4.890676e+00</td>\n",
       "      <td>1.820209e-01</td>\n",
       "      <td>6.417661e+01</td>\n",
       "      <td>6.443917e+01</td>\n",
       "    </tr>\n",
       "    <tr>\n",
       "      <th>50%</th>\n",
       "      <td>3.154517e+01</td>\n",
       "      <td>3.124205e+01</td>\n",
       "      <td>5.214241e+00</td>\n",
       "      <td>2.004053e-01</td>\n",
       "      <td>6.547210e+01</td>\n",
       "      <td>6.567928e+01</td>\n",
       "    </tr>\n",
       "    <tr>\n",
       "      <th>75%</th>\n",
       "      <td>3.629568e+01</td>\n",
       "      <td>3.633908e+01</td>\n",
       "      <td>5.610726e+00</td>\n",
       "      <td>2.932821e-01</td>\n",
       "      <td>6.723580e+01</td>\n",
       "      <td>6.751149e+01</td>\n",
       "    </tr>\n",
       "    <tr>\n",
       "      <th>max</th>\n",
       "      <td>1.203533e+02</td>\n",
       "      <td>6.334097e+01</td>\n",
       "      <td>2.394634e+03</td>\n",
       "      <td>4.978166e+02</td>\n",
       "      <td>1.436833e+02</td>\n",
       "      <td>1.018910e+02</td>\n",
       "    </tr>\n",
       "  </tbody>\n",
       "</table>\n",
       "</div>"
      ],
      "text/plain": [
       "             t_coil         t_out         power      airspeed    t_delivery  \\\n",
       "count  1.819915e+06  1.819915e+06  1.818550e+06  1.819674e+06  1.819915e+06   \n",
       "mean   2.897679e+01  2.890385e+01  1.150438e+02  1.226483e+01  6.938441e+01   \n",
       "std    1.105391e+01  1.090487e+01  3.968522e+02  3.794369e+01  1.444734e+01   \n",
       "min   -1.676911e+01 -1.211544e+01 -6.378184e+00 -9.511621e+00  1.628906e+01   \n",
       "25%    2.344835e+01  2.335494e+01  4.890676e+00  1.820209e-01  6.417661e+01   \n",
       "50%    3.154517e+01  3.124205e+01  5.214241e+00  2.004053e-01  6.547210e+01   \n",
       "75%    3.629568e+01  3.633908e+01  5.610726e+00  2.932821e-01  6.723580e+01   \n",
       "max    1.203533e+02  6.334097e+01  2.394634e+03  4.978166e+02  1.436833e+02   \n",
       "\n",
       "           t_return  \n",
       "count  1.819915e+06  \n",
       "mean   6.660027e+01  \n",
       "std    4.193026e+00  \n",
       "min    1.641421e+01  \n",
       "25%    6.443917e+01  \n",
       "50%    6.567928e+01  \n",
       "75%    6.751149e+01  \n",
       "max    1.018910e+02  "
      ]
     },
     "execution_count": 36,
     "metadata": {},
     "output_type": "execute_result"
    }
   ],
   "source": [
    "# Calculate average delivery and return temperatures, and clean up DataFrame\n",
    "# renaming columns to shorter names.\n",
    "dfd['t_delivery'] = (dfd.DLG_DeliveryT1_F + dfd.DLG_DeliveryT2_F + dfd.DLG_DeliveryT3_F) / 3.0\n",
    "dfd['t_return'] = (dfd.DLG_ReturnT1_F + dfd.DLG_ReturnT2_F + dfd.DLG_ReturnT3_F) / 3.0\n",
    "dfd.drop(columns=['RECORD', 'DLG_DeliveryT1_F', 'DLG_DeliveryT2_F', 'DLG_DeliveryT3_F', 'DLG_ReturnT1_F', 'DLG_ReturnT2_F', 'DLG_ReturnT3_F'], inplace=True)\n",
    "dfd.rename(columns={\n",
    "    'DLG_CoilT_F': 't_coil',\n",
    "    'DLG_OutsideT_F': 't_out',\n",
    "    'DLG_Electricity_W_Avg': 'power',\n",
    "    'DLG_Airflow_fpm_Avg': 'airspeed',\n",
    "    'TIMESTAMP': 'ts',\n",
    "}, inplace=True)\n",
    "dfd.set_index('ts', inplace=True)\n",
    "dfd.describe()"
   ]
  },
  {
   "cell_type": "code",
   "execution_count": 37,
   "metadata": {},
   "outputs": [
    {
     "name": "stdout",
     "output_type": "stream",
     "text": [
      "Average Delivery delta-T when Off: -0.29\n"
     ]
    },
    {
     "data": {
      "text/plain": [
       "<matplotlib.axes._subplots.AxesSubplot at 0x7f246b2caba8>"
      ]
     },
     "execution_count": 37,
     "metadata": {},
     "output_type": "execute_result"
    },
    {
     "data": {
      "image/png": "[encoded data removed]",
      "text/plain": [
       "<Figure size 648x432 with 1 Axes>"
      ]
     },
     "metadata": {
      "needs_background": "light"
     },
     "output_type": "display_data"
    }
   ],
   "source": [
    "# Check calibration of Delivery and Return Temp Sensors.\n",
    "# They should be pretty close to each other when heat pump is off.\n",
    "df_off = dfd.query('power < 100')\n",
    "delta_t = df_off.t_delivery - df_off.t_return\n",
    "# also knock out large delta-T's\n",
    "delta_t = delta_t.where(np.abs(delta_t) < 3)\n",
    "print(f'Average Delivery delta-T when Off: {delta_t.mean():.2f}')\n",
    "delta_t.hist(bins=30)"
   ]
  },
  {
   "cell_type": "code",
   "execution_count": 38,
   "metadata": {},
   "outputs": [
    {
     "name": "stdout",
     "output_type": "stream",
     "text": [
      "38.03481030971885\n"
     ]
    }
   ],
   "source": [
    "# How important is accurate delta-T?  What is the average delta-T\n",
    "# when the unit is On?\n",
    "df_on = dfd.query('power >= 100')\n",
    "delta_t = df_on.t_delivery - df_on.t_return\n",
    "print(delta_t.mean())\n",
    "\n",
    "# About 38 deg delta-T.  So inaccuracy of 0.3 out of 38 F is about\n",
    "# 1%.  No big deal if you are looking at the COP just during the On\n",
    "# periods."
   ]
  },
  {
   "cell_type": "code",
   "execution_count": 39,
   "metadata": {},
   "outputs": [
    {
     "data": {
      "text/plain": [
       "<matplotlib.axes._subplots.AxesSubplot at 0x7f2467ad96d8>"
      ]
     },
     "execution_count": 39,
     "metadata": {},
     "output_type": "execute_result"
    },
    {
     "data": {
      "image/png": "[encoded data removed]",
      "text/plain": [
       "<Figure size 648x432 with 1 Axes>"
      ]
     },
     "metadata": {
      "needs_background": "light"
     },
     "output_type": "display_data"
    }
   ],
   "source": [
    "# Compute Air Flow in CFM from calibration data\n",
    "# Calibration data from:  data/scripts/DLG - calibrating proxy 2015-01-11 - final.xlsx\n",
    "airflow = 1.3083 * dfd.airspeed + 5.1391         # Air flow in cfm from proxy calibration\n",
    "nonzero_speed = (dfd.airspeed > 40)              # Speed less than 40 fpm counts as zero speed\n",
    "dfd['airflow'] = airflow * nonzero_speed         # Zero speed means zero flow\n",
    "dfd.airflow.hist(bins=30)"
   ]
  },
  {
   "cell_type": "code",
   "execution_count": 40,
   "metadata": {},
   "outputs": [
    {
     "data": {
      "text/plain": [
       "<matplotlib.axes._subplots.AxesSubplot at 0x7f246b23feb8>"
      ]
     },
     "execution_count": 40,
     "metadata": {},
     "output_type": "execute_result"
    },
    {
     "data": {
      "image/png": "[encoded data removed]",
      "text/plain": [
       "<Figure size 648x432 with 1 Axes>"
      ]
     },
     "metadata": {
      "needs_background": "light"
     },
     "output_type": "display_data"
    }
   ],
   "source": [
    "# Look like there may be some outliers\n",
    "dfd.query('airflow > 250').airflow.hist(bins=30)"
   ]
  },
  {
   "cell_type": "code",
   "execution_count": 41,
   "metadata": {},
   "outputs": [
    {
     "data": {
      "text/plain": [
       "<matplotlib.lines.Line2D at 0x7f246b1e1940>"
      ]
     },
     "execution_count": 41,
     "metadata": {},
     "output_type": "execute_result"
    },
    {
     "data": {
      "image/png": "[encoded data removed]",
      "text/plain": [
       "<Figure size 648x432 with 1 Axes>"
      ]
     },
     "metadata": {
      "needs_background": "light"
     },
     "output_type": "display_data"
    }
   ],
   "source": [
    "# Substitute NaN for values over 330\n",
    "dfd['airflow'] = dfd.airflow.where(dfd.airflow < 330)\n",
    "dfd.query('airflow > 0').airflow.hist(bins=30)\n",
    "xlabel('Air Flow, cfm')\n",
    "ylabel('# of Samples')\n",
    "axvline(x=286, linestyle='--', color='red')\n",
    "# Very few points reach the high speed calibration value.  Unit ran on\n",
    "# High a fair amount, so should see value in that vicinity.\n",
    "# Also, Mitsubishi Specs for Air Flow are:\n",
    "#   Powerful: 381 cfm\n",
    "#   High    : 367 cfm\n",
    "#   Medium  : 240 cfm\n",
    "#   Low     : 166 cfm\n",
    "# Quite a bit higher than the peak observed in the following graph.\n",
    "# Although other researchers have observed flow rates less than \n",
    "# specs as well."
   ]
  },
  {
   "cell_type": "code",
   "execution_count": 42,
   "metadata": {},
   "outputs": [
    {
     "data": {
      "text/html": [
       "<div>\n",
       "<style scoped>\n",
       "    .dataframe tbody tr th:only-of-type {\n",
       "        vertical-align: middle;\n",
       "    }\n",
       "\n",
       "    .dataframe tbody tr th {\n",
       "        vertical-align: top;\n",
       "    }\n",
       "\n",
       "    .dataframe thead th {\n",
       "        text-align: right;\n",
       "    }\n",
       "</style>\n",
       "<table border=\"1\" class=\"dataframe\">\n",
       "  <thead>\n",
       "    <tr style=\"text-align: right;\">\n",
       "      <th></th>\n",
       "      <th>t_out</th>\n",
       "      <th>power</th>\n",
       "      <th>airspeed</th>\n",
       "      <th>t_delivery</th>\n",
       "      <th>t_return</th>\n",
       "      <th>airflow</th>\n",
       "      <th>heat_out</th>\n",
       "    </tr>\n",
       "  </thead>\n",
       "  <tbody>\n",
       "    <tr>\n",
       "      <th>count</th>\n",
       "      <td>1.818299e+06</td>\n",
       "      <td>1.818299e+06</td>\n",
       "      <td>1.818299e+06</td>\n",
       "      <td>1.818299e+06</td>\n",
       "      <td>1.818299e+06</td>\n",
       "      <td>1.818299e+06</td>\n",
       "      <td>1.818299e+06</td>\n",
       "    </tr>\n",
       "    <tr>\n",
       "      <th>mean</th>\n",
       "      <td>2.890042e+01</td>\n",
       "      <td>1.150542e+02</td>\n",
       "      <td>1.226907e+01</td>\n",
       "      <td>6.938634e+01</td>\n",
       "      <td>6.660027e+01</td>\n",
       "      <td>1.617940e+01</td>\n",
       "      <td>1.796342e+02</td>\n",
       "    </tr>\n",
       "    <tr>\n",
       "      <th>std</th>\n",
       "      <td>1.090656e+01</td>\n",
       "      <td>3.968734e+02</td>\n",
       "      <td>3.794333e+01</td>\n",
       "      <td>1.445127e+01</td>\n",
       "      <td>4.193893e+00</td>\n",
       "      <td>5.120451e+01</td>\n",
       "      <td>6.869030e+02</td>\n",
       "    </tr>\n",
       "    <tr>\n",
       "      <th>min</th>\n",
       "      <td>-1.211544e+01</td>\n",
       "      <td>-6.378184e+00</td>\n",
       "      <td>-8.598010e-01</td>\n",
       "      <td>1.628906e+01</td>\n",
       "      <td>1.641421e+01</td>\n",
       "      <td>0.000000e+00</td>\n",
       "      <td>-1.270581e+03</td>\n",
       "    </tr>\n",
       "    <tr>\n",
       "      <th>25%</th>\n",
       "      <td>2.335200e+01</td>\n",
       "      <td>4.890688e+00</td>\n",
       "      <td>1.820817e-01</td>\n",
       "      <td>6.417654e+01</td>\n",
       "      <td>6.443862e+01</td>\n",
       "      <td>0.000000e+00</td>\n",
       "      <td>-0.000000e+00</td>\n",
       "    </tr>\n",
       "    <tr>\n",
       "      <th>50%</th>\n",
       "      <td>3.123535e+01</td>\n",
       "      <td>5.214248e+00</td>\n",
       "      <td>2.004224e-01</td>\n",
       "      <td>6.547210e+01</td>\n",
       "      <td>6.567888e+01</td>\n",
       "      <td>0.000000e+00</td>\n",
       "      <td>-0.000000e+00</td>\n",
       "    </tr>\n",
       "    <tr>\n",
       "      <th>75%</th>\n",
       "      <td>3.634177e+01</td>\n",
       "      <td>5.610736e+00</td>\n",
       "      <td>2.932767e-01</td>\n",
       "      <td>6.723584e+01</td>\n",
       "      <td>6.751153e+01</td>\n",
       "      <td>0.000000e+00</td>\n",
       "      <td>-0.000000e+00</td>\n",
       "    </tr>\n",
       "    <tr>\n",
       "      <th>max</th>\n",
       "      <td>6.334097e+01</td>\n",
       "      <td>2.394634e+03</td>\n",
       "      <td>2.465348e+02</td>\n",
       "      <td>1.436833e+02</td>\n",
       "      <td>1.018910e+02</td>\n",
       "      <td>3.276806e+02</td>\n",
       "      <td>4.836101e+03</td>\n",
       "    </tr>\n",
       "  </tbody>\n",
       "</table>\n",
       "</div>"
      ],
      "text/plain": [
       "              t_out         power      airspeed    t_delivery      t_return  \\\n",
       "count  1.818299e+06  1.818299e+06  1.818299e+06  1.818299e+06  1.818299e+06   \n",
       "mean   2.890042e+01  1.150542e+02  1.226907e+01  6.938634e+01  6.660027e+01   \n",
       "std    1.090656e+01  3.968734e+02  3.794333e+01  1.445127e+01  4.193893e+00   \n",
       "min   -1.211544e+01 -6.378184e+00 -8.598010e-01  1.628906e+01  1.641421e+01   \n",
       "25%    2.335200e+01  4.890688e+00  1.820817e-01  6.417654e+01  6.443862e+01   \n",
       "50%    3.123535e+01  5.214248e+00  2.004224e-01  6.547210e+01  6.567888e+01   \n",
       "75%    3.634177e+01  5.610736e+00  2.932767e-01  6.723584e+01  6.751153e+01   \n",
       "max    6.334097e+01  2.394634e+03  2.465348e+02  1.436833e+02  1.018910e+02   \n",
       "\n",
       "            airflow      heat_out  \n",
       "count  1.818299e+06  1.818299e+06  \n",
       "mean   1.617940e+01  1.796342e+02  \n",
       "std    5.120451e+01  6.869030e+02  \n",
       "min    0.000000e+00 -1.270581e+03  \n",
       "25%    0.000000e+00 -0.000000e+00  \n",
       "50%    0.000000e+00 -0.000000e+00  \n",
       "75%    0.000000e+00 -0.000000e+00  \n",
       "max    3.276806e+02  4.836101e+03  "
      ]
     },
     "execution_count": 42,
     "metadata": {},
     "output_type": "execute_result"
    }
   ],
   "source": [
    "# Calculate Heat Output in Watts\n",
    "\n",
    "# Constants:\n",
    "c_p = 0.240 # Specific heat of air in Btu/lb-F\n",
    "ro = 0.0749   # Density of air (in lb/ft^3) at standard conditions\n",
    "VHC = c_p*ro  # Volumetric heat capacity of air in Btu/ft^3-F\n",
    "\n",
    "dfd['heat_out'] = dfd.airflow * (dfd.t_delivery - dfd.t_return) * VHC * 60 / 3.412\n",
    "\n",
    "# Eliminate the coil temp column\n",
    "dfd2 = dfd.drop(columns=['t_coil'])\n",
    "\n",
    "# drop the rows that have one or more NaNs\n",
    "dfd2.dropna(inplace=True)\n",
    "\n",
    "dfd2.describe()\n",
    "# Looking at the overall mean power and heat_out, COP is 1.56 for the\n",
    "# entire period, counting periods when the heat pump is Off.\n",
    "# That matches the value on page 48 of the report."
   ]
  },
  {
   "cell_type": "code",
   "execution_count": 43,
   "metadata": {},
   "outputs": [],
   "source": [
    "# Date to start for the graph in the next cell.\n",
    "dt = datetime(2014, 10, 5)"
   ]
  },
  {
   "cell_type": "code",
   "execution_count": 44,
   "metadata": {},
   "outputs": [
    {
     "data": {
      "image/png": "[encoded data removed]",
      "text/plain": [
       "<Figure size 648x432 with 1 Axes>"
      ]
     },
     "metadata": {
      "needs_background": "light"
     },
     "output_type": "display_data"
    }
   ],
   "source": [
    "# Step through the days looking at the heat pump power consumption\n",
    "# across the day.\n",
    "dfd[dt.strftime('%Y-%m-%d')].power.plot()\n",
    "dt += timedelta(days=1)"
   ]
  },
  {
   "cell_type": "code",
   "execution_count": 45,
   "metadata": {},
   "outputs": [
    {
     "data": {
      "text/plain": [
       "<matplotlib.axes._subplots.AxesSubplot at 0x7f246b2f7c50>"
      ]
     },
     "execution_count": 45,
     "metadata": {},
     "output_type": "execute_result"
    },
    {
     "data": {
      "image/png": "[encoded data removed]",
      "text/plain": [
       "<Figure size 648x432 with 1 Axes>"
      ]
     },
     "metadata": {
      "needs_background": "light"
     },
     "output_type": "display_data"
    }
   ],
   "source": [
    "dfd2.query('power > 50').power.hist(bins=30)"
   ]
  },
  {
   "cell_type": "code",
   "execution_count": 46,
   "metadata": {},
   "outputs": [
    {
     "data": {
      "text/plain": [
       "<matplotlib.axes._subplots.AxesSubplot at 0x7f246b1d50b8>"
      ]
     },
     "execution_count": 46,
     "metadata": {},
     "output_type": "execute_result"
    },
    {
     "data": {
      "image/png": "[encoded data removed]",
      "text/plain": [
       "<Figure size 648x432 with 1 Axes>"
      ]
     },
     "metadata": {
      "needs_background": "light"
     },
     "output_type": "display_data"
    }
   ],
   "source": [
    "# Look at Power Consumption when the heat pump is essentially off\n",
    "dfd2.query('power <= 50').power.hist(bins=60)"
   ]
  },
  {
   "cell_type": "code",
   "execution_count": 47,
   "metadata": {},
   "outputs": [
    {
     "data": {
      "text/html": [
       "<div>\n",
       "<style scoped>\n",
       "    .dataframe tbody tr th:only-of-type {\n",
       "        vertical-align: middle;\n",
       "    }\n",
       "\n",
       "    .dataframe tbody tr th {\n",
       "        vertical-align: top;\n",
       "    }\n",
       "\n",
       "    .dataframe thead th {\n",
       "        text-align: right;\n",
       "    }\n",
       "</style>\n",
       "<table border=\"1\" class=\"dataframe\">\n",
       "  <thead>\n",
       "    <tr style=\"text-align: right;\">\n",
       "      <th></th>\n",
       "      <th>t_out</th>\n",
       "      <th>power</th>\n",
       "      <th>airspeed</th>\n",
       "      <th>t_delivery</th>\n",
       "      <th>t_return</th>\n",
       "      <th>airflow</th>\n",
       "      <th>heat_out</th>\n",
       "    </tr>\n",
       "    <tr>\n",
       "      <th>ts</th>\n",
       "      <th></th>\n",
       "      <th></th>\n",
       "      <th></th>\n",
       "      <th></th>\n",
       "      <th></th>\n",
       "      <th></th>\n",
       "      <th></th>\n",
       "    </tr>\n",
       "  </thead>\n",
       "  <tbody>\n",
       "    <tr>\n",
       "      <th>2014-10-04 18:17:00</th>\n",
       "      <td>40.13540</td>\n",
       "      <td>20.01131</td>\n",
       "      <td>81.48087</td>\n",
       "      <td>66.274317</td>\n",
       "      <td>66.317117</td>\n",
       "      <td>111.740522</td>\n",
       "      <td>-1.511784</td>\n",
       "    </tr>\n",
       "    <tr>\n",
       "      <th>2014-10-04 18:17:10</th>\n",
       "      <td>40.17805</td>\n",
       "      <td>19.02945</td>\n",
       "      <td>79.31525</td>\n",
       "      <td>66.322180</td>\n",
       "      <td>66.285550</td>\n",
       "      <td>108.907242</td>\n",
       "      <td>1.261040</td>\n",
       "    </tr>\n",
       "    <tr>\n",
       "      <th>2014-10-04 18:17:20</th>\n",
       "      <td>40.07320</td>\n",
       "      <td>52.37772</td>\n",
       "      <td>73.07473</td>\n",
       "      <td>66.314917</td>\n",
       "      <td>66.271403</td>\n",
       "      <td>100.742769</td>\n",
       "      <td>1.385707</td>\n",
       "    </tr>\n",
       "    <tr>\n",
       "      <th>2014-10-04 18:17:30</th>\n",
       "      <td>40.00608</td>\n",
       "      <td>295.97850</td>\n",
       "      <td>76.00609</td>\n",
       "      <td>66.260883</td>\n",
       "      <td>66.251100</td>\n",
       "      <td>104.577868</td>\n",
       "      <td>0.323416</td>\n",
       "    </tr>\n",
       "    <tr>\n",
       "      <th>2014-10-04 18:17:40</th>\n",
       "      <td>40.01583</td>\n",
       "      <td>406.67120</td>\n",
       "      <td>77.21709</td>\n",
       "      <td>64.986887</td>\n",
       "      <td>66.165847</td>\n",
       "      <td>106.162219</td>\n",
       "      <td>-39.564378</td>\n",
       "    </tr>\n",
       "  </tbody>\n",
       "</table>\n",
       "</div>"
      ],
      "text/plain": [
       "                        t_out      power  airspeed  t_delivery   t_return  \\\n",
       "ts                                                                          \n",
       "2014-10-04 18:17:00  40.13540   20.01131  81.48087   66.274317  66.317117   \n",
       "2014-10-04 18:17:10  40.17805   19.02945  79.31525   66.322180  66.285550   \n",
       "2014-10-04 18:17:20  40.07320   52.37772  73.07473   66.314917  66.271403   \n",
       "2014-10-04 18:17:30  40.00608  295.97850  76.00609   66.260883  66.251100   \n",
       "2014-10-04 18:17:40  40.01583  406.67120  77.21709   64.986887  66.165847   \n",
       "\n",
       "                        airflow   heat_out  \n",
       "ts                                          \n",
       "2014-10-04 18:17:00  111.740522  -1.511784  \n",
       "2014-10-04 18:17:10  108.907242   1.261040  \n",
       "2014-10-04 18:17:20  100.742769   1.385707  \n",
       "2014-10-04 18:17:30  104.577868   0.323416  \n",
       "2014-10-04 18:17:40  106.162219 -39.564378  "
      ]
     },
     "execution_count": 47,
     "metadata": {},
     "output_type": "execute_result"
    }
   ],
   "source": [
    "dfd2.query('airspeed > 40').head()"
   ]
  },
  {
   "cell_type": "code",
   "execution_count": 48,
   "metadata": {},
   "outputs": [
    {
     "data": {
      "text/html": [
       "<div>\n",
       "<style scoped>\n",
       "    .dataframe tbody tr th:only-of-type {\n",
       "        vertical-align: middle;\n",
       "    }\n",
       "\n",
       "    .dataframe tbody tr th {\n",
       "        vertical-align: top;\n",
       "    }\n",
       "\n",
       "    .dataframe thead th {\n",
       "        text-align: right;\n",
       "    }\n",
       "</style>\n",
       "<table border=\"1\" class=\"dataframe\">\n",
       "  <thead>\n",
       "    <tr style=\"text-align: right;\">\n",
       "      <th></th>\n",
       "      <th>t_out</th>\n",
       "      <th>power</th>\n",
       "      <th>airspeed</th>\n",
       "      <th>t_delivery</th>\n",
       "      <th>t_return</th>\n",
       "      <th>airflow</th>\n",
       "      <th>heat_out</th>\n",
       "    </tr>\n",
       "  </thead>\n",
       "  <tbody>\n",
       "    <tr>\n",
       "      <th>count</th>\n",
       "      <td>1.818299e+06</td>\n",
       "      <td>1.818299e+06</td>\n",
       "      <td>1.818299e+06</td>\n",
       "      <td>1.818299e+06</td>\n",
       "      <td>1.818299e+06</td>\n",
       "      <td>1.818299e+06</td>\n",
       "      <td>1.818299e+06</td>\n",
       "    </tr>\n",
       "    <tr>\n",
       "      <th>mean</th>\n",
       "      <td>2.890042e+01</td>\n",
       "      <td>1.150542e+02</td>\n",
       "      <td>1.226907e+01</td>\n",
       "      <td>6.938634e+01</td>\n",
       "      <td>6.660027e+01</td>\n",
       "      <td>1.617940e+01</td>\n",
       "      <td>1.796342e+02</td>\n",
       "    </tr>\n",
       "    <tr>\n",
       "      <th>std</th>\n",
       "      <td>1.090656e+01</td>\n",
       "      <td>3.968734e+02</td>\n",
       "      <td>3.794333e+01</td>\n",
       "      <td>1.445127e+01</td>\n",
       "      <td>4.193893e+00</td>\n",
       "      <td>5.120451e+01</td>\n",
       "      <td>6.869030e+02</td>\n",
       "    </tr>\n",
       "    <tr>\n",
       "      <th>min</th>\n",
       "      <td>-1.211544e+01</td>\n",
       "      <td>-6.378184e+00</td>\n",
       "      <td>-8.598010e-01</td>\n",
       "      <td>1.628906e+01</td>\n",
       "      <td>1.641421e+01</td>\n",
       "      <td>0.000000e+00</td>\n",
       "      <td>-1.270581e+03</td>\n",
       "    </tr>\n",
       "    <tr>\n",
       "      <th>25%</th>\n",
       "      <td>2.335200e+01</td>\n",
       "      <td>4.890688e+00</td>\n",
       "      <td>1.820817e-01</td>\n",
       "      <td>6.417654e+01</td>\n",
       "      <td>6.443862e+01</td>\n",
       "      <td>0.000000e+00</td>\n",
       "      <td>-0.000000e+00</td>\n",
       "    </tr>\n",
       "    <tr>\n",
       "      <th>50%</th>\n",
       "      <td>3.123535e+01</td>\n",
       "      <td>5.214248e+00</td>\n",
       "      <td>2.004224e-01</td>\n",
       "      <td>6.547210e+01</td>\n",
       "      <td>6.567888e+01</td>\n",
       "      <td>0.000000e+00</td>\n",
       "      <td>-0.000000e+00</td>\n",
       "    </tr>\n",
       "    <tr>\n",
       "      <th>75%</th>\n",
       "      <td>3.634177e+01</td>\n",
       "      <td>5.610736e+00</td>\n",
       "      <td>2.932767e-01</td>\n",
       "      <td>6.723584e+01</td>\n",
       "      <td>6.751153e+01</td>\n",
       "      <td>0.000000e+00</td>\n",
       "      <td>-0.000000e+00</td>\n",
       "    </tr>\n",
       "    <tr>\n",
       "      <th>max</th>\n",
       "      <td>6.334097e+01</td>\n",
       "      <td>2.394634e+03</td>\n",
       "      <td>2.465348e+02</td>\n",
       "      <td>1.436833e+02</td>\n",
       "      <td>1.018910e+02</td>\n",
       "      <td>3.276806e+02</td>\n",
       "      <td>4.836101e+03</td>\n",
       "    </tr>\n",
       "  </tbody>\n",
       "</table>\n",
       "</div>"
      ],
      "text/plain": [
       "              t_out         power      airspeed    t_delivery      t_return  \\\n",
       "count  1.818299e+06  1.818299e+06  1.818299e+06  1.818299e+06  1.818299e+06   \n",
       "mean   2.890042e+01  1.150542e+02  1.226907e+01  6.938634e+01  6.660027e+01   \n",
       "std    1.090656e+01  3.968734e+02  3.794333e+01  1.445127e+01  4.193893e+00   \n",
       "min   -1.211544e+01 -6.378184e+00 -8.598010e-01  1.628906e+01  1.641421e+01   \n",
       "25%    2.335200e+01  4.890688e+00  1.820817e-01  6.417654e+01  6.443862e+01   \n",
       "50%    3.123535e+01  5.214248e+00  2.004224e-01  6.547210e+01  6.567888e+01   \n",
       "75%    3.634177e+01  5.610736e+00  2.932767e-01  6.723584e+01  6.751153e+01   \n",
       "max    6.334097e+01  2.394634e+03  2.465348e+02  1.436833e+02  1.018910e+02   \n",
       "\n",
       "            airflow      heat_out  \n",
       "count  1.818299e+06  1.818299e+06  \n",
       "mean   1.617940e+01  1.796342e+02  \n",
       "std    5.120451e+01  6.869030e+02  \n",
       "min    0.000000e+00 -1.270581e+03  \n",
       "25%    0.000000e+00 -0.000000e+00  \n",
       "50%    0.000000e+00 -0.000000e+00  \n",
       "75%    0.000000e+00 -0.000000e+00  \n",
       "max    3.276806e+02  4.836101e+03  "
      ]
     },
     "execution_count": 48,
     "metadata": {},
     "output_type": "execute_result"
    }
   ],
   "source": [
    "dfd2.describe()"
   ]
  },
  {
   "cell_type": "code",
   "execution_count": 49,
   "metadata": {},
   "outputs": [],
   "source": [
    "# Function to average over some 'interval_string' time period,\n",
    "# and then plot Power against outdoor temperature.\n",
    "def plot_avg_power(df, interval_string):\n",
    "    df_avg = df.resample(interval_string).mean()\n",
    "    df_avg.plot(x='t_out', y='power', kind='scatter')"
   ]
  },
  {
   "cell_type": "code",
   "execution_count": 50,
   "metadata": {},
   "outputs": [
    {
     "data": {
      "image/png": "[encoded data removed]",
      "text/plain": [
       "<Figure size 648x432 with 1 Axes>"
      ]
     },
     "metadata": {
      "needs_background": "light"
     },
     "output_type": "display_data"
    }
   ],
   "source": [
    "# Experiment with different averaging intervals to see where the data settles down.\n",
    "plot_avg_power(dfd2, '2D')"
   ]
  },
  {
   "cell_type": "code",
   "execution_count": 51,
   "metadata": {},
   "outputs": [
    {
     "data": {
      "text/plain": [
       "(0, 3)"
      ]
     },
     "execution_count": 51,
     "metadata": {},
     "output_type": "execute_result"
    },
    {
     "data": {
      "image/png": "[encoded data removed]",
      "text/plain": [
       "<Figure size 648x432 with 1 Axes>"
      ]
     },
     "metadata": {
      "needs_background": "light"
     },
     "output_type": "display_data"
    }
   ],
   "source": [
    "# Do 1 day averages and compute COP for those intervals\n",
    "# Look at filtering out the low power readings so that the COP\n",
    "# only considers time periods when the heat pump is running. Looking\n",
    "# at On periods is more consistent with operation in a normal load home,\n",
    "# as opposed to the very low load home Tom has.\n",
    "# NEED TO NOTE this when I present this graph.\n",
    "power_threshold = 25   # Watts required to consider the unit running\n",
    "dfd2_1day = dfd2.query('power >= @power_threshold').resample('1D').mean()\n",
    "dfd2_1day['cop'] = dfd2_1day.heat_out / dfd2_1day.power\n",
    "dfd2_1day.plot(x='t_out', y='cop', kind='scatter')\n",
    "xlabel('Outdoor Temperature, ℉')\n",
    "ylim(0,3)"
   ]
  },
  {
   "cell_type": "code",
   "execution_count": 52,
   "metadata": {},
   "outputs": [
    {
     "data": {
      "text/plain": [
       "1.6276589010031357"
      ]
     },
     "execution_count": 52,
     "metadata": {},
     "output_type": "execute_result"
    }
   ],
   "source": [
    "# Calculate seasonal average COP, only looking at periods when heat\n",
    "# pump is on.\n",
    "dfd2_mean = dfd2.query('power >= @power_threshold').mean()\n",
    "dfd2_mean.heat_out / dfd2_mean.power"
   ]
  },
  {
   "cell_type": "markdown",
   "metadata": {},
   "source": [
    "### Create Standard COP vs. Binned Temperature Plot"
   ]
  },
  {
   "cell_type": "code",
   "execution_count": 53,
   "metadata": {},
   "outputs": [
    {
     "data": {
      "text/plain": [
       "(0, 3.0)"
      ]
     },
     "execution_count": 53,
     "metadata": {},
     "output_type": "execute_result"
    },
    {
     "data": {
      "image/png": "[encoded data removed]",
      "text/plain": [
       "<Figure size 648x432 with 1 Axes>"
      ]
     },
     "metadata": {
      "needs_background": "light"
     },
     "output_type": "display_data"
    }
   ],
   "source": [
    "dfb = dfd2_1day.copy()\n",
    "\n",
    "# calculate the bin for each row.  4 degree bins\n",
    "dfb['temp_bin'] = dfb['t_out'] // 4.0\n",
    "\n",
    "# average by bins\n",
    "dfa = dfb.groupby('temp_bin').mean()\n",
    "dfa = dfa[['t_out', 'cop']]\n",
    "dfa.columns = ['temperature', 'cop']\n",
    "plot(dfa.temperature, dfa.cop, 'b-', marker='o', markersize=5)\n",
    "plot(dfd2_1day.t_out, dfd2_1day.cop, linestyle='None', color='#555555', marker='+', markersize=7)\n",
    "xlabel('Outdoor Temperature, ℉')\n",
    "ylabel('COP')\n",
    "ylim(0, 3.0)\n"
   ]
  },
  {
   "cell_type": "code",
   "execution_count": 54,
   "metadata": {},
   "outputs": [
    {
     "data": {
      "text/html": [
       "<div>\n",
       "<style scoped>\n",
       "    .dataframe tbody tr th:only-of-type {\n",
       "        vertical-align: middle;\n",
       "    }\n",
       "\n",
       "    .dataframe tbody tr th {\n",
       "        vertical-align: top;\n",
       "    }\n",
       "\n",
       "    .dataframe thead th {\n",
       "        text-align: right;\n",
       "    }\n",
       "</style>\n",
       "<table border=\"1\" class=\"dataframe\">\n",
       "  <thead>\n",
       "    <tr style=\"text-align: right;\">\n",
       "      <th></th>\n",
       "      <th>temperature</th>\n",
       "      <th>cop</th>\n",
       "      <th>source</th>\n",
       "      <th>field_study</th>\n",
       "      <th>hspf</th>\n",
       "    </tr>\n",
       "    <tr>\n",
       "      <th>temp_bin</th>\n",
       "      <th></th>\n",
       "      <th></th>\n",
       "      <th></th>\n",
       "      <th></th>\n",
       "      <th></th>\n",
       "    </tr>\n",
       "  </thead>\n",
       "  <tbody>\n",
       "    <tr>\n",
       "      <th>-2.0</th>\n",
       "      <td>-6.628883</td>\n",
       "      <td>1.177788</td>\n",
       "      <td>CCHRC - Dillingham</td>\n",
       "      <td>True</td>\n",
       "      <td>10.0</td>\n",
       "    </tr>\n",
       "    <tr>\n",
       "      <th>-1.0</th>\n",
       "      <td>-1.408751</td>\n",
       "      <td>1.268600</td>\n",
       "      <td>CCHRC - Dillingham</td>\n",
       "      <td>True</td>\n",
       "      <td>10.0</td>\n",
       "    </tr>\n",
       "    <tr>\n",
       "      <th>0.0</th>\n",
       "      <td>2.026514</td>\n",
       "      <td>1.376003</td>\n",
       "      <td>CCHRC - Dillingham</td>\n",
       "      <td>True</td>\n",
       "      <td>10.0</td>\n",
       "    </tr>\n",
       "    <tr>\n",
       "      <th>1.0</th>\n",
       "      <td>5.858913</td>\n",
       "      <td>1.475082</td>\n",
       "      <td>CCHRC - Dillingham</td>\n",
       "      <td>True</td>\n",
       "      <td>10.0</td>\n",
       "    </tr>\n",
       "    <tr>\n",
       "      <th>2.0</th>\n",
       "      <td>10.286588</td>\n",
       "      <td>1.423151</td>\n",
       "      <td>CCHRC - Dillingham</td>\n",
       "      <td>True</td>\n",
       "      <td>10.0</td>\n",
       "    </tr>\n",
       "    <tr>\n",
       "      <th>3.0</th>\n",
       "      <td>13.319837</td>\n",
       "      <td>1.594087</td>\n",
       "      <td>CCHRC - Dillingham</td>\n",
       "      <td>True</td>\n",
       "      <td>10.0</td>\n",
       "    </tr>\n",
       "    <tr>\n",
       "      <th>4.0</th>\n",
       "      <td>18.238119</td>\n",
       "      <td>1.633112</td>\n",
       "      <td>CCHRC - Dillingham</td>\n",
       "      <td>True</td>\n",
       "      <td>10.0</td>\n",
       "    </tr>\n",
       "    <tr>\n",
       "      <th>5.0</th>\n",
       "      <td>22.276661</td>\n",
       "      <td>1.622248</td>\n",
       "      <td>CCHRC - Dillingham</td>\n",
       "      <td>True</td>\n",
       "      <td>10.0</td>\n",
       "    </tr>\n",
       "    <tr>\n",
       "      <th>6.0</th>\n",
       "      <td>26.293289</td>\n",
       "      <td>1.660477</td>\n",
       "      <td>CCHRC - Dillingham</td>\n",
       "      <td>True</td>\n",
       "      <td>10.0</td>\n",
       "    </tr>\n",
       "    <tr>\n",
       "      <th>7.0</th>\n",
       "      <td>30.152238</td>\n",
       "      <td>1.662954</td>\n",
       "      <td>CCHRC - Dillingham</td>\n",
       "      <td>True</td>\n",
       "      <td>10.0</td>\n",
       "    </tr>\n",
       "    <tr>\n",
       "      <th>8.0</th>\n",
       "      <td>33.791614</td>\n",
       "      <td>1.844104</td>\n",
       "      <td>CCHRC - Dillingham</td>\n",
       "      <td>True</td>\n",
       "      <td>10.0</td>\n",
       "    </tr>\n",
       "    <tr>\n",
       "      <th>9.0</th>\n",
       "      <td>37.622740</td>\n",
       "      <td>2.004131</td>\n",
       "      <td>CCHRC - Dillingham</td>\n",
       "      <td>True</td>\n",
       "      <td>10.0</td>\n",
       "    </tr>\n",
       "    <tr>\n",
       "      <th>10.0</th>\n",
       "      <td>41.278425</td>\n",
       "      <td>2.156802</td>\n",
       "      <td>CCHRC - Dillingham</td>\n",
       "      <td>True</td>\n",
       "      <td>10.0</td>\n",
       "    </tr>\n",
       "  </tbody>\n",
       "</table>\n",
       "</div>"
      ],
      "text/plain": [
       "          temperature       cop              source  field_study  hspf\n",
       "temp_bin                                                              \n",
       "-2.0        -6.628883  1.177788  CCHRC - Dillingham         True  10.0\n",
       "-1.0        -1.408751  1.268600  CCHRC - Dillingham         True  10.0\n",
       " 0.0         2.026514  1.376003  CCHRC - Dillingham         True  10.0\n",
       " 1.0         5.858913  1.475082  CCHRC - Dillingham         True  10.0\n",
       " 2.0        10.286588  1.423151  CCHRC - Dillingham         True  10.0\n",
       " 3.0        13.319837  1.594087  CCHRC - Dillingham         True  10.0\n",
       " 4.0        18.238119  1.633112  CCHRC - Dillingham         True  10.0\n",
       " 5.0        22.276661  1.622248  CCHRC - Dillingham         True  10.0\n",
       " 6.0        26.293289  1.660477  CCHRC - Dillingham         True  10.0\n",
       " 7.0        30.152238  1.662954  CCHRC - Dillingham         True  10.0\n",
       " 8.0        33.791614  1.844104  CCHRC - Dillingham         True  10.0\n",
       " 9.0        37.622740  2.004131  CCHRC - Dillingham         True  10.0\n",
       " 10.0       41.278425  2.156802  CCHRC - Dillingham         True  10.0"
      ]
     },
     "execution_count": 54,
     "metadata": {},
     "output_type": "execute_result"
    }
   ],
   "source": [
    "dfa['source'] = 'CCHRC - Dillingham'\n",
    "dfa['field_study'] = True\n",
    "dfa['hspf'] = 10.0\n",
    "dfa.to_pickle('temp_cop_cchrc_dillingham.pkl')\n",
    "dfa"
   ]
  },
  {
   "cell_type": "markdown",
   "metadata": {},
   "source": [
    "## Wrangell Fujitsu Mini-Split Analysis"
   ]
  },
  {
   "cell_type": "code",
   "execution_count": 55,
   "metadata": {},
   "outputs": [
    {
     "data": {
      "text/html": [
       "<div>\n",
       "<style scoped>\n",
       "    .dataframe tbody tr th:only-of-type {\n",
       "        vertical-align: middle;\n",
       "    }\n",
       "\n",
       "    .dataframe tbody tr th {\n",
       "        vertical-align: top;\n",
       "    }\n",
       "\n",
       "    .dataframe thead th {\n",
       "        text-align: right;\n",
       "    }\n",
       "</style>\n",
       "<table border=\"1\" class=\"dataframe\">\n",
       "  <thead>\n",
       "    <tr style=\"text-align: right;\">\n",
       "      <th></th>\n",
       "      <th>TIMESTAMP</th>\n",
       "      <th>RECORD</th>\n",
       "      <th>WRG_DeliveryT1_F</th>\n",
       "      <th>WRG_DeliveryT2_F</th>\n",
       "      <th>WRG_DeliveryT3_F</th>\n",
       "      <th>WRG_ReturnT1_F</th>\n",
       "      <th>WRG_ReturnT2_F</th>\n",
       "      <th>WRG_ReturnT3_F</th>\n",
       "      <th>WRG_CoilT_F</th>\n",
       "      <th>WRG_OutsideT_F</th>\n",
       "      <th>WRG_Electricity_W_Avg</th>\n",
       "      <th>WRG_Airflow_fpm_Avg</th>\n",
       "    </tr>\n",
       "  </thead>\n",
       "  <tbody>\n",
       "    <tr>\n",
       "      <th>0</th>\n",
       "      <td>2014-10-23 17:12:40</td>\n",
       "      <td>87685</td>\n",
       "      <td>92.22947</td>\n",
       "      <td>92.49622</td>\n",
       "      <td>92.47194</td>\n",
       "      <td>72.97411</td>\n",
       "      <td>73.01828</td>\n",
       "      <td>72.99625</td>\n",
       "      <td>44.07870</td>\n",
       "      <td>46.22718</td>\n",
       "      <td>281.0522</td>\n",
       "      <td>228.9279</td>\n",
       "    </tr>\n",
       "    <tr>\n",
       "      <th>1</th>\n",
       "      <td>2014-10-23 17:12:50</td>\n",
       "      <td>87686</td>\n",
       "      <td>92.18102</td>\n",
       "      <td>92.44771</td>\n",
       "      <td>92.37492</td>\n",
       "      <td>72.96307</td>\n",
       "      <td>72.96307</td>\n",
       "      <td>72.99625</td>\n",
       "      <td>44.12632</td>\n",
       "      <td>46.21543</td>\n",
       "      <td>280.3951</td>\n",
       "      <td>231.6602</td>\n",
       "    </tr>\n",
       "    <tr>\n",
       "      <th>2</th>\n",
       "      <td>2014-10-23 17:13:00</td>\n",
       "      <td>87687</td>\n",
       "      <td>92.10845</td>\n",
       "      <td>92.37492</td>\n",
       "      <td>92.27797</td>\n",
       "      <td>72.91896</td>\n",
       "      <td>72.89693</td>\n",
       "      <td>72.95209</td>\n",
       "      <td>44.18576</td>\n",
       "      <td>46.21543</td>\n",
       "      <td>280.2745</td>\n",
       "      <td>233.6551</td>\n",
       "    </tr>\n",
       "    <tr>\n",
       "      <th>3</th>\n",
       "      <td>2014-10-23 17:13:10</td>\n",
       "      <td>87688</td>\n",
       "      <td>92.01167</td>\n",
       "      <td>92.27797</td>\n",
       "      <td>92.18102</td>\n",
       "      <td>72.86375</td>\n",
       "      <td>72.84173</td>\n",
       "      <td>72.88589</td>\n",
       "      <td>44.15005</td>\n",
       "      <td>46.21543</td>\n",
       "      <td>279.5667</td>\n",
       "      <td>231.4393</td>\n",
       "    </tr>\n",
       "    <tr>\n",
       "      <th>4</th>\n",
       "      <td>2014-10-23 17:13:20</td>\n",
       "      <td>87689</td>\n",
       "      <td>91.92702</td>\n",
       "      <td>92.16899</td>\n",
       "      <td>92.06001</td>\n",
       "      <td>72.84173</td>\n",
       "      <td>72.83069</td>\n",
       "      <td>72.84173</td>\n",
       "      <td>44.09062</td>\n",
       "      <td>46.19203</td>\n",
       "      <td>278.7143</td>\n",
       "      <td>231.8267</td>\n",
       "    </tr>\n",
       "  </tbody>\n",
       "</table>\n",
       "</div>"
      ],
      "text/plain": [
       "            TIMESTAMP  RECORD  WRG_DeliveryT1_F  WRG_DeliveryT2_F  \\\n",
       "0 2014-10-23 17:12:40   87685          92.22947          92.49622   \n",
       "1 2014-10-23 17:12:50   87686          92.18102          92.44771   \n",
       "2 2014-10-23 17:13:00   87687          92.10845          92.37492   \n",
       "3 2014-10-23 17:13:10   87688          92.01167          92.27797   \n",
       "4 2014-10-23 17:13:20   87689          91.92702          92.16899   \n",
       "\n",
       "   WRG_DeliveryT3_F  WRG_ReturnT1_F  WRG_ReturnT2_F  WRG_ReturnT3_F  \\\n",
       "0          92.47194        72.97411        73.01828        72.99625   \n",
       "1          92.37492        72.96307        72.96307        72.99625   \n",
       "2          92.27797        72.91896        72.89693        72.95209   \n",
       "3          92.18102        72.86375        72.84173        72.88589   \n",
       "4          92.06001        72.84173        72.83069        72.84173   \n",
       "\n",
       "   WRG_CoilT_F  WRG_OutsideT_F  WRG_Electricity_W_Avg  WRG_Airflow_fpm_Avg  \n",
       "0     44.07870        46.22718               281.0522             228.9279  \n",
       "1     44.12632        46.21543               280.3951             231.6602  \n",
       "2     44.18576        46.21543               280.2745             233.6551  \n",
       "3     44.15005        46.21543               279.5667             231.4393  \n",
       "4     44.09062        46.19203               278.7143             231.8267  "
      ]
     },
     "execution_count": 55,
     "metadata": {},
     "output_type": "execute_result"
    }
   ],
   "source": [
    "fn = 'data/Wrangell_WRG_DHP_TenSecond.dat'\n",
    "dfd = pd.read_csv(fn, skiprows=[0, 2, 3], parse_dates=['TIMESTAMP'], na_values=['NAN'])\n",
    "dfd.head()"
   ]
  },
  {
   "cell_type": "code",
   "execution_count": 56,
   "metadata": {},
   "outputs": [
    {
     "name": "stdout",
     "output_type": "stream",
     "text": [
      "<class 'pandas.core.frame.DataFrame'>\n",
      "RangeIndex: 1894017 entries, 0 to 1894016\n",
      "Data columns (total 12 columns):\n",
      "TIMESTAMP                datetime64[ns]\n",
      "RECORD                   int64\n",
      "WRG_DeliveryT1_F         float64\n",
      "WRG_DeliveryT2_F         float64\n",
      "WRG_DeliveryT3_F         float64\n",
      "WRG_ReturnT1_F           float64\n",
      "WRG_ReturnT2_F           float64\n",
      "WRG_ReturnT3_F           float64\n",
      "WRG_CoilT_F              float64\n",
      "WRG_OutsideT_F           float64\n",
      "WRG_Electricity_W_Avg    float64\n",
      "WRG_Airflow_fpm_Avg      float64\n",
      "dtypes: datetime64[ns](1), float64(10), int64(1)\n",
      "memory usage: 173.4 MB\n"
     ]
    }
   ],
   "source": [
    "dfd.info()"
   ]
  },
  {
   "cell_type": "code",
   "execution_count": 57,
   "metadata": {},
   "outputs": [],
   "source": [
    "# Calculate average delivery and return temperatures, and clean up DataFrame\n",
    "# renaming columns to shorter names.\n",
    "dfd['t_delivery'] = (dfd.WRG_DeliveryT1_F + dfd.WRG_DeliveryT2_F + dfd.WRG_DeliveryT3_F) / 3.0\n",
    "dfd['t_return'] = (dfd.WRG_ReturnT1_F + dfd.WRG_ReturnT2_F + dfd.WRG_ReturnT3_F) / 3.0\n",
    "dfd.drop(columns=['RECORD', 'WRG_DeliveryT1_F', 'WRG_DeliveryT2_F', 'WRG_DeliveryT3_F', 'WRG_ReturnT1_F', 'WRG_ReturnT2_F', 'WRG_ReturnT3_F'], inplace=True)\n",
    "dfd.rename(columns={\n",
    "    'WRG_CoilT_F': 't_coil',\n",
    "    'WRG_OutsideT_F': 't_out',\n",
    "    'WRG_Electricity_W_Avg': 'power',\n",
    "    'WRG_Airflow_fpm_Avg': 'airspeed',\n",
    "    'TIMESTAMP': 'ts',\n",
    "}, inplace=True)\n",
    "dfd.set_index('ts', inplace=True)"
   ]
  },
  {
   "cell_type": "code",
   "execution_count": 58,
   "metadata": {},
   "outputs": [
    {
     "data": {
      "text/html": [
       "<div>\n",
       "<style scoped>\n",
       "    .dataframe tbody tr th:only-of-type {\n",
       "        vertical-align: middle;\n",
       "    }\n",
       "\n",
       "    .dataframe tbody tr th {\n",
       "        vertical-align: top;\n",
       "    }\n",
       "\n",
       "    .dataframe thead th {\n",
       "        text-align: right;\n",
       "    }\n",
       "</style>\n",
       "<table border=\"1\" class=\"dataframe\">\n",
       "  <thead>\n",
       "    <tr style=\"text-align: right;\">\n",
       "      <th></th>\n",
       "      <th>t_coil</th>\n",
       "      <th>t_out</th>\n",
       "      <th>power</th>\n",
       "      <th>airspeed</th>\n",
       "      <th>t_delivery</th>\n",
       "      <th>t_return</th>\n",
       "    </tr>\n",
       "    <tr>\n",
       "      <th>ts</th>\n",
       "      <th></th>\n",
       "      <th></th>\n",
       "      <th></th>\n",
       "      <th></th>\n",
       "      <th></th>\n",
       "      <th></th>\n",
       "    </tr>\n",
       "  </thead>\n",
       "  <tbody>\n",
       "    <tr>\n",
       "      <th>2014-12-03 00:00:00</th>\n",
       "      <td>32.01714</td>\n",
       "      <td>34.11437</td>\n",
       "      <td>671.7827</td>\n",
       "      <td>257.7634</td>\n",
       "      <td>100.243697</td>\n",
       "      <td>71.746703</td>\n",
       "    </tr>\n",
       "    <tr>\n",
       "      <th>2014-12-03 00:00:10</th>\n",
       "      <td>31.93705</td>\n",
       "      <td>34.17952</td>\n",
       "      <td>671.5795</td>\n",
       "      <td>258.9703</td>\n",
       "      <td>100.317113</td>\n",
       "      <td>71.735717</td>\n",
       "    </tr>\n",
       "    <tr>\n",
       "      <th>2014-12-03 00:00:20</th>\n",
       "      <td>32.04383</td>\n",
       "      <td>34.16650</td>\n",
       "      <td>672.9813</td>\n",
       "      <td>254.7502</td>\n",
       "      <td>100.399217</td>\n",
       "      <td>71.790793</td>\n",
       "    </tr>\n",
       "    <tr>\n",
       "      <th>2014-12-03 00:00:30</th>\n",
       "      <td>32.17715</td>\n",
       "      <td>34.21864</td>\n",
       "      <td>673.5237</td>\n",
       "      <td>254.2584</td>\n",
       "      <td>100.498667</td>\n",
       "      <td>71.823843</td>\n",
       "    </tr>\n",
       "    <tr>\n",
       "      <th>2014-12-03 00:00:40</th>\n",
       "      <td>32.29702</td>\n",
       "      <td>34.24467</td>\n",
       "      <td>674.0789</td>\n",
       "      <td>257.2520</td>\n",
       "      <td>100.567900</td>\n",
       "      <td>71.845893</td>\n",
       "    </tr>\n",
       "  </tbody>\n",
       "</table>\n",
       "</div>"
      ],
      "text/plain": [
       "                       t_coil     t_out     power  airspeed  t_delivery  \\\n",
       "ts                                                                        \n",
       "2014-12-03 00:00:00  32.01714  34.11437  671.7827  257.7634  100.243697   \n",
       "2014-12-03 00:00:10  31.93705  34.17952  671.5795  258.9703  100.317113   \n",
       "2014-12-03 00:00:20  32.04383  34.16650  672.9813  254.7502  100.399217   \n",
       "2014-12-03 00:00:30  32.17715  34.21864  673.5237  254.2584  100.498667   \n",
       "2014-12-03 00:00:40  32.29702  34.24467  674.0789  257.2520  100.567900   \n",
       "\n",
       "                      t_return  \n",
       "ts                              \n",
       "2014-12-03 00:00:00  71.746703  \n",
       "2014-12-03 00:00:10  71.735717  \n",
       "2014-12-03 00:00:20  71.790793  \n",
       "2014-12-03 00:00:30  71.823843  \n",
       "2014-12-03 00:00:40  71.845893  "
      ]
     },
     "execution_count": 58,
     "metadata": {},
     "output_type": "execute_result"
    }
   ],
   "source": [
    "# Report states that the valid data period is 12/3/2014 - 5/7/2015\n",
    "dfd = dfd['2014-12-03' : '2015-05-07'].copy()\n",
    "dfd.head()"
   ]
  },
  {
   "cell_type": "code",
   "execution_count": 59,
   "metadata": {},
   "outputs": [
    {
     "data": {
      "text/html": [
       "<div>\n",
       "<style scoped>\n",
       "    .dataframe tbody tr th:only-of-type {\n",
       "        vertical-align: middle;\n",
       "    }\n",
       "\n",
       "    .dataframe tbody tr th {\n",
       "        vertical-align: top;\n",
       "    }\n",
       "\n",
       "    .dataframe thead th {\n",
       "        text-align: right;\n",
       "    }\n",
       "</style>\n",
       "<table border=\"1\" class=\"dataframe\">\n",
       "  <thead>\n",
       "    <tr style=\"text-align: right;\">\n",
       "      <th></th>\n",
       "      <th>t_coil</th>\n",
       "      <th>t_out</th>\n",
       "      <th>power</th>\n",
       "      <th>airspeed</th>\n",
       "      <th>t_delivery</th>\n",
       "      <th>t_return</th>\n",
       "    </tr>\n",
       "  </thead>\n",
       "  <tbody>\n",
       "    <tr>\n",
       "      <th>count</th>\n",
       "      <td>1.347840e+06</td>\n",
       "      <td>1.347840e+06</td>\n",
       "      <td>1.347501e+06</td>\n",
       "      <td>1.347817e+06</td>\n",
       "      <td>1.347555e+06</td>\n",
       "      <td>1.347840e+06</td>\n",
       "    </tr>\n",
       "    <tr>\n",
       "      <th>mean</th>\n",
       "      <td>3.819411e+01</td>\n",
       "      <td>4.017264e+01</td>\n",
       "      <td>3.654417e+02</td>\n",
       "      <td>2.344510e+02</td>\n",
       "      <td>9.137895e+01</td>\n",
       "      <td>7.196337e+01</td>\n",
       "    </tr>\n",
       "    <tr>\n",
       "      <th>std</th>\n",
       "      <td>7.430915e+00</td>\n",
       "      <td>7.544865e+00</td>\n",
       "      <td>2.178758e+02</td>\n",
       "      <td>5.234132e+01</td>\n",
       "      <td>8.935761e+00</td>\n",
       "      <td>2.048089e+00</td>\n",
       "    </tr>\n",
       "    <tr>\n",
       "      <th>min</th>\n",
       "      <td>1.124018e+01</td>\n",
       "      <td>1.530188e+01</td>\n",
       "      <td>-9.988680e-01</td>\n",
       "      <td>-8.738692e+00</td>\n",
       "      <td>-2.336363e+02</td>\n",
       "      <td>3.402789e+01</td>\n",
       "    </tr>\n",
       "    <tr>\n",
       "      <th>25%</th>\n",
       "      <td>3.414046e+01</td>\n",
       "      <td>3.601968e+01</td>\n",
       "      <td>2.648371e+02</td>\n",
       "      <td>2.278293e+02</td>\n",
       "      <td>8.925726e+01</td>\n",
       "      <td>7.068612e+01</td>\n",
       "    </tr>\n",
       "    <tr>\n",
       "      <th>50%</th>\n",
       "      <td>3.872380e+01</td>\n",
       "      <td>4.072067e+01</td>\n",
       "      <td>3.040915e+02</td>\n",
       "      <td>2.493017e+02</td>\n",
       "      <td>9.167096e+01</td>\n",
       "      <td>7.199485e+01</td>\n",
       "    </tr>\n",
       "    <tr>\n",
       "      <th>75%</th>\n",
       "      <td>4.199207e+01</td>\n",
       "      <td>4.426777e+01</td>\n",
       "      <td>4.369576e+02</td>\n",
       "      <td>2.603819e+02</td>\n",
       "      <td>9.474466e+01</td>\n",
       "      <td>7.298466e+01</td>\n",
       "    </tr>\n",
       "    <tr>\n",
       "      <th>max</th>\n",
       "      <td>7.783194e+01</td>\n",
       "      <td>7.808056e+01</td>\n",
       "      <td>2.271355e+03</td>\n",
       "      <td>4.320764e+02</td>\n",
       "      <td>1.285385e+02</td>\n",
       "      <td>1.223997e+02</td>\n",
       "    </tr>\n",
       "  </tbody>\n",
       "</table>\n",
       "</div>"
      ],
      "text/plain": [
       "             t_coil         t_out         power      airspeed    t_delivery  \\\n",
       "count  1.347840e+06  1.347840e+06  1.347501e+06  1.347817e+06  1.347555e+06   \n",
       "mean   3.819411e+01  4.017264e+01  3.654417e+02  2.344510e+02  9.137895e+01   \n",
       "std    7.430915e+00  7.544865e+00  2.178758e+02  5.234132e+01  8.935761e+00   \n",
       "min    1.124018e+01  1.530188e+01 -9.988680e-01 -8.738692e+00 -2.336363e+02   \n",
       "25%    3.414046e+01  3.601968e+01  2.648371e+02  2.278293e+02  8.925726e+01   \n",
       "50%    3.872380e+01  4.072067e+01  3.040915e+02  2.493017e+02  9.167096e+01   \n",
       "75%    4.199207e+01  4.426777e+01  4.369576e+02  2.603819e+02  9.474466e+01   \n",
       "max    7.783194e+01  7.808056e+01  2.271355e+03  4.320764e+02  1.285385e+02   \n",
       "\n",
       "           t_return  \n",
       "count  1.347840e+06  \n",
       "mean   7.196337e+01  \n",
       "std    2.048089e+00  \n",
       "min    3.402789e+01  \n",
       "25%    7.068612e+01  \n",
       "50%    7.199485e+01  \n",
       "75%    7.298466e+01  \n",
       "max    1.223997e+02  "
      ]
     },
     "execution_count": 59,
     "metadata": {},
     "output_type": "execute_result"
    }
   ],
   "source": [
    "dfd.describe()"
   ]
  },
  {
   "cell_type": "code",
   "execution_count": 60,
   "metadata": {},
   "outputs": [
    {
     "data": {
      "text/plain": [
       "<matplotlib.axes._subplots.AxesSubplot at 0x7f246b237b38>"
      ]
     },
     "execution_count": 60,
     "metadata": {},
     "output_type": "execute_result"
    },
    {
     "data": {
      "image/png": "[encoded data removed]",
      "text/plain": [
       "<Figure size 648x432 with 1 Axes>"
      ]
     },
     "metadata": {
      "needs_background": "light"
     },
     "output_type": "display_data"
    }
   ],
   "source": [
    "# Compute Air Flow in CFM from calibration data\n",
    "# Calibration data from:  data/scripts/ASHP_WRG.m\n",
    "airflow = 1.1922 * dfd.airspeed - 26.052         # Air flow in cfm from proxy calibration\n",
    "nonzero_speed = (dfd.airspeed > 40)              # Speed less than 40 fpm counts as zero speed\n",
    "dfd['airflow'] = airflow * nonzero_speed         # Zero speed means zero flow\n",
    "dfd.airflow.hist(bins=30)"
   ]
  },
  {
   "cell_type": "code",
   "execution_count": 61,
   "metadata": {},
   "outputs": [
    {
     "data": {
      "text/html": [
       "<div>\n",
       "<style scoped>\n",
       "    .dataframe tbody tr th:only-of-type {\n",
       "        vertical-align: middle;\n",
       "    }\n",
       "\n",
       "    .dataframe tbody tr th {\n",
       "        vertical-align: top;\n",
       "    }\n",
       "\n",
       "    .dataframe thead th {\n",
       "        text-align: right;\n",
       "    }\n",
       "</style>\n",
       "<table border=\"1\" class=\"dataframe\">\n",
       "  <thead>\n",
       "    <tr style=\"text-align: right;\">\n",
       "      <th></th>\n",
       "      <th>t_out</th>\n",
       "      <th>power</th>\n",
       "      <th>airspeed</th>\n",
       "      <th>t_delivery</th>\n",
       "      <th>t_return</th>\n",
       "      <th>airflow</th>\n",
       "      <th>heat_out</th>\n",
       "    </tr>\n",
       "  </thead>\n",
       "  <tbody>\n",
       "    <tr>\n",
       "      <th>count</th>\n",
       "      <td>1.347194e+06</td>\n",
       "      <td>1.347194e+06</td>\n",
       "      <td>1.347194e+06</td>\n",
       "      <td>1.347194e+06</td>\n",
       "      <td>1.347194e+06</td>\n",
       "      <td>1.347194e+06</td>\n",
       "      <td>1.347194e+06</td>\n",
       "    </tr>\n",
       "    <tr>\n",
       "      <th>mean</th>\n",
       "      <td>4.016786e+01</td>\n",
       "      <td>3.654404e+02</td>\n",
       "      <td>2.345066e+02</td>\n",
       "      <td>9.138393e+01</td>\n",
       "      <td>7.196140e+01</td>\n",
       "      <td>2.538456e+02</td>\n",
       "      <td>1.652168e+03</td>\n",
       "    </tr>\n",
       "    <tr>\n",
       "      <th>std</th>\n",
       "      <td>7.531142e+00</td>\n",
       "      <td>2.178757e+02</td>\n",
       "      <td>5.222240e+01</td>\n",
       "      <td>8.930549e+00</td>\n",
       "      <td>2.019717e+00</td>\n",
       "      <td>6.087992e+01</td>\n",
       "      <td>7.136020e+02</td>\n",
       "    </tr>\n",
       "    <tr>\n",
       "      <th>min</th>\n",
       "      <td>1.530188e+01</td>\n",
       "      <td>-9.988680e-01</td>\n",
       "      <td>2.403590e-01</td>\n",
       "      <td>-2.336363e+02</td>\n",
       "      <td>4.855814e+01</td>\n",
       "      <td>0.000000e+00</td>\n",
       "      <td>-2.954954e+04</td>\n",
       "    </tr>\n",
       "    <tr>\n",
       "      <th>25%</th>\n",
       "      <td>3.602369e+01</td>\n",
       "      <td>2.648372e+02</td>\n",
       "      <td>2.278396e+02</td>\n",
       "      <td>8.925966e+01</td>\n",
       "      <td>7.068632e+01</td>\n",
       "      <td>2.455784e+02</td>\n",
       "      <td>1.423503e+03</td>\n",
       "    </tr>\n",
       "    <tr>\n",
       "      <th>50%</th>\n",
       "      <td>4.072067e+01</td>\n",
       "      <td>3.040909e+02</td>\n",
       "      <td>2.493116e+02</td>\n",
       "      <td>9.167270e+01</td>\n",
       "      <td>7.199496e+01</td>\n",
       "      <td>2.711773e+02</td>\n",
       "      <td>1.653516e+03</td>\n",
       "    </tr>\n",
       "    <tr>\n",
       "      <th>75%</th>\n",
       "      <td>4.426578e+01</td>\n",
       "      <td>4.369556e+02</td>\n",
       "      <td>2.603887e+02</td>\n",
       "      <td>9.474506e+01</td>\n",
       "      <td>7.298427e+01</td>\n",
       "      <td>2.843834e+02</td>\n",
       "      <td>2.004320e+03</td>\n",
       "    </tr>\n",
       "    <tr>\n",
       "      <th>max</th>\n",
       "      <td>7.808056e+01</td>\n",
       "      <td>2.271355e+03</td>\n",
       "      <td>4.320764e+02</td>\n",
       "      <td>1.285385e+02</td>\n",
       "      <td>1.128910e+02</td>\n",
       "      <td>4.890695e+02</td>\n",
       "      <td>5.858422e+03</td>\n",
       "    </tr>\n",
       "  </tbody>\n",
       "</table>\n",
       "</div>"
      ],
      "text/plain": [
       "              t_out         power      airspeed    t_delivery      t_return  \\\n",
       "count  1.347194e+06  1.347194e+06  1.347194e+06  1.347194e+06  1.347194e+06   \n",
       "mean   4.016786e+01  3.654404e+02  2.345066e+02  9.138393e+01  7.196140e+01   \n",
       "std    7.531142e+00  2.178757e+02  5.222240e+01  8.930549e+00  2.019717e+00   \n",
       "min    1.530188e+01 -9.988680e-01  2.403590e-01 -2.336363e+02  4.855814e+01   \n",
       "25%    3.602369e+01  2.648372e+02  2.278396e+02  8.925966e+01  7.068632e+01   \n",
       "50%    4.072067e+01  3.040909e+02  2.493116e+02  9.167270e+01  7.199496e+01   \n",
       "75%    4.426578e+01  4.369556e+02  2.603887e+02  9.474506e+01  7.298427e+01   \n",
       "max    7.808056e+01  2.271355e+03  4.320764e+02  1.285385e+02  1.128910e+02   \n",
       "\n",
       "            airflow      heat_out  \n",
       "count  1.347194e+06  1.347194e+06  \n",
       "mean   2.538456e+02  1.652168e+03  \n",
       "std    6.087992e+01  7.136020e+02  \n",
       "min    0.000000e+00 -2.954954e+04  \n",
       "25%    2.455784e+02  1.423503e+03  \n",
       "50%    2.711773e+02  1.653516e+03  \n",
       "75%    2.843834e+02  2.004320e+03  \n",
       "max    4.890695e+02  5.858422e+03  "
      ]
     },
     "execution_count": 61,
     "metadata": {},
     "output_type": "execute_result"
    }
   ],
   "source": [
    "# Calculate Heat Output in Watts\n",
    "\n",
    "# Constants:\n",
    "c_p = 0.240 # Specific heat of air in Btu/lb-F\n",
    "ro = 0.0749   # Density of air (in lb/ft^3) at standard conditions\n",
    "VHC = c_p*ro  # Volumetric heat capacity of air in Btu/ft^3-F\n",
    "\n",
    "dfd['heat_out'] = dfd.airflow * (dfd.t_delivery - dfd.t_return) * VHC * 60 / 3.412\n",
    "\n",
    "# Eliminate the coil temp column\n",
    "dfd2 = dfd.drop(columns=['t_coil'])\n",
    "\n",
    "# drop the rows that have one or more NaNs\n",
    "dfd2.dropna(inplace=True)\n",
    "\n",
    "dfd2.describe()\n",
    "# Looking at the overall mean power and heat_out, COP is 4.52 for the\n",
    "# entire period.  That matches the value on page 48 of the report."
   ]
  },
  {
   "cell_type": "code",
   "execution_count": 62,
   "metadata": {},
   "outputs": [
    {
     "data": {
      "text/plain": [
       "<matplotlib.axes._subplots.AxesSubplot at 0x7f246b0bba90>"
      ]
     },
     "execution_count": 62,
     "metadata": {},
     "output_type": "execute_result"
    },
    {
     "data": {
      "image/png": "[encoded data removed]",
      "text/plain": [
       "<Figure size 648x432 with 1 Axes>"
      ]
     },
     "metadata": {
      "needs_background": "light"
     },
     "output_type": "display_data"
    }
   ],
   "source": [
    "dfd2.power.hist(bins=30)"
   ]
  },
  {
   "cell_type": "code",
   "execution_count": 63,
   "metadata": {},
   "outputs": [
    {
     "data": {
      "text/plain": [
       "(0, 1032.3082589362539)"
      ]
     },
     "execution_count": 63,
     "metadata": {},
     "output_type": "execute_result"
    },
    {
     "data": {
      "image/png": "[encoded data removed]",
      "text/plain": [
       "<Figure size 648x432 with 1 Axes>"
      ]
     },
     "metadata": {
      "needs_background": "light"
     },
     "output_type": "display_data"
    }
   ],
   "source": [
    "# Experiment with different averaging intervals to see where the data settles down.\n",
    "plot_avg_power(dfd2, '1D')\n",
    "ylim(0)"
   ]
  },
  {
   "cell_type": "code",
   "execution_count": 64,
   "metadata": {},
   "outputs": [
    {
     "data": {
      "text/plain": [
       "Text(0.5, 0, 'Outdoor Temperature, ℉')"
      ]
     },
     "execution_count": 64,
     "metadata": {},
     "output_type": "execute_result"
    },
    {
     "data": {
      "image/png": "[encoded data removed]",
      "text/plain": [
       "<Figure size 648x432 with 1 Axes>"
      ]
     },
     "metadata": {
      "needs_background": "light"
     },
     "output_type": "display_data"
    }
   ],
   "source": [
    "# Do 1 day averages and compute COP for those intervals\n",
    "dfd2_1day = dfd2.resample('1D').mean()\n",
    "dfd2_1day['cop'] = dfd2_1day.heat_out / dfd2_1day.power\n",
    "dfd2_1day.plot(x='t_out', y='cop', kind='scatter')\n",
    "xlabel('Outdoor Temperature, ℉')"
   ]
  },
  {
   "cell_type": "code",
   "execution_count": 65,
   "metadata": {},
   "outputs": [
    {
     "data": {
      "text/plain": [
       "4.521031389389859"
      ]
     },
     "execution_count": 65,
     "metadata": {},
     "output_type": "execute_result"
    }
   ],
   "source": [
    "# Calculate seasonal average COP\n",
    "# This matches the value in the report on page 48.\n",
    "dfd2_mean = dfd2.mean()\n",
    "dfd2_mean.heat_out / dfd2_mean.power"
   ]
  },
  {
   "cell_type": "markdown",
   "metadata": {},
   "source": [
    "### Create Standard COP vs. Binned Temperature Plot"
   ]
  },
  {
   "cell_type": "code",
   "execution_count": 72,
   "metadata": {},
   "outputs": [
    {
     "data": {
      "text/plain": [
       "Text(0, 0.5, 'COP')"
      ]
     },
     "execution_count": 72,
     "metadata": {},
     "output_type": "execute_result"
    },
    {
     "data": {
      "image/png": "[encoded data removed]",
      "text/plain": [
       "<Figure size 648x432 with 1 Axes>"
      ]
     },
     "metadata": {
      "needs_background": "light"
     },
     "output_type": "display_data"
    }
   ],
   "source": [
    "dfb = dfd2_1day.copy()\n",
    "\n",
    "# calculate the bin for each row.  4 degree bins\n",
    "dfb['temp_bin'] = dfb['t_out'] // 4.0\n",
    "\n",
    "# average by bins\n",
    "dfbin = dfb.groupby('temp_bin').mean()\n",
    "dfa = dfbin[['t_out', 'cop']]\n",
    "dfa.columns = ['temperature', 'cop']\n",
    "plot(dfa.temperature, dfa.cop, 'b-', marker='o', markersize=5)\n",
    "plot(dfd2_1day.t_out, dfd2_1day.cop, linestyle='None', color='#555555', marker='+', markersize=7)\n",
    "xlabel('Outdoor Temperature, ℉')\n",
    "ylabel('COP')"
   ]
  },
  {
   "cell_type": "markdown",
   "metadata": {},
   "source": [
    "The downward slope of COP above 46 F may be due to cycling.  The report shows an example of cycling on page 46.  That sample occurred at 49.4 F outdoors, a temperature in the downward portion of the above curve.  The Kaluza heat pump (without the external thermostat) showed the same characteristic, but a lower outdoor temperature due to the low load of the building."
   ]
  },
  {
   "cell_type": "code",
   "execution_count": 73,
   "metadata": {},
   "outputs": [
    {
     "name": "stderr",
     "output_type": "stream",
     "text": [
      "/home/tabb99/anaconda3/lib/python3.7/site-packages/ipykernel_launcher.py:1: SettingWithCopyWarning: \n",
      "A value is trying to be set on a copy of a slice from a DataFrame.\n",
      "Try using .loc[row_indexer,col_indexer] = value instead\n",
      "\n",
      "See the caveats in the documentation: http://pandas.pydata.org/pandas-docs/stable/indexing.html#indexing-view-versus-copy\n",
      "  \"\"\"Entry point for launching an IPython kernel.\n",
      "/home/tabb99/anaconda3/lib/python3.7/site-packages/ipykernel_launcher.py:2: SettingWithCopyWarning: \n",
      "A value is trying to be set on a copy of a slice from a DataFrame.\n",
      "Try using .loc[row_indexer,col_indexer] = value instead\n",
      "\n",
      "See the caveats in the documentation: http://pandas.pydata.org/pandas-docs/stable/indexing.html#indexing-view-versus-copy\n",
      "  \n",
      "/home/tabb99/anaconda3/lib/python3.7/site-packages/ipykernel_launcher.py:3: SettingWithCopyWarning: \n",
      "A value is trying to be set on a copy of a slice from a DataFrame.\n",
      "Try using .loc[row_indexer,col_indexer] = value instead\n",
      "\n",
      "See the caveats in the documentation: http://pandas.pydata.org/pandas-docs/stable/indexing.html#indexing-view-versus-copy\n",
      "  This is separate from the ipykernel package so we can avoid doing imports until\n"
     ]
    },
    {
     "data": {
      "text/html": [
       "<div>\n",
       "<style scoped>\n",
       "    .dataframe tbody tr th:only-of-type {\n",
       "        vertical-align: middle;\n",
       "    }\n",
       "\n",
       "    .dataframe tbody tr th {\n",
       "        vertical-align: top;\n",
       "    }\n",
       "\n",
       "    .dataframe thead th {\n",
       "        text-align: right;\n",
       "    }\n",
       "</style>\n",
       "<table border=\"1\" class=\"dataframe\">\n",
       "  <thead>\n",
       "    <tr style=\"text-align: right;\">\n",
       "      <th></th>\n",
       "      <th>temperature</th>\n",
       "      <th>cop</th>\n",
       "      <th>source</th>\n",
       "      <th>field_study</th>\n",
       "      <th>hspf</th>\n",
       "    </tr>\n",
       "    <tr>\n",
       "      <th>temp_bin</th>\n",
       "      <th></th>\n",
       "      <th></th>\n",
       "      <th></th>\n",
       "      <th></th>\n",
       "      <th></th>\n",
       "    </tr>\n",
       "  </thead>\n",
       "  <tbody>\n",
       "    <tr>\n",
       "      <th>5.0</th>\n",
       "      <td>22.159828</td>\n",
       "      <td>3.075466</td>\n",
       "      <td>CCHRC - Wrangell</td>\n",
       "      <td>True</td>\n",
       "      <td>12.0</td>\n",
       "    </tr>\n",
       "    <tr>\n",
       "      <th>6.0</th>\n",
       "      <td>26.161144</td>\n",
       "      <td>3.388308</td>\n",
       "      <td>CCHRC - Wrangell</td>\n",
       "      <td>True</td>\n",
       "      <td>12.0</td>\n",
       "    </tr>\n",
       "    <tr>\n",
       "      <th>7.0</th>\n",
       "      <td>30.271630</td>\n",
       "      <td>3.455993</td>\n",
       "      <td>CCHRC - Wrangell</td>\n",
       "      <td>True</td>\n",
       "      <td>12.0</td>\n",
       "    </tr>\n",
       "    <tr>\n",
       "      <th>8.0</th>\n",
       "      <td>34.215167</td>\n",
       "      <td>3.592493</td>\n",
       "      <td>CCHRC - Wrangell</td>\n",
       "      <td>True</td>\n",
       "      <td>12.0</td>\n",
       "    </tr>\n",
       "    <tr>\n",
       "      <th>9.0</th>\n",
       "      <td>38.338114</td>\n",
       "      <td>4.525006</td>\n",
       "      <td>CCHRC - Wrangell</td>\n",
       "      <td>True</td>\n",
       "      <td>12.0</td>\n",
       "    </tr>\n",
       "    <tr>\n",
       "      <th>10.0</th>\n",
       "      <td>42.210129</td>\n",
       "      <td>5.200390</td>\n",
       "      <td>CCHRC - Wrangell</td>\n",
       "      <td>True</td>\n",
       "      <td>12.0</td>\n",
       "    </tr>\n",
       "    <tr>\n",
       "      <th>11.0</th>\n",
       "      <td>45.763943</td>\n",
       "      <td>5.330910</td>\n",
       "      <td>CCHRC - Wrangell</td>\n",
       "      <td>True</td>\n",
       "      <td>12.0</td>\n",
       "    </tr>\n",
       "    <tr>\n",
       "      <th>12.0</th>\n",
       "      <td>49.253170</td>\n",
       "      <td>5.382815</td>\n",
       "      <td>CCHRC - Wrangell</td>\n",
       "      <td>True</td>\n",
       "      <td>12.0</td>\n",
       "    </tr>\n",
       "    <tr>\n",
       "      <th>13.0</th>\n",
       "      <td>52.869474</td>\n",
       "      <td>5.105568</td>\n",
       "      <td>CCHRC - Wrangell</td>\n",
       "      <td>True</td>\n",
       "      <td>12.0</td>\n",
       "    </tr>\n",
       "  </tbody>\n",
       "</table>\n",
       "</div>"
      ],
      "text/plain": [
       "          temperature       cop            source  field_study  hspf\n",
       "temp_bin                                                            \n",
       "5.0         22.159828  3.075466  CCHRC - Wrangell         True  12.0\n",
       "6.0         26.161144  3.388308  CCHRC - Wrangell         True  12.0\n",
       "7.0         30.271630  3.455993  CCHRC - Wrangell         True  12.0\n",
       "8.0         34.215167  3.592493  CCHRC - Wrangell         True  12.0\n",
       "9.0         38.338114  4.525006  CCHRC - Wrangell         True  12.0\n",
       "10.0        42.210129  5.200390  CCHRC - Wrangell         True  12.0\n",
       "11.0        45.763943  5.330910  CCHRC - Wrangell         True  12.0\n",
       "12.0        49.253170  5.382815  CCHRC - Wrangell         True  12.0\n",
       "13.0        52.869474  5.105568  CCHRC - Wrangell         True  12.0"
      ]
     },
     "execution_count": 73,
     "metadata": {},
     "output_type": "execute_result"
    }
   ],
   "source": [
    "dfa['source'] = 'CCHRC - Wrangell'\n",
    "dfa['field_study'] = True\n",
    "dfa['hspf'] = 12.0\n",
    "dfa.to_pickle('temp_cop_cchrc_wrangell.pkl')\n",
    "dfa"
   ]
  },
  {
   "cell_type": "markdown",
   "metadata": {},
   "source": [
    "### Look at the Amount of Heat Load Accessed by the Unit"
   ]
  },
  {
   "cell_type": "markdown",
   "metadata": {
    "inputHidden": false,
    "outputHidden": false
   },
   "source": [
    "This is done in order to estimate the amount of heat load\n",
    "accessed by the unit.  An important issue in the heat pump modeling\n",
    "is how the heat distribution of the space limits the amount of heat\n",
    "that can be used from the heat pump."
   ]
  },
  {
   "cell_type": "code",
   "execution_count": 74,
   "metadata": {},
   "outputs": [
    {
     "data": {
      "text/plain": [
       "(0, 3310.8619992196154)"
      ]
     },
     "execution_count": 74,
     "metadata": {},
     "output_type": "execute_result"
    },
    {
     "data": {
      "image/png": "[encoded data removed]",
      "text/plain": [
       "<Figure size 648x432 with 1 Axes>"
      ]
     },
     "metadata": {
      "needs_background": "light"
     },
     "output_type": "display_data"
    }
   ],
   "source": [
    "plot(dfd2_1day.t_out, dfd2_1day.heat_out, linestyle='None', color='#555555', marker='+', markersize=7)\n",
    "xlabel('Outdoor Temperature, ℉')\n",
    "ylabel('Heat Output, Watts')\n",
    "plot(dfbin.t_out, dfbin.heat_out, 'b-', marker='o', markersize=5)\n",
    "ylim(0)"
   ]
  },
  {
   "cell_type": "code",
   "execution_count": 75,
   "metadata": {},
   "outputs": [
    {
     "data": {
      "text/html": [
       "<div>\n",
       "<style scoped>\n",
       "    .dataframe tbody tr th:only-of-type {\n",
       "        vertical-align: middle;\n",
       "    }\n",
       "\n",
       "    .dataframe tbody tr th {\n",
       "        vertical-align: top;\n",
       "    }\n",
       "\n",
       "    .dataframe thead th {\n",
       "        text-align: right;\n",
       "    }\n",
       "</style>\n",
       "<table border=\"1\" class=\"dataframe\">\n",
       "  <thead>\n",
       "    <tr style=\"text-align: right;\">\n",
       "      <th></th>\n",
       "      <th>t_out</th>\n",
       "      <th>ua</th>\n",
       "    </tr>\n",
       "    <tr>\n",
       "      <th>temp_bin</th>\n",
       "      <th></th>\n",
       "      <th></th>\n",
       "    </tr>\n",
       "  </thead>\n",
       "  <tbody>\n",
       "    <tr>\n",
       "      <th>5.0</th>\n",
       "      <td>22.159828</td>\n",
       "      <td>NaN</td>\n",
       "    </tr>\n",
       "    <tr>\n",
       "      <th>6.0</th>\n",
       "      <td>26.161144</td>\n",
       "      <td>-38.282147</td>\n",
       "    </tr>\n",
       "    <tr>\n",
       "      <th>7.0</th>\n",
       "      <td>30.271630</td>\n",
       "      <td>63.339416</td>\n",
       "    </tr>\n",
       "    <tr>\n",
       "      <th>8.0</th>\n",
       "      <td>34.215167</td>\n",
       "      <td>2.683939</td>\n",
       "    </tr>\n",
       "    <tr>\n",
       "      <th>9.0</th>\n",
       "      <td>38.338114</td>\n",
       "      <td>58.330443</td>\n",
       "    </tr>\n",
       "    <tr>\n",
       "      <th>10.0</th>\n",
       "      <td>42.210129</td>\n",
       "      <td>19.551473</td>\n",
       "    </tr>\n",
       "    <tr>\n",
       "      <th>11.0</th>\n",
       "      <td>45.763943</td>\n",
       "      <td>50.263488</td>\n",
       "    </tr>\n",
       "    <tr>\n",
       "      <th>12.0</th>\n",
       "      <td>49.253170</td>\n",
       "      <td>25.406029</td>\n",
       "    </tr>\n",
       "    <tr>\n",
       "      <th>13.0</th>\n",
       "      <td>52.869474</td>\n",
       "      <td>183.672553</td>\n",
       "    </tr>\n",
       "  </tbody>\n",
       "</table>\n",
       "</div>"
      ],
      "text/plain": [
       "              t_out          ua\n",
       "temp_bin                       \n",
       "5.0       22.159828         NaN\n",
       "6.0       26.161144  -38.282147\n",
       "7.0       30.271630   63.339416\n",
       "8.0       34.215167    2.683939\n",
       "9.0       38.338114   58.330443\n",
       "10.0      42.210129   19.551473\n",
       "11.0      45.763943   50.263488\n",
       "12.0      49.253170   25.406029\n",
       "13.0      52.869474  183.672553"
      ]
     },
     "execution_count": 75,
     "metadata": {},
     "output_type": "execute_result"
    }
   ],
   "source": [
    "# Look at the slope of those various segments to calculate the\n",
    "# the incremental heat loss coefficient of the space served\n",
    "# by the heat pump.\n",
    "dfbin['ua'] = - dfbin.heat_out.diff() / dfbin.t_out.diff()\n",
    "dfbin[['t_out', 'ua']]"
   ]
  },
  {
   "cell_type": "code",
   "execution_count": 76,
   "metadata": {},
   "outputs": [
    {
     "data": {
      "text/plain": [
       "'92 W/F, 314 Btu/hr/F'"
      ]
     },
     "execution_count": 76,
     "metadata": {},
     "output_type": "execute_result"
    }
   ],
   "source": [
    "# Not very conclusive.  At warm temperature (46 - 53 F), looks like space has\n",
    "# a pretty large UA:  112 W / F or 382 Btu/hour/F.\n",
    "# Ignoring a number of the low output points that occur from 20 - 35 F,\n",
    "# there seems to be a slope going from (27 F, 3000 W) to (52 F, 700 W).\n",
    "# This is a UA of:\n",
    "ua = (3000 - 700) / (52 - 27)\n",
    "f'{ua:.0f} W/F, {ua * 3.412:.0f} Btu/hr/F'"
   ]
  },
  {
   "cell_type": "code",
   "execution_count": 77,
   "metadata": {
    "collapsed": false,
    "inputHidden": false,
    "outputHidden": false
   },
   "outputs": [
    {
     "name": "stdout",
     "output_type": "stream",
     "text": [
      "2164 W, 7384 Btu/hr\n",
      "211 Btu/hr/F\n"
     ]
    }
   ],
   "source": [
    "# Instead, lets look at the Heat Output at 25 F, by interpolating the\n",
    "# binned values.\n",
    "out_25 = np.interp(25.0, dfbin.t_out, dfbin.heat_out)\n",
    "print(f'{out_25:.0f} W, {out_25 * 3.412:.0f} Btu/hr')\n",
    "\n",
    "# Also show the implied UA.  The balance point for this building looks\n",
    "# like 60 F, so delta-T is 35 F.\n",
    "print(f'{out_25 * 3.413 / 35.0:.0f} Btu/hr/F')\n",
    "\n",
    "# We are not doing this for the Dillingham building because that\n",
    "# building is very low load, and the output at 25 F is surely the\n",
    "# total building load, not limited by heat distribution issues."
   ]
  }
 ],
 "metadata": {
  "kernel_info": {
   "name": "python3"
  },
  "kernelspec": {
   "display_name": "Python 3",
   "language": "python",
   "name": "python3"
  },
  "language_info": {
   "codemirror_mode": {
    "name": "ipython",
    "version": 3
   },
   "file_extension": ".py",
   "mimetype": "text/x-python",
   "name": "python",
   "nbconvert_exporter": "python",
   "pygments_lexer": "ipython3",
   "version": "3.7.0"
  },
  "nteract": {
   "version": "0.11.6"
  }
 },
 "nbformat": 4,
 "nbformat_minor": 2
}
