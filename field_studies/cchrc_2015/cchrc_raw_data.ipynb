{
 "cells": [
  {
   "cell_type": "markdown",
   "metadata": {},
   "source": [
    "# Analysis of 2015 CCHRC Air Source Heat Pump Study Data"
   ]
  },
  {
   "cell_type": "code",
   "execution_count": 1,
   "metadata": {},
   "outputs": [],
   "source": [
    "import pandas as pd\n",
    "import numpy as np\n",
    "# import matplotlib pyplot commands\n",
    "from matplotlib.pyplot import *\n",
    "# Show Plots in the Notebook\n",
    "%matplotlib inline\n",
    " \n",
    "# 'style' the plot like fivethirtyeight.com website\n",
    "style.use('bmh')"
   ]
  },
  {
   "cell_type": "code",
   "execution_count": 2,
   "metadata": {},
   "outputs": [],
   "source": [
    "rcParams['figure.figsize']= (9, 6)   # set Chart Size\n",
    "rcParams['font.size'] = 14            # set Font size in Chart"
   ]
  },
  {
   "cell_type": "code",
   "execution_count": 3,
   "metadata": {},
   "outputs": [
    {
     "name": "stdout",
     "output_type": "stream",
     "text": [
      "\"TOA5\",\"Dillingham\",\"CR1000\",\"27206\",\"CR1000.Std.27\",\"CPU:ASHP DHP 2014.CR1\",\"34100\",\"DLG_DHP_TenSecond\"\n",
      "\n",
      "\"TIMESTAMP\",\"RECORD\",\"DLG_DeliveryT1_F\",\"DLG_DeliveryT2_F\",\"DLG_DeliveryT3_F\",\"DLG_ReturnT1_F\",\"DLG_ReturnT2_F\",\"DLG_ReturnT3_F\",\"DLG_CoilT_F\",\"DLG_OutsideT_F\",\"DLG_Electricity_W_Avg\",\"DLG_Airflow_fpm_Avg\"\n",
      "\n",
      "\"TS\",\"RN\",\"\",\"\",\"\",\"\",\"\",\"\",\"\",\"\",\"\",\"\"\n",
      "\n",
      "\"\",\"\",\"Smp\",\"Smp\",\"Smp\",\"Smp\",\"Smp\",\"Smp\",\"Smp\",\"Smp\",\"Avg\",\"Avg\"\n",
      "\n",
      "\"2014-10-04 18:03:20\",0,49.86922,49.72235,49.672,49.88553,49.8515,49.86922,30.51785,30.51633,\"NAN\",0.1071669\n",
      "\n"
     ]
    }
   ],
   "source": [
    "fn = 'data/Dillingham_DLG_DHP_TenSecond.dat'\n",
    "f = open(fn)\n",
    "for i in range(5):\n",
    "    print(f.readline())"
   ]
  },
  {
   "cell_type": "code",
   "execution_count": 10,
   "metadata": {},
   "outputs": [
    {
     "data": {
      "text/html": [
       "<div>\n",
       "<style scoped>\n",
       "    .dataframe tbody tr th:only-of-type {\n",
       "        vertical-align: middle;\n",
       "    }\n",
       "\n",
       "    .dataframe tbody tr th {\n",
       "        vertical-align: top;\n",
       "    }\n",
       "\n",
       "    .dataframe thead th {\n",
       "        text-align: right;\n",
       "    }\n",
       "</style>\n",
       "<table border=\"1\" class=\"dataframe\">\n",
       "  <thead>\n",
       "    <tr style=\"text-align: right;\">\n",
       "      <th></th>\n",
       "      <th>TIMESTAMP</th>\n",
       "      <th>RECORD</th>\n",
       "      <th>DLG_DeliveryT1_F</th>\n",
       "      <th>DLG_DeliveryT2_F</th>\n",
       "      <th>DLG_DeliveryT3_F</th>\n",
       "      <th>DLG_ReturnT1_F</th>\n",
       "      <th>DLG_ReturnT2_F</th>\n",
       "      <th>DLG_ReturnT3_F</th>\n",
       "      <th>DLG_CoilT_F</th>\n",
       "      <th>DLG_OutsideT_F</th>\n",
       "      <th>DLG_Electricity_W_Avg</th>\n",
       "      <th>DLG_Airflow_fpm_Avg</th>\n",
       "    </tr>\n",
       "  </thead>\n",
       "  <tbody>\n",
       "    <tr>\n",
       "      <th>0</th>\n",
       "      <td>2014-10-04 18:03:20</td>\n",
       "      <td>0</td>\n",
       "      <td>49.86922</td>\n",
       "      <td>49.72235</td>\n",
       "      <td>49.67200</td>\n",
       "      <td>49.88553</td>\n",
       "      <td>49.85150</td>\n",
       "      <td>49.86922</td>\n",
       "      <td>30.51785</td>\n",
       "      <td>30.51633</td>\n",
       "      <td>NaN</td>\n",
       "      <td>0.107167</td>\n",
       "    </tr>\n",
       "    <tr>\n",
       "      <th>1</th>\n",
       "      <td>2014-10-04 18:03:30</td>\n",
       "      <td>1</td>\n",
       "      <td>66.49229</td>\n",
       "      <td>66.29536</td>\n",
       "      <td>66.22681</td>\n",
       "      <td>66.50751</td>\n",
       "      <td>66.45961</td>\n",
       "      <td>66.48685</td>\n",
       "      <td>40.68156</td>\n",
       "      <td>40.71555</td>\n",
       "      <td>NaN</td>\n",
       "      <td>0.107660</td>\n",
       "    </tr>\n",
       "    <tr>\n",
       "      <th>2</th>\n",
       "      <td>2014-10-04 18:03:40</td>\n",
       "      <td>2</td>\n",
       "      <td>66.49229</td>\n",
       "      <td>66.28444</td>\n",
       "      <td>66.23115</td>\n",
       "      <td>66.50316</td>\n",
       "      <td>66.45311</td>\n",
       "      <td>66.48466</td>\n",
       "      <td>40.70706</td>\n",
       "      <td>40.77493</td>\n",
       "      <td>NaN</td>\n",
       "      <td>0.106630</td>\n",
       "    </tr>\n",
       "    <tr>\n",
       "      <th>3</th>\n",
       "      <td>2014-10-04 18:03:50</td>\n",
       "      <td>3</td>\n",
       "      <td>66.48685</td>\n",
       "      <td>66.27574</td>\n",
       "      <td>66.23115</td>\n",
       "      <td>66.50208</td>\n",
       "      <td>66.44226</td>\n",
       "      <td>66.47047</td>\n",
       "      <td>40.71556</td>\n",
       "      <td>40.72401</td>\n",
       "      <td>NaN</td>\n",
       "      <td>0.105903</td>\n",
       "    </tr>\n",
       "    <tr>\n",
       "      <th>4</th>\n",
       "      <td>2014-10-04 18:04:00</td>\n",
       "      <td>4</td>\n",
       "      <td>66.49120</td>\n",
       "      <td>66.27900</td>\n",
       "      <td>66.23115</td>\n",
       "      <td>66.49229</td>\n",
       "      <td>66.43791</td>\n",
       "      <td>66.46939</td>\n",
       "      <td>40.69735</td>\n",
       "      <td>40.64272</td>\n",
       "      <td>NaN</td>\n",
       "      <td>0.107903</td>\n",
       "    </tr>\n",
       "  </tbody>\n",
       "</table>\n",
       "</div>"
      ],
      "text/plain": [
       "            TIMESTAMP  RECORD  DLG_DeliveryT1_F  DLG_DeliveryT2_F  \\\n",
       "0 2014-10-04 18:03:20       0          49.86922          49.72235   \n",
       "1 2014-10-04 18:03:30       1          66.49229          66.29536   \n",
       "2 2014-10-04 18:03:40       2          66.49229          66.28444   \n",
       "3 2014-10-04 18:03:50       3          66.48685          66.27574   \n",
       "4 2014-10-04 18:04:00       4          66.49120          66.27900   \n",
       "\n",
       "   DLG_DeliveryT3_F  DLG_ReturnT1_F  DLG_ReturnT2_F  DLG_ReturnT3_F  \\\n",
       "0          49.67200        49.88553        49.85150        49.86922   \n",
       "1          66.22681        66.50751        66.45961        66.48685   \n",
       "2          66.23115        66.50316        66.45311        66.48466   \n",
       "3          66.23115        66.50208        66.44226        66.47047   \n",
       "4          66.23115        66.49229        66.43791        66.46939   \n",
       "\n",
       "   DLG_CoilT_F  DLG_OutsideT_F  DLG_Electricity_W_Avg  DLG_Airflow_fpm_Avg  \n",
       "0     30.51785        30.51633                    NaN             0.107167  \n",
       "1     40.68156        40.71555                    NaN             0.107660  \n",
       "2     40.70706        40.77493                    NaN             0.106630  \n",
       "3     40.71556        40.72401                    NaN             0.105903  \n",
       "4     40.69735        40.64272                    NaN             0.107903  "
      ]
     },
     "execution_count": 10,
     "metadata": {},
     "output_type": "execute_result"
    }
   ],
   "source": [
    "dfd = pd.read_csv(fn, skiprows=[0, 2, 3], parse_dates=['TIMESTAMP'], na_values=['NAN'])\n",
    "dfd.head()"
   ]
  },
  {
   "cell_type": "code",
   "execution_count": 11,
   "metadata": {},
   "outputs": [
    {
     "name": "stdout",
     "output_type": "stream",
     "text": [
      "<class 'pandas.core.frame.DataFrame'>\n",
      "RangeIndex: 1819915 entries, 0 to 1819914\n",
      "Data columns (total 12 columns):\n",
      "TIMESTAMP                datetime64[ns]\n",
      "RECORD                   int64\n",
      "DLG_DeliveryT1_F         float64\n",
      "DLG_DeliveryT2_F         float64\n",
      "DLG_DeliveryT3_F         float64\n",
      "DLG_ReturnT1_F           float64\n",
      "DLG_ReturnT2_F           float64\n",
      "DLG_ReturnT3_F           float64\n",
      "DLG_CoilT_F              float64\n",
      "DLG_OutsideT_F           float64\n",
      "DLG_Electricity_W_Avg    float64\n",
      "DLG_Airflow_fpm_Avg      float64\n",
      "dtypes: datetime64[ns](1), float64(10), int64(1)\n",
      "memory usage: 166.6 MB\n"
     ]
    }
   ],
   "source": [
    "dfd.info()"
   ]
  },
  {
   "cell_type": "code",
   "execution_count": 12,
   "metadata": {},
   "outputs": [],
   "source": [
    "# Calculate averaage delivery and return temperatures, and clean up DataFrame\n",
    "# renaming columns to shorter names.\n",
    "dfd['t_delivery'] = (dfd.DLG_DeliveryT1_F + dfd.DLG_DeliveryT2_F + dfd.DLG_DeliveryT3_F) / 3.0\n",
    "dfd['t_return'] = (dfd.DLG_ReturnT1_F + dfd.DLG_ReturnT2_F + dfd.DLG_ReturnT3_F) / 3.0\n",
    "dfd.drop(columns=['RECORD', 'DLG_DeliveryT1_F', 'DLG_DeliveryT2_F', 'DLG_DeliveryT3_F', 'DLG_ReturnT1_F', 'DLG_ReturnT2_F', 'DLG_ReturnT3_F'], inplace=True)\n",
    "dfd.rename(columns={\n",
    "    'DLG_CoilT_F': 't_coil',\n",
    "    'DLG_OutsideT_F': 't_out',\n",
    "    'DLG_Electricity_W_Avg': 'power',\n",
    "    'DLG_Airflow_fpm_Avg': 'airflow_fpm',\n",
    "    'TIMESTAMP': 'ts',\n",
    "}, inplace=True)\n",
    "dfd.set_index('ts', inplace=True)"
   ]
  },
  {
   "cell_type": "code",
   "execution_count": 13,
   "metadata": {},
   "outputs": [
    {
     "data": {
      "text/html": [
       "<div>\n",
       "<style scoped>\n",
       "    .dataframe tbody tr th:only-of-type {\n",
       "        vertical-align: middle;\n",
       "    }\n",
       "\n",
       "    .dataframe tbody tr th {\n",
       "        vertical-align: top;\n",
       "    }\n",
       "\n",
       "    .dataframe thead th {\n",
       "        text-align: right;\n",
       "    }\n",
       "</style>\n",
       "<table border=\"1\" class=\"dataframe\">\n",
       "  <thead>\n",
       "    <tr style=\"text-align: right;\">\n",
       "      <th></th>\n",
       "      <th>t_coil</th>\n",
       "      <th>t_out</th>\n",
       "      <th>power</th>\n",
       "      <th>airflow_fpm</th>\n",
       "      <th>t_delivery</th>\n",
       "      <th>t_return</th>\n",
       "    </tr>\n",
       "  </thead>\n",
       "  <tbody>\n",
       "    <tr>\n",
       "      <th>count</th>\n",
       "      <td>1.819915e+06</td>\n",
       "      <td>1.819915e+06</td>\n",
       "      <td>1.818550e+06</td>\n",
       "      <td>1.819674e+06</td>\n",
       "      <td>1.819915e+06</td>\n",
       "      <td>1.819915e+06</td>\n",
       "    </tr>\n",
       "    <tr>\n",
       "      <th>mean</th>\n",
       "      <td>2.897679e+01</td>\n",
       "      <td>2.890385e+01</td>\n",
       "      <td>1.150438e+02</td>\n",
       "      <td>1.226483e+01</td>\n",
       "      <td>6.938441e+01</td>\n",
       "      <td>6.660027e+01</td>\n",
       "    </tr>\n",
       "    <tr>\n",
       "      <th>std</th>\n",
       "      <td>1.105391e+01</td>\n",
       "      <td>1.090487e+01</td>\n",
       "      <td>3.968522e+02</td>\n",
       "      <td>3.794369e+01</td>\n",
       "      <td>1.444734e+01</td>\n",
       "      <td>4.193026e+00</td>\n",
       "    </tr>\n",
       "    <tr>\n",
       "      <th>min</th>\n",
       "      <td>-1.676911e+01</td>\n",
       "      <td>-1.211544e+01</td>\n",
       "      <td>-6.378184e+00</td>\n",
       "      <td>-9.511621e+00</td>\n",
       "      <td>1.628906e+01</td>\n",
       "      <td>1.641421e+01</td>\n",
       "    </tr>\n",
       "    <tr>\n",
       "      <th>25%</th>\n",
       "      <td>2.344835e+01</td>\n",
       "      <td>2.335494e+01</td>\n",
       "      <td>4.890676e+00</td>\n",
       "      <td>1.820209e-01</td>\n",
       "      <td>6.417661e+01</td>\n",
       "      <td>6.443917e+01</td>\n",
       "    </tr>\n",
       "    <tr>\n",
       "      <th>50%</th>\n",
       "      <td>3.154517e+01</td>\n",
       "      <td>3.124205e+01</td>\n",
       "      <td>5.214241e+00</td>\n",
       "      <td>2.004053e-01</td>\n",
       "      <td>6.547210e+01</td>\n",
       "      <td>6.567928e+01</td>\n",
       "    </tr>\n",
       "    <tr>\n",
       "      <th>75%</th>\n",
       "      <td>3.629568e+01</td>\n",
       "      <td>3.633908e+01</td>\n",
       "      <td>5.610726e+00</td>\n",
       "      <td>2.932821e-01</td>\n",
       "      <td>6.723580e+01</td>\n",
       "      <td>6.751149e+01</td>\n",
       "    </tr>\n",
       "    <tr>\n",
       "      <th>max</th>\n",
       "      <td>1.203533e+02</td>\n",
       "      <td>6.334097e+01</td>\n",
       "      <td>2.394634e+03</td>\n",
       "      <td>4.978166e+02</td>\n",
       "      <td>1.436833e+02</td>\n",
       "      <td>1.018910e+02</td>\n",
       "    </tr>\n",
       "  </tbody>\n",
       "</table>\n",
       "</div>"
      ],
      "text/plain": [
       "             t_coil         t_out         power   airflow_fpm    t_delivery  \\\n",
       "count  1.819915e+06  1.819915e+06  1.818550e+06  1.819674e+06  1.819915e+06   \n",
       "mean   2.897679e+01  2.890385e+01  1.150438e+02  1.226483e+01  6.938441e+01   \n",
       "std    1.105391e+01  1.090487e+01  3.968522e+02  3.794369e+01  1.444734e+01   \n",
       "min   -1.676911e+01 -1.211544e+01 -6.378184e+00 -9.511621e+00  1.628906e+01   \n",
       "25%    2.344835e+01  2.335494e+01  4.890676e+00  1.820209e-01  6.417661e+01   \n",
       "50%    3.154517e+01  3.124205e+01  5.214241e+00  2.004053e-01  6.547210e+01   \n",
       "75%    3.629568e+01  3.633908e+01  5.610726e+00  2.932821e-01  6.723580e+01   \n",
       "max    1.203533e+02  6.334097e+01  2.394634e+03  4.978166e+02  1.436833e+02   \n",
       "\n",
       "           t_return  \n",
       "count  1.819915e+06  \n",
       "mean   6.660027e+01  \n",
       "std    4.193026e+00  \n",
       "min    1.641421e+01  \n",
       "25%    6.443917e+01  \n",
       "50%    6.567928e+01  \n",
       "75%    6.751149e+01  \n",
       "max    1.018910e+02  "
      ]
     },
     "execution_count": 13,
     "metadata": {},
     "output_type": "execute_result"
    }
   ],
   "source": [
    "dfd.describe()"
   ]
  },
  {
   "cell_type": "code",
   "execution_count": 30,
   "metadata": {},
   "outputs": [],
   "source": [
    "# Function to average or some 'interval_string' time period,\n",
    "# and then plot Power against outdoor temperature.\n",
    "def plot_avg_power(df, interval_string):\n",
    "    df_avg = df.resample(interval_string).mean()\n",
    "    df_avg.plot(x='t_out', y='power', kind='scatter')"
   ]
  },
  {
   "cell_type": "code",
   "execution_count": 39,
   "metadata": {},
   "outputs": [
    {
     "data": {
      "image/png": "[encoded data removed]",
      "text/plain": [
       "<matplotlib.figure.Figure at 0x12aa00dab00>"
      ]
     },
     "metadata": {},
     "output_type": "display_data"
    }
   ],
   "source": [
    "# Experiment with different averaging intervals to see where the data settles down.\n",
    "plot_avg_power(dfd, '3D')"
   ]
  },
  {
   "cell_type": "code",
   "execution_count": 17,
   "metadata": {},
   "outputs": [
    {
     "data": {
      "text/plain": [
       "<matplotlib.axes._subplots.AxesSubplot at 0x12aa099da20>"
      ]
     },
     "execution_count": 17,
     "metadata": {},
     "output_type": "execute_result"
    },
    {
     "data": {
      "image/png": "[encoded data removed]",
      "text/plain": [
       "<matplotlib.figure.Figure at 0x12aa0ae6780>"
      ]
     },
     "metadata": {},
     "output_type": "display_data"
    }
   ],
   "source": [
    "dfd_5min = dfd.resample('5min').mean()\n",
    "dfd_5min[40000:41000].power.plot()"
   ]
  }
 ],
 "metadata": {
  "kernelspec": {
   "display_name": "Python 3",
   "language": "python",
   "name": "python3"
  },
  "language_info": {
   "codemirror_mode": {
    "name": "ipython",
    "version": 3
   },
   "file_extension": ".py",
   "mimetype": "text/x-python",
   "name": "python",
   "nbconvert_exporter": "python",
   "pygments_lexer": "ipython3",
   "version": "3.6.6"
  }
 },
 "nbformat": 4,
 "nbformat_minor": 2
}
