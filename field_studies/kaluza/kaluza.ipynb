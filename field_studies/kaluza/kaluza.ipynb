{
 "cells": [
  {
   "cell_type": "markdown",
   "metadata": {},
   "source": [
    "# COP Graphs for Phil Kaluza Fujistsu 15RLS3 in Seward"
   ]
  },
  {
   "cell_type": "code",
   "execution_count": 3,
   "metadata": {
    "slideshow": {
     "slide_type": "slide"
    }
   },
   "outputs": [],
   "source": [
    "import datetime\n",
    "from datetime import timedelta\n",
    "import io\n",
    "from dateutil.parser import parse\n",
    "import requests\n",
    "import pandas as pd\n",
    "import numpy as np\n",
    "import statsmodels.formula.api as sm\n",
    "import itertools\n",
    "from scipy.optimize import curve_fit\n",
    "import astral\n",
    "\n",
    "###################### Matplotlib #######################\n",
    "# import matplotlib pyplot commands\n",
    "from matplotlib.pyplot import *\n",
    " \n",
    "# Show Plots in the Notebook\n",
    "%matplotlib inline\n",
    " \n",
    "# 'style' the plot like fivethirtyeight.com website\n",
    "style.use('bmh')"
   ]
  },
  {
   "cell_type": "code",
   "execution_count": 4,
   "metadata": {
    "slideshow": {
     "slide_type": "skip"
    }
   },
   "outputs": [],
   "source": [
    "rcParams['figure.figsize']= (9, 6)   # set Chart Size\n",
    "rcParams['font.size'] = 14            # set Font size in Chart\n",
    "\n",
    "base_url = 'https://bmon.analysisnorth.com/api/v1/readings/{}/'\n",
    "\n",
    "def count_cycles(ser):\n",
    "    '''Counts the Off cycles in a series.\n",
    "    '''\n",
    "    THRESH = 200.   # Must fall below this Watt level to be considered turning off\n",
    "    dfp = pd.DataFrame({'power': ser.dropna()})\n",
    "    dfp['state'] =  dfp.power > THRESH\n",
    "    dfp['prior_state'] = dfp.state.shift()\n",
    "    dfp['off_event'] = np.where((dfp.state==False) & (dfp.prior_state==True), 1, 0)\n",
    "    return dfp.off_event.sum()\n",
    "    "
   ]
  },
  {
   "cell_type": "markdown",
   "metadata": {},
   "source": [
    "### All Night COPs\n",
    "\n",
    "Calculates the COP for each night, considering energy use from 1 hour\n",
    "after sunset to 1/2 hour after sunrise."
   ]
  },
  {
   "cell_type": "code",
   "execution_count": 5,
   "metadata": {
    "slideshow": {
     "slide_type": "skip"
    }
   },
   "outputs": [
    {
     "name": "stdout",
     "output_type": "stream",
     "text": [
      "phil_hp_pwr_17_pulse\n",
      "phil_port_pwr_16_pulse\n",
      "phil_hp_pwr_10187_temp\n",
      "phil_hp_pwr_354_temp\n",
      "phil_hp_pwr_6070_temp\n"
     ]
    },
    {
     "name": "stderr",
     "output_type": "stream",
     "text": [
      "/data/data/com.termux/files/usr/lib/python3.6/site-packages/ipykernel_launcher.py:17: FutureWarning: Sorting because non-concatenation axis is not aligned. A future version\n",
      "of pandas will change to not sort by default.\n",
      "\n",
      "To accept the future behavior, pass 'sort=False'.\n",
      "\n",
      "To retain the current behavior and silence the warning, pass 'sort=True'.\n",
      "\n"
     ]
    }
   ],
   "source": [
    "# Download the needed sensor data.\n",
    "sensors = [\n",
    "    ('phil_hp_pwr_17_pulse', 'ms_power'),\n",
    "    ('phil_port_pwr_16_pulse', 'spc_power'),\n",
    "    ('phil_hp_pwr_10187_temp', 'temp_out'),\n",
    "    ('phil_hp_pwr_354_temp', 'temp_downstairs'),\n",
    "    ('phil_hp_pwr_6070_temp', 'temp_upstairs'),    \n",
    "]\n",
    "params = {'start_ts': '2018-01-23'}\n",
    "dfs = []\n",
    "for sensor_id, lbl in sensors:\n",
    "    print(sensor_id)\n",
    "    resp = requests.get(base_url.format(sensor_id), params=params).json()\n",
    "    df = pd.DataFrame(resp['data']['readings'], columns=['ts', lbl])\n",
    "    df.set_index('ts', inplace=True)\n",
    "    dfs.append(df)\n",
    "df = pd.concat(dfs, axis=1)\n",
    "df.index = pd.to_datetime(df.index)"
   ]
  },
  {
   "cell_type": "code",
   "execution_count": 20,
   "metadata": {
    "slideshow": {
     "slide_type": "slide"
    }
   },
   "outputs": [
    {
     "data": {
      "text/html": [
       "<div>\n",
       "<style scoped>\n",
       "    .dataframe tbody tr th:only-of-type {\n",
       "        vertical-align: middle;\n",
       "    }\n",
       "\n",
       "    .dataframe tbody tr th {\n",
       "        vertical-align: top;\n",
       "    }\n",
       "\n",
       "    .dataframe thead th {\n",
       "        text-align: right;\n",
       "    }\n",
       "</style>\n",
       "<table border=\"1\" class=\"dataframe\">\n",
       "  <thead>\n",
       "    <tr style=\"text-align: right;\">\n",
       "      <th></th>\n",
       "      <th>Adj Outdoor Temp</th>\n",
       "      <th>Cycles/Hour</th>\n",
       "      <th>COP</th>\n",
       "      <th>Remote Thermostat</th>\n",
       "    </tr>\n",
       "    <tr>\n",
       "      <th>Date</th>\n",
       "      <th></th>\n",
       "      <th></th>\n",
       "      <th></th>\n",
       "      <th></th>\n",
       "    </tr>\n",
       "  </thead>\n",
       "  <tbody>\n",
       "    <tr>\n",
       "      <th>2018-01-23</th>\n",
       "      <td>16.954374</td>\n",
       "      <td>0.303490</td>\n",
       "      <td>2.225037</td>\n",
       "      <td>False</td>\n",
       "    </tr>\n",
       "    <tr>\n",
       "      <th>2018-01-24</th>\n",
       "      <td>12.798683</td>\n",
       "      <td>0.243659</td>\n",
       "      <td>1.987830</td>\n",
       "      <td>False</td>\n",
       "    </tr>\n",
       "    <tr>\n",
       "      <th>2018-01-25</th>\n",
       "      <td>15.606877</td>\n",
       "      <td>0.306550</td>\n",
       "      <td>2.083570</td>\n",
       "      <td>False</td>\n",
       "    </tr>\n",
       "    <tr>\n",
       "      <th>2018-01-26</th>\n",
       "      <td>26.077766</td>\n",
       "      <td>0.246141</td>\n",
       "      <td>2.586856</td>\n",
       "      <td>False</td>\n",
       "    </tr>\n",
       "    <tr>\n",
       "      <th>2018-01-27</th>\n",
       "      <td>14.249632</td>\n",
       "      <td>0.185660</td>\n",
       "      <td>2.231214</td>\n",
       "      <td>False</td>\n",
       "    </tr>\n",
       "  </tbody>\n",
       "</table>\n",
       "</div>"
      ],
      "text/plain": [
       "            Adj Outdoor Temp  Cycles/Hour       COP  Remote Thermostat\n",
       "Date                                                                  \n",
       "2018-01-23         16.954374     0.303490  2.225037              False\n",
       "2018-01-24         12.798683     0.243659  1.987830              False\n",
       "2018-01-25         15.606877     0.306550  2.083570              False\n",
       "2018-01-26         26.077766     0.246141  2.586856              False\n",
       "2018-01-27         14.249632     0.185660  2.231214              False"
      ]
     },
     "execution_count": 20,
     "metadata": {},
     "output_type": "execute_result"
    }
   ],
   "source": [
    "exclude_days = [\n",
    "    '2018-04-17',      # exhaust fans On\n",
    "    '2018-04-19',      # Wired Remote was disabled\n",
    "]\n",
    "divide_date = '2018-04-18'\n",
    "\n",
    "UA = 29.0\n",
    "MASS_COEFF = 577   # W / (deg F / hr), from prior 8 day coheat period\n",
    "UP_WTG = 0.55   # for heat loss\n",
    "\n",
    "# convert list of exclude days and divide date to Python dates\n",
    "exclude_days = [parse(d) for d in exclude_days]\n",
    "divide_date = parse(divide_date)\n",
    "\n",
    "# Sunrise / Sunset calculator object\n",
    "city_name = 'Anchorage'\n",
    "\n",
    "a = astral.Astral()\n",
    "a.solar_depression = 'civil'\n",
    "\n",
    "city = a[city_name]\n",
    "\n",
    "# we increment the date immediately in the loop, so need to take-away\n",
    "# a day to start with.\n",
    "dt1 = parse(params['start_ts']) - timedelta(days=1)\n",
    "\n",
    "out_temps = [[], []]\n",
    "out_temps_adj = [[], []]\n",
    "cops = [[], []]\n",
    "delta_ts = [[], []]\n",
    "cycle_rates = [[], []]\n",
    "dates = [[], []]\n",
    "short_dates = [[], []]\n",
    "\n",
    "while True:\n",
    "    \n",
    "    dt1 += timedelta(days=1)\n",
    "    \n",
    "    # stop if we have reached today\n",
    "    if dt1 >= datetime.datetime.now() - timedelta(days=1):\n",
    "        break\n",
    "    \n",
    "    # check to see whether this day should be exluded\n",
    "    if dt1 in exclude_days:\n",
    "        dt1 += timedelta(days=1)\n",
    "        continue\n",
    "\n",
    "    # print(dt1)\n",
    "    dt2 = dt1 + timedelta(days=1)\n",
    "    \n",
    "    # determine what output array index to use based on where this date\n",
    "    # falls relative to the dividing date.\n",
    "    dix = 0 if dt1 < divide_date else 1\n",
    "    \n",
    "    # sunset on dt1\n",
    "    try:\n",
    "        sun = city.sun(date=dt1, local=True)\n",
    "        dt_start = sun['sunset'] + timedelta(hours=1)\n",
    "    except:\n",
    "        # Errors occur in astral on long daylight days\n",
    "        # Start at 11 pm\n",
    "        dt_start = dt1 + timedelta(hours=23)\n",
    "        \n",
    "    # sunrise on dt2\n",
    "    try:\n",
    "        sun = city.sun(date=dt2, local=True)\n",
    "        dt_end = sun['sunrise'] + timedelta(minutes=30)\n",
    "    except:\n",
    "        # Errors occur in astral on long daylight days\n",
    "        # Start at 5 am\n",
    "        dt_end = dt2 + timedelta(hours=5)\n",
    "    \n",
    "    fmt = '%Y-%m-%d %H:%M:%S'\n",
    "    dfd = df.loc[dt_start.strftime(fmt) : dt_end.strftime(fmt)]\n",
    "    \n",
    "    # No data for the day, go on to next day\n",
    "    if len(dfd) == 0:\n",
    "        continue\n",
    "        \n",
    "    # calculate averages\n",
    "    avgs = dfd.mean()\n",
    "    \n",
    "    # Large error in days with low power usage\n",
    "    if avgs.ms_power < 200:\n",
    "        continue\n",
    "    \n",
    "    try:\n",
    "        # Calculate downstairs and upstairs temperature spread over\n",
    "        # the interval\n",
    "        down_spread = dfd.temp_downstairs.max() - dfd.temp_downstairs.min()\n",
    "        up_spread = dfd.temp_upstairs.max() - dfd.temp_upstairs.min()\n",
    "\n",
    "        # Calculate indoor temperature change over the interval:\n",
    "        down_start = dfd.temp_downstairs.dropna()[0]\n",
    "        down_end = dfd.temp_downstairs.dropna()[-1]\n",
    "        up_start = dfd.temp_upstairs.dropna()[0]\n",
    "        up_end = dfd.temp_upstairs.dropna()[-1]\n",
    "        tmp_chg = (down_end + up_end - down_start - up_start) / 2.0    # equal mass weighting\n",
    "        hrs_in_per = (dfd.index[-1] - dfd.index[0]).total_seconds() / 3600.\n",
    "\n",
    "        # Calculate the cycles per hour in the period\n",
    "        cyc_per_hour = count_cycles(dfd.ms_power) / hrs_in_per\n",
    "        \n",
    "    except:\n",
    "        # some of the data was missing, go on to next day\n",
    "        continue\n",
    "    \n",
    "    if abs(tmp_chg) < 3.0 and \\\n",
    "    (np.isnan(avgs.spc_power) or avgs.spc_power < 20.0) and \\\n",
    "    down_spread < 4.0 and up_spread < 4.0:\n",
    "        avg_indoor = UP_WTG * avgs.temp_upstairs + (1.0 - UP_WTG) * avgs.temp_downstairs\n",
    "        delta_t = avg_indoor - avgs.temp_out\n",
    "        temp_out_adj = 70.0 - delta_t\n",
    "        heat_load = UA * delta_t + MASS_COEFF * tmp_chg / hrs_in_per\n",
    "        cop = heat_load / avgs.ms_power\n",
    "        out_temps[dix].append(avgs.temp_out)\n",
    "        out_temps_adj[dix].append(temp_out_adj)\n",
    "        cops[dix].append(cop)\n",
    "        delta_ts[dix].append(delta_t)\n",
    "        cycle_rates[dix].append(cyc_per_hour)\n",
    "        dates[dix].append(dt1)\n",
    "        dt_short = str(dt1)[:10]\n",
    "        short_dates[dix].append(dt_short)\n",
    "        #print(f\"{dt_short} {temp_out_adj:.2f} F, {cyc_per_hour:.1f} cycles/hr, COP = {cop:.2f}\")\n",
    "\n",
    "df_results = pd.DataFrame(\n",
    "    {\n",
    "      'Date': short_dates[0] + short_dates[1],\n",
    "      'Adj Outdoor Temp': out_temps_adj[0] + out_temps_adj[1],\n",
    "      'Cycles/Hour': cycle_rates[0] + cycle_rates[1],\n",
    "      'COP': cops[0] + cops[1],\n",
    "      'Remote Thermostat': len(cops[0]) * [False] + len(cops[1]) * [True]\n",
    "    },\n",
    ")\n",
    "df_results = df_results[['Date', 'Adj Outdoor Temp', 'Cycles/Hour', 'COP', 'Remote Thermostat']]\n",
    "df_results.set_index('Date', inplace=True)\n",
    "pd.options.display.max_rows = 999\n",
    "\n",
    "df_results.head()"
   ]
  },
  {
   "cell_type": "code",
   "execution_count": 12,
   "metadata": {
    "slideshow": {
     "slide_type": "slide"
    }
   },
   "outputs": [
    {
     "data": {
      "image/png": "[encoded data removed]",
      "text/plain": [
       "<matplotlib.figure.Figure at 0x276be48d4e0>"
      ]
     },
     "metadata": {},
     "output_type": "display_data"
    }
   ],
   "source": [
    "# Adjusted outdoor temperature equals to the actual delta-T\n",
    "# with a 70 deg F indoor temperature.\n",
    "sizes = np.array(cycle_rates) * 30\n",
    "scatter(out_temps_adj[0], cops[0], c=\"red\", alpha=0.7)\n",
    "scatter(out_temps_adj[1], cops[1], c=\"blue\", alpha=0.7)\n",
    "xlabel('Adjusted Outdoor Temperature, deg F')\n",
    "ylabel('COP');"
   ]
  },
  {
   "cell_type": "markdown",
   "metadata": {},
   "source": [
    "### Size of Dot indicates Cycle Rate per Hour"
   ]
  },
  {
   "cell_type": "code",
   "execution_count": 13,
   "metadata": {
    "slideshow": {
     "slide_type": "slide"
    }
   },
   "outputs": [
    {
     "data": {
      "image/png": "[encoded data removed]",
      "text/plain": [
       "<matplotlib.figure.Figure at 0x276bbed70f0>"
      ]
     },
     "metadata": {},
     "output_type": "display_data"
    }
   ],
   "source": [
    "# Adjusted outdoor temperature equals to the actual delta-T\n",
    "# with a 70 deg F indoor temperature.\n",
    "sizes = [[], []]\n",
    "sizes[0] = (np.array(cycle_rates[0]) + 0.5) * 30\n",
    "sizes[1] = (np.array(cycle_rates[1]) + 0.5) * 30\n",
    "scatter(out_temps_adj[0], cops[0], s=sizes[0], c=\"red\", alpha=0.7)\n",
    "scatter(out_temps_adj[1], cops[1], s=sizes[1], c=\"blue\", alpha=0.7, label='With Wired Remote')\n",
    "legend(loc='upper left')\n",
    "xlabel('Adjusted Outdoor Temperature, deg F')\n",
    "ylabel('COP');"
   ]
  },
  {
   "cell_type": "code",
   "execution_count": 14,
   "metadata": {
    "slideshow": {
     "slide_type": "slide"
    }
   },
   "outputs": [
    {
     "data": {
      "image/png": "[encoded data removed]",
      "text/plain": [
       "<matplotlib.figure.Figure at 0x276becfda20>"
      ]
     },
     "metadata": {},
     "output_type": "display_data"
    }
   ],
   "source": [
    "# COP from specs.  See \"Dropbox/Heat_Pump/models/hp_model.ipynb\"\n",
    "# NOTE:  THIS INCLUDES a 5% reduction in the COP to account for defrost\n",
    "# at temperatures below 37 deg F.\n",
    "specs = [\n",
    "    (10, 3.406),\n",
    "    (11, 3.436),\n",
    "    (12, 3.468),\n",
    "    (13, 3.499),\n",
    "    (14, 3.531),\n",
    "    (15, 3.564),\n",
    "    (16, 3.597),\n",
    "    (17, 3.630),\n",
    "    (18, 3.685),\n",
    "    (19, 3.740),\n",
    "    (20, 3.794),\n",
    "    (21, 3.848),\n",
    "    (22, 3.902),\n",
    "    (23, 3.955),\n",
    "    (24, 4.008),\n",
    "    (25, 4.060),\n",
    "    (26, 4.112),\n",
    "    (27, 4.164),\n",
    "    (28, 4.215),\n",
    "    (29, 4.266),\n",
    "    (30, 4.317),\n",
    "    (31, 4.367),\n",
    "    (32, 4.416),\n",
    "    (33, 4.465),\n",
    "    (34, 4.514),\n",
    "    (35, 4.563),\n",
    "    (36, 4.611),        # about 213 W input\n",
    "]\n",
    "temp_sp, cop_sp = zip(*specs)\n",
    "figure(figsize=(9,7))\n",
    "plot(temp_sp, cop_sp, 'g--', label='Manufacturer Specs')\n",
    "plot(35.0, 3.93, 'b*', markersize=15, color='green', label='HSPF Rating')\n",
    "scatter(out_temps_adj[0], cops[0], color='red', s=sizes[0], alpha=0.7, label='Measured Values')\n",
    "scatter(out_temps_adj[1], cops[1], alpha=0.7, color='blue', s=sizes[1], label='Measured Values\\nw/ Wired Remote')\n",
    "legend(loc='upper left')\n",
    "ylim(1.7, 4.7)\n",
    "\n",
    "xlabel('Adjusted Outdoor Temperature, deg F')\n",
    "ylabel('COP')\n",
    "tight_layout();"
   ]
  },
  {
   "cell_type": "markdown",
   "metadata": {},
   "source": [
    "## Binned COP and Outdoor Temperature using Altair"
   ]
  },
  {
   "cell_type": "code",
   "execution_count": 15,
   "metadata": {},
   "outputs": [],
   "source": [
    "import altair as alt"
   ]
  },
  {
   "cell_type": "code",
   "execution_count": 30,
   "metadata": {},
   "outputs": [
    {
     "data": {
      "application/vnd.vegalite.v2+json": {
       "$schema": "https://vega.github.io/schema/vega-lite/v2.4.3.json",
       "config": {
        "view": {
         "height": 300,
         "width": 400
        }
       },
       "data": {
        "values": [
         {
          "Adj Outdoor Temp": 16.954373737373828,
          "COP": 2.225036925925578,
          "Cycles/Hour": 0.30349013657056145,
          "Remote Thermostat": false
         },
         {
          "Adj Outdoor Temp": 12.798682586557767,
          "COP": 1.9878295897607443,
          "Cycles/Hour": 0.24365894515981656,
          "Remote Thermostat": false
         },
         {
          "Adj Outdoor Temp": 15.606876632652906,
          "COP": 2.083569927880954,
          "Cycles/Hour": 0.30654995061139684,
          "Remote Thermostat": false
         },
         {
          "Adj Outdoor Temp": 26.07776579123076,
          "COP": 2.5868560043543614,
          "Cycles/Hour": 0.24614122352699858,
          "Remote Thermostat": false
         },
         {
          "Adj Outdoor Temp": 14.24963195876279,
          "COP": 2.2312140393135054,
          "Cycles/Hour": 0.18565952106719844,
          "Remote Thermostat": false
         },
         {
          "Adj Outdoor Temp": 15.420532640332823,
          "COP": 2.216977747025745,
          "Cycles/Hour": 0.3113648157758173,
          "Remote Thermostat": false
         },
         {
          "Adj Outdoor Temp": 12.358117652775015,
          "COP": 2.1728545076492196,
          "Cycles/Hour": 0.31315240083507306,
          "Remote Thermostat": false
         },
         {
          "Adj Outdoor Temp": 19.53126357507059,
          "COP": 2.27027741156383,
          "Cycles/Hour": 0.31461931063413273,
          "Remote Thermostat": false
         },
         {
          "Adj Outdoor Temp": 13.71517426160328,
          "COP": 2.322341786278019,
          "Cycles/Hour": 0.2531645569620253,
          "Remote Thermostat": false
         },
         {
          "Adj Outdoor Temp": 9.323180679405695,
          "COP": 2.2032414599781482,
          "Cycles/Hour": 0.2543540467022291,
          "Remote Thermostat": false
         },
         {
          "Adj Outdoor Temp": 11.405011513859499,
          "COP": 2.2008414937430754,
          "Cycles/Hour": 0.31982942430703626,
          "Remote Thermostat": false
         },
         {
          "Adj Outdoor Temp": 11.954945710000402,
          "COP": 2.293126864868536,
          "Cycles/Hour": 0.2572760894034411,
          "Remote Thermostat": false
         },
         {
          "Adj Outdoor Temp": 11.245885061815677,
          "COP": 2.2635976575869314,
          "Cycles/Hour": 0.2587787082629479,
          "Remote Thermostat": false
         },
         {
          "Adj Outdoor Temp": 27.865584864544914,
          "COP": 2.5438604732187526,
          "Cycles/Hour": 0.39065325906098536,
          "Remote Thermostat": false
         },
         {
          "Adj Outdoor Temp": 26.44966015283852,
          "COP": 2.7717008442971127,
          "Cycles/Hour": 0.7872293898972228,
          "Remote Thermostat": false
         },
         {
          "Adj Outdoor Temp": 17.912796278364077,
          "COP": 2.5123818696805253,
          "Cycles/Hour": 0.2634515816242522,
          "Remote Thermostat": false
         },
         {
          "Adj Outdoor Temp": 17.013037637968864,
          "COP": 2.3985664425787006,
          "Cycles/Hour": 0.3316138540899042,
          "Remote Thermostat": false
         },
         {
          "Adj Outdoor Temp": 26.02185044543434,
          "COP": 2.7763613394103177,
          "Cycles/Hour": 1.0010937876568844,
          "Remote Thermostat": false
         },
         {
          "Adj Outdoor Temp": 28.305716406250028,
          "COP": 2.513475523836806,
          "Cycles/Hour": 1.7449013832444726,
          "Remote Thermostat": false
         },
         {
          "Adj Outdoor Temp": 27.486737790583348,
          "COP": 2.7641853871907975,
          "Cycles/Hour": 3.329094902323431,
          "Remote Thermostat": false
         },
         {
          "Adj Outdoor Temp": 28.973889907192778,
          "COP": 2.8403170030347753,
          "Cycles/Hour": 1.882553455221568,
          "Remote Thermostat": false
         },
         {
          "Adj Outdoor Temp": 25.245508920188016,
          "COP": 2.888001452628946,
          "Cycles/Hour": 1.6168085604936344,
          "Remote Thermostat": false
         },
         {
          "Adj Outdoor Temp": 28.33453246296454,
          "COP": 2.7491973755921397,
          "Cycles/Hour": 3.1317964332318398,
          "Remote Thermostat": false
         },
         {
          "Adj Outdoor Temp": 28.350019343065966,
          "COP": 2.8520208965818825,
          "Cycles/Hour": 2.9249862891267697,
          "Remote Thermostat": false
         },
         {
          "Adj Outdoor Temp": 30.87098848039227,
          "COP": 2.7008319529636373,
          "Cycles/Hour": 2.3569850233243312,
          "Remote Thermostat": false
         },
         {
          "Adj Outdoor Temp": 30.0259882233225,
          "COP": 2.639144797740541,
          "Cycles/Hour": 4.010066421882091,
          "Remote Thermostat": false
         },
         {
          "Adj Outdoor Temp": 25.67530233871055,
          "COP": 2.7700317392929987,
          "Cycles/Hour": 1.9446926097525503,
          "Remote Thermostat": false
         },
         {
          "Adj Outdoor Temp": 22.281209774435993,
          "COP": 2.5602214156524155,
          "Cycles/Hour": 0.301255230125523,
          "Remote Thermostat": false
         },
         {
          "Adj Outdoor Temp": 24.628338005050495,
          "COP": 2.415285396720515,
          "Cycles/Hour": 0.3035861109354247,
          "Remote Thermostat": false
         },
         {
          "Adj Outdoor Temp": 19.068156870228925,
          "COP": 2.713069629068522,
          "Cycles/Hour": 0.3059338418067093,
          "Remote Thermostat": false
         },
         {
          "Adj Outdoor Temp": 24.701167402597605,
          "COP": 2.877163337095526,
          "Cycles/Hour": 2.3423775131758737,
          "Remote Thermostat": false
         },
         {
          "Adj Outdoor Temp": 26.002483638743456,
          "COP": 2.9658997498145694,
          "Cycles/Hour": 1.7323213543603315,
          "Remote Thermostat": false
         },
         {
          "Adj Outdoor Temp": 25.89545461741409,
          "COP": 2.7128776776906736,
          "Cycles/Hour": 1.824069790496332,
          "Remote Thermostat": false
         },
         {
          "Adj Outdoor Temp": 27.321712765957557,
          "COP": 2.7535901381226995,
          "Cycles/Hour": 3.9922815889280727,
          "Remote Thermostat": false
         },
         {
          "Adj Outdoor Temp": 25.788076339448416,
          "COP": 2.873477944927349,
          "Cycles/Hour": 0.2758127537860408,
          "Remote Thermostat": false
         },
         {
          "Adj Outdoor Temp": 26.52453344709894,
          "COP": 2.6242602822615635,
          "Cycles/Hour": 4.931084667408612,
          "Remote Thermostat": false
         },
         {
          "Adj Outdoor Temp": 38.098546664739,
          "COP": 2.770874405704038,
          "Cycles/Hour": 2.55578093306288,
          "Remote Thermostat": true
         },
         {
          "Adj Outdoor Temp": 39.96034057377068,
          "COP": 2.784235092646947,
          "Cycles/Hour": 2.463559843974543,
          "Remote Thermostat": true
         },
         {
          "Adj Outdoor Temp": 40.89726784232377,
          "COP": 2.7976886849280036,
          "Cycles/Hour": 2.493592851700492,
          "Remote Thermostat": true
         },
         {
          "Adj Outdoor Temp": 36.44280624999995,
          "COP": 2.924256163420394,
          "Cycles/Hour": 3.3620689655172415,
          "Remote Thermostat": true
         },
         {
          "Adj Outdoor Temp": 38.39043656387663,
          "COP": 2.898030298181671,
          "Cycles/Hour": 3.5760273720613664,
          "Remote Thermostat": true
         },
         {
          "Adj Outdoor Temp": 42.628932667658795,
          "COP": 2.67819908917479,
          "Cycles/Hour": 3.8836396101480544,
          "Remote Thermostat": true
         },
         {
          "Adj Outdoor Temp": 41.49707285067863,
          "COP": 2.8628441539725222,
          "Cycles/Hour": 4.0723981900452495,
          "Remote Thermostat": true
         },
         {
          "Adj Outdoor Temp": 34.99415825688074,
          "COP": 3.103081784106833,
          "Cycles/Hour": 3.5779816513761467,
          "Remote Thermostat": true
         },
         {
          "Adj Outdoor Temp": 39.6487266203703,
          "COP": 2.9089920676658583,
          "Cycles/Hour": 3.7587006960556844,
          "Remote Thermostat": true
         },
         {
          "Adj Outdoor Temp": 41.12536863576275,
          "COP": 2.693256262415769,
          "Cycles/Hour": 3.811465767390793,
          "Remote Thermostat": true
         },
         {
          "Adj Outdoor Temp": 40.750220988490376,
          "COP": 2.585495515671823,
          "Cycles/Hour": 3.57227911407478,
          "Remote Thermostat": true
         },
         {
          "Adj Outdoor Temp": 41.14524134615382,
          "COP": 2.7352001989426737,
          "Cycles/Hour": 3.9031441994940366,
          "Remote Thermostat": true
         },
         {
          "Adj Outdoor Temp": 40.07407219512199,
          "COP": 2.757307097071298,
          "Cycles/Hour": 3.9603960396039604,
          "Remote Thermostat": true
         },
         {
          "Adj Outdoor Temp": 40.49496014851496,
          "COP": 3.01748769942299,
          "Cycles/Hour": 3.869207556529288,
          "Remote Thermostat": true
         },
         {
          "Adj Outdoor Temp": 43.353861499999965,
          "COP": 2.7959791305140254,
          "Cycles/Hour": 4.219338635412306,
          "Remote Thermostat": true
         },
         {
          "Adj Outdoor Temp": 46.65584746192881,
          "COP": 2.605530634970577,
          "Cycles/Hour": 4.273359335255215,
          "Remote Thermostat": true
         },
         {
          "Adj Outdoor Temp": 42.914453092783596,
          "COP": 2.816504258164943,
          "Cycles/Hour": 4.185866241763921,
          "Remote Thermostat": true
         },
         {
          "Adj Outdoor Temp": 44.21173046875005,
          "COP": 2.685241542931125,
          "Cycles/Hour": 4.396563004318053,
          "Remote Thermostat": true
         },
         {
          "Adj Outdoor Temp": 39.56843138297871,
          "COP": 2.766391123364232,
          "Cycles/Hour": 4.468085106382979,
          "Remote Thermostat": true
         },
         {
          "Adj Outdoor Temp": 44.32794516129039,
          "COP": 2.6434447223001345,
          "Cycles/Hour": 4.354838709677419,
          "Remote Thermostat": true
         },
         {
          "Adj Outdoor Temp": 43.47646548913031,
          "COP": 3.1366641146002747,
          "Cycles/Hour": 4.752367079388201,
          "Remote Thermostat": true
         },
         {
          "Adj Outdoor Temp": 42.49981657458576,
          "COP": 2.75638783031616,
          "Cycles/Hour": 4.321329639889197,
          "Remote Thermostat": true
         },
         {
          "Adj Outdoor Temp": 44.96019628401503,
          "COP": 2.7376404215182966,
          "Cycles/Hour": 4.546304957904583,
          "Remote Thermostat": true
         },
         {
          "Adj Outdoor Temp": 46.23234374999996,
          "COP": 2.9585240308231984,
          "Cycles/Hour": 4.786324786324786,
          "Remote Thermostat": true
         },
         {
          "Adj Outdoor Temp": 45.82697923976599,
          "COP": 2.8285211678666213,
          "Cycles/Hour": 4.572545188080118,
          "Remote Thermostat": true
         },
         {
          "Adj Outdoor Temp": 47.86520775402041,
          "COP": 2.658227242691549,
          "Cycles/Hour": 4.627020613970043,
          "Remote Thermostat": true
         },
         {
          "Adj Outdoor Temp": 46.399598789769875,
          "COP": 2.8508222477935785,
          "Cycles/Hour": 4.518525956421327,
          "Remote Thermostat": true
         },
         {
          "Adj Outdoor Temp": 43.57196018518505,
          "COP": 3.08333873819782,
          "Cycles/Hour": 4.654289703676889,
          "Remote Thermostat": true
         },
         {
          "Adj Outdoor Temp": 45.62256374999988,
          "COP": 2.995381060234686,
          "Cycles/Hour": 4.711548528949848,
          "Remote Thermostat": true
         },
         {
          "Adj Outdoor Temp": 46.03905127388529,
          "COP": 2.9290732386892064,
          "Cycles/Hour": 4.777070063694268,
          "Remote Thermostat": true
         },
         {
          "Adj Outdoor Temp": 47.82749530201344,
          "COP": 2.8176242818803128,
          "Cycles/Hour": 4.847396768402154,
          "Remote Thermostat": true
         },
         {
          "Adj Outdoor Temp": 46.565717647058804,
          "COP": 3.2780173624487983,
          "Cycles/Hour": 4.852941176470587,
          "Remote Thermostat": true
         },
         {
          "Adj Outdoor Temp": 44.207330555555465,
          "COP": 3.0741722403917846,
          "Cycles/Hour": 4.177109440267335,
          "Remote Thermostat": true
         }
        ]
       },
       "encoding": {
        "x": {
         "field": "Adj Outdoor Temp",
         "type": "quantitative"
        },
        "y": {
         "field": "COP",
         "type": "quantitative"
        }
       },
       "mark": "point"
      },
      "image/png": "[encoded data removed]",
      "text/plain": [
       "<VegaLite 2 object>\n",
       "\n",
       "If you see this message, it means the renderer has not been properly enabled\n",
       "for the frontend that you are using. For more information, see\n",
       "https://altair-viz.github.io/user_guide/troubleshooting.html\n"
      ]
     },
     "execution_count": 30,
     "metadata": {},
     "output_type": "execute_result"
    }
   ],
   "source": [
    "# Make a graph that includes points 31 F or below and those\n",
    "# points where the remote thermostat was being used.\n",
    "dfb = df_results[(df_results['Adj Outdoor Temp'] <= 31.0) | (df_results['Remote Thermostat'] == True)]\n",
    "alt.Chart(dfb).mark_point().encode(\n",
    "    x = 'Adj Outdoor Temp',\n",
    "    y = 'COP'\n",
    ")"
   ]
  },
  {
   "cell_type": "code",
   "execution_count": 31,
   "metadata": {},
   "outputs": [
    {
     "data": {
      "application/vnd.vegalite.v2+json": {
       "$schema": "https://vega.github.io/schema/vega-lite/v2.4.3.json",
       "config": {
        "view": {
         "height": 300,
         "width": 400
        }
       },
       "data": {
        "values": [
         {
          "Adj Outdoor Temp": 16.954373737373828,
          "COP": 2.225036925925578,
          "Cycles/Hour": 0.30349013657056145,
          "Remote Thermostat": false
         },
         {
          "Adj Outdoor Temp": 12.798682586557767,
          "COP": 1.9878295897607443,
          "Cycles/Hour": 0.24365894515981656,
          "Remote Thermostat": false
         },
         {
          "Adj Outdoor Temp": 15.606876632652906,
          "COP": 2.083569927880954,
          "Cycles/Hour": 0.30654995061139684,
          "Remote Thermostat": false
         },
         {
          "Adj Outdoor Temp": 26.07776579123076,
          "COP": 2.5868560043543614,
          "Cycles/Hour": 0.24614122352699858,
          "Remote Thermostat": false
         },
         {
          "Adj Outdoor Temp": 14.24963195876279,
          "COP": 2.2312140393135054,
          "Cycles/Hour": 0.18565952106719844,
          "Remote Thermostat": false
         },
         {
          "Adj Outdoor Temp": 15.420532640332823,
          "COP": 2.216977747025745,
          "Cycles/Hour": 0.3113648157758173,
          "Remote Thermostat": false
         },
         {
          "Adj Outdoor Temp": 12.358117652775015,
          "COP": 2.1728545076492196,
          "Cycles/Hour": 0.31315240083507306,
          "Remote Thermostat": false
         },
         {
          "Adj Outdoor Temp": 19.53126357507059,
          "COP": 2.27027741156383,
          "Cycles/Hour": 0.31461931063413273,
          "Remote Thermostat": false
         },
         {
          "Adj Outdoor Temp": 13.71517426160328,
          "COP": 2.322341786278019,
          "Cycles/Hour": 0.2531645569620253,
          "Remote Thermostat": false
         },
         {
          "Adj Outdoor Temp": 9.323180679405695,
          "COP": 2.2032414599781482,
          "Cycles/Hour": 0.2543540467022291,
          "Remote Thermostat": false
         },
         {
          "Adj Outdoor Temp": 11.405011513859499,
          "COP": 2.2008414937430754,
          "Cycles/Hour": 0.31982942430703626,
          "Remote Thermostat": false
         },
         {
          "Adj Outdoor Temp": 11.954945710000402,
          "COP": 2.293126864868536,
          "Cycles/Hour": 0.2572760894034411,
          "Remote Thermostat": false
         },
         {
          "Adj Outdoor Temp": 11.245885061815677,
          "COP": 2.2635976575869314,
          "Cycles/Hour": 0.2587787082629479,
          "Remote Thermostat": false
         },
         {
          "Adj Outdoor Temp": 27.865584864544914,
          "COP": 2.5438604732187526,
          "Cycles/Hour": 0.39065325906098536,
          "Remote Thermostat": false
         },
         {
          "Adj Outdoor Temp": 26.44966015283852,
          "COP": 2.7717008442971127,
          "Cycles/Hour": 0.7872293898972228,
          "Remote Thermostat": false
         },
         {
          "Adj Outdoor Temp": 17.912796278364077,
          "COP": 2.5123818696805253,
          "Cycles/Hour": 0.2634515816242522,
          "Remote Thermostat": false
         },
         {
          "Adj Outdoor Temp": 17.013037637968864,
          "COP": 2.3985664425787006,
          "Cycles/Hour": 0.3316138540899042,
          "Remote Thermostat": false
         },
         {
          "Adj Outdoor Temp": 26.02185044543434,
          "COP": 2.7763613394103177,
          "Cycles/Hour": 1.0010937876568844,
          "Remote Thermostat": false
         },
         {
          "Adj Outdoor Temp": 28.305716406250028,
          "COP": 2.513475523836806,
          "Cycles/Hour": 1.7449013832444726,
          "Remote Thermostat": false
         },
         {
          "Adj Outdoor Temp": 27.486737790583348,
          "COP": 2.7641853871907975,
          "Cycles/Hour": 3.329094902323431,
          "Remote Thermostat": false
         },
         {
          "Adj Outdoor Temp": 28.973889907192778,
          "COP": 2.8403170030347753,
          "Cycles/Hour": 1.882553455221568,
          "Remote Thermostat": false
         },
         {
          "Adj Outdoor Temp": 25.245508920188016,
          "COP": 2.888001452628946,
          "Cycles/Hour": 1.6168085604936344,
          "Remote Thermostat": false
         },
         {
          "Adj Outdoor Temp": 28.33453246296454,
          "COP": 2.7491973755921397,
          "Cycles/Hour": 3.1317964332318398,
          "Remote Thermostat": false
         },
         {
          "Adj Outdoor Temp": 28.350019343065966,
          "COP": 2.8520208965818825,
          "Cycles/Hour": 2.9249862891267697,
          "Remote Thermostat": false
         },
         {
          "Adj Outdoor Temp": 30.87098848039227,
          "COP": 2.7008319529636373,
          "Cycles/Hour": 2.3569850233243312,
          "Remote Thermostat": false
         },
         {
          "Adj Outdoor Temp": 30.0259882233225,
          "COP": 2.639144797740541,
          "Cycles/Hour": 4.010066421882091,
          "Remote Thermostat": false
         },
         {
          "Adj Outdoor Temp": 25.67530233871055,
          "COP": 2.7700317392929987,
          "Cycles/Hour": 1.9446926097525503,
          "Remote Thermostat": false
         },
         {
          "Adj Outdoor Temp": 22.281209774435993,
          "COP": 2.5602214156524155,
          "Cycles/Hour": 0.301255230125523,
          "Remote Thermostat": false
         },
         {
          "Adj Outdoor Temp": 24.628338005050495,
          "COP": 2.415285396720515,
          "Cycles/Hour": 0.3035861109354247,
          "Remote Thermostat": false
         },
         {
          "Adj Outdoor Temp": 19.068156870228925,
          "COP": 2.713069629068522,
          "Cycles/Hour": 0.3059338418067093,
          "Remote Thermostat": false
         },
         {
          "Adj Outdoor Temp": 24.701167402597605,
          "COP": 2.877163337095526,
          "Cycles/Hour": 2.3423775131758737,
          "Remote Thermostat": false
         },
         {
          "Adj Outdoor Temp": 26.002483638743456,
          "COP": 2.9658997498145694,
          "Cycles/Hour": 1.7323213543603315,
          "Remote Thermostat": false
         },
         {
          "Adj Outdoor Temp": 25.89545461741409,
          "COP": 2.7128776776906736,
          "Cycles/Hour": 1.824069790496332,
          "Remote Thermostat": false
         },
         {
          "Adj Outdoor Temp": 27.321712765957557,
          "COP": 2.7535901381226995,
          "Cycles/Hour": 3.9922815889280727,
          "Remote Thermostat": false
         },
         {
          "Adj Outdoor Temp": 25.788076339448416,
          "COP": 2.873477944927349,
          "Cycles/Hour": 0.2758127537860408,
          "Remote Thermostat": false
         },
         {
          "Adj Outdoor Temp": 26.52453344709894,
          "COP": 2.6242602822615635,
          "Cycles/Hour": 4.931084667408612,
          "Remote Thermostat": false
         },
         {
          "Adj Outdoor Temp": 38.098546664739,
          "COP": 2.770874405704038,
          "Cycles/Hour": 2.55578093306288,
          "Remote Thermostat": true
         },
         {
          "Adj Outdoor Temp": 39.96034057377068,
          "COP": 2.784235092646947,
          "Cycles/Hour": 2.463559843974543,
          "Remote Thermostat": true
         },
         {
          "Adj Outdoor Temp": 40.89726784232377,
          "COP": 2.7976886849280036,
          "Cycles/Hour": 2.493592851700492,
          "Remote Thermostat": true
         },
         {
          "Adj Outdoor Temp": 36.44280624999995,
          "COP": 2.924256163420394,
          "Cycles/Hour": 3.3620689655172415,
          "Remote Thermostat": true
         },
         {
          "Adj Outdoor Temp": 38.39043656387663,
          "COP": 2.898030298181671,
          "Cycles/Hour": 3.5760273720613664,
          "Remote Thermostat": true
         },
         {
          "Adj Outdoor Temp": 42.628932667658795,
          "COP": 2.67819908917479,
          "Cycles/Hour": 3.8836396101480544,
          "Remote Thermostat": true
         },
         {
          "Adj Outdoor Temp": 41.49707285067863,
          "COP": 2.8628441539725222,
          "Cycles/Hour": 4.0723981900452495,
          "Remote Thermostat": true
         },
         {
          "Adj Outdoor Temp": 34.99415825688074,
          "COP": 3.103081784106833,
          "Cycles/Hour": 3.5779816513761467,
          "Remote Thermostat": true
         },
         {
          "Adj Outdoor Temp": 39.6487266203703,
          "COP": 2.9089920676658583,
          "Cycles/Hour": 3.7587006960556844,
          "Remote Thermostat": true
         },
         {
          "Adj Outdoor Temp": 41.12536863576275,
          "COP": 2.693256262415769,
          "Cycles/Hour": 3.811465767390793,
          "Remote Thermostat": true
         },
         {
          "Adj Outdoor Temp": 40.750220988490376,
          "COP": 2.585495515671823,
          "Cycles/Hour": 3.57227911407478,
          "Remote Thermostat": true
         },
         {
          "Adj Outdoor Temp": 41.14524134615382,
          "COP": 2.7352001989426737,
          "Cycles/Hour": 3.9031441994940366,
          "Remote Thermostat": true
         },
         {
          "Adj Outdoor Temp": 40.07407219512199,
          "COP": 2.757307097071298,
          "Cycles/Hour": 3.9603960396039604,
          "Remote Thermostat": true
         },
         {
          "Adj Outdoor Temp": 40.49496014851496,
          "COP": 3.01748769942299,
          "Cycles/Hour": 3.869207556529288,
          "Remote Thermostat": true
         },
         {
          "Adj Outdoor Temp": 43.353861499999965,
          "COP": 2.7959791305140254,
          "Cycles/Hour": 4.219338635412306,
          "Remote Thermostat": true
         },
         {
          "Adj Outdoor Temp": 46.65584746192881,
          "COP": 2.605530634970577,
          "Cycles/Hour": 4.273359335255215,
          "Remote Thermostat": true
         },
         {
          "Adj Outdoor Temp": 42.914453092783596,
          "COP": 2.816504258164943,
          "Cycles/Hour": 4.185866241763921,
          "Remote Thermostat": true
         },
         {
          "Adj Outdoor Temp": 44.21173046875005,
          "COP": 2.685241542931125,
          "Cycles/Hour": 4.396563004318053,
          "Remote Thermostat": true
         },
         {
          "Adj Outdoor Temp": 39.56843138297871,
          "COP": 2.766391123364232,
          "Cycles/Hour": 4.468085106382979,
          "Remote Thermostat": true
         },
         {
          "Adj Outdoor Temp": 44.32794516129039,
          "COP": 2.6434447223001345,
          "Cycles/Hour": 4.354838709677419,
          "Remote Thermostat": true
         },
         {
          "Adj Outdoor Temp": 43.47646548913031,
          "COP": 3.1366641146002747,
          "Cycles/Hour": 4.752367079388201,
          "Remote Thermostat": true
         },
         {
          "Adj Outdoor Temp": 42.49981657458576,
          "COP": 2.75638783031616,
          "Cycles/Hour": 4.321329639889197,
          "Remote Thermostat": true
         },
         {
          "Adj Outdoor Temp": 44.96019628401503,
          "COP": 2.7376404215182966,
          "Cycles/Hour": 4.546304957904583,
          "Remote Thermostat": true
         },
         {
          "Adj Outdoor Temp": 46.23234374999996,
          "COP": 2.9585240308231984,
          "Cycles/Hour": 4.786324786324786,
          "Remote Thermostat": true
         },
         {
          "Adj Outdoor Temp": 45.82697923976599,
          "COP": 2.8285211678666213,
          "Cycles/Hour": 4.572545188080118,
          "Remote Thermostat": true
         },
         {
          "Adj Outdoor Temp": 47.86520775402041,
          "COP": 2.658227242691549,
          "Cycles/Hour": 4.627020613970043,
          "Remote Thermostat": true
         },
         {
          "Adj Outdoor Temp": 46.399598789769875,
          "COP": 2.8508222477935785,
          "Cycles/Hour": 4.518525956421327,
          "Remote Thermostat": true
         },
         {
          "Adj Outdoor Temp": 43.57196018518505,
          "COP": 3.08333873819782,
          "Cycles/Hour": 4.654289703676889,
          "Remote Thermostat": true
         },
         {
          "Adj Outdoor Temp": 45.62256374999988,
          "COP": 2.995381060234686,
          "Cycles/Hour": 4.711548528949848,
          "Remote Thermostat": true
         },
         {
          "Adj Outdoor Temp": 46.03905127388529,
          "COP": 2.9290732386892064,
          "Cycles/Hour": 4.777070063694268,
          "Remote Thermostat": true
         },
         {
          "Adj Outdoor Temp": 47.82749530201344,
          "COP": 2.8176242818803128,
          "Cycles/Hour": 4.847396768402154,
          "Remote Thermostat": true
         },
         {
          "Adj Outdoor Temp": 46.565717647058804,
          "COP": 3.2780173624487983,
          "Cycles/Hour": 4.852941176470587,
          "Remote Thermostat": true
         },
         {
          "Adj Outdoor Temp": 44.207330555555465,
          "COP": 3.0741722403917846,
          "Cycles/Hour": 4.177109440267335,
          "Remote Thermostat": true
         }
        ]
       },
       "encoding": {
        "x": {
         "axis": {
          "title": "Outdoor Temperature"
         },
         "bin": {
          "maxbins": 10
         },
         "field": "Adj Outdoor Temp",
         "type": "quantitative"
        },
        "y": {
         "aggregate": "mean",
         "axis": {
          "title": "COP"
         },
         "field": "COP",
         "type": "quantitative"
        }
       },
       "mark": {
        "point": true,
        "type": "line"
       }
      },
      "image/png": "[encoded data removed]",
      "text/plain": [
       "<VegaLite 2 object>\n",
       "\n",
       "If you see this message, it means the renderer has not been properly enabled\n",
       "for the frontend that you are using. For more information, see\n",
       "https://altair-viz.github.io/user_guide/troubleshooting.html\n"
      ]
     },
     "execution_count": 31,
     "metadata": {},
     "output_type": "execute_result"
    }
   ],
   "source": [
    "line = alt.Chart(dfb).mark_line(point=True).encode(\n",
    "    x = alt.X('Adj Outdoor Temp', bin=alt.Bin(maxbins=10), axis=alt.Axis(title='Outdoor Temperature')),\n",
    "    y = alt.Y('mean(COP)', axis=alt.Axis(title='COP')),\n",
    ")\n",
    "\n",
    "#middle_50 = alt.Chart(dfb).mark_area(opacity=0.3).encode(\n",
    "#    x = alt.X('Adj Outdoor Temp', bin=alt.Bin(maxbins=10)),\n",
    "#    y=alt.Y('q1(COP)', axis=alt.Axis(title='COP')),\n",
    "#    y2='q3(COP)'\n",
    "#)\n",
    "\n",
    "line"
   ]
  },
  {
   "cell_type": "code",
   "execution_count": 32,
   "metadata": {},
   "outputs": [
    {
     "data": {
      "application/vnd.vegalite.v2+json": {
       "$schema": "https://vega.github.io/schema/vega-lite/v2.4.3.json",
       "config": {
        "view": {
         "height": 300,
         "width": 400
        }
       },
       "data": {
        "values": [
         {
          "Adj Outdoor Temp": 16.954373737373828,
          "COP": 2.225036925925578,
          "Cycles/Hour": 0.30349013657056145,
          "Remote Thermostat": false
         },
         {
          "Adj Outdoor Temp": 12.798682586557767,
          "COP": 1.9878295897607443,
          "Cycles/Hour": 0.24365894515981656,
          "Remote Thermostat": false
         },
         {
          "Adj Outdoor Temp": 15.606876632652906,
          "COP": 2.083569927880954,
          "Cycles/Hour": 0.30654995061139684,
          "Remote Thermostat": false
         },
         {
          "Adj Outdoor Temp": 26.07776579123076,
          "COP": 2.5868560043543614,
          "Cycles/Hour": 0.24614122352699858,
          "Remote Thermostat": false
         },
         {
          "Adj Outdoor Temp": 14.24963195876279,
          "COP": 2.2312140393135054,
          "Cycles/Hour": 0.18565952106719844,
          "Remote Thermostat": false
         },
         {
          "Adj Outdoor Temp": 15.420532640332823,
          "COP": 2.216977747025745,
          "Cycles/Hour": 0.3113648157758173,
          "Remote Thermostat": false
         },
         {
          "Adj Outdoor Temp": 12.358117652775015,
          "COP": 2.1728545076492196,
          "Cycles/Hour": 0.31315240083507306,
          "Remote Thermostat": false
         },
         {
          "Adj Outdoor Temp": 19.53126357507059,
          "COP": 2.27027741156383,
          "Cycles/Hour": 0.31461931063413273,
          "Remote Thermostat": false
         },
         {
          "Adj Outdoor Temp": 13.71517426160328,
          "COP": 2.322341786278019,
          "Cycles/Hour": 0.2531645569620253,
          "Remote Thermostat": false
         },
         {
          "Adj Outdoor Temp": 9.323180679405695,
          "COP": 2.2032414599781482,
          "Cycles/Hour": 0.2543540467022291,
          "Remote Thermostat": false
         },
         {
          "Adj Outdoor Temp": 11.405011513859499,
          "COP": 2.2008414937430754,
          "Cycles/Hour": 0.31982942430703626,
          "Remote Thermostat": false
         },
         {
          "Adj Outdoor Temp": 11.954945710000402,
          "COP": 2.293126864868536,
          "Cycles/Hour": 0.2572760894034411,
          "Remote Thermostat": false
         },
         {
          "Adj Outdoor Temp": 11.245885061815677,
          "COP": 2.2635976575869314,
          "Cycles/Hour": 0.2587787082629479,
          "Remote Thermostat": false
         },
         {
          "Adj Outdoor Temp": 27.865584864544914,
          "COP": 2.5438604732187526,
          "Cycles/Hour": 0.39065325906098536,
          "Remote Thermostat": false
         },
         {
          "Adj Outdoor Temp": 26.44966015283852,
          "COP": 2.7717008442971127,
          "Cycles/Hour": 0.7872293898972228,
          "Remote Thermostat": false
         },
         {
          "Adj Outdoor Temp": 17.912796278364077,
          "COP": 2.5123818696805253,
          "Cycles/Hour": 0.2634515816242522,
          "Remote Thermostat": false
         },
         {
          "Adj Outdoor Temp": 17.013037637968864,
          "COP": 2.3985664425787006,
          "Cycles/Hour": 0.3316138540899042,
          "Remote Thermostat": false
         },
         {
          "Adj Outdoor Temp": 26.02185044543434,
          "COP": 2.7763613394103177,
          "Cycles/Hour": 1.0010937876568844,
          "Remote Thermostat": false
         },
         {
          "Adj Outdoor Temp": 28.305716406250028,
          "COP": 2.513475523836806,
          "Cycles/Hour": 1.7449013832444726,
          "Remote Thermostat": false
         },
         {
          "Adj Outdoor Temp": 36.26267171843547,
          "COP": 2.0943676297744065,
          "Cycles/Hour": 8.315336801186833,
          "Remote Thermostat": false
         },
         {
          "Adj Outdoor Temp": 39.283457307336306,
          "COP": 2.2384237887072627,
          "Cycles/Hour": 6.326530612244898,
          "Remote Thermostat": false
         },
         {
          "Adj Outdoor Temp": 35.096042200698164,
          "COP": 2.360572434568375,
          "Cycles/Hour": 7.385457032140415,
          "Remote Thermostat": false
         },
         {
          "Adj Outdoor Temp": 35.487245106379696,
          "COP": 2.1911250168617755,
          "Cycles/Hour": 7.099640039825381,
          "Remote Thermostat": false
         },
         {
          "Adj Outdoor Temp": 27.486737790583348,
          "COP": 2.7641853871907975,
          "Cycles/Hour": 3.329094902323431,
          "Remote Thermostat": false
         },
         {
          "Adj Outdoor Temp": 28.973889907192778,
          "COP": 2.8403170030347753,
          "Cycles/Hour": 1.882553455221568,
          "Remote Thermostat": false
         },
         {
          "Adj Outdoor Temp": 25.245508920188016,
          "COP": 2.888001452628946,
          "Cycles/Hour": 1.6168085604936344,
          "Remote Thermostat": false
         },
         {
          "Adj Outdoor Temp": 33.5714758823531,
          "COP": 2.402131685141186,
          "Cycles/Hour": 5.094139381313628,
          "Remote Thermostat": false
         },
         {
          "Adj Outdoor Temp": 28.33453246296454,
          "COP": 2.7491973755921397,
          "Cycles/Hour": 3.1317964332318398,
          "Remote Thermostat": false
         },
         {
          "Adj Outdoor Temp": 31.672627923627715,
          "COP": 2.648779847895114,
          "Cycles/Hour": 4.662004662004661,
          "Remote Thermostat": false
         },
         {
          "Adj Outdoor Temp": 32.82176055550278,
          "COP": 2.4826093947798555,
          "Cycles/Hour": 5.336538461538462,
          "Remote Thermostat": false
         },
         {
          "Adj Outdoor Temp": 34.25521549636819,
          "COP": 2.4813606346252124,
          "Cycles/Hour": 4.729374671571203,
          "Remote Thermostat": false
         },
         {
          "Adj Outdoor Temp": 28.350019343065966,
          "COP": 2.8520208965818825,
          "Cycles/Hour": 2.9249862891267697,
          "Remote Thermostat": false
         },
         {
          "Adj Outdoor Temp": 30.87098848039227,
          "COP": 2.7008319529636373,
          "Cycles/Hour": 2.3569850233243312,
          "Remote Thermostat": false
         },
         {
          "Adj Outdoor Temp": 30.0259882233225,
          "COP": 2.639144797740541,
          "Cycles/Hour": 4.010066421882091,
          "Remote Thermostat": false
         },
         {
          "Adj Outdoor Temp": 25.67530233871055,
          "COP": 2.7700317392929987,
          "Cycles/Hour": 1.9446926097525503,
          "Remote Thermostat": false
         },
         {
          "Adj Outdoor Temp": 22.281209774435993,
          "COP": 2.5602214156524155,
          "Cycles/Hour": 0.301255230125523,
          "Remote Thermostat": false
         },
         {
          "Adj Outdoor Temp": 24.628338005050495,
          "COP": 2.415285396720515,
          "Cycles/Hour": 0.3035861109354247,
          "Remote Thermostat": false
         },
         {
          "Adj Outdoor Temp": 19.068156870228925,
          "COP": 2.713069629068522,
          "Cycles/Hour": 0.3059338418067093,
          "Remote Thermostat": false
         },
         {
          "Adj Outdoor Temp": 32.33912474358996,
          "COP": 2.577119494526201,
          "Cycles/Hour": 5.471358849216543,
          "Remote Thermostat": false
         },
         {
          "Adj Outdoor Temp": 34.06434613578299,
          "COP": 2.4740762144697155,
          "Cycles/Hour": 5.345039054935124,
          "Remote Thermostat": false
         },
         {
          "Adj Outdoor Temp": 24.701167402597605,
          "COP": 2.877163337095526,
          "Cycles/Hour": 2.3423775131758737,
          "Remote Thermostat": false
         },
         {
          "Adj Outdoor Temp": 26.002483638743456,
          "COP": 2.9658997498145694,
          "Cycles/Hour": 1.7323213543603315,
          "Remote Thermostat": false
         },
         {
          "Adj Outdoor Temp": 25.89545461741409,
          "COP": 2.7128776776906736,
          "Cycles/Hour": 1.824069790496332,
          "Remote Thermostat": false
         },
         {
          "Adj Outdoor Temp": 27.321712765957557,
          "COP": 2.7535901381226995,
          "Cycles/Hour": 3.9922815889280727,
          "Remote Thermostat": false
         },
         {
          "Adj Outdoor Temp": 35.395075335120886,
          "COP": 2.0498964157399095,
          "Cycles/Hour": 6.836461126005362,
          "Remote Thermostat": false
         },
         {
          "Adj Outdoor Temp": 33.521831662134495,
          "COP": 2.227012602018707,
          "Cycles/Hour": 7.53409828967309,
          "Remote Thermostat": false
         },
         {
          "Adj Outdoor Temp": 37.37385863413191,
          "COP": 2.226859104935699,
          "Cycles/Hour": 8.651115372478579,
          "Remote Thermostat": false
         },
         {
          "Adj Outdoor Temp": 35.57605645161307,
          "COP": 2.196285782040617,
          "Cycles/Hour": 8.181818181818182,
          "Remote Thermostat": false
         },
         {
          "Adj Outdoor Temp": 34.50941005917159,
          "COP": 2.196383144965706,
          "Cycles/Hour": 7.455621301775148,
          "Remote Thermostat": false
         },
         {
          "Adj Outdoor Temp": 25.788076339448416,
          "COP": 2.873477944927349,
          "Cycles/Hour": 0.2758127537860408,
          "Remote Thermostat": false
         },
         {
          "Adj Outdoor Temp": 34.92627947530878,
          "COP": 2.424667436997804,
          "Cycles/Hour": 7.784184514003296,
          "Remote Thermostat": false
         },
         {
          "Adj Outdoor Temp": 31.899007320872386,
          "COP": 2.8598286666295505,
          "Cycles/Hour": 2.429906542056075,
          "Remote Thermostat": false
         },
         {
          "Adj Outdoor Temp": 35.89342881355913,
          "COP": 2.04754148892722,
          "Cycles/Hour": 7.541828270531948,
          "Remote Thermostat": false
         },
         {
          "Adj Outdoor Temp": 26.52453344709894,
          "COP": 2.6242602822615635,
          "Cycles/Hour": 4.931084667408612,
          "Remote Thermostat": false
         },
         {
          "Adj Outdoor Temp": 36.02771145099851,
          "COP": 2.2278379688673073,
          "Cycles/Hour": 8.304498269896195,
          "Remote Thermostat": false
         },
         {
          "Adj Outdoor Temp": 36.31284491228078,
          "COP": 2.439187428197379,
          "Cycles/Hour": 9.865889212827987,
          "Remote Thermostat": false
         },
         {
          "Adj Outdoor Temp": 39.32159313380287,
          "COP": 2.5172370591416326,
          "Cycles/Hour": 12.391150859025654,
          "Remote Thermostat": false
         },
         {
          "Adj Outdoor Temp": 43.56237357142844,
          "COP": 2.266642264933841,
          "Cycles/Hour": 11.329157141584776,
          "Remote Thermostat": false
         },
         {
          "Adj Outdoor Temp": 37.81718075539568,
          "COP": 2.4188392156639753,
          "Cycles/Hour": 10.92810771820149,
          "Remote Thermostat": false
         },
         {
          "Adj Outdoor Temp": 38.64574911775349,
          "COP": 2.3147117174650695,
          "Cycles/Hour": 8.524072612470402,
          "Remote Thermostat": false
         },
         {
          "Adj Outdoor Temp": 38.03086287878798,
          "COP": 2.591574766391989,
          "Cycles/Hour": 9.448818897637794,
          "Remote Thermostat": false
         },
         {
          "Adj Outdoor Temp": 36.86779830611019,
          "COP": 2.4106675794068573,
          "Cycles/Hour": 10.362694300518134,
          "Remote Thermostat": false
         }
        ]
       },
       "encoding": {
        "x": {
         "field": "Adj Outdoor Temp",
         "type": "quantitative"
        },
        "y": {
         "field": "COP",
         "type": "quantitative"
        }
       },
       "mark": "point"
      },
      "image/png": "[encoded data removed]",
      "text/plain": [
       "<VegaLite 2 object>\n",
       "\n",
       "If you see this message, it means the renderer has not been properly enabled\n",
       "for the frontend that you are using. For more information, see\n",
       "https://altair-viz.github.io/user_guide/troubleshooting.html\n"
      ]
     },
     "execution_count": 32,
     "metadata": {},
     "output_type": "execute_result"
    }
   ],
   "source": [
    "# Now only look at points without the remote thermostat\n",
    "dfb = df_results[df_results['Remote Thermostat'] == False]\n",
    "alt.Chart(dfb).mark_point().encode(\n",
    "    x = 'Adj Outdoor Temp',\n",
    "    y = 'COP'\n",
    ")"
   ]
  },
  {
   "cell_type": "code",
   "execution_count": 33,
   "metadata": {},
   "outputs": [
    {
     "data": {
      "application/vnd.vegalite.v2+json": {
       "$schema": "https://vega.github.io/schema/vega-lite/v2.4.3.json",
       "config": {
        "view": {
         "height": 300,
         "width": 400
        }
       },
       "data": {
        "values": [
         {
          "Adj Outdoor Temp": 16.954373737373828,
          "COP": 2.225036925925578,
          "Cycles/Hour": 0.30349013657056145,
          "Remote Thermostat": false
         },
         {
          "Adj Outdoor Temp": 12.798682586557767,
          "COP": 1.9878295897607443,
          "Cycles/Hour": 0.24365894515981656,
          "Remote Thermostat": false
         },
         {
          "Adj Outdoor Temp": 15.606876632652906,
          "COP": 2.083569927880954,
          "Cycles/Hour": 0.30654995061139684,
          "Remote Thermostat": false
         },
         {
          "Adj Outdoor Temp": 26.07776579123076,
          "COP": 2.5868560043543614,
          "Cycles/Hour": 0.24614122352699858,
          "Remote Thermostat": false
         },
         {
          "Adj Outdoor Temp": 14.24963195876279,
          "COP": 2.2312140393135054,
          "Cycles/Hour": 0.18565952106719844,
          "Remote Thermostat": false
         },
         {
          "Adj Outdoor Temp": 15.420532640332823,
          "COP": 2.216977747025745,
          "Cycles/Hour": 0.3113648157758173,
          "Remote Thermostat": false
         },
         {
          "Adj Outdoor Temp": 12.358117652775015,
          "COP": 2.1728545076492196,
          "Cycles/Hour": 0.31315240083507306,
          "Remote Thermostat": false
         },
         {
          "Adj Outdoor Temp": 19.53126357507059,
          "COP": 2.27027741156383,
          "Cycles/Hour": 0.31461931063413273,
          "Remote Thermostat": false
         },
         {
          "Adj Outdoor Temp": 13.71517426160328,
          "COP": 2.322341786278019,
          "Cycles/Hour": 0.2531645569620253,
          "Remote Thermostat": false
         },
         {
          "Adj Outdoor Temp": 9.323180679405695,
          "COP": 2.2032414599781482,
          "Cycles/Hour": 0.2543540467022291,
          "Remote Thermostat": false
         },
         {
          "Adj Outdoor Temp": 11.405011513859499,
          "COP": 2.2008414937430754,
          "Cycles/Hour": 0.31982942430703626,
          "Remote Thermostat": false
         },
         {
          "Adj Outdoor Temp": 11.954945710000402,
          "COP": 2.293126864868536,
          "Cycles/Hour": 0.2572760894034411,
          "Remote Thermostat": false
         },
         {
          "Adj Outdoor Temp": 11.245885061815677,
          "COP": 2.2635976575869314,
          "Cycles/Hour": 0.2587787082629479,
          "Remote Thermostat": false
         },
         {
          "Adj Outdoor Temp": 27.865584864544914,
          "COP": 2.5438604732187526,
          "Cycles/Hour": 0.39065325906098536,
          "Remote Thermostat": false
         },
         {
          "Adj Outdoor Temp": 26.44966015283852,
          "COP": 2.7717008442971127,
          "Cycles/Hour": 0.7872293898972228,
          "Remote Thermostat": false
         },
         {
          "Adj Outdoor Temp": 17.912796278364077,
          "COP": 2.5123818696805253,
          "Cycles/Hour": 0.2634515816242522,
          "Remote Thermostat": false
         },
         {
          "Adj Outdoor Temp": 17.013037637968864,
          "COP": 2.3985664425787006,
          "Cycles/Hour": 0.3316138540899042,
          "Remote Thermostat": false
         },
         {
          "Adj Outdoor Temp": 26.02185044543434,
          "COP": 2.7763613394103177,
          "Cycles/Hour": 1.0010937876568844,
          "Remote Thermostat": false
         },
         {
          "Adj Outdoor Temp": 28.305716406250028,
          "COP": 2.513475523836806,
          "Cycles/Hour": 1.7449013832444726,
          "Remote Thermostat": false
         },
         {
          "Adj Outdoor Temp": 36.26267171843547,
          "COP": 2.0943676297744065,
          "Cycles/Hour": 8.315336801186833,
          "Remote Thermostat": false
         },
         {
          "Adj Outdoor Temp": 39.283457307336306,
          "COP": 2.2384237887072627,
          "Cycles/Hour": 6.326530612244898,
          "Remote Thermostat": false
         },
         {
          "Adj Outdoor Temp": 35.096042200698164,
          "COP": 2.360572434568375,
          "Cycles/Hour": 7.385457032140415,
          "Remote Thermostat": false
         },
         {
          "Adj Outdoor Temp": 35.487245106379696,
          "COP": 2.1911250168617755,
          "Cycles/Hour": 7.099640039825381,
          "Remote Thermostat": false
         },
         {
          "Adj Outdoor Temp": 27.486737790583348,
          "COP": 2.7641853871907975,
          "Cycles/Hour": 3.329094902323431,
          "Remote Thermostat": false
         },
         {
          "Adj Outdoor Temp": 28.973889907192778,
          "COP": 2.8403170030347753,
          "Cycles/Hour": 1.882553455221568,
          "Remote Thermostat": false
         },
         {
          "Adj Outdoor Temp": 25.245508920188016,
          "COP": 2.888001452628946,
          "Cycles/Hour": 1.6168085604936344,
          "Remote Thermostat": false
         },
         {
          "Adj Outdoor Temp": 33.5714758823531,
          "COP": 2.402131685141186,
          "Cycles/Hour": 5.094139381313628,
          "Remote Thermostat": false
         },
         {
          "Adj Outdoor Temp": 28.33453246296454,
          "COP": 2.7491973755921397,
          "Cycles/Hour": 3.1317964332318398,
          "Remote Thermostat": false
         },
         {
          "Adj Outdoor Temp": 31.672627923627715,
          "COP": 2.648779847895114,
          "Cycles/Hour": 4.662004662004661,
          "Remote Thermostat": false
         },
         {
          "Adj Outdoor Temp": 32.82176055550278,
          "COP": 2.4826093947798555,
          "Cycles/Hour": 5.336538461538462,
          "Remote Thermostat": false
         },
         {
          "Adj Outdoor Temp": 34.25521549636819,
          "COP": 2.4813606346252124,
          "Cycles/Hour": 4.729374671571203,
          "Remote Thermostat": false
         },
         {
          "Adj Outdoor Temp": 28.350019343065966,
          "COP": 2.8520208965818825,
          "Cycles/Hour": 2.9249862891267697,
          "Remote Thermostat": false
         },
         {
          "Adj Outdoor Temp": 30.87098848039227,
          "COP": 2.7008319529636373,
          "Cycles/Hour": 2.3569850233243312,
          "Remote Thermostat": false
         },
         {
          "Adj Outdoor Temp": 30.0259882233225,
          "COP": 2.639144797740541,
          "Cycles/Hour": 4.010066421882091,
          "Remote Thermostat": false
         },
         {
          "Adj Outdoor Temp": 25.67530233871055,
          "COP": 2.7700317392929987,
          "Cycles/Hour": 1.9446926097525503,
          "Remote Thermostat": false
         },
         {
          "Adj Outdoor Temp": 22.281209774435993,
          "COP": 2.5602214156524155,
          "Cycles/Hour": 0.301255230125523,
          "Remote Thermostat": false
         },
         {
          "Adj Outdoor Temp": 24.628338005050495,
          "COP": 2.415285396720515,
          "Cycles/Hour": 0.3035861109354247,
          "Remote Thermostat": false
         },
         {
          "Adj Outdoor Temp": 19.068156870228925,
          "COP": 2.713069629068522,
          "Cycles/Hour": 0.3059338418067093,
          "Remote Thermostat": false
         },
         {
          "Adj Outdoor Temp": 32.33912474358996,
          "COP": 2.577119494526201,
          "Cycles/Hour": 5.471358849216543,
          "Remote Thermostat": false
         },
         {
          "Adj Outdoor Temp": 34.06434613578299,
          "COP": 2.4740762144697155,
          "Cycles/Hour": 5.345039054935124,
          "Remote Thermostat": false
         },
         {
          "Adj Outdoor Temp": 24.701167402597605,
          "COP": 2.877163337095526,
          "Cycles/Hour": 2.3423775131758737,
          "Remote Thermostat": false
         },
         {
          "Adj Outdoor Temp": 26.002483638743456,
          "COP": 2.9658997498145694,
          "Cycles/Hour": 1.7323213543603315,
          "Remote Thermostat": false
         },
         {
          "Adj Outdoor Temp": 25.89545461741409,
          "COP": 2.7128776776906736,
          "Cycles/Hour": 1.824069790496332,
          "Remote Thermostat": false
         },
         {
          "Adj Outdoor Temp": 27.321712765957557,
          "COP": 2.7535901381226995,
          "Cycles/Hour": 3.9922815889280727,
          "Remote Thermostat": false
         },
         {
          "Adj Outdoor Temp": 35.395075335120886,
          "COP": 2.0498964157399095,
          "Cycles/Hour": 6.836461126005362,
          "Remote Thermostat": false
         },
         {
          "Adj Outdoor Temp": 33.521831662134495,
          "COP": 2.227012602018707,
          "Cycles/Hour": 7.53409828967309,
          "Remote Thermostat": false
         },
         {
          "Adj Outdoor Temp": 37.37385863413191,
          "COP": 2.226859104935699,
          "Cycles/Hour": 8.651115372478579,
          "Remote Thermostat": false
         },
         {
          "Adj Outdoor Temp": 35.57605645161307,
          "COP": 2.196285782040617,
          "Cycles/Hour": 8.181818181818182,
          "Remote Thermostat": false
         },
         {
          "Adj Outdoor Temp": 34.50941005917159,
          "COP": 2.196383144965706,
          "Cycles/Hour": 7.455621301775148,
          "Remote Thermostat": false
         },
         {
          "Adj Outdoor Temp": 25.788076339448416,
          "COP": 2.873477944927349,
          "Cycles/Hour": 0.2758127537860408,
          "Remote Thermostat": false
         },
         {
          "Adj Outdoor Temp": 34.92627947530878,
          "COP": 2.424667436997804,
          "Cycles/Hour": 7.784184514003296,
          "Remote Thermostat": false
         },
         {
          "Adj Outdoor Temp": 31.899007320872386,
          "COP": 2.8598286666295505,
          "Cycles/Hour": 2.429906542056075,
          "Remote Thermostat": false
         },
         {
          "Adj Outdoor Temp": 35.89342881355913,
          "COP": 2.04754148892722,
          "Cycles/Hour": 7.541828270531948,
          "Remote Thermostat": false
         },
         {
          "Adj Outdoor Temp": 26.52453344709894,
          "COP": 2.6242602822615635,
          "Cycles/Hour": 4.931084667408612,
          "Remote Thermostat": false
         },
         {
          "Adj Outdoor Temp": 36.02771145099851,
          "COP": 2.2278379688673073,
          "Cycles/Hour": 8.304498269896195,
          "Remote Thermostat": false
         },
         {
          "Adj Outdoor Temp": 36.31284491228078,
          "COP": 2.439187428197379,
          "Cycles/Hour": 9.865889212827987,
          "Remote Thermostat": false
         },
         {
          "Adj Outdoor Temp": 39.32159313380287,
          "COP": 2.5172370591416326,
          "Cycles/Hour": 12.391150859025654,
          "Remote Thermostat": false
         },
         {
          "Adj Outdoor Temp": 43.56237357142844,
          "COP": 2.266642264933841,
          "Cycles/Hour": 11.329157141584776,
          "Remote Thermostat": false
         },
         {
          "Adj Outdoor Temp": 37.81718075539568,
          "COP": 2.4188392156639753,
          "Cycles/Hour": 10.92810771820149,
          "Remote Thermostat": false
         },
         {
          "Adj Outdoor Temp": 38.64574911775349,
          "COP": 2.3147117174650695,
          "Cycles/Hour": 8.524072612470402,
          "Remote Thermostat": false
         },
         {
          "Adj Outdoor Temp": 38.03086287878798,
          "COP": 2.591574766391989,
          "Cycles/Hour": 9.448818897637794,
          "Remote Thermostat": false
         },
         {
          "Adj Outdoor Temp": 36.86779830611019,
          "COP": 2.4106675794068573,
          "Cycles/Hour": 10.362694300518134,
          "Remote Thermostat": false
         }
        ]
       },
       "encoding": {
        "x": {
         "axis": {
          "title": "Outdoor Temperature"
         },
         "bin": {
          "maxbins": 10
         },
         "field": "Adj Outdoor Temp",
         "type": "quantitative"
        },
        "y": {
         "aggregate": "mean",
         "axis": {
          "title": "COP"
         },
         "field": "COP",
         "type": "quantitative"
        }
       },
       "mark": {
        "point": true,
        "type": "line"
       }
      },
      "image/png": "[encoded data removed]",
      "text/plain": [
       "<VegaLite 2 object>\n",
       "\n",
       "If you see this message, it means the renderer has not been properly enabled\n",
       "for the frontend that you are using. For more information, see\n",
       "https://altair-viz.github.io/user_guide/troubleshooting.html\n"
      ]
     },
     "execution_count": 33,
     "metadata": {},
     "output_type": "execute_result"
    }
   ],
   "source": [
    "alt.Chart(dfb).mark_line(point=True).encode(\n",
    "    x = alt.X('Adj Outdoor Temp', bin=alt.Bin(maxbins=10), axis=alt.Axis(title='Outdoor Temperature')),\n",
    "    y = alt.Y('mean(COP)', axis=alt.Axis(title='COP')),\n",
    ")"
   ]
  },
  {
   "cell_type": "markdown",
   "metadata": {},
   "source": [
    "It looks like Altair is plotting against the center of the\n",
    "temperature bin. It would be more accurate to plot against the\n",
    "average of the temperature values of the points inside the bin,\n",
    "which may deviate from the center for uneven distribution of points."
   ]
  },
  {
   "cell_type": "markdown",
   "metadata": {},
   "source": [
    "## Explictly Calculate Bin Averages and Plot"
   ]
  },
  {
   "cell_type": "code",
   "execution_count": 52,
   "metadata": {},
   "outputs": [],
   "source": [
    "def bin_averages(df, bin_width = 5.0):\n",
    "    \"\"\"For DataFrame df, calculate average temperatures and COPs for bins\n",
    "    of outdoor temperature of width 'bin_width' deg F.  Return a DataFrame\n",
    "    with the averaged values.\n",
    "    \"\"\"\n",
    "    dfc = df.copy()\n",
    "    # calculate the bin for each row\n",
    "    dfc['temp_bin'] = dfc['Adj Outdoor Temp'] // bin_width\n",
    "    \n",
    "    # average by bins\n",
    "    dfa = dfc.groupby('temp_bin').mean()\n",
    "    dfa = dfa[['Adj Outdoor Temp', 'COP']]\n",
    "    dfa.columns = ['temperature', 'cop']\n",
    "    return dfa\n",
    "    "
   ]
  },
  {
   "cell_type": "code",
   "execution_count": 62,
   "metadata": {},
   "outputs": [
    {
     "data": {
      "image/png": "[encoded data removed]",
      "text/plain": [
       "<matplotlib.figure.Figure at 0x276be66b160>"
      ]
     },
     "metadata": {},
     "output_type": "display_data"
    }
   ],
   "source": [
    "# Make a graph that includes points 31 F or below and those\n",
    "# points where the remote thermostat was being used.\n",
    "dfb = df_results[(df_results['Adj Outdoor Temp'] <= 31.0) | (df_results['Remote Thermostat'] == True)]\n",
    "dfr = bin_averages(dfb)\n",
    "plot(dfr.temperature, dfr.cop, 'b-', marker='o')\n",
    "xlabel('Outdoor Temperature, ℉')\n",
    "ylabel('COP')\n",
    "ylim(0, 3.0)\n",
    "dfr['source'] = 'Seward, Kaluza w/ Remote Therm'\n",
    "dfr['field_study'] = True\n",
    "dfr.to_pickle('temp_cop_kaluza_remote.pkl')"
   ]
  },
  {
   "cell_type": "code",
   "execution_count": 61,
   "metadata": {},
   "outputs": [
    {
     "data": {
      "image/png": "[encoded data removed]",
      "text/plain": [
       "<matplotlib.figure.Figure at 0x276be693208>"
      ]
     },
     "metadata": {},
     "output_type": "display_data"
    }
   ],
   "source": [
    "# Graph with no remote thermostat\n",
    "dfb = df_results[df_results['Remote Thermostat'] == False]\n",
    "dfr = bin_averages(dfb)\n",
    "plot(dfr.temperature, dfr.cop, 'b-', marker='o')\n",
    "xlabel('Outdoor Temperature, ℉')\n",
    "ylabel('COP')\n",
    "ylim(0, 3.0)\n",
    "dfr['source'] = 'Seward, Kaluza'\n",
    "dfr['field_study'] = True\n",
    "dfr.to_pickle('temp_cop_kaluza.pkl')"
   ]
  },
  {
   "cell_type": "markdown",
   "metadata": {},
   "source": [
    "## Relationship between Stable Compressor Power and Outdoor Temperature"
   ]
  },
  {
   "cell_type": "code",
   "execution_count": 6,
   "metadata": {},
   "outputs": [
    {
     "data": {
      "text/html": [
       "<div>\n",
       "<style scoped>\n",
       "    .dataframe tbody tr th:only-of-type {\n",
       "        vertical-align: middle;\n",
       "    }\n",
       "\n",
       "    .dataframe tbody tr th {\n",
       "        vertical-align: top;\n",
       "    }\n",
       "\n",
       "    .dataframe thead th {\n",
       "        text-align: right;\n",
       "    }\n",
       "</style>\n",
       "<table border=\"1\" class=\"dataframe\">\n",
       "  <thead>\n",
       "    <tr style=\"text-align: right;\">\n",
       "      <th></th>\n",
       "      <th>ms_power</th>\n",
       "      <th>spc_power</th>\n",
       "      <th>temp_out</th>\n",
       "      <th>temp_downstairs</th>\n",
       "      <th>temp_upstairs</th>\n",
       "    </tr>\n",
       "  </thead>\n",
       "  <tbody>\n",
       "    <tr>\n",
       "      <th>2018-01-23 00:00:51</th>\n",
       "      <td>637.5</td>\n",
       "      <td>NaN</td>\n",
       "      <td>NaN</td>\n",
       "      <td>NaN</td>\n",
       "      <td>NaN</td>\n",
       "    </tr>\n",
       "    <tr>\n",
       "      <th>2018-01-23 00:01:13</th>\n",
       "      <td>NaN</td>\n",
       "      <td>NaN</td>\n",
       "      <td>NaN</td>\n",
       "      <td>72.77</td>\n",
       "      <td>NaN</td>\n",
       "    </tr>\n",
       "    <tr>\n",
       "      <th>2018-01-23 00:01:19</th>\n",
       "      <td>NaN</td>\n",
       "      <td>NaN</td>\n",
       "      <td>21.43</td>\n",
       "      <td>NaN</td>\n",
       "      <td>NaN</td>\n",
       "    </tr>\n",
       "    <tr>\n",
       "      <th>2018-01-23 00:01:22</th>\n",
       "      <td>NaN</td>\n",
       "      <td>NaN</td>\n",
       "      <td>NaN</td>\n",
       "      <td>NaN</td>\n",
       "      <td>70.0</td>\n",
       "    </tr>\n",
       "    <tr>\n",
       "      <th>2018-01-23 00:02:51</th>\n",
       "      <td>600.0</td>\n",
       "      <td>NaN</td>\n",
       "      <td>NaN</td>\n",
       "      <td>NaN</td>\n",
       "      <td>NaN</td>\n",
       "    </tr>\n",
       "  </tbody>\n",
       "</table>\n",
       "</div>"
      ],
      "text/plain": [
       "                     ms_power  spc_power  temp_out  temp_downstairs  \\\n",
       "2018-01-23 00:00:51     637.5        NaN       NaN              NaN   \n",
       "2018-01-23 00:01:13       NaN        NaN       NaN            72.77   \n",
       "2018-01-23 00:01:19       NaN        NaN     21.43              NaN   \n",
       "2018-01-23 00:01:22       NaN        NaN       NaN              NaN   \n",
       "2018-01-23 00:02:51     600.0        NaN       NaN              NaN   \n",
       "\n",
       "                     temp_upstairs  \n",
       "2018-01-23 00:00:51            NaN  \n",
       "2018-01-23 00:01:13            NaN  \n",
       "2018-01-23 00:01:19            NaN  \n",
       "2018-01-23 00:01:22           70.0  \n",
       "2018-01-23 00:02:51            NaN  "
      ]
     },
     "execution_count": 6,
     "metadata": {},
     "output_type": "execute_result"
    }
   ],
   "source": [
    "df.head()"
   ]
  },
  {
   "cell_type": "code",
   "execution_count": 30,
   "metadata": {},
   "outputs": [
    {
     "name": "stderr",
     "output_type": "stream",
     "text": [
      "/data/data/com.termux/files/usr/lib/python3.6/site-packages/ipykernel_launcher.py:5: FutureWarning: Currently, 'apply' passes the values as ndarrays to the applied function. In the future, this will change to passing it as Series objects. You need to specify 'raw=True' to keep the current behaviour, and you can pass 'raw=False' to silence this warning\n",
      "  \"\"\"\n"
     ]
    },
    {
     "data": {
      "text/html": [
       "<div>\n",
       "<style scoped>\n",
       "    .dataframe tbody tr th:only-of-type {\n",
       "        vertical-align: middle;\n",
       "    }\n",
       "\n",
       "    .dataframe tbody tr th {\n",
       "        vertical-align: top;\n",
       "    }\n",
       "\n",
       "    .dataframe thead th {\n",
       "        text-align: right;\n",
       "    }\n",
       "</style>\n",
       "<table border=\"1\" class=\"dataframe\">\n",
       "  <thead>\n",
       "    <tr style=\"text-align: right;\">\n",
       "      <th></th>\n",
       "      <th>ms_power</th>\n",
       "      <th>temp_out</th>\n",
       "      <th>ms_power_std</th>\n",
       "      <th>ms_power_actual</th>\n",
       "    </tr>\n",
       "  </thead>\n",
       "  <tbody>\n",
       "    <tr>\n",
       "      <th>2018-01-23 00:06:51</th>\n",
       "      <td>628.125</td>\n",
       "      <td>21.53300</td>\n",
       "      <td>18.750000</td>\n",
       "      <td>637.5</td>\n",
       "    </tr>\n",
       "    <tr>\n",
       "      <th>2018-01-23 00:08:51</th>\n",
       "      <td>630.000</td>\n",
       "      <td>21.52975</td>\n",
       "      <td>16.770510</td>\n",
       "      <td>637.5</td>\n",
       "    </tr>\n",
       "    <tr>\n",
       "      <th>2018-01-23 00:10:51</th>\n",
       "      <td>622.500</td>\n",
       "      <td>21.49180</td>\n",
       "      <td>20.539596</td>\n",
       "      <td>600.0</td>\n",
       "    </tr>\n",
       "    <tr>\n",
       "      <th>2018-01-23 00:12:51</th>\n",
       "      <td>622.500</td>\n",
       "      <td>21.43780</td>\n",
       "      <td>20.539596</td>\n",
       "      <td>600.0</td>\n",
       "    </tr>\n",
       "    <tr>\n",
       "      <th>2018-01-23 00:14:51</th>\n",
       "      <td>630.000</td>\n",
       "      <td>21.38120</td>\n",
       "      <td>31.374751</td>\n",
       "      <td>675.0</td>\n",
       "    </tr>\n",
       "  </tbody>\n",
       "</table>\n",
       "</div>"
      ],
      "text/plain": [
       "                     ms_power  temp_out  ms_power_std  ms_power_actual\n",
       "2018-01-23 00:06:51   628.125  21.53300     18.750000            637.5\n",
       "2018-01-23 00:08:51   630.000  21.52975     16.770510            637.5\n",
       "2018-01-23 00:10:51   622.500  21.49180     20.539596            600.0\n",
       "2018-01-23 00:12:51   622.500  21.43780     20.539596            600.0\n",
       "2018-01-23 00:14:51   630.000  21.38120     31.374751            675.0"
      ]
     },
     "execution_count": 30,
     "metadata": {},
     "output_type": "execute_result"
    }
   ],
   "source": [
    "dfst = df[['ms_power', 'temp_out']].copy()\n",
    "dfst_m = dfst.rolling('10min', min_periods=3).mean()\n",
    "dfst_s = dfst.rolling('10min', min_periods=3).std().drop(columns=['temp_out'])\n",
    "dfst_s.columns = ['ms_power_std']\n",
    "dfst_a = dfst.rolling('10min', min_periods=3).apply(lambda x: x[-1]).drop(columns=['temp_out'])\n",
    "dfst_a.columns = ['ms_power_actual']\n",
    "dfst = pd.concat([dfst_m, dfst_s, dfst_a], axis=1).dropna()\n",
    "dfst.head()"
   ]
  },
  {
   "cell_type": "code",
   "execution_count": 31,
   "metadata": {},
   "outputs": [
    {
     "data": {
      "text/plain": [
       "(0, 1200)"
      ]
     },
     "execution_count": 31,
     "metadata": {},
     "output_type": "execute_result"
    },
    {
     "data": {
      "image/png": "[encoded data removed]",
      "text/plain": [
       "<Figure size 648x432 with 1 Axes>"
      ]
     },
     "metadata": {},
     "output_type": "display_data"
    }
   ],
   "source": [
    "dff = dfst.query('ms_power > 60 and ms_power_std < 50')\n",
    "dff.plot(x='temp_out', y='ms_power', style='b.')\n",
    "ylim(0, 1200)"
   ]
  },
  {
   "cell_type": "code",
   "execution_count": 47,
   "metadata": {},
   "outputs": [
    {
     "data": {
      "text/plain": [
       "<matplotlib.axes._subplots.AxesSubplot at 0x7f1d5fc99828>"
      ]
     },
     "execution_count": 47,
     "metadata": {},
     "output_type": "execute_result"
    },
    {
     "data": {
      "image/png": "[encoded data removed]",
      "text/plain": [
       "<Figure size 648x432 with 1 Axes>"
      ]
     },
     "metadata": {},
     "output_type": "display_data"
    }
   ],
   "source": [
    "df_sm = dff.resample('1H').mean().dropna()\n",
    "df_sm.plot(x='temp_out', y='ms_power', style='b.')"
   ]
  }
 ],
 "metadata": {
  "kernelspec": {
   "display_name": "Python 3",
   "language": "python",
   "name": "python3"
  },
  "language_info": {
   "codemirror_mode": {
    "name": "ipython",
    "version": 3
   },
   "file_extension": ".py",
   "mimetype": "text/x-python",
   "name": "python",
   "nbconvert_exporter": "python",
   "pygments_lexer": "ipython3",
   "version": "3.6.6"
  }
 },
 "nbformat": 4,
 "nbformat_minor": 2
}
