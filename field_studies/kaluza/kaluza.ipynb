{
 "cells": [
  {
   "cell_type": "markdown",
   "metadata": {},
   "source": [
    "# COP Graphs for Phil Kaluza Fujistsu 15RLS3 in Seward"
   ]
  },
  {
   "cell_type": "code",
   "execution_count": 1,
   "metadata": {
    "slideshow": {
     "slide_type": "slide"
    }
   },
   "outputs": [],
   "source": [
    "import datetime\n",
    "from datetime import timedelta\n",
    "import io\n",
    "from dateutil.parser import parse\n",
    "import urllib\n",
    "import requests\n",
    "import pandas as pd\n",
    "import numpy as np\n",
    "import statsmodels.formula.api as sm\n",
    "import itertools\n",
    "from scipy.optimize import curve_fit\n",
    "import astral\n",
    "\n",
    "###################### Matplotlib #######################\n",
    "# import matplotlib pyplot commands\n",
    "from matplotlib.pyplot import *\n",
    " \n",
    "# Show Plots in the Notebook\n",
    "%matplotlib inline\n",
    " \n",
    "# 'style' the plot like fivethirtyeight.com website\n",
    "style.use('bmh')"
   ]
  },
  {
   "cell_type": "code",
   "execution_count": 26,
   "metadata": {
    "slideshow": {
     "slide_type": "skip"
    }
   },
   "outputs": [],
   "source": [
    "rcParams['figure.figsize']= (9, 6)   # set Chart Size\n",
    "rcParams['font.size'] = 14            # set Font size in Chart\n",
    "\n",
    "base_url = 'https://bmon.analysisnorth.com/api/v1/readings/{}/'\n",
    "\n",
    "def count_cycles(ser):\n",
    "    '''Counts the Off cycles in a series.\n",
    "    '''\n",
    "    THRESH = 200.   # Must fall below this Watt level to be considered turning off\n",
    "    dfp = pd.DataFrame({'power': ser.dropna()})\n",
    "    dfp['state'] =  dfp.power > THRESH\n",
    "    dfp['prior_state'] = dfp.state.shift()\n",
    "    dfp['off_event'] = np.where((dfp.state==False) & (dfp.prior_state==True), 1, 0)\n",
    "    return dfp.off_event.sum()\n",
    "    "
   ]
  },
  {
   "cell_type": "markdown",
   "metadata": {},
   "source": [
    "### All Night COPs\n",
    "\n",
    "Calculates the COP for each night, considering energy use from 1 hour\n",
    "after sunset to 1/2 hour after sunrise."
   ]
  },
  {
   "cell_type": "code",
   "execution_count": 27,
   "metadata": {
    "slideshow": {
     "slide_type": "skip"
    }
   },
   "outputs": [
    {
     "name": "stdout",
     "output_type": "stream",
     "text": [
      "phil_hp_pwr_17_pulse\n",
      "phil_port_pwr_16_pulse\n",
      "phil_hp_pwr_10187_temp\n",
      "phil_hp_pwr_354_temp\n",
      "phil_hp_pwr_6070_temp\n"
     ]
    }
   ],
   "source": [
    "# Download the needed sensor data.\n",
    "sensors = [\n",
    "    ('phil_hp_pwr_17_pulse', 'ms_power'),\n",
    "    ('phil_port_pwr_16_pulse', 'spc_power'),\n",
    "    ('phil_hp_pwr_10187_temp', 'temp_out'),\n",
    "    ('phil_hp_pwr_354_temp', 'temp_downstairs'),\n",
    "    ('phil_hp_pwr_6070_temp', 'temp_upstairs'),    \n",
    "]\n",
    "params = {'start_ts': '2018-01-23'}\n",
    "dfs = []\n",
    "for sensor_id, lbl in sensors:\n",
    "    print(sensor_id)\n",
    "    resp = requests.get(base_url.format(sensor_id), params=params).json()\n",
    "    df = pd.DataFrame(resp['data']['readings'], columns=['ts', lbl])\n",
    "    df.set_index('ts', inplace=True)\n",
    "    dfs.append(df)\n",
    "df = pd.concat(dfs, axis=1)\n",
    "df.index = pd.to_datetime(df.index)"
   ]
  },
  {
   "cell_type": "code",
   "execution_count": 28,
   "metadata": {
    "slideshow": {
     "slide_type": "slide"
    }
   },
   "outputs": [
    {
     "data": {
      "text/html": [
       "<div>\n",
       "<style scoped>\n",
       "    .dataframe tbody tr th:only-of-type {\n",
       "        vertical-align: middle;\n",
       "    }\n",
       "\n",
       "    .dataframe tbody tr th {\n",
       "        vertical-align: top;\n",
       "    }\n",
       "\n",
       "    .dataframe thead th {\n",
       "        text-align: right;\n",
       "    }\n",
       "</style>\n",
       "<table border=\"1\" class=\"dataframe\">\n",
       "  <thead>\n",
       "    <tr style=\"text-align: right;\">\n",
       "      <th></th>\n",
       "      <th>Adj Outdoor Temp</th>\n",
       "      <th>Cycles/Hour</th>\n",
       "      <th>COP</th>\n",
       "      <th>Remote Thermostat</th>\n",
       "    </tr>\n",
       "    <tr>\n",
       "      <th>Date</th>\n",
       "      <th></th>\n",
       "      <th></th>\n",
       "      <th></th>\n",
       "      <th></th>\n",
       "    </tr>\n",
       "  </thead>\n",
       "  <tbody>\n",
       "    <tr>\n",
       "      <th>2018-01-23</th>\n",
       "      <td>16.954374</td>\n",
       "      <td>0.303490</td>\n",
       "      <td>2.225037</td>\n",
       "      <td>False</td>\n",
       "    </tr>\n",
       "    <tr>\n",
       "      <th>2018-01-24</th>\n",
       "      <td>12.798683</td>\n",
       "      <td>0.243659</td>\n",
       "      <td>1.987830</td>\n",
       "      <td>False</td>\n",
       "    </tr>\n",
       "    <tr>\n",
       "      <th>2018-01-25</th>\n",
       "      <td>15.606877</td>\n",
       "      <td>0.306550</td>\n",
       "      <td>2.083570</td>\n",
       "      <td>False</td>\n",
       "    </tr>\n",
       "    <tr>\n",
       "      <th>2018-01-26</th>\n",
       "      <td>26.077766</td>\n",
       "      <td>0.246141</td>\n",
       "      <td>2.586856</td>\n",
       "      <td>False</td>\n",
       "    </tr>\n",
       "    <tr>\n",
       "      <th>2018-01-27</th>\n",
       "      <td>14.249632</td>\n",
       "      <td>0.185660</td>\n",
       "      <td>2.231214</td>\n",
       "      <td>False</td>\n",
       "    </tr>\n",
       "  </tbody>\n",
       "</table>\n",
       "</div>"
      ],
      "text/plain": [
       "            Adj Outdoor Temp  Cycles/Hour       COP  Remote Thermostat\n",
       "Date                                                                  \n",
       "2018-01-23         16.954374     0.303490  2.225037              False\n",
       "2018-01-24         12.798683     0.243659  1.987830              False\n",
       "2018-01-25         15.606877     0.306550  2.083570              False\n",
       "2018-01-26         26.077766     0.246141  2.586856              False\n",
       "2018-01-27         14.249632     0.185660  2.231214              False"
      ]
     },
     "execution_count": 28,
     "metadata": {},
     "output_type": "execute_result"
    }
   ],
   "source": [
    "exclude_days = [\n",
    "    '2018-04-17',      # exhaust fans On\n",
    "    '2018-04-19',      # Wired Remote was disabled\n",
    "]\n",
    "divide_date = '2018-04-18'\n",
    "\n",
    "UA = 29.0\n",
    "MASS_COEFF = 577   # W / (deg F / hr), from prior 8 day coheat period\n",
    "UP_WTG = 0.55   # for heat loss\n",
    "\n",
    "# convert list of exclude days and divide date to Python dates\n",
    "exclude_days = [parse(d) for d in exclude_days]\n",
    "divide_date = parse(divide_date)\n",
    "\n",
    "# Sunrise / Sunset calculator object\n",
    "city_name = 'Anchorage'\n",
    "\n",
    "a = astral.Astral()\n",
    "a.solar_depression = 'civil'\n",
    "\n",
    "city = a[city_name]\n",
    "\n",
    "# we increment the date immediately in the loop, so need to take-away\n",
    "# a day to start with.\n",
    "dt1 = parse(params['start_ts']) - timedelta(days=1)\n",
    "\n",
    "out_temps = [[], []]\n",
    "out_temps_adj = [[], []]\n",
    "cops = [[], []]\n",
    "delta_ts = [[], []]\n",
    "cycle_rates = [[], []]\n",
    "dates = [[], []]\n",
    "short_dates = [[], []]\n",
    "\n",
    "while True:\n",
    "    \n",
    "    dt1 += timedelta(days=1)\n",
    "    \n",
    "    # stop if we have reached today\n",
    "    if dt1 >= datetime.datetime.now() - timedelta(days=1):\n",
    "        break\n",
    "    \n",
    "    # check to see whether this day should be exluded\n",
    "    if dt1 in exclude_days:\n",
    "        dt1 += timedelta(days=1)\n",
    "        continue\n",
    "\n",
    "    # print(dt1)\n",
    "    dt2 = dt1 + timedelta(days=1)\n",
    "    \n",
    "    # determine what output array index to use based on where this date\n",
    "    # falls relative to the dividing date.\n",
    "    dix = 0 if dt1 < divide_date else 1\n",
    "    \n",
    "    # sunset on dt1\n",
    "    try:\n",
    "        sun = city.sun(date=dt1, local=True)\n",
    "        dt_start = sun['sunset'] + timedelta(hours=1)\n",
    "    except:\n",
    "        # Errors occur in astral on long daylight days\n",
    "        # Start at 11 pm\n",
    "        dt_start = dt1 + timedelta(hours=23)\n",
    "        \n",
    "    # sunrise on dt2\n",
    "    try:\n",
    "        sun = city.sun(date=dt2, local=True)\n",
    "        dt_end = sun['sunrise'] + timedelta(minutes=30)\n",
    "    except:\n",
    "        # Errors occur in astral on long daylight days\n",
    "        # Start at 5 am\n",
    "        dt_end = dt2 + timedelta(hours=5)\n",
    "    \n",
    "    fmt = '%Y-%m-%d %H:%M:%S'\n",
    "    dfd = df.loc[dt_start.strftime(fmt) : dt_end.strftime(fmt)]\n",
    "    \n",
    "    # No data for the day, go on to next day\n",
    "    if len(dfd) == 0:\n",
    "        continue\n",
    "        \n",
    "    # calculate averages\n",
    "    avgs = dfd.mean()\n",
    "    \n",
    "    # Large error in days with low power usage\n",
    "    if avgs.ms_power < 200:\n",
    "        continue\n",
    "    \n",
    "    try:\n",
    "        # Calculate downstairs and upstairs temperature spread over\n",
    "        # the interval\n",
    "        down_spread = dfd.temp_downstairs.max() - dfd.temp_downstairs.min()\n",
    "        up_spread = dfd.temp_upstairs.max() - dfd.temp_upstairs.min()\n",
    "\n",
    "        # Calculate indoor temperature change over the interval:\n",
    "        down_start = dfd.temp_downstairs.dropna()[0]\n",
    "        down_end = dfd.temp_downstairs.dropna()[-1]\n",
    "        up_start = dfd.temp_upstairs.dropna()[0]\n",
    "        up_end = dfd.temp_upstairs.dropna()[-1]\n",
    "        tmp_chg = (down_end + up_end - down_start - up_start) / 2.0    # equal mass weighting\n",
    "        hrs_in_per = (dfd.index[-1] - dfd.index[0]).total_seconds() / 3600.\n",
    "\n",
    "        # Calculate the cycles per hour in the period\n",
    "        cyc_per_hour = count_cycles(dfd.ms_power) / hrs_in_per\n",
    "        \n",
    "    except:\n",
    "        # some of the data was missing, go on to next day\n",
    "        continue\n",
    "    \n",
    "    if abs(tmp_chg) < 3.0 and \\\n",
    "    (np.isnan(avgs.spc_power) or avgs.spc_power < 20.0) and \\\n",
    "    down_spread < 4.0 and up_spread < 4.0:\n",
    "        avg_indoor = UP_WTG * avgs.temp_upstairs + (1.0 - UP_WTG) * avgs.temp_downstairs\n",
    "        delta_t = avg_indoor - avgs.temp_out\n",
    "        temp_out_adj = 70.0 - delta_t\n",
    "        heat_load = UA * delta_t + MASS_COEFF * tmp_chg / hrs_in_per\n",
    "        cop = heat_load / avgs.ms_power\n",
    "        out_temps[dix].append(avgs.temp_out)\n",
    "        out_temps_adj[dix].append(temp_out_adj)\n",
    "        cops[dix].append(cop)\n",
    "        delta_ts[dix].append(delta_t)\n",
    "        cycle_rates[dix].append(cyc_per_hour)\n",
    "        dates[dix].append(dt1)\n",
    "        dt_short = str(dt1)[:10]\n",
    "        short_dates[dix].append(dt_short)\n",
    "        #print(f\"{dt_short} {temp_out_adj:.2f} F, {cyc_per_hour:.1f} cycles/hr, COP = {cop:.2f}\")\n",
    "\n",
    "df_results = pd.DataFrame(\n",
    "    {\n",
    "      'Date': short_dates[0] + short_dates[1],\n",
    "      'Adj Outdoor Temp': out_temps_adj[0] + out_temps_adj[1],\n",
    "      'Cycles/Hour': cycle_rates[0] + cycle_rates[1],\n",
    "      'COP': cops[0] + cops[1],\n",
    "      'Remote Thermostat': len(cops[0]) * [False] + len(cops[1]) * [True]\n",
    "    },\n",
    ")\n",
    "df_results = df_results[['Date', 'Adj Outdoor Temp', 'Cycles/Hour', 'COP', 'Remote Thermostat']]\n",
    "df_results.set_index('Date', inplace=True)\n",
    "pd.options.display.max_rows = 999\n",
    "\n",
    "df_results.head()"
   ]
  },
  {
   "cell_type": "code",
   "execution_count": 29,
   "metadata": {
    "slideshow": {
     "slide_type": "slide"
    }
   },
   "outputs": [
    {
     "data": {
      "image/png": "[encoded data removed]",
      "text/plain": [
       "<matplotlib.figure.Figure at 0x249605b4f28>"
      ]
     },
     "metadata": {},
     "output_type": "display_data"
    }
   ],
   "source": [
    "# Adjusted outdoor temperature equals to the actual delta-T\n",
    "# with a 70 deg F indoor temperature.\n",
    "sizes = np.array(cycle_rates) * 30\n",
    "scatter(out_temps_adj[0], cops[0], c=\"red\", alpha=0.7)\n",
    "scatter(out_temps_adj[1], cops[1], c=\"blue\", alpha=0.7)\n",
    "xlabel('Adjusted Outdoor Temperature, deg F')\n",
    "ylabel('COP');"
   ]
  },
  {
   "cell_type": "markdown",
   "metadata": {},
   "source": [
    "### Size of Dot indicates Cycle Rate per Hour"
   ]
  },
  {
   "cell_type": "code",
   "execution_count": 30,
   "metadata": {
    "slideshow": {
     "slide_type": "slide"
    }
   },
   "outputs": [
    {
     "data": {
      "image/png": "[encoded data removed]",
      "text/plain": [
       "<matplotlib.figure.Figure at 0x249629bfe10>"
      ]
     },
     "metadata": {},
     "output_type": "display_data"
    }
   ],
   "source": [
    "# Adjusted outdoor temperature equals to the actual delta-T\n",
    "# with a 70 deg F indoor temperature.\n",
    "sizes = [[], []]\n",
    "sizes[0] = (np.array(cycle_rates[0]) + 0.5) * 30\n",
    "sizes[1] = (np.array(cycle_rates[1]) + 0.5) * 30\n",
    "scatter(out_temps_adj[0], cops[0], s=sizes[0], c=\"red\", alpha=0.7)\n",
    "scatter(out_temps_adj[1], cops[1], s=sizes[1], c=\"blue\", alpha=0.7, label='With Wired Remote')\n",
    "legend(loc='upper left')\n",
    "xlabel('Adjusted Outdoor Temperature, deg F')\n",
    "ylabel('COP');"
   ]
  },
  {
   "cell_type": "code",
   "execution_count": 31,
   "metadata": {
    "slideshow": {
     "slide_type": "slide"
    }
   },
   "outputs": [
    {
     "data": {
      "image/png": "[encoded data removed]",
      "text/plain": [
       "<matplotlib.figure.Figure at 0x24964cf2b70>"
      ]
     },
     "metadata": {},
     "output_type": "display_data"
    }
   ],
   "source": [
    "# COP from specs.  See \"Dropbox/Heat_Pump/models/hp_model.ipynb\"\n",
    "# NOTE:  THIS INCLUDES a 5% reduction in the COP to account for defrost\n",
    "# at temperatures below 37 deg F.\n",
    "specs = [\n",
    "    (10, 3.406),\n",
    "    (11, 3.436),\n",
    "    (12, 3.468),\n",
    "    (13, 3.499),\n",
    "    (14, 3.531),\n",
    "    (15, 3.564),\n",
    "    (16, 3.597),\n",
    "    (17, 3.630),\n",
    "    (18, 3.685),\n",
    "    (19, 3.740),\n",
    "    (20, 3.794),\n",
    "    (21, 3.848),\n",
    "    (22, 3.902),\n",
    "    (23, 3.955),\n",
    "    (24, 4.008),\n",
    "    (25, 4.060),\n",
    "    (26, 4.112),\n",
    "    (27, 4.164),\n",
    "    (28, 4.215),\n",
    "    (29, 4.266),\n",
    "    (30, 4.317),\n",
    "    (31, 4.367),\n",
    "    (32, 4.416),\n",
    "    (33, 4.465),\n",
    "    (34, 4.514),\n",
    "    (35, 4.563),\n",
    "    (36, 4.611),        # about 213 W input\n",
    "]\n",
    "temp_sp, cop_sp = zip(*specs)\n",
    "figure(figsize=(9,7))\n",
    "plot(temp_sp, cop_sp, 'g--', label='Manufacturer Specs')\n",
    "plot(35.0, 3.93, 'b*', markersize=15, color='green', label='HSPF Rating')\n",
    "scatter(out_temps_adj[0], cops[0], color='red', s=sizes[0], alpha=0.7, label='Measured Values')\n",
    "scatter(out_temps_adj[1], cops[1], alpha=0.7, color='blue', s=sizes[1], label='Measured Values\\nw/ Wired Remote')\n",
    "legend(loc='upper left')\n",
    "ylim(1.7, 4.7)\n",
    "\n",
    "xlabel('Adjusted Outdoor Temperature, deg F')\n",
    "ylabel('COP')\n",
    "tight_layout();"
   ]
  },
  {
   "cell_type": "markdown",
   "metadata": {},
   "source": [
    "## Binned COP and Outdoor Temperature using Altair"
   ]
  },
  {
   "cell_type": "code",
   "execution_count": 32,
   "metadata": {},
   "outputs": [],
   "source": [
    "import altair as alt"
   ]
  },
  {
   "cell_type": "code",
   "execution_count": 33,
   "metadata": {},
   "outputs": [
    {
     "data": {
      "application/vnd.vegalite.v2+json": {
       "$schema": "https://vega.github.io/schema/vega-lite/v2.4.3.json",
       "config": {
        "view": {
         "height": 300,
         "width": 400
        }
       },
       "data": {
        "values": [
         {
          "Adj Outdoor Temp": 16.954373737373828,
          "COP": 2.225036925925578,
          "Cycles/Hour": 0.30349013657056145,
          "Remote Thermostat": false
         },
         {
          "Adj Outdoor Temp": 12.798682586557767,
          "COP": 1.9878295897607443,
          "Cycles/Hour": 0.24365894515981656,
          "Remote Thermostat": false
         },
         {
          "Adj Outdoor Temp": 15.606876632652906,
          "COP": 2.083569927880954,
          "Cycles/Hour": 0.30654995061139684,
          "Remote Thermostat": false
         },
         {
          "Adj Outdoor Temp": 26.07776579123076,
          "COP": 2.5868560043543614,
          "Cycles/Hour": 0.24614122352699858,
          "Remote Thermostat": false
         },
         {
          "Adj Outdoor Temp": 14.24963195876279,
          "COP": 2.2312140393135054,
          "Cycles/Hour": 0.18565952106719844,
          "Remote Thermostat": false
         },
         {
          "Adj Outdoor Temp": 15.420532640332823,
          "COP": 2.216977747025745,
          "Cycles/Hour": 0.3113648157758173,
          "Remote Thermostat": false
         },
         {
          "Adj Outdoor Temp": 12.358117652775015,
          "COP": 2.1728545076492196,
          "Cycles/Hour": 0.31315240083507306,
          "Remote Thermostat": false
         },
         {
          "Adj Outdoor Temp": 19.53126357507059,
          "COP": 2.27027741156383,
          "Cycles/Hour": 0.31461931063413273,
          "Remote Thermostat": false
         },
         {
          "Adj Outdoor Temp": 13.71517426160328,
          "COP": 2.322341786278019,
          "Cycles/Hour": 0.2531645569620253,
          "Remote Thermostat": false
         },
         {
          "Adj Outdoor Temp": 9.323180679405695,
          "COP": 2.2032414599781482,
          "Cycles/Hour": 0.2543540467022291,
          "Remote Thermostat": false
         },
         {
          "Adj Outdoor Temp": 11.405011513859499,
          "COP": 2.2008414937430754,
          "Cycles/Hour": 0.31982942430703626,
          "Remote Thermostat": false
         },
         {
          "Adj Outdoor Temp": 11.954945710000402,
          "COP": 2.293126864868536,
          "Cycles/Hour": 0.2572760894034411,
          "Remote Thermostat": false
         },
         {
          "Adj Outdoor Temp": 11.245885061815677,
          "COP": 2.2635976575869314,
          "Cycles/Hour": 0.2587787082629479,
          "Remote Thermostat": false
         },
         {
          "Adj Outdoor Temp": 27.865584864544914,
          "COP": 2.5438604732187526,
          "Cycles/Hour": 0.39065325906098536,
          "Remote Thermostat": false
         },
         {
          "Adj Outdoor Temp": 26.44966015283852,
          "COP": 2.7717008442971127,
          "Cycles/Hour": 0.7872293898972228,
          "Remote Thermostat": false
         },
         {
          "Adj Outdoor Temp": 17.912796278364077,
          "COP": 2.5123818696805253,
          "Cycles/Hour": 0.2634515816242522,
          "Remote Thermostat": false
         },
         {
          "Adj Outdoor Temp": 17.013037637968864,
          "COP": 2.3985664425787006,
          "Cycles/Hour": 0.3316138540899042,
          "Remote Thermostat": false
         },
         {
          "Adj Outdoor Temp": 26.02185044543434,
          "COP": 2.7763613394103177,
          "Cycles/Hour": 1.0010937876568844,
          "Remote Thermostat": false
         },
         {
          "Adj Outdoor Temp": 28.305716406250028,
          "COP": 2.513475523836806,
          "Cycles/Hour": 1.7449013832444726,
          "Remote Thermostat": false
         },
         {
          "Adj Outdoor Temp": 27.486737790583348,
          "COP": 2.7641853871907975,
          "Cycles/Hour": 3.329094902323431,
          "Remote Thermostat": false
         },
         {
          "Adj Outdoor Temp": 28.973889907192778,
          "COP": 2.8403170030347753,
          "Cycles/Hour": 1.882553455221568,
          "Remote Thermostat": false
         },
         {
          "Adj Outdoor Temp": 25.245508920188016,
          "COP": 2.888001452628946,
          "Cycles/Hour": 1.6168085604936344,
          "Remote Thermostat": false
         },
         {
          "Adj Outdoor Temp": 28.33453246296454,
          "COP": 2.7491973755921397,
          "Cycles/Hour": 3.1317964332318398,
          "Remote Thermostat": false
         },
         {
          "Adj Outdoor Temp": 28.350019343065966,
          "COP": 2.8520208965818825,
          "Cycles/Hour": 2.9249862891267697,
          "Remote Thermostat": false
         },
         {
          "Adj Outdoor Temp": 30.87098848039227,
          "COP": 2.7008319529636373,
          "Cycles/Hour": 2.3569850233243312,
          "Remote Thermostat": false
         },
         {
          "Adj Outdoor Temp": 30.0259882233225,
          "COP": 2.639144797740541,
          "Cycles/Hour": 4.010066421882091,
          "Remote Thermostat": false
         },
         {
          "Adj Outdoor Temp": 25.67530233871055,
          "COP": 2.7700317392929987,
          "Cycles/Hour": 1.9446926097525503,
          "Remote Thermostat": false
         },
         {
          "Adj Outdoor Temp": 22.281209774435993,
          "COP": 2.5602214156524155,
          "Cycles/Hour": 0.301255230125523,
          "Remote Thermostat": false
         },
         {
          "Adj Outdoor Temp": 24.628338005050495,
          "COP": 2.415285396720515,
          "Cycles/Hour": 0.3035861109354247,
          "Remote Thermostat": false
         },
         {
          "Adj Outdoor Temp": 19.068156870228925,
          "COP": 2.713069629068522,
          "Cycles/Hour": 0.3059338418067093,
          "Remote Thermostat": false
         },
         {
          "Adj Outdoor Temp": 24.701167402597605,
          "COP": 2.877163337095526,
          "Cycles/Hour": 2.3423775131758737,
          "Remote Thermostat": false
         },
         {
          "Adj Outdoor Temp": 26.002483638743456,
          "COP": 2.9658997498145694,
          "Cycles/Hour": 1.7323213543603315,
          "Remote Thermostat": false
         },
         {
          "Adj Outdoor Temp": 25.89545461741409,
          "COP": 2.7128776776906736,
          "Cycles/Hour": 1.824069790496332,
          "Remote Thermostat": false
         },
         {
          "Adj Outdoor Temp": 27.321712765957557,
          "COP": 2.7535901381226995,
          "Cycles/Hour": 3.9922815889280727,
          "Remote Thermostat": false
         },
         {
          "Adj Outdoor Temp": 25.788076339448416,
          "COP": 2.873477944927349,
          "Cycles/Hour": 0.2758127537860408,
          "Remote Thermostat": false
         },
         {
          "Adj Outdoor Temp": 26.52453344709894,
          "COP": 2.6242602822615635,
          "Cycles/Hour": 4.931084667408612,
          "Remote Thermostat": false
         },
         {
          "Adj Outdoor Temp": 38.098546664739,
          "COP": 2.770874405704038,
          "Cycles/Hour": 2.55578093306288,
          "Remote Thermostat": true
         },
         {
          "Adj Outdoor Temp": 39.96034057377068,
          "COP": 2.784235092646947,
          "Cycles/Hour": 2.463559843974543,
          "Remote Thermostat": true
         },
         {
          "Adj Outdoor Temp": 40.89726784232377,
          "COP": 2.7976886849280036,
          "Cycles/Hour": 2.493592851700492,
          "Remote Thermostat": true
         },
         {
          "Adj Outdoor Temp": 36.44280624999995,
          "COP": 2.924256163420394,
          "Cycles/Hour": 3.3620689655172415,
          "Remote Thermostat": true
         },
         {
          "Adj Outdoor Temp": 38.39043656387663,
          "COP": 2.898030298181671,
          "Cycles/Hour": 3.5760273720613664,
          "Remote Thermostat": true
         },
         {
          "Adj Outdoor Temp": 42.628932667658795,
          "COP": 2.67819908917479,
          "Cycles/Hour": 3.8836396101480544,
          "Remote Thermostat": true
         },
         {
          "Adj Outdoor Temp": 41.49707285067863,
          "COP": 2.8628441539725222,
          "Cycles/Hour": 4.0723981900452495,
          "Remote Thermostat": true
         },
         {
          "Adj Outdoor Temp": 34.99415825688074,
          "COP": 3.103081784106833,
          "Cycles/Hour": 3.5779816513761467,
          "Remote Thermostat": true
         },
         {
          "Adj Outdoor Temp": 39.6487266203703,
          "COP": 2.9089920676658583,
          "Cycles/Hour": 3.7587006960556844,
          "Remote Thermostat": true
         },
         {
          "Adj Outdoor Temp": 41.12536863576275,
          "COP": 2.693256262415769,
          "Cycles/Hour": 3.811465767390793,
          "Remote Thermostat": true
         },
         {
          "Adj Outdoor Temp": 40.750220988490376,
          "COP": 2.585495515671823,
          "Cycles/Hour": 3.57227911407478,
          "Remote Thermostat": true
         },
         {
          "Adj Outdoor Temp": 41.14524134615382,
          "COP": 2.7352001989426737,
          "Cycles/Hour": 3.9031441994940366,
          "Remote Thermostat": true
         },
         {
          "Adj Outdoor Temp": 40.07407219512199,
          "COP": 2.757307097071298,
          "Cycles/Hour": 3.9603960396039604,
          "Remote Thermostat": true
         },
         {
          "Adj Outdoor Temp": 40.49496014851496,
          "COP": 3.01748769942299,
          "Cycles/Hour": 3.869207556529288,
          "Remote Thermostat": true
         },
         {
          "Adj Outdoor Temp": 43.353861499999965,
          "COP": 2.7959791305140254,
          "Cycles/Hour": 4.219338635412306,
          "Remote Thermostat": true
         },
         {
          "Adj Outdoor Temp": 46.65584746192881,
          "COP": 2.605530634970577,
          "Cycles/Hour": 4.273359335255215,
          "Remote Thermostat": true
         },
         {
          "Adj Outdoor Temp": 42.914453092783596,
          "COP": 2.816504258164943,
          "Cycles/Hour": 4.185866241763921,
          "Remote Thermostat": true
         },
         {
          "Adj Outdoor Temp": 44.21173046875005,
          "COP": 2.685241542931125,
          "Cycles/Hour": 4.396563004318053,
          "Remote Thermostat": true
         },
         {
          "Adj Outdoor Temp": 39.56843138297871,
          "COP": 2.766391123364232,
          "Cycles/Hour": 4.468085106382979,
          "Remote Thermostat": true
         },
         {
          "Adj Outdoor Temp": 44.32794516129039,
          "COP": 2.6434447223001345,
          "Cycles/Hour": 4.354838709677419,
          "Remote Thermostat": true
         },
         {
          "Adj Outdoor Temp": 43.47646548913031,
          "COP": 3.1366641146002747,
          "Cycles/Hour": 4.752367079388201,
          "Remote Thermostat": true
         },
         {
          "Adj Outdoor Temp": 42.49981657458576,
          "COP": 2.75638783031616,
          "Cycles/Hour": 4.321329639889197,
          "Remote Thermostat": true
         },
         {
          "Adj Outdoor Temp": 44.96019628401503,
          "COP": 2.7376404215182966,
          "Cycles/Hour": 4.546304957904583,
          "Remote Thermostat": true
         },
         {
          "Adj Outdoor Temp": 46.23234374999996,
          "COP": 2.9585240308231984,
          "Cycles/Hour": 4.786324786324786,
          "Remote Thermostat": true
         },
         {
          "Adj Outdoor Temp": 45.82697923976599,
          "COP": 2.8285211678666213,
          "Cycles/Hour": 4.572545188080118,
          "Remote Thermostat": true
         },
         {
          "Adj Outdoor Temp": 47.86520775402041,
          "COP": 2.658227242691549,
          "Cycles/Hour": 4.627020613970043,
          "Remote Thermostat": true
         },
         {
          "Adj Outdoor Temp": 46.399598789769875,
          "COP": 2.8508222477935785,
          "Cycles/Hour": 4.518525956421327,
          "Remote Thermostat": true
         },
         {
          "Adj Outdoor Temp": 43.57196018518505,
          "COP": 3.08333873819782,
          "Cycles/Hour": 4.654289703676889,
          "Remote Thermostat": true
         },
         {
          "Adj Outdoor Temp": 45.62256374999988,
          "COP": 2.995381060234686,
          "Cycles/Hour": 4.711548528949848,
          "Remote Thermostat": true
         },
         {
          "Adj Outdoor Temp": 46.03905127388529,
          "COP": 2.9290732386892064,
          "Cycles/Hour": 4.777070063694268,
          "Remote Thermostat": true
         },
         {
          "Adj Outdoor Temp": 47.82749530201344,
          "COP": 2.8176242818803128,
          "Cycles/Hour": 4.847396768402154,
          "Remote Thermostat": true
         },
         {
          "Adj Outdoor Temp": 46.565717647058804,
          "COP": 3.2780173624487983,
          "Cycles/Hour": 4.852941176470587,
          "Remote Thermostat": true
         },
         {
          "Adj Outdoor Temp": 44.207330555555465,
          "COP": 3.0741722403917846,
          "Cycles/Hour": 4.177109440267335,
          "Remote Thermostat": true
         }
        ]
       },
       "encoding": {
        "x": {
         "field": "Adj Outdoor Temp",
         "type": "quantitative"
        },
        "y": {
         "field": "COP",
         "type": "quantitative"
        }
       },
       "mark": "point"
      },
      "image/png": "[encoded data removed]",
      "text/plain": [
       "<VegaLite 2 object>\n",
       "\n",
       "If you see this message, it means the renderer has not been properly enabled\n",
       "for the frontend that you are using. For more information, see\n",
       "https://altair-viz.github.io/user_guide/troubleshooting.html\n"
      ]
     },
     "execution_count": 33,
     "metadata": {},
     "output_type": "execute_result"
    }
   ],
   "source": [
    "# Make a graph that includes points 31 F or below and those\n",
    "# points where the remote thermostat was being used.\n",
    "dfb = df_results[(df_results['Adj Outdoor Temp'] <= 31.0) | (df_results['Remote Thermostat'] == True)]\n",
    "alt.Chart(dfb).mark_point().encode(\n",
    "    x = 'Adj Outdoor Temp',\n",
    "    y = 'COP'\n",
    ")"
   ]
  },
  {
   "cell_type": "code",
   "execution_count": 34,
   "metadata": {},
   "outputs": [
    {
     "data": {
      "application/vnd.vegalite.v2+json": {
       "$schema": "https://vega.github.io/schema/vega-lite/v2.4.3.json",
       "config": {
        "view": {
         "height": 300,
         "width": 400
        }
       },
       "data": {
        "values": [
         {
          "Adj Outdoor Temp": 16.954373737373828,
          "COP": 2.225036925925578,
          "Cycles/Hour": 0.30349013657056145,
          "Remote Thermostat": false
         },
         {
          "Adj Outdoor Temp": 12.798682586557767,
          "COP": 1.9878295897607443,
          "Cycles/Hour": 0.24365894515981656,
          "Remote Thermostat": false
         },
         {
          "Adj Outdoor Temp": 15.606876632652906,
          "COP": 2.083569927880954,
          "Cycles/Hour": 0.30654995061139684,
          "Remote Thermostat": false
         },
         {
          "Adj Outdoor Temp": 26.07776579123076,
          "COP": 2.5868560043543614,
          "Cycles/Hour": 0.24614122352699858,
          "Remote Thermostat": false
         },
         {
          "Adj Outdoor Temp": 14.24963195876279,
          "COP": 2.2312140393135054,
          "Cycles/Hour": 0.18565952106719844,
          "Remote Thermostat": false
         },
         {
          "Adj Outdoor Temp": 15.420532640332823,
          "COP": 2.216977747025745,
          "Cycles/Hour": 0.3113648157758173,
          "Remote Thermostat": false
         },
         {
          "Adj Outdoor Temp": 12.358117652775015,
          "COP": 2.1728545076492196,
          "Cycles/Hour": 0.31315240083507306,
          "Remote Thermostat": false
         },
         {
          "Adj Outdoor Temp": 19.53126357507059,
          "COP": 2.27027741156383,
          "Cycles/Hour": 0.31461931063413273,
          "Remote Thermostat": false
         },
         {
          "Adj Outdoor Temp": 13.71517426160328,
          "COP": 2.322341786278019,
          "Cycles/Hour": 0.2531645569620253,
          "Remote Thermostat": false
         },
         {
          "Adj Outdoor Temp": 9.323180679405695,
          "COP": 2.2032414599781482,
          "Cycles/Hour": 0.2543540467022291,
          "Remote Thermostat": false
         },
         {
          "Adj Outdoor Temp": 11.405011513859499,
          "COP": 2.2008414937430754,
          "Cycles/Hour": 0.31982942430703626,
          "Remote Thermostat": false
         },
         {
          "Adj Outdoor Temp": 11.954945710000402,
          "COP": 2.293126864868536,
          "Cycles/Hour": 0.2572760894034411,
          "Remote Thermostat": false
         },
         {
          "Adj Outdoor Temp": 11.245885061815677,
          "COP": 2.2635976575869314,
          "Cycles/Hour": 0.2587787082629479,
          "Remote Thermostat": false
         },
         {
          "Adj Outdoor Temp": 27.865584864544914,
          "COP": 2.5438604732187526,
          "Cycles/Hour": 0.39065325906098536,
          "Remote Thermostat": false
         },
         {
          "Adj Outdoor Temp": 26.44966015283852,
          "COP": 2.7717008442971127,
          "Cycles/Hour": 0.7872293898972228,
          "Remote Thermostat": false
         },
         {
          "Adj Outdoor Temp": 17.912796278364077,
          "COP": 2.5123818696805253,
          "Cycles/Hour": 0.2634515816242522,
          "Remote Thermostat": false
         },
         {
          "Adj Outdoor Temp": 17.013037637968864,
          "COP": 2.3985664425787006,
          "Cycles/Hour": 0.3316138540899042,
          "Remote Thermostat": false
         },
         {
          "Adj Outdoor Temp": 26.02185044543434,
          "COP": 2.7763613394103177,
          "Cycles/Hour": 1.0010937876568844,
          "Remote Thermostat": false
         },
         {
          "Adj Outdoor Temp": 28.305716406250028,
          "COP": 2.513475523836806,
          "Cycles/Hour": 1.7449013832444726,
          "Remote Thermostat": false
         },
         {
          "Adj Outdoor Temp": 27.486737790583348,
          "COP": 2.7641853871907975,
          "Cycles/Hour": 3.329094902323431,
          "Remote Thermostat": false
         },
         {
          "Adj Outdoor Temp": 28.973889907192778,
          "COP": 2.8403170030347753,
          "Cycles/Hour": 1.882553455221568,
          "Remote Thermostat": false
         },
         {
          "Adj Outdoor Temp": 25.245508920188016,
          "COP": 2.888001452628946,
          "Cycles/Hour": 1.6168085604936344,
          "Remote Thermostat": false
         },
         {
          "Adj Outdoor Temp": 28.33453246296454,
          "COP": 2.7491973755921397,
          "Cycles/Hour": 3.1317964332318398,
          "Remote Thermostat": false
         },
         {
          "Adj Outdoor Temp": 28.350019343065966,
          "COP": 2.8520208965818825,
          "Cycles/Hour": 2.9249862891267697,
          "Remote Thermostat": false
         },
         {
          "Adj Outdoor Temp": 30.87098848039227,
          "COP": 2.7008319529636373,
          "Cycles/Hour": 2.3569850233243312,
          "Remote Thermostat": false
         },
         {
          "Adj Outdoor Temp": 30.0259882233225,
          "COP": 2.639144797740541,
          "Cycles/Hour": 4.010066421882091,
          "Remote Thermostat": false
         },
         {
          "Adj Outdoor Temp": 25.67530233871055,
          "COP": 2.7700317392929987,
          "Cycles/Hour": 1.9446926097525503,
          "Remote Thermostat": false
         },
         {
          "Adj Outdoor Temp": 22.281209774435993,
          "COP": 2.5602214156524155,
          "Cycles/Hour": 0.301255230125523,
          "Remote Thermostat": false
         },
         {
          "Adj Outdoor Temp": 24.628338005050495,
          "COP": 2.415285396720515,
          "Cycles/Hour": 0.3035861109354247,
          "Remote Thermostat": false
         },
         {
          "Adj Outdoor Temp": 19.068156870228925,
          "COP": 2.713069629068522,
          "Cycles/Hour": 0.3059338418067093,
          "Remote Thermostat": false
         },
         {
          "Adj Outdoor Temp": 24.701167402597605,
          "COP": 2.877163337095526,
          "Cycles/Hour": 2.3423775131758737,
          "Remote Thermostat": false
         },
         {
          "Adj Outdoor Temp": 26.002483638743456,
          "COP": 2.9658997498145694,
          "Cycles/Hour": 1.7323213543603315,
          "Remote Thermostat": false
         },
         {
          "Adj Outdoor Temp": 25.89545461741409,
          "COP": 2.7128776776906736,
          "Cycles/Hour": 1.824069790496332,
          "Remote Thermostat": false
         },
         {
          "Adj Outdoor Temp": 27.321712765957557,
          "COP": 2.7535901381226995,
          "Cycles/Hour": 3.9922815889280727,
          "Remote Thermostat": false
         },
         {
          "Adj Outdoor Temp": 25.788076339448416,
          "COP": 2.873477944927349,
          "Cycles/Hour": 0.2758127537860408,
          "Remote Thermostat": false
         },
         {
          "Adj Outdoor Temp": 26.52453344709894,
          "COP": 2.6242602822615635,
          "Cycles/Hour": 4.931084667408612,
          "Remote Thermostat": false
         },
         {
          "Adj Outdoor Temp": 38.098546664739,
          "COP": 2.770874405704038,
          "Cycles/Hour": 2.55578093306288,
          "Remote Thermostat": true
         },
         {
          "Adj Outdoor Temp": 39.96034057377068,
          "COP": 2.784235092646947,
          "Cycles/Hour": 2.463559843974543,
          "Remote Thermostat": true
         },
         {
          "Adj Outdoor Temp": 40.89726784232377,
          "COP": 2.7976886849280036,
          "Cycles/Hour": 2.493592851700492,
          "Remote Thermostat": true
         },
         {
          "Adj Outdoor Temp": 36.44280624999995,
          "COP": 2.924256163420394,
          "Cycles/Hour": 3.3620689655172415,
          "Remote Thermostat": true
         },
         {
          "Adj Outdoor Temp": 38.39043656387663,
          "COP": 2.898030298181671,
          "Cycles/Hour": 3.5760273720613664,
          "Remote Thermostat": true
         },
         {
          "Adj Outdoor Temp": 42.628932667658795,
          "COP": 2.67819908917479,
          "Cycles/Hour": 3.8836396101480544,
          "Remote Thermostat": true
         },
         {
          "Adj Outdoor Temp": 41.49707285067863,
          "COP": 2.8628441539725222,
          "Cycles/Hour": 4.0723981900452495,
          "Remote Thermostat": true
         },
         {
          "Adj Outdoor Temp": 34.99415825688074,
          "COP": 3.103081784106833,
          "Cycles/Hour": 3.5779816513761467,
          "Remote Thermostat": true
         },
         {
          "Adj Outdoor Temp": 39.6487266203703,
          "COP": 2.9089920676658583,
          "Cycles/Hour": 3.7587006960556844,
          "Remote Thermostat": true
         },
         {
          "Adj Outdoor Temp": 41.12536863576275,
          "COP": 2.693256262415769,
          "Cycles/Hour": 3.811465767390793,
          "Remote Thermostat": true
         },
         {
          "Adj Outdoor Temp": 40.750220988490376,
          "COP": 2.585495515671823,
          "Cycles/Hour": 3.57227911407478,
          "Remote Thermostat": true
         },
         {
          "Adj Outdoor Temp": 41.14524134615382,
          "COP": 2.7352001989426737,
          "Cycles/Hour": 3.9031441994940366,
          "Remote Thermostat": true
         },
         {
          "Adj Outdoor Temp": 40.07407219512199,
          "COP": 2.757307097071298,
          "Cycles/Hour": 3.9603960396039604,
          "Remote Thermostat": true
         },
         {
          "Adj Outdoor Temp": 40.49496014851496,
          "COP": 3.01748769942299,
          "Cycles/Hour": 3.869207556529288,
          "Remote Thermostat": true
         },
         {
          "Adj Outdoor Temp": 43.353861499999965,
          "COP": 2.7959791305140254,
          "Cycles/Hour": 4.219338635412306,
          "Remote Thermostat": true
         },
         {
          "Adj Outdoor Temp": 46.65584746192881,
          "COP": 2.605530634970577,
          "Cycles/Hour": 4.273359335255215,
          "Remote Thermostat": true
         },
         {
          "Adj Outdoor Temp": 42.914453092783596,
          "COP": 2.816504258164943,
          "Cycles/Hour": 4.185866241763921,
          "Remote Thermostat": true
         },
         {
          "Adj Outdoor Temp": 44.21173046875005,
          "COP": 2.685241542931125,
          "Cycles/Hour": 4.396563004318053,
          "Remote Thermostat": true
         },
         {
          "Adj Outdoor Temp": 39.56843138297871,
          "COP": 2.766391123364232,
          "Cycles/Hour": 4.468085106382979,
          "Remote Thermostat": true
         },
         {
          "Adj Outdoor Temp": 44.32794516129039,
          "COP": 2.6434447223001345,
          "Cycles/Hour": 4.354838709677419,
          "Remote Thermostat": true
         },
         {
          "Adj Outdoor Temp": 43.47646548913031,
          "COP": 3.1366641146002747,
          "Cycles/Hour": 4.752367079388201,
          "Remote Thermostat": true
         },
         {
          "Adj Outdoor Temp": 42.49981657458576,
          "COP": 2.75638783031616,
          "Cycles/Hour": 4.321329639889197,
          "Remote Thermostat": true
         },
         {
          "Adj Outdoor Temp": 44.96019628401503,
          "COP": 2.7376404215182966,
          "Cycles/Hour": 4.546304957904583,
          "Remote Thermostat": true
         },
         {
          "Adj Outdoor Temp": 46.23234374999996,
          "COP": 2.9585240308231984,
          "Cycles/Hour": 4.786324786324786,
          "Remote Thermostat": true
         },
         {
          "Adj Outdoor Temp": 45.82697923976599,
          "COP": 2.8285211678666213,
          "Cycles/Hour": 4.572545188080118,
          "Remote Thermostat": true
         },
         {
          "Adj Outdoor Temp": 47.86520775402041,
          "COP": 2.658227242691549,
          "Cycles/Hour": 4.627020613970043,
          "Remote Thermostat": true
         },
         {
          "Adj Outdoor Temp": 46.399598789769875,
          "COP": 2.8508222477935785,
          "Cycles/Hour": 4.518525956421327,
          "Remote Thermostat": true
         },
         {
          "Adj Outdoor Temp": 43.57196018518505,
          "COP": 3.08333873819782,
          "Cycles/Hour": 4.654289703676889,
          "Remote Thermostat": true
         },
         {
          "Adj Outdoor Temp": 45.62256374999988,
          "COP": 2.995381060234686,
          "Cycles/Hour": 4.711548528949848,
          "Remote Thermostat": true
         },
         {
          "Adj Outdoor Temp": 46.03905127388529,
          "COP": 2.9290732386892064,
          "Cycles/Hour": 4.777070063694268,
          "Remote Thermostat": true
         },
         {
          "Adj Outdoor Temp": 47.82749530201344,
          "COP": 2.8176242818803128,
          "Cycles/Hour": 4.847396768402154,
          "Remote Thermostat": true
         },
         {
          "Adj Outdoor Temp": 46.565717647058804,
          "COP": 3.2780173624487983,
          "Cycles/Hour": 4.852941176470587,
          "Remote Thermostat": true
         },
         {
          "Adj Outdoor Temp": 44.207330555555465,
          "COP": 3.0741722403917846,
          "Cycles/Hour": 4.177109440267335,
          "Remote Thermostat": true
         }
        ]
       },
       "encoding": {
        "x": {
         "axis": {
          "title": "Outdoor Temperature"
         },
         "bin": {
          "maxbins": 10
         },
         "field": "Adj Outdoor Temp",
         "type": "quantitative"
        },
        "y": {
         "aggregate": "mean",
         "axis": {
          "title": "COP"
         },
         "field": "COP",
         "type": "quantitative"
        }
       },
       "mark": {
        "point": true,
        "type": "line"
       }
      },
      "image/png": "[encoded data removed]",
      "text/plain": [
       "<VegaLite 2 object>\n",
       "\n",
       "If you see this message, it means the renderer has not been properly enabled\n",
       "for the frontend that you are using. For more information, see\n",
       "https://altair-viz.github.io/user_guide/troubleshooting.html\n"
      ]
     },
     "execution_count": 34,
     "metadata": {},
     "output_type": "execute_result"
    }
   ],
   "source": [
    "line = alt.Chart(dfb).mark_line(point=True).encode(\n",
    "    x = alt.X('Adj Outdoor Temp', bin=alt.Bin(maxbins=10), axis=alt.Axis(title='Outdoor Temperature')),\n",
    "    y = alt.Y('mean(COP)', axis=alt.Axis(title='COP')),\n",
    ")\n",
    "\n",
    "#middle_50 = alt.Chart(dfb).mark_area(opacity=0.3).encode(\n",
    "#    x = alt.X('Adj Outdoor Temp', bin=alt.Bin(maxbins=10)),\n",
    "#    y=alt.Y('q1(COP)', axis=alt.Axis(title='COP')),\n",
    "#    y2='q3(COP)'\n",
    "#)\n",
    "\n",
    "line"
   ]
  },
  {
   "cell_type": "code",
   "execution_count": 35,
   "metadata": {},
   "outputs": [
    {
     "data": {
      "application/vnd.vegalite.v2+json": {
       "$schema": "https://vega.github.io/schema/vega-lite/v2.4.3.json",
       "config": {
        "view": {
         "height": 300,
         "width": 400
        }
       },
       "data": {
        "values": [
         {
          "Adj Outdoor Temp": 16.954373737373828,
          "COP": 2.225036925925578,
          "Cycles/Hour": 0.30349013657056145,
          "Remote Thermostat": false
         },
         {
          "Adj Outdoor Temp": 12.798682586557767,
          "COP": 1.9878295897607443,
          "Cycles/Hour": 0.24365894515981656,
          "Remote Thermostat": false
         },
         {
          "Adj Outdoor Temp": 15.606876632652906,
          "COP": 2.083569927880954,
          "Cycles/Hour": 0.30654995061139684,
          "Remote Thermostat": false
         },
         {
          "Adj Outdoor Temp": 26.07776579123076,
          "COP": 2.5868560043543614,
          "Cycles/Hour": 0.24614122352699858,
          "Remote Thermostat": false
         },
         {
          "Adj Outdoor Temp": 14.24963195876279,
          "COP": 2.2312140393135054,
          "Cycles/Hour": 0.18565952106719844,
          "Remote Thermostat": false
         },
         {
          "Adj Outdoor Temp": 15.420532640332823,
          "COP": 2.216977747025745,
          "Cycles/Hour": 0.3113648157758173,
          "Remote Thermostat": false
         },
         {
          "Adj Outdoor Temp": 12.358117652775015,
          "COP": 2.1728545076492196,
          "Cycles/Hour": 0.31315240083507306,
          "Remote Thermostat": false
         },
         {
          "Adj Outdoor Temp": 19.53126357507059,
          "COP": 2.27027741156383,
          "Cycles/Hour": 0.31461931063413273,
          "Remote Thermostat": false
         },
         {
          "Adj Outdoor Temp": 13.71517426160328,
          "COP": 2.322341786278019,
          "Cycles/Hour": 0.2531645569620253,
          "Remote Thermostat": false
         },
         {
          "Adj Outdoor Temp": 9.323180679405695,
          "COP": 2.2032414599781482,
          "Cycles/Hour": 0.2543540467022291,
          "Remote Thermostat": false
         },
         {
          "Adj Outdoor Temp": 11.405011513859499,
          "COP": 2.2008414937430754,
          "Cycles/Hour": 0.31982942430703626,
          "Remote Thermostat": false
         },
         {
          "Adj Outdoor Temp": 11.954945710000402,
          "COP": 2.293126864868536,
          "Cycles/Hour": 0.2572760894034411,
          "Remote Thermostat": false
         },
         {
          "Adj Outdoor Temp": 11.245885061815677,
          "COP": 2.2635976575869314,
          "Cycles/Hour": 0.2587787082629479,
          "Remote Thermostat": false
         },
         {
          "Adj Outdoor Temp": 27.865584864544914,
          "COP": 2.5438604732187526,
          "Cycles/Hour": 0.39065325906098536,
          "Remote Thermostat": false
         },
         {
          "Adj Outdoor Temp": 26.44966015283852,
          "COP": 2.7717008442971127,
          "Cycles/Hour": 0.7872293898972228,
          "Remote Thermostat": false
         },
         {
          "Adj Outdoor Temp": 17.912796278364077,
          "COP": 2.5123818696805253,
          "Cycles/Hour": 0.2634515816242522,
          "Remote Thermostat": false
         },
         {
          "Adj Outdoor Temp": 17.013037637968864,
          "COP": 2.3985664425787006,
          "Cycles/Hour": 0.3316138540899042,
          "Remote Thermostat": false
         },
         {
          "Adj Outdoor Temp": 26.02185044543434,
          "COP": 2.7763613394103177,
          "Cycles/Hour": 1.0010937876568844,
          "Remote Thermostat": false
         },
         {
          "Adj Outdoor Temp": 28.305716406250028,
          "COP": 2.513475523836806,
          "Cycles/Hour": 1.7449013832444726,
          "Remote Thermostat": false
         },
         {
          "Adj Outdoor Temp": 36.26267171843547,
          "COP": 2.0943676297744065,
          "Cycles/Hour": 8.315336801186833,
          "Remote Thermostat": false
         },
         {
          "Adj Outdoor Temp": 39.283457307336306,
          "COP": 2.2384237887072627,
          "Cycles/Hour": 6.326530612244898,
          "Remote Thermostat": false
         },
         {
          "Adj Outdoor Temp": 35.096042200698164,
          "COP": 2.360572434568375,
          "Cycles/Hour": 7.385457032140415,
          "Remote Thermostat": false
         },
         {
          "Adj Outdoor Temp": 35.487245106379696,
          "COP": 2.1911250168617755,
          "Cycles/Hour": 7.099640039825381,
          "Remote Thermostat": false
         },
         {
          "Adj Outdoor Temp": 27.486737790583348,
          "COP": 2.7641853871907975,
          "Cycles/Hour": 3.329094902323431,
          "Remote Thermostat": false
         },
         {
          "Adj Outdoor Temp": 28.973889907192778,
          "COP": 2.8403170030347753,
          "Cycles/Hour": 1.882553455221568,
          "Remote Thermostat": false
         },
         {
          "Adj Outdoor Temp": 25.245508920188016,
          "COP": 2.888001452628946,
          "Cycles/Hour": 1.6168085604936344,
          "Remote Thermostat": false
         },
         {
          "Adj Outdoor Temp": 33.5714758823531,
          "COP": 2.402131685141186,
          "Cycles/Hour": 5.094139381313628,
          "Remote Thermostat": false
         },
         {
          "Adj Outdoor Temp": 28.33453246296454,
          "COP": 2.7491973755921397,
          "Cycles/Hour": 3.1317964332318398,
          "Remote Thermostat": false
         },
         {
          "Adj Outdoor Temp": 31.672627923627715,
          "COP": 2.648779847895114,
          "Cycles/Hour": 4.662004662004661,
          "Remote Thermostat": false
         },
         {
          "Adj Outdoor Temp": 32.82176055550278,
          "COP": 2.4826093947798555,
          "Cycles/Hour": 5.336538461538462,
          "Remote Thermostat": false
         },
         {
          "Adj Outdoor Temp": 34.25521549636819,
          "COP": 2.4813606346252124,
          "Cycles/Hour": 4.729374671571203,
          "Remote Thermostat": false
         },
         {
          "Adj Outdoor Temp": 28.350019343065966,
          "COP": 2.8520208965818825,
          "Cycles/Hour": 2.9249862891267697,
          "Remote Thermostat": false
         },
         {
          "Adj Outdoor Temp": 30.87098848039227,
          "COP": 2.7008319529636373,
          "Cycles/Hour": 2.3569850233243312,
          "Remote Thermostat": false
         },
         {
          "Adj Outdoor Temp": 30.0259882233225,
          "COP": 2.639144797740541,
          "Cycles/Hour": 4.010066421882091,
          "Remote Thermostat": false
         },
         {
          "Adj Outdoor Temp": 25.67530233871055,
          "COP": 2.7700317392929987,
          "Cycles/Hour": 1.9446926097525503,
          "Remote Thermostat": false
         },
         {
          "Adj Outdoor Temp": 22.281209774435993,
          "COP": 2.5602214156524155,
          "Cycles/Hour": 0.301255230125523,
          "Remote Thermostat": false
         },
         {
          "Adj Outdoor Temp": 24.628338005050495,
          "COP": 2.415285396720515,
          "Cycles/Hour": 0.3035861109354247,
          "Remote Thermostat": false
         },
         {
          "Adj Outdoor Temp": 19.068156870228925,
          "COP": 2.713069629068522,
          "Cycles/Hour": 0.3059338418067093,
          "Remote Thermostat": false
         },
         {
          "Adj Outdoor Temp": 32.33912474358996,
          "COP": 2.577119494526201,
          "Cycles/Hour": 5.471358849216543,
          "Remote Thermostat": false
         },
         {
          "Adj Outdoor Temp": 34.06434613578299,
          "COP": 2.4740762144697155,
          "Cycles/Hour": 5.345039054935124,
          "Remote Thermostat": false
         },
         {
          "Adj Outdoor Temp": 24.701167402597605,
          "COP": 2.877163337095526,
          "Cycles/Hour": 2.3423775131758737,
          "Remote Thermostat": false
         },
         {
          "Adj Outdoor Temp": 26.002483638743456,
          "COP": 2.9658997498145694,
          "Cycles/Hour": 1.7323213543603315,
          "Remote Thermostat": false
         },
         {
          "Adj Outdoor Temp": 25.89545461741409,
          "COP": 2.7128776776906736,
          "Cycles/Hour": 1.824069790496332,
          "Remote Thermostat": false
         },
         {
          "Adj Outdoor Temp": 27.321712765957557,
          "COP": 2.7535901381226995,
          "Cycles/Hour": 3.9922815889280727,
          "Remote Thermostat": false
         },
         {
          "Adj Outdoor Temp": 35.395075335120886,
          "COP": 2.0498964157399095,
          "Cycles/Hour": 6.836461126005362,
          "Remote Thermostat": false
         },
         {
          "Adj Outdoor Temp": 33.521831662134495,
          "COP": 2.227012602018707,
          "Cycles/Hour": 7.53409828967309,
          "Remote Thermostat": false
         },
         {
          "Adj Outdoor Temp": 37.37385863413191,
          "COP": 2.226859104935699,
          "Cycles/Hour": 8.651115372478579,
          "Remote Thermostat": false
         },
         {
          "Adj Outdoor Temp": 35.57605645161307,
          "COP": 2.196285782040617,
          "Cycles/Hour": 8.181818181818182,
          "Remote Thermostat": false
         },
         {
          "Adj Outdoor Temp": 34.50941005917159,
          "COP": 2.196383144965706,
          "Cycles/Hour": 7.455621301775148,
          "Remote Thermostat": false
         },
         {
          "Adj Outdoor Temp": 25.788076339448416,
          "COP": 2.873477944927349,
          "Cycles/Hour": 0.2758127537860408,
          "Remote Thermostat": false
         },
         {
          "Adj Outdoor Temp": 34.92627947530878,
          "COP": 2.424667436997804,
          "Cycles/Hour": 7.784184514003296,
          "Remote Thermostat": false
         },
         {
          "Adj Outdoor Temp": 31.899007320872386,
          "COP": 2.8598286666295505,
          "Cycles/Hour": 2.429906542056075,
          "Remote Thermostat": false
         },
         {
          "Adj Outdoor Temp": 35.89342881355913,
          "COP": 2.04754148892722,
          "Cycles/Hour": 7.541828270531948,
          "Remote Thermostat": false
         },
         {
          "Adj Outdoor Temp": 26.52453344709894,
          "COP": 2.6242602822615635,
          "Cycles/Hour": 4.931084667408612,
          "Remote Thermostat": false
         },
         {
          "Adj Outdoor Temp": 36.02771145099851,
          "COP": 2.2278379688673073,
          "Cycles/Hour": 8.304498269896195,
          "Remote Thermostat": false
         },
         {
          "Adj Outdoor Temp": 36.31284491228078,
          "COP": 2.439187428197379,
          "Cycles/Hour": 9.865889212827987,
          "Remote Thermostat": false
         },
         {
          "Adj Outdoor Temp": 39.32159313380287,
          "COP": 2.5172370591416326,
          "Cycles/Hour": 12.391150859025654,
          "Remote Thermostat": false
         },
         {
          "Adj Outdoor Temp": 43.56237357142844,
          "COP": 2.266642264933841,
          "Cycles/Hour": 11.329157141584776,
          "Remote Thermostat": false
         },
         {
          "Adj Outdoor Temp": 37.81718075539568,
          "COP": 2.4188392156639753,
          "Cycles/Hour": 10.92810771820149,
          "Remote Thermostat": false
         },
         {
          "Adj Outdoor Temp": 38.64574911775349,
          "COP": 2.3147117174650695,
          "Cycles/Hour": 8.524072612470402,
          "Remote Thermostat": false
         },
         {
          "Adj Outdoor Temp": 38.03086287878798,
          "COP": 2.591574766391989,
          "Cycles/Hour": 9.448818897637794,
          "Remote Thermostat": false
         },
         {
          "Adj Outdoor Temp": 36.86779830611019,
          "COP": 2.4106675794068573,
          "Cycles/Hour": 10.362694300518134,
          "Remote Thermostat": false
         }
        ]
       },
       "encoding": {
        "x": {
         "field": "Adj Outdoor Temp",
         "type": "quantitative"
        },
        "y": {
         "field": "COP",
         "type": "quantitative"
        }
       },
       "mark": "point"
      },
      "image/png": "[encoded data removed]",
      "text/plain": [
       "<VegaLite 2 object>\n",
       "\n",
       "If you see this message, it means the renderer has not been properly enabled\n",
       "for the frontend that you are using. For more information, see\n",
       "https://altair-viz.github.io/user_guide/troubleshooting.html\n"
      ]
     },
     "execution_count": 35,
     "metadata": {},
     "output_type": "execute_result"
    }
   ],
   "source": [
    "# Now only look at points without the remote thermostat\n",
    "dfb = df_results[df_results['Remote Thermostat'] == False]\n",
    "alt.Chart(dfb).mark_point().encode(\n",
    "    x = 'Adj Outdoor Temp',\n",
    "    y = 'COP'\n",
    ")"
   ]
  },
  {
   "cell_type": "code",
   "execution_count": 36,
   "metadata": {},
   "outputs": [
    {
     "data": {
      "application/vnd.vegalite.v2+json": {
       "$schema": "https://vega.github.io/schema/vega-lite/v2.4.3.json",
       "config": {
        "view": {
         "height": 300,
         "width": 400
        }
       },
       "data": {
        "values": [
         {
          "Adj Outdoor Temp": 16.954373737373828,
          "COP": 2.225036925925578,
          "Cycles/Hour": 0.30349013657056145,
          "Remote Thermostat": false
         },
         {
          "Adj Outdoor Temp": 12.798682586557767,
          "COP": 1.9878295897607443,
          "Cycles/Hour": 0.24365894515981656,
          "Remote Thermostat": false
         },
         {
          "Adj Outdoor Temp": 15.606876632652906,
          "COP": 2.083569927880954,
          "Cycles/Hour": 0.30654995061139684,
          "Remote Thermostat": false
         },
         {
          "Adj Outdoor Temp": 26.07776579123076,
          "COP": 2.5868560043543614,
          "Cycles/Hour": 0.24614122352699858,
          "Remote Thermostat": false
         },
         {
          "Adj Outdoor Temp": 14.24963195876279,
          "COP": 2.2312140393135054,
          "Cycles/Hour": 0.18565952106719844,
          "Remote Thermostat": false
         },
         {
          "Adj Outdoor Temp": 15.420532640332823,
          "COP": 2.216977747025745,
          "Cycles/Hour": 0.3113648157758173,
          "Remote Thermostat": false
         },
         {
          "Adj Outdoor Temp": 12.358117652775015,
          "COP": 2.1728545076492196,
          "Cycles/Hour": 0.31315240083507306,
          "Remote Thermostat": false
         },
         {
          "Adj Outdoor Temp": 19.53126357507059,
          "COP": 2.27027741156383,
          "Cycles/Hour": 0.31461931063413273,
          "Remote Thermostat": false
         },
         {
          "Adj Outdoor Temp": 13.71517426160328,
          "COP": 2.322341786278019,
          "Cycles/Hour": 0.2531645569620253,
          "Remote Thermostat": false
         },
         {
          "Adj Outdoor Temp": 9.323180679405695,
          "COP": 2.2032414599781482,
          "Cycles/Hour": 0.2543540467022291,
          "Remote Thermostat": false
         },
         {
          "Adj Outdoor Temp": 11.405011513859499,
          "COP": 2.2008414937430754,
          "Cycles/Hour": 0.31982942430703626,
          "Remote Thermostat": false
         },
         {
          "Adj Outdoor Temp": 11.954945710000402,
          "COP": 2.293126864868536,
          "Cycles/Hour": 0.2572760894034411,
          "Remote Thermostat": false
         },
         {
          "Adj Outdoor Temp": 11.245885061815677,
          "COP": 2.2635976575869314,
          "Cycles/Hour": 0.2587787082629479,
          "Remote Thermostat": false
         },
         {
          "Adj Outdoor Temp": 27.865584864544914,
          "COP": 2.5438604732187526,
          "Cycles/Hour": 0.39065325906098536,
          "Remote Thermostat": false
         },
         {
          "Adj Outdoor Temp": 26.44966015283852,
          "COP": 2.7717008442971127,
          "Cycles/Hour": 0.7872293898972228,
          "Remote Thermostat": false
         },
         {
          "Adj Outdoor Temp": 17.912796278364077,
          "COP": 2.5123818696805253,
          "Cycles/Hour": 0.2634515816242522,
          "Remote Thermostat": false
         },
         {
          "Adj Outdoor Temp": 17.013037637968864,
          "COP": 2.3985664425787006,
          "Cycles/Hour": 0.3316138540899042,
          "Remote Thermostat": false
         },
         {
          "Adj Outdoor Temp": 26.02185044543434,
          "COP": 2.7763613394103177,
          "Cycles/Hour": 1.0010937876568844,
          "Remote Thermostat": false
         },
         {
          "Adj Outdoor Temp": 28.305716406250028,
          "COP": 2.513475523836806,
          "Cycles/Hour": 1.7449013832444726,
          "Remote Thermostat": false
         },
         {
          "Adj Outdoor Temp": 36.26267171843547,
          "COP": 2.0943676297744065,
          "Cycles/Hour": 8.315336801186833,
          "Remote Thermostat": false
         },
         {
          "Adj Outdoor Temp": 39.283457307336306,
          "COP": 2.2384237887072627,
          "Cycles/Hour": 6.326530612244898,
          "Remote Thermostat": false
         },
         {
          "Adj Outdoor Temp": 35.096042200698164,
          "COP": 2.360572434568375,
          "Cycles/Hour": 7.385457032140415,
          "Remote Thermostat": false
         },
         {
          "Adj Outdoor Temp": 35.487245106379696,
          "COP": 2.1911250168617755,
          "Cycles/Hour": 7.099640039825381,
          "Remote Thermostat": false
         },
         {
          "Adj Outdoor Temp": 27.486737790583348,
          "COP": 2.7641853871907975,
          "Cycles/Hour": 3.329094902323431,
          "Remote Thermostat": false
         },
         {
          "Adj Outdoor Temp": 28.973889907192778,
          "COP": 2.8403170030347753,
          "Cycles/Hour": 1.882553455221568,
          "Remote Thermostat": false
         },
         {
          "Adj Outdoor Temp": 25.245508920188016,
          "COP": 2.888001452628946,
          "Cycles/Hour": 1.6168085604936344,
          "Remote Thermostat": false
         },
         {
          "Adj Outdoor Temp": 33.5714758823531,
          "COP": 2.402131685141186,
          "Cycles/Hour": 5.094139381313628,
          "Remote Thermostat": false
         },
         {
          "Adj Outdoor Temp": 28.33453246296454,
          "COP": 2.7491973755921397,
          "Cycles/Hour": 3.1317964332318398,
          "Remote Thermostat": false
         },
         {
          "Adj Outdoor Temp": 31.672627923627715,
          "COP": 2.648779847895114,
          "Cycles/Hour": 4.662004662004661,
          "Remote Thermostat": false
         },
         {
          "Adj Outdoor Temp": 32.82176055550278,
          "COP": 2.4826093947798555,
          "Cycles/Hour": 5.336538461538462,
          "Remote Thermostat": false
         },
         {
          "Adj Outdoor Temp": 34.25521549636819,
          "COP": 2.4813606346252124,
          "Cycles/Hour": 4.729374671571203,
          "Remote Thermostat": false
         },
         {
          "Adj Outdoor Temp": 28.350019343065966,
          "COP": 2.8520208965818825,
          "Cycles/Hour": 2.9249862891267697,
          "Remote Thermostat": false
         },
         {
          "Adj Outdoor Temp": 30.87098848039227,
          "COP": 2.7008319529636373,
          "Cycles/Hour": 2.3569850233243312,
          "Remote Thermostat": false
         },
         {
          "Adj Outdoor Temp": 30.0259882233225,
          "COP": 2.639144797740541,
          "Cycles/Hour": 4.010066421882091,
          "Remote Thermostat": false
         },
         {
          "Adj Outdoor Temp": 25.67530233871055,
          "COP": 2.7700317392929987,
          "Cycles/Hour": 1.9446926097525503,
          "Remote Thermostat": false
         },
         {
          "Adj Outdoor Temp": 22.281209774435993,
          "COP": 2.5602214156524155,
          "Cycles/Hour": 0.301255230125523,
          "Remote Thermostat": false
         },
         {
          "Adj Outdoor Temp": 24.628338005050495,
          "COP": 2.415285396720515,
          "Cycles/Hour": 0.3035861109354247,
          "Remote Thermostat": false
         },
         {
          "Adj Outdoor Temp": 19.068156870228925,
          "COP": 2.713069629068522,
          "Cycles/Hour": 0.3059338418067093,
          "Remote Thermostat": false
         },
         {
          "Adj Outdoor Temp": 32.33912474358996,
          "COP": 2.577119494526201,
          "Cycles/Hour": 5.471358849216543,
          "Remote Thermostat": false
         },
         {
          "Adj Outdoor Temp": 34.06434613578299,
          "COP": 2.4740762144697155,
          "Cycles/Hour": 5.345039054935124,
          "Remote Thermostat": false
         },
         {
          "Adj Outdoor Temp": 24.701167402597605,
          "COP": 2.877163337095526,
          "Cycles/Hour": 2.3423775131758737,
          "Remote Thermostat": false
         },
         {
          "Adj Outdoor Temp": 26.002483638743456,
          "COP": 2.9658997498145694,
          "Cycles/Hour": 1.7323213543603315,
          "Remote Thermostat": false
         },
         {
          "Adj Outdoor Temp": 25.89545461741409,
          "COP": 2.7128776776906736,
          "Cycles/Hour": 1.824069790496332,
          "Remote Thermostat": false
         },
         {
          "Adj Outdoor Temp": 27.321712765957557,
          "COP": 2.7535901381226995,
          "Cycles/Hour": 3.9922815889280727,
          "Remote Thermostat": false
         },
         {
          "Adj Outdoor Temp": 35.395075335120886,
          "COP": 2.0498964157399095,
          "Cycles/Hour": 6.836461126005362,
          "Remote Thermostat": false
         },
         {
          "Adj Outdoor Temp": 33.521831662134495,
          "COP": 2.227012602018707,
          "Cycles/Hour": 7.53409828967309,
          "Remote Thermostat": false
         },
         {
          "Adj Outdoor Temp": 37.37385863413191,
          "COP": 2.226859104935699,
          "Cycles/Hour": 8.651115372478579,
          "Remote Thermostat": false
         },
         {
          "Adj Outdoor Temp": 35.57605645161307,
          "COP": 2.196285782040617,
          "Cycles/Hour": 8.181818181818182,
          "Remote Thermostat": false
         },
         {
          "Adj Outdoor Temp": 34.50941005917159,
          "COP": 2.196383144965706,
          "Cycles/Hour": 7.455621301775148,
          "Remote Thermostat": false
         },
         {
          "Adj Outdoor Temp": 25.788076339448416,
          "COP": 2.873477944927349,
          "Cycles/Hour": 0.2758127537860408,
          "Remote Thermostat": false
         },
         {
          "Adj Outdoor Temp": 34.92627947530878,
          "COP": 2.424667436997804,
          "Cycles/Hour": 7.784184514003296,
          "Remote Thermostat": false
         },
         {
          "Adj Outdoor Temp": 31.899007320872386,
          "COP": 2.8598286666295505,
          "Cycles/Hour": 2.429906542056075,
          "Remote Thermostat": false
         },
         {
          "Adj Outdoor Temp": 35.89342881355913,
          "COP": 2.04754148892722,
          "Cycles/Hour": 7.541828270531948,
          "Remote Thermostat": false
         },
         {
          "Adj Outdoor Temp": 26.52453344709894,
          "COP": 2.6242602822615635,
          "Cycles/Hour": 4.931084667408612,
          "Remote Thermostat": false
         },
         {
          "Adj Outdoor Temp": 36.02771145099851,
          "COP": 2.2278379688673073,
          "Cycles/Hour": 8.304498269896195,
          "Remote Thermostat": false
         },
         {
          "Adj Outdoor Temp": 36.31284491228078,
          "COP": 2.439187428197379,
          "Cycles/Hour": 9.865889212827987,
          "Remote Thermostat": false
         },
         {
          "Adj Outdoor Temp": 39.32159313380287,
          "COP": 2.5172370591416326,
          "Cycles/Hour": 12.391150859025654,
          "Remote Thermostat": false
         },
         {
          "Adj Outdoor Temp": 43.56237357142844,
          "COP": 2.266642264933841,
          "Cycles/Hour": 11.329157141584776,
          "Remote Thermostat": false
         },
         {
          "Adj Outdoor Temp": 37.81718075539568,
          "COP": 2.4188392156639753,
          "Cycles/Hour": 10.92810771820149,
          "Remote Thermostat": false
         },
         {
          "Adj Outdoor Temp": 38.64574911775349,
          "COP": 2.3147117174650695,
          "Cycles/Hour": 8.524072612470402,
          "Remote Thermostat": false
         },
         {
          "Adj Outdoor Temp": 38.03086287878798,
          "COP": 2.591574766391989,
          "Cycles/Hour": 9.448818897637794,
          "Remote Thermostat": false
         },
         {
          "Adj Outdoor Temp": 36.86779830611019,
          "COP": 2.4106675794068573,
          "Cycles/Hour": 10.362694300518134,
          "Remote Thermostat": false
         }
        ]
       },
       "encoding": {
        "x": {
         "axis": {
          "title": "Adj Outdoor Temperature"
         },
         "bin": {
          "maxbins": 10
         },
         "field": "Adj Outdoor Temp",
         "type": "quantitative"
        },
        "y": {
         "aggregate": "mean",
         "axis": {
          "title": "COP"
         },
         "field": "COP",
         "type": "quantitative"
        }
       },
       "mark": {
        "point": true,
        "type": "line"
       }
      },
      "image/png": "[encoded data removed]",
      "text/plain": [
       "<VegaLite 2 object>\n",
       "\n",
       "If you see this message, it means the renderer has not been properly enabled\n",
       "for the frontend that you are using. For more information, see\n",
       "https://altair-viz.github.io/user_guide/troubleshooting.html\n"
      ]
     },
     "execution_count": 36,
     "metadata": {},
     "output_type": "execute_result"
    }
   ],
   "source": [
    "alt.Chart(dfb).mark_line(point=True).encode(\n",
    "    x = alt.X('Adj Outdoor Temp', bin=alt.Bin(maxbins=10), axis=alt.Axis(title='Adj Outdoor Temperature')),\n",
    "    y = alt.Y('mean(COP)', axis=alt.Axis(title='COP')),\n",
    ")"
   ]
  },
  {
   "cell_type": "markdown",
   "metadata": {},
   "source": [
    "It looks like Altair is plotting against the center of the\n",
    "temperature bin. It would be more accurate to plot against the\n",
    "average of the temperature values of the points inside the bin,\n",
    "which may deviate from the center for uneven distribution of points."
   ]
  },
  {
   "cell_type": "markdown",
   "metadata": {},
   "source": [
    "## Explictly Calculate Bin Averages and Plot"
   ]
  },
  {
   "cell_type": "code",
   "execution_count": 37,
   "metadata": {},
   "outputs": [],
   "source": [
    "def bin_averages(df, bin_width = 5.0):\n",
    "    \"\"\"For DataFrame df, calculate average temperatures and COPs for bins\n",
    "    of outdoor temperature of width 'bin_width' deg F.  Return a DataFrame\n",
    "    with the averaged values.\n",
    "    \"\"\"\n",
    "    dfc = df.copy()\n",
    "    # calculate the bin for each row\n",
    "    dfc['temp_bin'] = dfc['Adj Outdoor Temp'] // bin_width\n",
    "    \n",
    "    # average by bins\n",
    "    dfa = dfc.groupby('temp_bin').mean()\n",
    "    dfa = dfa[['Adj Outdoor Temp', 'COP']]\n",
    "    dfa.columns = ['temperature', 'cop']\n",
    "    return dfa\n",
    "    "
   ]
  },
  {
   "cell_type": "code",
   "execution_count": 38,
   "metadata": {},
   "outputs": [
    {
     "data": {
      "image/png": "[encoded data removed]",
      "text/plain": [
       "<matplotlib.figure.Figure at 0x24962767940>"
      ]
     },
     "metadata": {},
     "output_type": "display_data"
    }
   ],
   "source": [
    "# Make a graph that includes points 31 F or below and those\n",
    "# points where the remote thermostat was being used.\n",
    "dfb = df_results[(df_results['Adj Outdoor Temp'] <= 31.0) | (df_results['Remote Thermostat'] == True)]\n",
    "dfr = bin_averages(dfb)\n",
    "plot(dfr.temperature, dfr.cop, 'b-', marker='o')\n",
    "xlabel('Outdoor Temperature, ℉')\n",
    "ylabel('COP')\n",
    "ylim(0, 3.0)\n",
    "dfr['source'] = 'Seward, Kaluza w/ Remote Therm'\n",
    "dfr['field_study'] = True\n",
    "dfr.to_pickle('temp_cop_kaluza_remote.pkl')"
   ]
  },
  {
   "cell_type": "code",
   "execution_count": 39,
   "metadata": {},
   "outputs": [
    {
     "data": {
      "text/plain": [
       "[(9.323180679405695, 2.2032414599781482),\n",
       " (12.532492677910634, 2.21025799131429),\n",
       " (17.35814819599886, 2.345697136246265),\n",
       " (23.870238394028032, 2.6175567164894855),\n",
       " (26.894926826979138, 2.749132114515984),\n",
       " (31.963711653531835, 2.814352844937004),\n",
       " (38.68488134262254, 2.8421298584971897),\n",
       " (42.47864094035299, 2.815108923560848),\n",
       " (46.55942277427139, 2.8801912519331694)]"
      ]
     },
     "execution_count": 39,
     "metadata": {},
     "output_type": "execute_result"
    }
   ],
   "source": [
    "temp_cop_external = list(zip(dfr.temperature, dfr.cop))\n",
    "temp_cop_external"
   ]
  },
  {
   "cell_type": "code",
   "execution_count": 40,
   "metadata": {},
   "outputs": [
    {
     "data": {
      "image/png": "[encoded data removed]",
      "text/plain": [
       "<matplotlib.figure.Figure at 0x24962635828>"
      ]
     },
     "metadata": {},
     "output_type": "display_data"
    }
   ],
   "source": [
    "# Graph with no remote thermostat\n",
    "dfb = df_results[df_results['Remote Thermostat'] == False]\n",
    "dfr = bin_averages(dfb)\n",
    "plot(dfr.temperature, dfr.cop, 'b-', marker='o')\n",
    "xlabel('Outdoor Temperature, ℉')\n",
    "ylabel('COP')\n",
    "ylim(0, 3.0)\n",
    "dfr['source'] = 'Seward, Kaluza'\n",
    "dfr['field_study'] = True\n",
    "dfr.to_pickle('temp_cop_kaluza.pkl')"
   ]
  },
  {
   "cell_type": "code",
   "execution_count": 41,
   "metadata": {},
   "outputs": [
    {
     "data": {
      "text/plain": [
       "[(9.323180679405695, 2.2032414599781482),\n",
       " (12.532492677910634, 2.21025799131429),\n",
       " (17.35814819599886, 2.345697136246265),\n",
       " (23.870238394028032, 2.6175567164894855),\n",
       " (26.894926826979138, 2.749132114515984),\n",
       " (32.873171329868896, 2.509495489396102),\n",
       " (36.89277174149361, 2.288341826445965),\n",
       " (43.56237357142844, 2.266642264933841)]"
      ]
     },
     "execution_count": 41,
     "metadata": {},
     "output_type": "execute_result"
    }
   ],
   "source": [
    "temp_cop_internal = list(zip(dfr.temperature, dfr.cop))\n",
    "temp_cop_internal"
   ]
  },
  {
   "cell_type": "markdown",
   "metadata": {},
   "source": [
    "### Compute Annual COP"
   ]
  },
  {
   "cell_type": "code",
   "execution_count": 42,
   "metadata": {},
   "outputs": [],
   "source": [
    "# Used to read TMY3 file\n",
    "base_url = 'http://ak-energy-data.analysisnorth.com/'\n",
    "\n",
    "def get_df(file_path):\n",
    "    \"\"\"Returns a Pandas DataFrame that is found at the 'file_path'\n",
    "    below the Base URL for accessing data.  The 'file_path' should end\n",
    "    with '.pkl' and points to a pickled, compressed (bz2), Pandas DataFrame.\n",
    "    \"\"\"\n",
    "    b = requests.get(urllib.parse.urljoin(base_url, file_path)).content\n",
    "    df = pd.read_pickle(io.BytesIO(b), compression='bz2')\n",
    "    return df"
   ]
  },
  {
   "cell_type": "code",
   "execution_count": 43,
   "metadata": {},
   "outputs": [],
   "source": [
    "# Function to calculate annual COP\n",
    "def cop_annual(temp_cop_points, df_tmy, balance_temp):\n",
    "    # Extend temperature/cop points to cold and warm temperatures.\n",
    "    # Not very relevant for this data set as few important temperatures\n",
    "    # outside the bounds\n",
    "    t_c_mod = temp_cop_points.copy()\n",
    "    t_c_mod.insert(0, (-10, 1.0))    # linear down to cop = 1 at -10 F\n",
    "    t_c_mod.append((70, t_c_mod[-1][1]))   # Extend last COP out to 70 F\n",
    "    # split into separate temperature and COP arrays\n",
    "    temps, cops = zip(*t_c_mod)\n",
    "    # Make an hourly array of cops by interpolating COP values from outdoor\n",
    "    # temperatures\n",
    "    cop_hourly = np.interp(df_tmy.db_temp, temps, cops)\n",
    "    \n",
    "    load_hourly = balance_temp - df_tmy.db_temp\n",
    "    load_hourly = load_hourly.where(load_hourly > 0.0, 0.0)\n",
    "    elec_hourly = load_hourly / cop_hourly\n",
    "    \n",
    "    cop_avg = sum(load_hourly) / sum(elec_hourly) \n",
    "    \n",
    "    return cop_avg"
   ]
  },
  {
   "cell_type": "code",
   "execution_count": 44,
   "metadata": {},
   "outputs": [
    {
     "data": {
      "text/plain": [
       "2.385693410677314"
      ]
     },
     "execution_count": 44,
     "metadata": {},
     "output_type": "execute_result"
    }
   ],
   "source": [
    "tmy3_id = 702770    # Seward\n",
    "df_tmy = get_df(f'wx/tmy3/proc/{tmy3_id}.pkl')\n",
    "cop_annual(temp_cop_internal, df_tmy, 60)"
   ]
  },
  {
   "cell_type": "code",
   "execution_count": 45,
   "metadata": {},
   "outputs": [
    {
     "data": {
      "text/html": [
       "<div>\n",
       "<style scoped>\n",
       "    .dataframe tbody tr th:only-of-type {\n",
       "        vertical-align: middle;\n",
       "    }\n",
       "\n",
       "    .dataframe tbody tr th {\n",
       "        vertical-align: top;\n",
       "    }\n",
       "\n",
       "    .dataframe thead th {\n",
       "        text-align: right;\n",
       "    }\n",
       "</style>\n",
       "<table border=\"1\" class=\"dataframe\">\n",
       "  <thead>\n",
       "    <tr style=\"text-align: right;\">\n",
       "      <th></th>\n",
       "      <th>city</th>\n",
       "      <th>db_temp_avg</th>\n",
       "      <th>elevation</th>\n",
       "      <th>latitude</th>\n",
       "      <th>longitude</th>\n",
       "      <th>rh_avg</th>\n",
       "      <th>state</th>\n",
       "      <th>url</th>\n",
       "      <th>utc_offset</th>\n",
       "      <th>wind_spd_avg</th>\n",
       "    </tr>\n",
       "    <tr>\n",
       "      <th>tmy_id</th>\n",
       "      <th></th>\n",
       "      <th></th>\n",
       "      <th></th>\n",
       "      <th></th>\n",
       "      <th></th>\n",
       "      <th></th>\n",
       "      <th></th>\n",
       "      <th></th>\n",
       "      <th></th>\n",
       "      <th></th>\n",
       "    </tr>\n",
       "  </thead>\n",
       "  <tbody>\n",
       "    <tr>\n",
       "      <th>700197</th>\n",
       "      <td>SELAWIK</td>\n",
       "      <td>24.855438</td>\n",
       "      <td>26.24672</td>\n",
       "      <td>66.600</td>\n",
       "      <td>-160.000</td>\n",
       "      <td>78.158676</td>\n",
       "      <td>AK</td>\n",
       "      <td>http://ak-energy-data.analysisnorth.com/wx/tmy...</td>\n",
       "      <td>-9.0</td>\n",
       "      <td>9.655307</td>\n",
       "    </tr>\n",
       "    <tr>\n",
       "      <th>700260</th>\n",
       "      <td>BARROW W POST-W ROGERS ARPT [NSA - ARM]</td>\n",
       "      <td>10.729712</td>\n",
       "      <td>32.80840</td>\n",
       "      <td>71.320</td>\n",
       "      <td>-156.620</td>\n",
       "      <td>84.193950</td>\n",
       "      <td>AK</td>\n",
       "      <td>http://ak-energy-data.analysisnorth.com/wx/tmy...</td>\n",
       "      <td>-9.0</td>\n",
       "      <td>12.178734</td>\n",
       "    </tr>\n",
       "    <tr>\n",
       "      <th>700637</th>\n",
       "      <td>DEADHORSE</td>\n",
       "      <td>14.890158</td>\n",
       "      <td>75.45932</td>\n",
       "      <td>70.200</td>\n",
       "      <td>-148.483</td>\n",
       "      <td>81.881279</td>\n",
       "      <td>AK</td>\n",
       "      <td>http://ak-energy-data.analysisnorth.com/wx/tmy...</td>\n",
       "      <td>-9.0</td>\n",
       "      <td>11.842146</td>\n",
       "    </tr>\n",
       "    <tr>\n",
       "      <th>701043</th>\n",
       "      <td>POINT HOPE (AWOS)</td>\n",
       "      <td>24.074966</td>\n",
       "      <td>13.12336</td>\n",
       "      <td>68.350</td>\n",
       "      <td>-166.800</td>\n",
       "      <td>77.388927</td>\n",
       "      <td>AK</td>\n",
       "      <td>http://ak-energy-data.analysisnorth.com/wx/tmy...</td>\n",
       "      <td>-9.0</td>\n",
       "      <td>15.689121</td>\n",
       "    </tr>\n",
       "    <tr>\n",
       "      <th>701195</th>\n",
       "      <td>SHISHMAREF (AWOS)</td>\n",
       "      <td>25.309137</td>\n",
       "      <td>6.56168</td>\n",
       "      <td>66.267</td>\n",
       "      <td>-166.050</td>\n",
       "      <td>78.231279</td>\n",
       "      <td>AK</td>\n",
       "      <td>http://ak-energy-data.analysisnorth.com/wx/tmy...</td>\n",
       "      <td>-9.0</td>\n",
       "      <td>13.223661</td>\n",
       "    </tr>\n",
       "    <tr>\n",
       "      <th>701330</th>\n",
       "      <td>KOTZEBUE RALPH WEIN MEMORIAL</td>\n",
       "      <td>23.303884</td>\n",
       "      <td>9.84252</td>\n",
       "      <td>66.883</td>\n",
       "      <td>-162.600</td>\n",
       "      <td>79.720662</td>\n",
       "      <td>AK</td>\n",
       "      <td>http://ak-energy-data.analysisnorth.com/wx/tmy...</td>\n",
       "      <td>-9.0</td>\n",
       "      <td>12.160118</td>\n",
       "    </tr>\n",
       "    <tr>\n",
       "      <th>701625</th>\n",
       "      <td>ANAKTUVUK PASS</td>\n",
       "      <td>20.373089</td>\n",
       "      <td>2155.51188</td>\n",
       "      <td>68.133</td>\n",
       "      <td>-151.733</td>\n",
       "      <td>70.690982</td>\n",
       "      <td>AK</td>\n",
       "      <td>http://ak-energy-data.analysisnorth.com/wx/tmy...</td>\n",
       "      <td>-9.0</td>\n",
       "      <td>8.641866</td>\n",
       "    </tr>\n",
       "    <tr>\n",
       "      <th>701718</th>\n",
       "      <td>AMBLER</td>\n",
       "      <td>26.395527</td>\n",
       "      <td>288.71392</td>\n",
       "      <td>67.100</td>\n",
       "      <td>-157.850</td>\n",
       "      <td>68.722717</td>\n",
       "      <td>AK</td>\n",
       "      <td>http://ak-energy-data.analysisnorth.com/wx/tmy...</td>\n",
       "      <td>-9.0</td>\n",
       "      <td>6.285546</td>\n",
       "    </tr>\n",
       "    <tr>\n",
       "      <th>701740</th>\n",
       "      <td>BETTLES FIELD</td>\n",
       "      <td>24.438295</td>\n",
       "      <td>643.04464</td>\n",
       "      <td>66.917</td>\n",
       "      <td>-151.517</td>\n",
       "      <td>68.911872</td>\n",
       "      <td>AK</td>\n",
       "      <td>http://ak-energy-data.analysisnorth.com/wx/tmy...</td>\n",
       "      <td>-9.0</td>\n",
       "      <td>6.881706</td>\n",
       "    </tr>\n",
       "    <tr>\n",
       "      <th>701780</th>\n",
       "      <td>TANANA RALPH M CALHOUN MEM AP</td>\n",
       "      <td>28.251233</td>\n",
       "      <td>232.93964</td>\n",
       "      <td>65.167</td>\n",
       "      <td>-152.100</td>\n",
       "      <td>69.607763</td>\n",
       "      <td>AK</td>\n",
       "      <td>http://ak-energy-data.analysisnorth.com/wx/tmy...</td>\n",
       "      <td>-9.0</td>\n",
       "      <td>5.766198</td>\n",
       "    </tr>\n",
       "    <tr>\n",
       "      <th>701940</th>\n",
       "      <td>FORT YUKON</td>\n",
       "      <td>23.940829</td>\n",
       "      <td>446.19424</td>\n",
       "      <td>66.567</td>\n",
       "      <td>-145.267</td>\n",
       "      <td>64.439726</td>\n",
       "      <td>AK</td>\n",
       "      <td>http://ak-energy-data.analysisnorth.com/wx/tmy...</td>\n",
       "      <td>-9.0</td>\n",
       "      <td>5.384386</td>\n",
       "    </tr>\n",
       "    <tr>\n",
       "      <th>702000</th>\n",
       "      <td>NOME MUNICIPAL ARPT</td>\n",
       "      <td>28.720075</td>\n",
       "      <td>13.12336</td>\n",
       "      <td>64.517</td>\n",
       "      <td>-165.450</td>\n",
       "      <td>73.324886</td>\n",
       "      <td>AK</td>\n",
       "      <td>http://ak-energy-data.analysisnorth.com/wx/tmy...</td>\n",
       "      <td>-9.0</td>\n",
       "      <td>9.881529</td>\n",
       "    </tr>\n",
       "    <tr>\n",
       "      <th>702005</th>\n",
       "      <td>SAINT MARY`S (AWOS)</td>\n",
       "      <td>32.966596</td>\n",
       "      <td>311.67980</td>\n",
       "      <td>62.067</td>\n",
       "      <td>-163.300</td>\n",
       "      <td>77.154909</td>\n",
       "      <td>AK</td>\n",
       "      <td>http://ak-energy-data.analysisnorth.com/wx/tmy...</td>\n",
       "      <td>-9.0</td>\n",
       "      <td>12.054093</td>\n",
       "    </tr>\n",
       "    <tr>\n",
       "      <th>702035</th>\n",
       "      <td>SAVOONGA</td>\n",
       "      <td>29.114021</td>\n",
       "      <td>55.77428</td>\n",
       "      <td>63.683</td>\n",
       "      <td>-170.500</td>\n",
       "      <td>71.928082</td>\n",
       "      <td>AK</td>\n",
       "      <td>http://ak-energy-data.analysisnorth.com/wx/tmy...</td>\n",
       "      <td>-9.0</td>\n",
       "      <td>13.173840</td>\n",
       "    </tr>\n",
       "    <tr>\n",
       "      <th>702040</th>\n",
       "      <td>GAMBELL</td>\n",
       "      <td>28.443171</td>\n",
       "      <td>26.24672</td>\n",
       "      <td>63.783</td>\n",
       "      <td>-171.750</td>\n",
       "      <td>75.729909</td>\n",
       "      <td>AK</td>\n",
       "      <td>http://ak-energy-data.analysisnorth.com/wx/tmy...</td>\n",
       "      <td>-9.0</td>\n",
       "      <td>19.409106</td>\n",
       "    </tr>\n",
       "    <tr>\n",
       "      <th>702070</th>\n",
       "      <td>UNALAKLEET FIELD</td>\n",
       "      <td>31.364144</td>\n",
       "      <td>16.40420</td>\n",
       "      <td>63.883</td>\n",
       "      <td>-160.800</td>\n",
       "      <td>68.756849</td>\n",
       "      <td>AK</td>\n",
       "      <td>http://ak-energy-data.analysisnorth.com/wx/tmy...</td>\n",
       "      <td>-9.0</td>\n",
       "      <td>12.394359</td>\n",
       "    </tr>\n",
       "    <tr>\n",
       "      <th>702075</th>\n",
       "      <td>ANVIK</td>\n",
       "      <td>33.331733</td>\n",
       "      <td>324.80316</td>\n",
       "      <td>62.650</td>\n",
       "      <td>-160.183</td>\n",
       "      <td>62.518836</td>\n",
       "      <td>AK</td>\n",
       "      <td>http://ak-energy-data.analysisnorth.com/wx/tmy...</td>\n",
       "      <td>-9.0</td>\n",
       "      <td>5.397997</td>\n",
       "    </tr>\n",
       "    <tr>\n",
       "      <th>702084</th>\n",
       "      <td>EMMONAK</td>\n",
       "      <td>32.576863</td>\n",
       "      <td>13.12336</td>\n",
       "      <td>62.783</td>\n",
       "      <td>-164.500</td>\n",
       "      <td>79.601484</td>\n",
       "      <td>AK</td>\n",
       "      <td>http://ak-energy-data.analysisnorth.com/wx/tmy...</td>\n",
       "      <td>-9.0</td>\n",
       "      <td>10.476974</td>\n",
       "    </tr>\n",
       "    <tr>\n",
       "      <th>702185</th>\n",
       "      <td>MEKORYUK</td>\n",
       "      <td>33.632329</td>\n",
       "      <td>49.21260</td>\n",
       "      <td>60.367</td>\n",
       "      <td>-166.267</td>\n",
       "      <td>80.209817</td>\n",
       "      <td>AK</td>\n",
       "      <td>http://ak-energy-data.analysisnorth.com/wx/tmy...</td>\n",
       "      <td>-9.0</td>\n",
       "      <td>14.999576</td>\n",
       "    </tr>\n",
       "    <tr>\n",
       "      <th>702186</th>\n",
       "      <td>HOOPER BAY</td>\n",
       "      <td>32.347815</td>\n",
       "      <td>19.68504</td>\n",
       "      <td>61.517</td>\n",
       "      <td>-166.150</td>\n",
       "      <td>77.927740</td>\n",
       "      <td>AK</td>\n",
       "      <td>http://ak-energy-data.analysisnorth.com/wx/tmy...</td>\n",
       "      <td>-9.0</td>\n",
       "      <td>15.091071</td>\n",
       "    </tr>\n",
       "    <tr>\n",
       "      <th>702190</th>\n",
       "      <td>BETHEL AIRPORT</td>\n",
       "      <td>32.015514</td>\n",
       "      <td>124.67192</td>\n",
       "      <td>60.783</td>\n",
       "      <td>-161.833</td>\n",
       "      <td>81.113242</td>\n",
       "      <td>AK</td>\n",
       "      <td>http://ak-energy-data.analysisnorth.com/wx/tmy...</td>\n",
       "      <td>-9.0</td>\n",
       "      <td>13.427998</td>\n",
       "    </tr>\n",
       "    <tr>\n",
       "      <th>702225</th>\n",
       "      <td>HUSLIA</td>\n",
       "      <td>28.161151</td>\n",
       "      <td>180.44620</td>\n",
       "      <td>65.700</td>\n",
       "      <td>-156.383</td>\n",
       "      <td>67.170320</td>\n",
       "      <td>AK</td>\n",
       "      <td>http://ak-energy-data.analysisnorth.com/wx/tmy...</td>\n",
       "      <td>-9.0</td>\n",
       "      <td>6.172218</td>\n",
       "    </tr>\n",
       "    <tr>\n",
       "      <th>702310</th>\n",
       "      <td>MCGRATH ARPT</td>\n",
       "      <td>27.041452</td>\n",
       "      <td>344.48820</td>\n",
       "      <td>62.950</td>\n",
       "      <td>-155.600</td>\n",
       "      <td>72.505479</td>\n",
       "      <td>AK</td>\n",
       "      <td>http://ak-energy-data.analysisnorth.com/wx/tmy...</td>\n",
       "      <td>-9.0</td>\n",
       "      <td>5.441280</td>\n",
       "    </tr>\n",
       "    <tr>\n",
       "      <th>702320</th>\n",
       "      <td>ANIAK AIRPORT</td>\n",
       "      <td>33.662658</td>\n",
       "      <td>85.30184</td>\n",
       "      <td>61.583</td>\n",
       "      <td>-159.533</td>\n",
       "      <td>67.653881</td>\n",
       "      <td>AK</td>\n",
       "      <td>http://ak-energy-data.analysisnorth.com/wx/tmy...</td>\n",
       "      <td>-9.0</td>\n",
       "      <td>5.384386</td>\n",
       "    </tr>\n",
       "    <tr>\n",
       "      <th>702460</th>\n",
       "      <td>MINCHUMINA</td>\n",
       "      <td>30.347575</td>\n",
       "      <td>698.81892</td>\n",
       "      <td>63.883</td>\n",
       "      <td>-152.283</td>\n",
       "      <td>63.267237</td>\n",
       "      <td>AK</td>\n",
       "      <td>http://ak-energy-data.analysisnorth.com/wx/tmy...</td>\n",
       "      <td>-9.0</td>\n",
       "      <td>2.766732</td>\n",
       "    </tr>\n",
       "    <tr>\n",
       "      <th>702495</th>\n",
       "      <td>HAYES RIVER</td>\n",
       "      <td>36.810479</td>\n",
       "      <td>1000.65620</td>\n",
       "      <td>61.983</td>\n",
       "      <td>-152.083</td>\n",
       "      <td>69.026941</td>\n",
       "      <td>AK</td>\n",
       "      <td>http://ak-energy-data.analysisnorth.com/wx/tmy...</td>\n",
       "      <td>-9.0</td>\n",
       "      <td>3.142084</td>\n",
       "    </tr>\n",
       "    <tr>\n",
       "      <th>702510</th>\n",
       "      <td>TALKEETNA STATE ARPT</td>\n",
       "      <td>35.236486</td>\n",
       "      <td>344.48820</td>\n",
       "      <td>62.317</td>\n",
       "      <td>-150.100</td>\n",
       "      <td>74.301826</td>\n",
       "      <td>AK</td>\n",
       "      <td>http://ak-energy-data.analysisnorth.com/wx/tmy...</td>\n",
       "      <td>-9.0</td>\n",
       "      <td>5.276497</td>\n",
       "    </tr>\n",
       "    <tr>\n",
       "      <th>702590</th>\n",
       "      <td>KENAI MUNICIPAL AP</td>\n",
       "      <td>37.982904</td>\n",
       "      <td>85.30184</td>\n",
       "      <td>60.583</td>\n",
       "      <td>-151.233</td>\n",
       "      <td>76.492123</td>\n",
       "      <td>AK</td>\n",
       "      <td>http://ak-energy-data.analysisnorth.com/wx/tmy...</td>\n",
       "      <td>-9.0</td>\n",
       "      <td>7.949589</td>\n",
       "    </tr>\n",
       "    <tr>\n",
       "      <th>702595</th>\n",
       "      <td>SOLDOTNA</td>\n",
       "      <td>37.710377</td>\n",
       "      <td>111.54856</td>\n",
       "      <td>60.467</td>\n",
       "      <td>-151.033</td>\n",
       "      <td>71.117352</td>\n",
       "      <td>AK</td>\n",
       "      <td>http://ak-energy-data.analysisnorth.com/wx/tmy...</td>\n",
       "      <td>-9.0</td>\n",
       "      <td>3.666513</td>\n",
       "    </tr>\n",
       "    <tr>\n",
       "      <th>702600</th>\n",
       "      <td>NENANA MUNICIPAL AP</td>\n",
       "      <td>30.392452</td>\n",
       "      <td>357.61156</td>\n",
       "      <td>64.550</td>\n",
       "      <td>-149.100</td>\n",
       "      <td>59.502511</td>\n",
       "      <td>AK</td>\n",
       "      <td>http://ak-energy-data.analysisnorth.com/wx/tmy...</td>\n",
       "      <td>-9.0</td>\n",
       "      <td>5.701388</td>\n",
       "    </tr>\n",
       "    <tr>\n",
       "      <th>702606</th>\n",
       "      <td>CHULITNA</td>\n",
       "      <td>35.665055</td>\n",
       "      <td>1250.00004</td>\n",
       "      <td>62.883</td>\n",
       "      <td>-149.833</td>\n",
       "      <td>74.036986</td>\n",
       "      <td>AK</td>\n",
       "      <td>http://ak-energy-data.analysisnorth.com/wx/tmy...</td>\n",
       "      <td>-9.0</td>\n",
       "      <td>6.075692</td>\n",
       "    </tr>\n",
       "    <tr>\n",
       "      <th>702607</th>\n",
       "      <td>HOONAH</td>\n",
       "      <td>41.027144</td>\n",
       "      <td>19.68504</td>\n",
       "      <td>58.083</td>\n",
       "      <td>-135.450</td>\n",
       "      <td>81.007192</td>\n",
       "      <td>AK</td>\n",
       "      <td>http://ak-energy-data.analysisnorth.com/wx/tmy...</td>\n",
       "      <td>-9.0</td>\n",
       "      <td>5.566150</td>\n",
       "    </tr>\n",
       "    <tr>\n",
       "      <th>702610</th>\n",
       "      <td>FAIRBANKS INTL ARPT</td>\n",
       "      <td>29.417000</td>\n",
       "      <td>436.35172</td>\n",
       "      <td>64.817</td>\n",
       "      <td>-147.850</td>\n",
       "      <td>67.809589</td>\n",
       "      <td>AK</td>\n",
       "      <td>http://ak-energy-data.analysisnorth.com/wx/tmy...</td>\n",
       "      <td>-9.0</td>\n",
       "      <td>5.511223</td>\n",
       "    </tr>\n",
       "    <tr>\n",
       "      <th>702647</th>\n",
       "      <td>HEALY RIVER AIRPORT</td>\n",
       "      <td>35.502479</td>\n",
       "      <td>1299.21264</td>\n",
       "      <td>63.883</td>\n",
       "      <td>-149.017</td>\n",
       "      <td>63.709589</td>\n",
       "      <td>AK</td>\n",
       "      <td>http://ak-energy-data.analysisnorth.com/wx/tmy...</td>\n",
       "      <td>-9.0</td>\n",
       "      <td>6.249387</td>\n",
       "    </tr>\n",
       "    <tr>\n",
       "      <th>702650</th>\n",
       "      <td>FAIRBANKS/EIELSON A</td>\n",
       "      <td>31.842952</td>\n",
       "      <td>547.90028</td>\n",
       "      <td>64.650</td>\n",
       "      <td>-147.100</td>\n",
       "      <td>74.119863</td>\n",
       "      <td>AK</td>\n",
       "      <td>http://ak-energy-data.analysisnorth.com/wx/tmy...</td>\n",
       "      <td>-9.0</td>\n",
       "      <td>4.988632</td>\n",
       "    </tr>\n",
       "    <tr>\n",
       "      <th>702670</th>\n",
       "      <td>BIG DELTA ALLEN AAF</td>\n",
       "      <td>30.916363</td>\n",
       "      <td>1266.40424</td>\n",
       "      <td>64.000</td>\n",
       "      <td>-145.717</td>\n",
       "      <td>62.493265</td>\n",
       "      <td>AK</td>\n",
       "      <td>http://ak-energy-data.analysisnorth.com/wx/tmy...</td>\n",
       "      <td>-9.0</td>\n",
       "      <td>8.850596</td>\n",
       "    </tr>\n",
       "    <tr>\n",
       "      <th>702710</th>\n",
       "      <td>GULKANA INTERMEDIATE FIELD</td>\n",
       "      <td>28.596582</td>\n",
       "      <td>1568.24152</td>\n",
       "      <td>62.150</td>\n",
       "      <td>-145.450</td>\n",
       "      <td>70.050799</td>\n",
       "      <td>AK</td>\n",
       "      <td>http://ak-energy-data.analysisnorth.com/wx/tmy...</td>\n",
       "      <td>-9.0</td>\n",
       "      <td>5.546641</td>\n",
       "    </tr>\n",
       "    <tr>\n",
       "      <th>702730</th>\n",
       "      <td>ANCHORAGE INTL AP</td>\n",
       "      <td>37.330918</td>\n",
       "      <td>114.82940</td>\n",
       "      <td>61.183</td>\n",
       "      <td>-150.000</td>\n",
       "      <td>71.812100</td>\n",
       "      <td>AK</td>\n",
       "      <td>http://ak-energy-data.analysisnorth.com/wx/tmy...</td>\n",
       "      <td>-9.0</td>\n",
       "      <td>7.130119</td>\n",
       "    </tr>\n",
       "    <tr>\n",
       "      <th>702740</th>\n",
       "      <td>PALMER MUNICIPAL</td>\n",
       "      <td>41.468062</td>\n",
       "      <td>232.93964</td>\n",
       "      <td>61.600</td>\n",
       "      <td>-149.083</td>\n",
       "      <td>68.107648</td>\n",
       "      <td>AK</td>\n",
       "      <td>http://ak-energy-data.analysisnorth.com/wx/tmy...</td>\n",
       "      <td>-9.0</td>\n",
       "      <td>7.371739</td>\n",
       "    </tr>\n",
       "    <tr>\n",
       "      <th>702746</th>\n",
       "      <td>BIRCHWOOD</td>\n",
       "      <td>39.111397</td>\n",
       "      <td>98.42520</td>\n",
       "      <td>61.417</td>\n",
       "      <td>-149.517</td>\n",
       "      <td>69.378653</td>\n",
       "      <td>AK</td>\n",
       "      <td>http://ak-energy-data.analysisnorth.com/wx/tmy...</td>\n",
       "      <td>-9.0</td>\n",
       "      <td>3.194330</td>\n",
       "    </tr>\n",
       "    <tr>\n",
       "      <th>702750</th>\n",
       "      <td>VALDEZ WSO</td>\n",
       "      <td>39.336438</td>\n",
       "      <td>22.96588</td>\n",
       "      <td>61.133</td>\n",
       "      <td>-146.350</td>\n",
       "      <td>74.864498</td>\n",
       "      <td>AK</td>\n",
       "      <td>http://ak-energy-data.analysisnorth.com/wx/tmy...</td>\n",
       "      <td>-9.0</td>\n",
       "      <td>6.165962</td>\n",
       "    </tr>\n",
       "    <tr>\n",
       "      <th>702756</th>\n",
       "      <td>VALDEZ PIONEER FIEL</td>\n",
       "      <td>39.940507</td>\n",
       "      <td>124.67192</td>\n",
       "      <td>61.133</td>\n",
       "      <td>-146.267</td>\n",
       "      <td>75.220548</td>\n",
       "      <td>AK</td>\n",
       "      <td>http://ak-energy-data.analysisnorth.com/wx/tmy...</td>\n",
       "      <td>-9.0</td>\n",
       "      <td>3.098239</td>\n",
       "    </tr>\n",
       "    <tr>\n",
       "      <th>702757</th>\n",
       "      <td>WHITTIER</td>\n",
       "      <td>39.351295</td>\n",
       "      <td>29.52756</td>\n",
       "      <td>60.767</td>\n",
       "      <td>-148.683</td>\n",
       "      <td>78.169635</td>\n",
       "      <td>AK</td>\n",
       "      <td>http://ak-energy-data.analysisnorth.com/wx/tmy...</td>\n",
       "      <td>-9.0</td>\n",
       "      <td>8.976386</td>\n",
       "    </tr>\n",
       "    <tr>\n",
       "      <th>702770</th>\n",
       "      <td>SEWARD</td>\n",
       "      <td>40.051055</td>\n",
       "      <td>59.05512</td>\n",
       "      <td>60.117</td>\n",
       "      <td>-149.450</td>\n",
       "      <td>75.644292</td>\n",
       "      <td>AK</td>\n",
       "      <td>http://ak-energy-data.analysisnorth.com/wx/tmy...</td>\n",
       "      <td>-9.0</td>\n",
       "      <td>9.590625</td>\n",
       "    </tr>\n",
       "    <tr>\n",
       "      <th>702910</th>\n",
       "      <td>NORTHWAY AIRPORT</td>\n",
       "      <td>23.911527</td>\n",
       "      <td>1712.59848</td>\n",
       "      <td>62.967</td>\n",
       "      <td>-141.933</td>\n",
       "      <td>69.045776</td>\n",
       "      <td>AK</td>\n",
       "      <td>http://ak-energy-data.analysisnorth.com/wx/tmy...</td>\n",
       "      <td>-9.0</td>\n",
       "      <td>4.288362</td>\n",
       "    </tr>\n",
       "    <tr>\n",
       "      <th>702960</th>\n",
       "      <td>CORDOVA</td>\n",
       "      <td>39.821205</td>\n",
       "      <td>39.37008</td>\n",
       "      <td>60.500</td>\n",
       "      <td>-145.500</td>\n",
       "      <td>78.132192</td>\n",
       "      <td>AK</td>\n",
       "      <td>http://ak-energy-data.analysisnorth.com/wx/tmy...</td>\n",
       "      <td>-9.0</td>\n",
       "      <td>4.766444</td>\n",
       "    </tr>\n",
       "    <tr>\n",
       "      <th>702986</th>\n",
       "      <td>BIG RIVER LAKE</td>\n",
       "      <td>37.625226</td>\n",
       "      <td>39.37008</td>\n",
       "      <td>60.817</td>\n",
       "      <td>-152.300</td>\n",
       "      <td>73.406393</td>\n",
       "      <td>AK</td>\n",
       "      <td>http://ak-energy-data.analysisnorth.com/wx/tmy...</td>\n",
       "      <td>-9.0</td>\n",
       "      <td>6.393103</td>\n",
       "    </tr>\n",
       "    <tr>\n",
       "      <th>703080</th>\n",
       "      <td>ST PAUL ISLAND ARPT</td>\n",
       "      <td>36.170308</td>\n",
       "      <td>22.96588</td>\n",
       "      <td>57.167</td>\n",
       "      <td>-170.217</td>\n",
       "      <td>85.875000</td>\n",
       "      <td>AK</td>\n",
       "      <td>http://ak-energy-data.analysisnorth.com/wx/tmy...</td>\n",
       "      <td>-9.0</td>\n",
       "      <td>16.101499</td>\n",
       "    </tr>\n",
       "    <tr>\n",
       "      <th>703160</th>\n",
       "      <td>COLD BAY ARPT</td>\n",
       "      <td>38.925171</td>\n",
       "      <td>95.14436</td>\n",
       "      <td>55.200</td>\n",
       "      <td>-162.717</td>\n",
       "      <td>84.175000</td>\n",
       "      <td>AK</td>\n",
       "      <td>http://ak-energy-data.analysisnorth.com/wx/tmy...</td>\n",
       "      <td>-9.0</td>\n",
       "      <td>16.870154</td>\n",
       "    </tr>\n",
       "    <tr>\n",
       "      <th>703165</th>\n",
       "      <td>SAND POINT</td>\n",
       "      <td>39.957171</td>\n",
       "      <td>22.96588</td>\n",
       "      <td>55.317</td>\n",
       "      <td>-160.517</td>\n",
       "      <td>73.486644</td>\n",
       "      <td>AK</td>\n",
       "      <td>http://ak-energy-data.analysisnorth.com/wx/tmy...</td>\n",
       "      <td>-9.0</td>\n",
       "      <td>11.345755</td>\n",
       "    </tr>\n",
       "    <tr>\n",
       "      <th>703210</th>\n",
       "      <td>DILLINGHAM (AMOS)</td>\n",
       "      <td>36.315212</td>\n",
       "      <td>95.14436</td>\n",
       "      <td>59.050</td>\n",
       "      <td>-158.517</td>\n",
       "      <td>73.570091</td>\n",
       "      <td>AK</td>\n",
       "      <td>http://ak-energy-data.analysisnorth.com/wx/tmy...</td>\n",
       "      <td>-9.0</td>\n",
       "      <td>8.235540</td>\n",
       "    </tr>\n",
       "    <tr>\n",
       "      <th>703260</th>\n",
       "      <td>KING SALMON ARPT</td>\n",
       "      <td>35.688151</td>\n",
       "      <td>49.21260</td>\n",
       "      <td>58.683</td>\n",
       "      <td>-156.650</td>\n",
       "      <td>79.055023</td>\n",
       "      <td>AK</td>\n",
       "      <td>http://ak-energy-data.analysisnorth.com/wx/tmy...</td>\n",
       "      <td>-9.0</td>\n",
       "      <td>10.495283</td>\n",
       "    </tr>\n",
       "    <tr>\n",
       "      <th>703330</th>\n",
       "      <td>PORT HEIDEN</td>\n",
       "      <td>37.702918</td>\n",
       "      <td>95.14436</td>\n",
       "      <td>56.950</td>\n",
       "      <td>-158.617</td>\n",
       "      <td>68.597260</td>\n",
       "      <td>AK</td>\n",
       "      <td>http://ak-energy-data.analysisnorth.com/wx/tmy...</td>\n",
       "      <td>-9.0</td>\n",
       "      <td>13.349169</td>\n",
       "    </tr>\n",
       "    <tr>\n",
       "      <th>703400</th>\n",
       "      <td>ILIAMNA ARPT</td>\n",
       "      <td>38.303370</td>\n",
       "      <td>187.00788</td>\n",
       "      <td>59.750</td>\n",
       "      <td>-154.917</td>\n",
       "      <td>73.474429</td>\n",
       "      <td>AK</td>\n",
       "      <td>http://ak-energy-data.analysisnorth.com/wx/tmy...</td>\n",
       "      <td>-9.0</td>\n",
       "      <td>10.724033</td>\n",
       "    </tr>\n",
       "    <tr>\n",
       "      <th>703407</th>\n",
       "      <td>SLEETMUTE</td>\n",
       "      <td>34.121575</td>\n",
       "      <td>177.16536</td>\n",
       "      <td>61.717</td>\n",
       "      <td>-157.150</td>\n",
       "      <td>67.029452</td>\n",
       "      <td>AK</td>\n",
       "      <td>http://ak-energy-data.analysisnorth.com/wx/tmy...</td>\n",
       "      <td>-9.0</td>\n",
       "      <td>2.727535</td>\n",
       "    </tr>\n",
       "    <tr>\n",
       "      <th>703410</th>\n",
       "      <td>HOMER ARPT</td>\n",
       "      <td>38.797836</td>\n",
       "      <td>88.58268</td>\n",
       "      <td>59.650</td>\n",
       "      <td>-151.483</td>\n",
       "      <td>75.502283</td>\n",
       "      <td>AK</td>\n",
       "      <td>http://ak-energy-data.analysisnorth.com/wx/tmy...</td>\n",
       "      <td>-9.0</td>\n",
       "      <td>7.965064</td>\n",
       "    </tr>\n",
       "    <tr>\n",
       "      <th>703430</th>\n",
       "      <td>MIDDLETON ISLAND AUT</td>\n",
       "      <td>42.286979</td>\n",
       "      <td>45.93176</td>\n",
       "      <td>59.467</td>\n",
       "      <td>-146.317</td>\n",
       "      <td>67.775457</td>\n",
       "      <td>AK</td>\n",
       "      <td>http://ak-energy-data.analysisnorth.com/wx/tmy...</td>\n",
       "      <td>-9.0</td>\n",
       "      <td>13.444724</td>\n",
       "    </tr>\n",
       "    <tr>\n",
       "      <th>703500</th>\n",
       "      <td>KODIAK AIRPORT</td>\n",
       "      <td>41.758158</td>\n",
       "      <td>16.40420</td>\n",
       "      <td>57.750</td>\n",
       "      <td>-152.500</td>\n",
       "      <td>77.828653</td>\n",
       "      <td>AK</td>\n",
       "      <td>http://ak-energy-data.analysisnorth.com/wx/tmy...</td>\n",
       "      <td>-9.0</td>\n",
       "      <td>10.812132</td>\n",
       "    </tr>\n",
       "    <tr>\n",
       "      <th>703606</th>\n",
       "      <td>TOGIAC VILLAGE AWOS</td>\n",
       "      <td>36.842760</td>\n",
       "      <td>19.68504</td>\n",
       "      <td>59.050</td>\n",
       "      <td>-160.400</td>\n",
       "      <td>76.165068</td>\n",
       "      <td>AK</td>\n",
       "      <td>http://ak-energy-data.analysisnorth.com/wx/tmy...</td>\n",
       "      <td>-9.0</td>\n",
       "      <td>11.038277</td>\n",
       "    </tr>\n",
       "    <tr>\n",
       "      <th>703610</th>\n",
       "      <td>YAKUTAT STATE ARPT</td>\n",
       "      <td>40.366856</td>\n",
       "      <td>26.24672</td>\n",
       "      <td>59.517</td>\n",
       "      <td>-139.633</td>\n",
       "      <td>83.741895</td>\n",
       "      <td>AK</td>\n",
       "      <td>http://ak-energy-data.analysisnorth.com/wx/tmy...</td>\n",
       "      <td>-9.0</td>\n",
       "      <td>6.360443</td>\n",
       "    </tr>\n",
       "    <tr>\n",
       "      <th>703620</th>\n",
       "      <td>SKAGWAY AIRPORT</td>\n",
       "      <td>42.180151</td>\n",
       "      <td>29.52756</td>\n",
       "      <td>59.467</td>\n",
       "      <td>-135.300</td>\n",
       "      <td>68.594178</td>\n",
       "      <td>AK</td>\n",
       "      <td>http://ak-energy-data.analysisnorth.com/wx/tmy...</td>\n",
       "      <td>-9.0</td>\n",
       "      <td>10.167786</td>\n",
       "    </tr>\n",
       "    <tr>\n",
       "      <th>703670</th>\n",
       "      <td>GUSTAVUS</td>\n",
       "      <td>40.609959</td>\n",
       "      <td>39.37008</td>\n",
       "      <td>58.417</td>\n",
       "      <td>-135.700</td>\n",
       "      <td>75.245320</td>\n",
       "      <td>AK</td>\n",
       "      <td>http://ak-energy-data.analysisnorth.com/wx/tmy...</td>\n",
       "      <td>-9.0</td>\n",
       "      <td>4.422604</td>\n",
       "    </tr>\n",
       "    <tr>\n",
       "      <th>703710</th>\n",
       "      <td>SITKA JAPONSKI AP</td>\n",
       "      <td>43.127082</td>\n",
       "      <td>13.12336</td>\n",
       "      <td>57.050</td>\n",
       "      <td>-135.367</td>\n",
       "      <td>72.839498</td>\n",
       "      <td>AK</td>\n",
       "      <td>http://ak-energy-data.analysisnorth.com/wx/tmy...</td>\n",
       "      <td>-9.0</td>\n",
       "      <td>7.566322</td>\n",
       "    </tr>\n",
       "    <tr>\n",
       "      <th>703810</th>\n",
       "      <td>JUNEAU INT'L ARPT</td>\n",
       "      <td>41.865274</td>\n",
       "      <td>13.12336</td>\n",
       "      <td>58.350</td>\n",
       "      <td>-134.583</td>\n",
       "      <td>81.007420</td>\n",
       "      <td>AK</td>\n",
       "      <td>http://ak-energy-data.analysisnorth.com/wx/tmy...</td>\n",
       "      <td>-9.0</td>\n",
       "      <td>7.632306</td>\n",
       "    </tr>\n",
       "    <tr>\n",
       "      <th>703855</th>\n",
       "      <td>KAKE SEAPLANE BASE</td>\n",
       "      <td>42.390377</td>\n",
       "      <td>0.00000</td>\n",
       "      <td>56.967</td>\n",
       "      <td>-133.950</td>\n",
       "      <td>75.250799</td>\n",
       "      <td>AK</td>\n",
       "      <td>http://ak-energy-data.analysisnorth.com/wx/tmy...</td>\n",
       "      <td>-9.0</td>\n",
       "      <td>6.659902</td>\n",
       "    </tr>\n",
       "    <tr>\n",
       "      <th>703860</th>\n",
       "      <td>PETERSBURG</td>\n",
       "      <td>41.915288</td>\n",
       "      <td>108.26772</td>\n",
       "      <td>56.800</td>\n",
       "      <td>-132.950</td>\n",
       "      <td>79.420091</td>\n",
       "      <td>AK</td>\n",
       "      <td>http://ak-energy-data.analysisnorth.com/wx/tmy...</td>\n",
       "      <td>-9.0</td>\n",
       "      <td>3.913853</td>\n",
       "    </tr>\n",
       "    <tr>\n",
       "      <th>703870</th>\n",
       "      <td>WRANGELL</td>\n",
       "      <td>43.072918</td>\n",
       "      <td>42.65092</td>\n",
       "      <td>56.483</td>\n",
       "      <td>-132.367</td>\n",
       "      <td>75.674315</td>\n",
       "      <td>AK</td>\n",
       "      <td>http://ak-energy-data.analysisnorth.com/wx/tmy...</td>\n",
       "      <td>-9.0</td>\n",
       "      <td>5.976894</td>\n",
       "    </tr>\n",
       "    <tr>\n",
       "      <th>703884</th>\n",
       "      <td>HYDABURG SEAPLANE</td>\n",
       "      <td>47.920116</td>\n",
       "      <td>0.00000</td>\n",
       "      <td>55.200</td>\n",
       "      <td>-132.833</td>\n",
       "      <td>67.648858</td>\n",
       "      <td>AK</td>\n",
       "      <td>http://ak-energy-data.analysisnorth.com/wx/tmy...</td>\n",
       "      <td>-9.0</td>\n",
       "      <td>7.467039</td>\n",
       "    </tr>\n",
       "    <tr>\n",
       "      <th>703950</th>\n",
       "      <td>KETCHIKAN INTL AP</td>\n",
       "      <td>43.308808</td>\n",
       "      <td>75.45932</td>\n",
       "      <td>55.367</td>\n",
       "      <td>-131.717</td>\n",
       "      <td>78.334932</td>\n",
       "      <td>AK</td>\n",
       "      <td>http://ak-energy-data.analysisnorth.com/wx/tmy...</td>\n",
       "      <td>-9.0</td>\n",
       "      <td>7.987382</td>\n",
       "    </tr>\n",
       "    <tr>\n",
       "      <th>703980</th>\n",
       "      <td>ANNETTE ISLAND AP</td>\n",
       "      <td>46.281438</td>\n",
       "      <td>108.26772</td>\n",
       "      <td>55.050</td>\n",
       "      <td>-131.567</td>\n",
       "      <td>80.587900</td>\n",
       "      <td>AK</td>\n",
       "      <td>http://ak-energy-data.analysisnorth.com/wx/tmy...</td>\n",
       "      <td>-9.0</td>\n",
       "      <td>9.097553</td>\n",
       "    </tr>\n",
       "    <tr>\n",
       "      <th>704140</th>\n",
       "      <td>SHEMYA AFB</td>\n",
       "      <td>37.976699</td>\n",
       "      <td>101.70604</td>\n",
       "      <td>52.717</td>\n",
       "      <td>174.117</td>\n",
       "      <td>81.038813</td>\n",
       "      <td>AK</td>\n",
       "      <td>http://ak-energy-data.analysisnorth.com/wx/tmy...</td>\n",
       "      <td>-10.0</td>\n",
       "      <td>17.330948</td>\n",
       "    </tr>\n",
       "    <tr>\n",
       "      <th>704540</th>\n",
       "      <td>ADAK NAS</td>\n",
       "      <td>39.848596</td>\n",
       "      <td>16.40420</td>\n",
       "      <td>51.883</td>\n",
       "      <td>-176.650</td>\n",
       "      <td>75.702283</td>\n",
       "      <td>AK</td>\n",
       "      <td>http://ak-energy-data.analysisnorth.com/wx/tmy...</td>\n",
       "      <td>-10.0</td>\n",
       "      <td>13.728632</td>\n",
       "    </tr>\n",
       "    <tr>\n",
       "      <th>704890</th>\n",
       "      <td>DUTCH HARBOR</td>\n",
       "      <td>40.445349</td>\n",
       "      <td>13.12336</td>\n",
       "      <td>53.900</td>\n",
       "      <td>-166.550</td>\n",
       "      <td>74.335731</td>\n",
       "      <td>AK</td>\n",
       "      <td>http://ak-energy-data.analysisnorth.com/wx/tmy...</td>\n",
       "      <td>-9.0</td>\n",
       "      <td>11.239398</td>\n",
       "    </tr>\n",
       "  </tbody>\n",
       "</table>\n",
       "</div>"
      ],
      "text/plain": [
       "                                           city  db_temp_avg   elevation  \\\n",
       "tmy_id                                                                     \n",
       "700197                                  SELAWIK    24.855438    26.24672   \n",
       "700260  BARROW W POST-W ROGERS ARPT [NSA - ARM]    10.729712    32.80840   \n",
       "700637                                DEADHORSE    14.890158    75.45932   \n",
       "701043                        POINT HOPE (AWOS)    24.074966    13.12336   \n",
       "701195                        SHISHMAREF (AWOS)    25.309137     6.56168   \n",
       "701330             KOTZEBUE RALPH WEIN MEMORIAL    23.303884     9.84252   \n",
       "701625                           ANAKTUVUK PASS    20.373089  2155.51188   \n",
       "701718                                   AMBLER    26.395527   288.71392   \n",
       "701740                            BETTLES FIELD    24.438295   643.04464   \n",
       "701780            TANANA RALPH M CALHOUN MEM AP    28.251233   232.93964   \n",
       "701940                               FORT YUKON    23.940829   446.19424   \n",
       "702000                      NOME MUNICIPAL ARPT    28.720075    13.12336   \n",
       "702005                      SAINT MARY`S (AWOS)    32.966596   311.67980   \n",
       "702035                                 SAVOONGA    29.114021    55.77428   \n",
       "702040                                  GAMBELL    28.443171    26.24672   \n",
       "702070                         UNALAKLEET FIELD    31.364144    16.40420   \n",
       "702075                                    ANVIK    33.331733   324.80316   \n",
       "702084                                  EMMONAK    32.576863    13.12336   \n",
       "702185                                 MEKORYUK    33.632329    49.21260   \n",
       "702186                               HOOPER BAY    32.347815    19.68504   \n",
       "702190                           BETHEL AIRPORT    32.015514   124.67192   \n",
       "702225                                   HUSLIA    28.161151   180.44620   \n",
       "702310                             MCGRATH ARPT    27.041452   344.48820   \n",
       "702320                            ANIAK AIRPORT    33.662658    85.30184   \n",
       "702460                               MINCHUMINA    30.347575   698.81892   \n",
       "702495                              HAYES RIVER    36.810479  1000.65620   \n",
       "702510                     TALKEETNA STATE ARPT    35.236486   344.48820   \n",
       "702590                       KENAI MUNICIPAL AP    37.982904    85.30184   \n",
       "702595                                 SOLDOTNA    37.710377   111.54856   \n",
       "702600                      NENANA MUNICIPAL AP    30.392452   357.61156   \n",
       "702606                                 CHULITNA    35.665055  1250.00004   \n",
       "702607                                   HOONAH    41.027144    19.68504   \n",
       "702610                      FAIRBANKS INTL ARPT    29.417000   436.35172   \n",
       "702647                      HEALY RIVER AIRPORT    35.502479  1299.21264   \n",
       "702650                      FAIRBANKS/EIELSON A    31.842952   547.90028   \n",
       "702670                      BIG DELTA ALLEN AAF    30.916363  1266.40424   \n",
       "702710               GULKANA INTERMEDIATE FIELD    28.596582  1568.24152   \n",
       "702730                        ANCHORAGE INTL AP    37.330918   114.82940   \n",
       "702740                         PALMER MUNICIPAL    41.468062   232.93964   \n",
       "702746                                BIRCHWOOD    39.111397    98.42520   \n",
       "702750                               VALDEZ WSO    39.336438    22.96588   \n",
       "702756                      VALDEZ PIONEER FIEL    39.940507   124.67192   \n",
       "702757                                 WHITTIER    39.351295    29.52756   \n",
       "702770                                   SEWARD    40.051055    59.05512   \n",
       "702910                         NORTHWAY AIRPORT    23.911527  1712.59848   \n",
       "702960                                  CORDOVA    39.821205    39.37008   \n",
       "702986                           BIG RIVER LAKE    37.625226    39.37008   \n",
       "703080                      ST PAUL ISLAND ARPT    36.170308    22.96588   \n",
       "703160                            COLD BAY ARPT    38.925171    95.14436   \n",
       "703165                               SAND POINT    39.957171    22.96588   \n",
       "703210                        DILLINGHAM (AMOS)    36.315212    95.14436   \n",
       "703260                         KING SALMON ARPT    35.688151    49.21260   \n",
       "703330                              PORT HEIDEN    37.702918    95.14436   \n",
       "703400                             ILIAMNA ARPT    38.303370   187.00788   \n",
       "703407                                SLEETMUTE    34.121575   177.16536   \n",
       "703410                               HOMER ARPT    38.797836    88.58268   \n",
       "703430                     MIDDLETON ISLAND AUT    42.286979    45.93176   \n",
       "703500                           KODIAK AIRPORT    41.758158    16.40420   \n",
       "703606                      TOGIAC VILLAGE AWOS    36.842760    19.68504   \n",
       "703610                       YAKUTAT STATE ARPT    40.366856    26.24672   \n",
       "703620                          SKAGWAY AIRPORT    42.180151    29.52756   \n",
       "703670                                 GUSTAVUS    40.609959    39.37008   \n",
       "703710                        SITKA JAPONSKI AP    43.127082    13.12336   \n",
       "703810                        JUNEAU INT'L ARPT    41.865274    13.12336   \n",
       "703855                       KAKE SEAPLANE BASE    42.390377     0.00000   \n",
       "703860                               PETERSBURG    41.915288   108.26772   \n",
       "703870                                 WRANGELL    43.072918    42.65092   \n",
       "703884                        HYDABURG SEAPLANE    47.920116     0.00000   \n",
       "703950                        KETCHIKAN INTL AP    43.308808    75.45932   \n",
       "703980                        ANNETTE ISLAND AP    46.281438   108.26772   \n",
       "704140                               SHEMYA AFB    37.976699   101.70604   \n",
       "704540                                 ADAK NAS    39.848596    16.40420   \n",
       "704890                             DUTCH HARBOR    40.445349    13.12336   \n",
       "\n",
       "        latitude  longitude     rh_avg state  \\\n",
       "tmy_id                                         \n",
       "700197    66.600   -160.000  78.158676    AK   \n",
       "700260    71.320   -156.620  84.193950    AK   \n",
       "700637    70.200   -148.483  81.881279    AK   \n",
       "701043    68.350   -166.800  77.388927    AK   \n",
       "701195    66.267   -166.050  78.231279    AK   \n",
       "701330    66.883   -162.600  79.720662    AK   \n",
       "701625    68.133   -151.733  70.690982    AK   \n",
       "701718    67.100   -157.850  68.722717    AK   \n",
       "701740    66.917   -151.517  68.911872    AK   \n",
       "701780    65.167   -152.100  69.607763    AK   \n",
       "701940    66.567   -145.267  64.439726    AK   \n",
       "702000    64.517   -165.450  73.324886    AK   \n",
       "702005    62.067   -163.300  77.154909    AK   \n",
       "702035    63.683   -170.500  71.928082    AK   \n",
       "702040    63.783   -171.750  75.729909    AK   \n",
       "702070    63.883   -160.800  68.756849    AK   \n",
       "702075    62.650   -160.183  62.518836    AK   \n",
       "702084    62.783   -164.500  79.601484    AK   \n",
       "702185    60.367   -166.267  80.209817    AK   \n",
       "702186    61.517   -166.150  77.927740    AK   \n",
       "702190    60.783   -161.833  81.113242    AK   \n",
       "702225    65.700   -156.383  67.170320    AK   \n",
       "702310    62.950   -155.600  72.505479    AK   \n",
       "702320    61.583   -159.533  67.653881    AK   \n",
       "702460    63.883   -152.283  63.267237    AK   \n",
       "702495    61.983   -152.083  69.026941    AK   \n",
       "702510    62.317   -150.100  74.301826    AK   \n",
       "702590    60.583   -151.233  76.492123    AK   \n",
       "702595    60.467   -151.033  71.117352    AK   \n",
       "702600    64.550   -149.100  59.502511    AK   \n",
       "702606    62.883   -149.833  74.036986    AK   \n",
       "702607    58.083   -135.450  81.007192    AK   \n",
       "702610    64.817   -147.850  67.809589    AK   \n",
       "702647    63.883   -149.017  63.709589    AK   \n",
       "702650    64.650   -147.100  74.119863    AK   \n",
       "702670    64.000   -145.717  62.493265    AK   \n",
       "702710    62.150   -145.450  70.050799    AK   \n",
       "702730    61.183   -150.000  71.812100    AK   \n",
       "702740    61.600   -149.083  68.107648    AK   \n",
       "702746    61.417   -149.517  69.378653    AK   \n",
       "702750    61.133   -146.350  74.864498    AK   \n",
       "702756    61.133   -146.267  75.220548    AK   \n",
       "702757    60.767   -148.683  78.169635    AK   \n",
       "702770    60.117   -149.450  75.644292    AK   \n",
       "702910    62.967   -141.933  69.045776    AK   \n",
       "702960    60.500   -145.500  78.132192    AK   \n",
       "702986    60.817   -152.300  73.406393    AK   \n",
       "703080    57.167   -170.217  85.875000    AK   \n",
       "703160    55.200   -162.717  84.175000    AK   \n",
       "703165    55.317   -160.517  73.486644    AK   \n",
       "703210    59.050   -158.517  73.570091    AK   \n",
       "703260    58.683   -156.650  79.055023    AK   \n",
       "703330    56.950   -158.617  68.597260    AK   \n",
       "703400    59.750   -154.917  73.474429    AK   \n",
       "703407    61.717   -157.150  67.029452    AK   \n",
       "703410    59.650   -151.483  75.502283    AK   \n",
       "703430    59.467   -146.317  67.775457    AK   \n",
       "703500    57.750   -152.500  77.828653    AK   \n",
       "703606    59.050   -160.400  76.165068    AK   \n",
       "703610    59.517   -139.633  83.741895    AK   \n",
       "703620    59.467   -135.300  68.594178    AK   \n",
       "703670    58.417   -135.700  75.245320    AK   \n",
       "703710    57.050   -135.367  72.839498    AK   \n",
       "703810    58.350   -134.583  81.007420    AK   \n",
       "703855    56.967   -133.950  75.250799    AK   \n",
       "703860    56.800   -132.950  79.420091    AK   \n",
       "703870    56.483   -132.367  75.674315    AK   \n",
       "703884    55.200   -132.833  67.648858    AK   \n",
       "703950    55.367   -131.717  78.334932    AK   \n",
       "703980    55.050   -131.567  80.587900    AK   \n",
       "704140    52.717    174.117  81.038813    AK   \n",
       "704540    51.883   -176.650  75.702283    AK   \n",
       "704890    53.900   -166.550  74.335731    AK   \n",
       "\n",
       "                                                      url  utc_offset  \\\n",
       "tmy_id                                                                  \n",
       "700197  http://ak-energy-data.analysisnorth.com/wx/tmy...        -9.0   \n",
       "700260  http://ak-energy-data.analysisnorth.com/wx/tmy...        -9.0   \n",
       "700637  http://ak-energy-data.analysisnorth.com/wx/tmy...        -9.0   \n",
       "701043  http://ak-energy-data.analysisnorth.com/wx/tmy...        -9.0   \n",
       "701195  http://ak-energy-data.analysisnorth.com/wx/tmy...        -9.0   \n",
       "701330  http://ak-energy-data.analysisnorth.com/wx/tmy...        -9.0   \n",
       "701625  http://ak-energy-data.analysisnorth.com/wx/tmy...        -9.0   \n",
       "701718  http://ak-energy-data.analysisnorth.com/wx/tmy...        -9.0   \n",
       "701740  http://ak-energy-data.analysisnorth.com/wx/tmy...        -9.0   \n",
       "701780  http://ak-energy-data.analysisnorth.com/wx/tmy...        -9.0   \n",
       "701940  http://ak-energy-data.analysisnorth.com/wx/tmy...        -9.0   \n",
       "702000  http://ak-energy-data.analysisnorth.com/wx/tmy...        -9.0   \n",
       "702005  http://ak-energy-data.analysisnorth.com/wx/tmy...        -9.0   \n",
       "702035  http://ak-energy-data.analysisnorth.com/wx/tmy...        -9.0   \n",
       "702040  http://ak-energy-data.analysisnorth.com/wx/tmy...        -9.0   \n",
       "702070  http://ak-energy-data.analysisnorth.com/wx/tmy...        -9.0   \n",
       "702075  http://ak-energy-data.analysisnorth.com/wx/tmy...        -9.0   \n",
       "702084  http://ak-energy-data.analysisnorth.com/wx/tmy...        -9.0   \n",
       "702185  http://ak-energy-data.analysisnorth.com/wx/tmy...        -9.0   \n",
       "702186  http://ak-energy-data.analysisnorth.com/wx/tmy...        -9.0   \n",
       "702190  http://ak-energy-data.analysisnorth.com/wx/tmy...        -9.0   \n",
       "702225  http://ak-energy-data.analysisnorth.com/wx/tmy...        -9.0   \n",
       "702310  http://ak-energy-data.analysisnorth.com/wx/tmy...        -9.0   \n",
       "702320  http://ak-energy-data.analysisnorth.com/wx/tmy...        -9.0   \n",
       "702460  http://ak-energy-data.analysisnorth.com/wx/tmy...        -9.0   \n",
       "702495  http://ak-energy-data.analysisnorth.com/wx/tmy...        -9.0   \n",
       "702510  http://ak-energy-data.analysisnorth.com/wx/tmy...        -9.0   \n",
       "702590  http://ak-energy-data.analysisnorth.com/wx/tmy...        -9.0   \n",
       "702595  http://ak-energy-data.analysisnorth.com/wx/tmy...        -9.0   \n",
       "702600  http://ak-energy-data.analysisnorth.com/wx/tmy...        -9.0   \n",
       "702606  http://ak-energy-data.analysisnorth.com/wx/tmy...        -9.0   \n",
       "702607  http://ak-energy-data.analysisnorth.com/wx/tmy...        -9.0   \n",
       "702610  http://ak-energy-data.analysisnorth.com/wx/tmy...        -9.0   \n",
       "702647  http://ak-energy-data.analysisnorth.com/wx/tmy...        -9.0   \n",
       "702650  http://ak-energy-data.analysisnorth.com/wx/tmy...        -9.0   \n",
       "702670  http://ak-energy-data.analysisnorth.com/wx/tmy...        -9.0   \n",
       "702710  http://ak-energy-data.analysisnorth.com/wx/tmy...        -9.0   \n",
       "702730  http://ak-energy-data.analysisnorth.com/wx/tmy...        -9.0   \n",
       "702740  http://ak-energy-data.analysisnorth.com/wx/tmy...        -9.0   \n",
       "702746  http://ak-energy-data.analysisnorth.com/wx/tmy...        -9.0   \n",
       "702750  http://ak-energy-data.analysisnorth.com/wx/tmy...        -9.0   \n",
       "702756  http://ak-energy-data.analysisnorth.com/wx/tmy...        -9.0   \n",
       "702757  http://ak-energy-data.analysisnorth.com/wx/tmy...        -9.0   \n",
       "702770  http://ak-energy-data.analysisnorth.com/wx/tmy...        -9.0   \n",
       "702910  http://ak-energy-data.analysisnorth.com/wx/tmy...        -9.0   \n",
       "702960  http://ak-energy-data.analysisnorth.com/wx/tmy...        -9.0   \n",
       "702986  http://ak-energy-data.analysisnorth.com/wx/tmy...        -9.0   \n",
       "703080  http://ak-energy-data.analysisnorth.com/wx/tmy...        -9.0   \n",
       "703160  http://ak-energy-data.analysisnorth.com/wx/tmy...        -9.0   \n",
       "703165  http://ak-energy-data.analysisnorth.com/wx/tmy...        -9.0   \n",
       "703210  http://ak-energy-data.analysisnorth.com/wx/tmy...        -9.0   \n",
       "703260  http://ak-energy-data.analysisnorth.com/wx/tmy...        -9.0   \n",
       "703330  http://ak-energy-data.analysisnorth.com/wx/tmy...        -9.0   \n",
       "703400  http://ak-energy-data.analysisnorth.com/wx/tmy...        -9.0   \n",
       "703407  http://ak-energy-data.analysisnorth.com/wx/tmy...        -9.0   \n",
       "703410  http://ak-energy-data.analysisnorth.com/wx/tmy...        -9.0   \n",
       "703430  http://ak-energy-data.analysisnorth.com/wx/tmy...        -9.0   \n",
       "703500  http://ak-energy-data.analysisnorth.com/wx/tmy...        -9.0   \n",
       "703606  http://ak-energy-data.analysisnorth.com/wx/tmy...        -9.0   \n",
       "703610  http://ak-energy-data.analysisnorth.com/wx/tmy...        -9.0   \n",
       "703620  http://ak-energy-data.analysisnorth.com/wx/tmy...        -9.0   \n",
       "703670  http://ak-energy-data.analysisnorth.com/wx/tmy...        -9.0   \n",
       "703710  http://ak-energy-data.analysisnorth.com/wx/tmy...        -9.0   \n",
       "703810  http://ak-energy-data.analysisnorth.com/wx/tmy...        -9.0   \n",
       "703855  http://ak-energy-data.analysisnorth.com/wx/tmy...        -9.0   \n",
       "703860  http://ak-energy-data.analysisnorth.com/wx/tmy...        -9.0   \n",
       "703870  http://ak-energy-data.analysisnorth.com/wx/tmy...        -9.0   \n",
       "703884  http://ak-energy-data.analysisnorth.com/wx/tmy...        -9.0   \n",
       "703950  http://ak-energy-data.analysisnorth.com/wx/tmy...        -9.0   \n",
       "703980  http://ak-energy-data.analysisnorth.com/wx/tmy...        -9.0   \n",
       "704140  http://ak-energy-data.analysisnorth.com/wx/tmy...       -10.0   \n",
       "704540  http://ak-energy-data.analysisnorth.com/wx/tmy...       -10.0   \n",
       "704890  http://ak-energy-data.analysisnorth.com/wx/tmy...        -9.0   \n",
       "\n",
       "        wind_spd_avg  \n",
       "tmy_id                \n",
       "700197      9.655307  \n",
       "700260     12.178734  \n",
       "700637     11.842146  \n",
       "701043     15.689121  \n",
       "701195     13.223661  \n",
       "701330     12.160118  \n",
       "701625      8.641866  \n",
       "701718      6.285546  \n",
       "701740      6.881706  \n",
       "701780      5.766198  \n",
       "701940      5.384386  \n",
       "702000      9.881529  \n",
       "702005     12.054093  \n",
       "702035     13.173840  \n",
       "702040     19.409106  \n",
       "702070     12.394359  \n",
       "702075      5.397997  \n",
       "702084     10.476974  \n",
       "702185     14.999576  \n",
       "702186     15.091071  \n",
       "702190     13.427998  \n",
       "702225      6.172218  \n",
       "702310      5.441280  \n",
       "702320      5.384386  \n",
       "702460      2.766732  \n",
       "702495      3.142084  \n",
       "702510      5.276497  \n",
       "702590      7.949589  \n",
       "702595      3.666513  \n",
       "702600      5.701388  \n",
       "702606      6.075692  \n",
       "702607      5.566150  \n",
       "702610      5.511223  \n",
       "702647      6.249387  \n",
       "702650      4.988632  \n",
       "702670      8.850596  \n",
       "702710      5.546641  \n",
       "702730      7.130119  \n",
       "702740      7.371739  \n",
       "702746      3.194330  \n",
       "702750      6.165962  \n",
       "702756      3.098239  \n",
       "702757      8.976386  \n",
       "702770      9.590625  \n",
       "702910      4.288362  \n",
       "702960      4.766444  \n",
       "702986      6.393103  \n",
       "703080     16.101499  \n",
       "703160     16.870154  \n",
       "703165     11.345755  \n",
       "703210      8.235540  \n",
       "703260     10.495283  \n",
       "703330     13.349169  \n",
       "703400     10.724033  \n",
       "703407      2.727535  \n",
       "703410      7.965064  \n",
       "703430     13.444724  \n",
       "703500     10.812132  \n",
       "703606     11.038277  \n",
       "703610      6.360443  \n",
       "703620     10.167786  \n",
       "703670      4.422604  \n",
       "703710      7.566322  \n",
       "703810      7.632306  \n",
       "703855      6.659902  \n",
       "703860      3.913853  \n",
       "703870      5.976894  \n",
       "703884      7.467039  \n",
       "703950      7.987382  \n",
       "703980      9.097553  \n",
       "704140     17.330948  \n",
       "704540     13.728632  \n",
       "704890     11.239398  "
      ]
     },
     "execution_count": 45,
     "metadata": {},
     "output_type": "execute_result"
    }
   ],
   "source": [
    "dfw = get_df('wx/tmy3/proc/tmy3_meta.pkl')\n",
    "dfw"
   ]
  },
  {
   "cell_type": "markdown",
   "metadata": {},
   "source": [
    "## Relationship between Stable Compressor Power and Outdoor Temperature"
   ]
  },
  {
   "cell_type": "code",
   "execution_count": 46,
   "metadata": {},
   "outputs": [
    {
     "data": {
      "text/html": [
       "<div>\n",
       "<style scoped>\n",
       "    .dataframe tbody tr th:only-of-type {\n",
       "        vertical-align: middle;\n",
       "    }\n",
       "\n",
       "    .dataframe tbody tr th {\n",
       "        vertical-align: top;\n",
       "    }\n",
       "\n",
       "    .dataframe thead th {\n",
       "        text-align: right;\n",
       "    }\n",
       "</style>\n",
       "<table border=\"1\" class=\"dataframe\">\n",
       "  <thead>\n",
       "    <tr style=\"text-align: right;\">\n",
       "      <th></th>\n",
       "      <th>ms_power</th>\n",
       "      <th>spc_power</th>\n",
       "      <th>temp_out</th>\n",
       "      <th>temp_downstairs</th>\n",
       "      <th>temp_upstairs</th>\n",
       "    </tr>\n",
       "  </thead>\n",
       "  <tbody>\n",
       "    <tr>\n",
       "      <th>2018-01-23 00:00:51</th>\n",
       "      <td>637.5</td>\n",
       "      <td>NaN</td>\n",
       "      <td>NaN</td>\n",
       "      <td>NaN</td>\n",
       "      <td>NaN</td>\n",
       "    </tr>\n",
       "    <tr>\n",
       "      <th>2018-01-23 00:01:13</th>\n",
       "      <td>NaN</td>\n",
       "      <td>NaN</td>\n",
       "      <td>NaN</td>\n",
       "      <td>72.77</td>\n",
       "      <td>NaN</td>\n",
       "    </tr>\n",
       "    <tr>\n",
       "      <th>2018-01-23 00:01:19</th>\n",
       "      <td>NaN</td>\n",
       "      <td>NaN</td>\n",
       "      <td>21.43</td>\n",
       "      <td>NaN</td>\n",
       "      <td>NaN</td>\n",
       "    </tr>\n",
       "    <tr>\n",
       "      <th>2018-01-23 00:01:22</th>\n",
       "      <td>NaN</td>\n",
       "      <td>NaN</td>\n",
       "      <td>NaN</td>\n",
       "      <td>NaN</td>\n",
       "      <td>70.0</td>\n",
       "    </tr>\n",
       "    <tr>\n",
       "      <th>2018-01-23 00:02:51</th>\n",
       "      <td>600.0</td>\n",
       "      <td>NaN</td>\n",
       "      <td>NaN</td>\n",
       "      <td>NaN</td>\n",
       "      <td>NaN</td>\n",
       "    </tr>\n",
       "  </tbody>\n",
       "</table>\n",
       "</div>"
      ],
      "text/plain": [
       "                     ms_power  spc_power  temp_out  temp_downstairs  \\\n",
       "2018-01-23 00:00:51     637.5        NaN       NaN              NaN   \n",
       "2018-01-23 00:01:13       NaN        NaN       NaN            72.77   \n",
       "2018-01-23 00:01:19       NaN        NaN     21.43              NaN   \n",
       "2018-01-23 00:01:22       NaN        NaN       NaN              NaN   \n",
       "2018-01-23 00:02:51     600.0        NaN       NaN              NaN   \n",
       "\n",
       "                     temp_upstairs  \n",
       "2018-01-23 00:00:51            NaN  \n",
       "2018-01-23 00:01:13            NaN  \n",
       "2018-01-23 00:01:19            NaN  \n",
       "2018-01-23 00:01:22           70.0  \n",
       "2018-01-23 00:02:51            NaN  "
      ]
     },
     "execution_count": 46,
     "metadata": {},
     "output_type": "execute_result"
    }
   ],
   "source": [
    "df.head()"
   ]
  },
  {
   "cell_type": "code",
   "execution_count": 47,
   "metadata": {},
   "outputs": [
    {
     "data": {
      "text/html": [
       "<div>\n",
       "<style scoped>\n",
       "    .dataframe tbody tr th:only-of-type {\n",
       "        vertical-align: middle;\n",
       "    }\n",
       "\n",
       "    .dataframe tbody tr th {\n",
       "        vertical-align: top;\n",
       "    }\n",
       "\n",
       "    .dataframe thead th {\n",
       "        text-align: right;\n",
       "    }\n",
       "</style>\n",
       "<table border=\"1\" class=\"dataframe\">\n",
       "  <thead>\n",
       "    <tr style=\"text-align: right;\">\n",
       "      <th></th>\n",
       "      <th>ms_power</th>\n",
       "      <th>temp_out</th>\n",
       "      <th>ms_power_std</th>\n",
       "      <th>ms_power_actual</th>\n",
       "    </tr>\n",
       "  </thead>\n",
       "  <tbody>\n",
       "    <tr>\n",
       "      <th>2018-01-23 00:06:51</th>\n",
       "      <td>628.125</td>\n",
       "      <td>21.53300</td>\n",
       "      <td>18.750000</td>\n",
       "      <td>637.5</td>\n",
       "    </tr>\n",
       "    <tr>\n",
       "      <th>2018-01-23 00:08:51</th>\n",
       "      <td>630.000</td>\n",
       "      <td>21.52975</td>\n",
       "      <td>16.770510</td>\n",
       "      <td>637.5</td>\n",
       "    </tr>\n",
       "    <tr>\n",
       "      <th>2018-01-23 00:10:51</th>\n",
       "      <td>622.500</td>\n",
       "      <td>21.49180</td>\n",
       "      <td>20.539596</td>\n",
       "      <td>600.0</td>\n",
       "    </tr>\n",
       "    <tr>\n",
       "      <th>2018-01-23 00:12:51</th>\n",
       "      <td>622.500</td>\n",
       "      <td>21.43780</td>\n",
       "      <td>20.539596</td>\n",
       "      <td>600.0</td>\n",
       "    </tr>\n",
       "    <tr>\n",
       "      <th>2018-01-23 00:14:51</th>\n",
       "      <td>630.000</td>\n",
       "      <td>21.38120</td>\n",
       "      <td>31.374751</td>\n",
       "      <td>675.0</td>\n",
       "    </tr>\n",
       "  </tbody>\n",
       "</table>\n",
       "</div>"
      ],
      "text/plain": [
       "                     ms_power  temp_out  ms_power_std  ms_power_actual\n",
       "2018-01-23 00:06:51   628.125  21.53300     18.750000            637.5\n",
       "2018-01-23 00:08:51   630.000  21.52975     16.770510            637.5\n",
       "2018-01-23 00:10:51   622.500  21.49180     20.539596            600.0\n",
       "2018-01-23 00:12:51   622.500  21.43780     20.539596            600.0\n",
       "2018-01-23 00:14:51   630.000  21.38120     31.374751            675.0"
      ]
     },
     "execution_count": 47,
     "metadata": {},
     "output_type": "execute_result"
    }
   ],
   "source": [
    "dfst = df[['ms_power', 'temp_out']].copy()\n",
    "dfst_m = dfst.rolling('10min', min_periods=3).mean()\n",
    "dfst_s = dfst.rolling('10min', min_periods=3).std().drop(columns=['temp_out'])\n",
    "dfst_s.columns = ['ms_power_std']\n",
    "dfst_a = dfst.rolling('10min', min_periods=3).apply(lambda x: x[-1]).drop(columns=['temp_out'])\n",
    "dfst_a.columns = ['ms_power_actual']\n",
    "dfst = pd.concat([dfst_m, dfst_s, dfst_a], axis=1).dropna()\n",
    "dfst.head()"
   ]
  },
  {
   "cell_type": "code",
   "execution_count": 48,
   "metadata": {},
   "outputs": [
    {
     "data": {
      "text/plain": [
       "(0, 1200)"
      ]
     },
     "execution_count": 48,
     "metadata": {},
     "output_type": "execute_result"
    },
    {
     "data": {
      "image/png": "[encoded data removed]",
      "text/plain": [
       "<matplotlib.figure.Figure at 0x249622729e8>"
      ]
     },
     "metadata": {},
     "output_type": "display_data"
    }
   ],
   "source": [
    "dff = dfst.query('ms_power > 60 and ms_power_std < 50')\n",
    "dff.plot(x='temp_out', y='ms_power', style='b.')\n",
    "ylim(0, 1200)"
   ]
  },
  {
   "cell_type": "code",
   "execution_count": 49,
   "metadata": {},
   "outputs": [
    {
     "data": {
      "text/plain": [
       "Text(0.5,0,'Outdoor Temp, deg F')"
      ]
     },
     "execution_count": 49,
     "metadata": {},
     "output_type": "execute_result"
    },
    {
     "data": {
      "image/png": "[encoded data removed]",
      "text/plain": [
       "<matplotlib.figure.Figure at 0x24960f94320>"
      ]
     },
     "metadata": {},
     "output_type": "display_data"
    }
   ],
   "source": [
    "df_sm = dff.resample('1H').mean().dropna()\n",
    "df_sm.plot(x='temp_out', y='ms_power', style='b.')\n",
    "ylabel('Heat Pump Power, Watts')\n",
    "xlabel('Outdoor Temp, deg F')"
   ]
  },
  {
   "cell_type": "code",
   "execution_count": 50,
   "metadata": {},
   "outputs": [
    {
     "data": {
      "text/html": [
       "<div>\n",
       "<style scoped>\n",
       "    .dataframe tbody tr th:only-of-type {\n",
       "        vertical-align: middle;\n",
       "    }\n",
       "\n",
       "    .dataframe tbody tr th {\n",
       "        vertical-align: top;\n",
       "    }\n",
       "\n",
       "    .dataframe thead th {\n",
       "        text-align: right;\n",
       "    }\n",
       "</style>\n",
       "<table border=\"1\" class=\"dataframe\">\n",
       "  <thead>\n",
       "    <tr style=\"text-align: right;\">\n",
       "      <th></th>\n",
       "      <th>ms_power</th>\n",
       "      <th>temp_out</th>\n",
       "      <th>ms_power_std</th>\n",
       "      <th>ms_power_actual</th>\n",
       "    </tr>\n",
       "  </thead>\n",
       "  <tbody>\n",
       "    <tr>\n",
       "      <th>2018-06-01 19:00:00</th>\n",
       "      <td>171.250000</td>\n",
       "      <td>66.175567</td>\n",
       "      <td>34.759406</td>\n",
       "      <td>162.500000</td>\n",
       "    </tr>\n",
       "    <tr>\n",
       "      <th>2018-06-25 22:00:00</th>\n",
       "      <td>191.571429</td>\n",
       "      <td>55.543376</td>\n",
       "      <td>35.432495</td>\n",
       "      <td>197.142857</td>\n",
       "    </tr>\n",
       "    <tr>\n",
       "      <th>2018-06-25 23:00:00</th>\n",
       "      <td>184.627660</td>\n",
       "      <td>54.409420</td>\n",
       "      <td>35.013680</td>\n",
       "      <td>181.914894</td>\n",
       "    </tr>\n",
       "    <tr>\n",
       "      <th>2018-06-26 00:00:00</th>\n",
       "      <td>171.750000</td>\n",
       "      <td>53.488461</td>\n",
       "      <td>35.507478</td>\n",
       "      <td>172.500000</td>\n",
       "    </tr>\n",
       "    <tr>\n",
       "      <th>2018-06-26 17:00:00</th>\n",
       "      <td>187.500000</td>\n",
       "      <td>62.436300</td>\n",
       "      <td>39.368743</td>\n",
       "      <td>187.500000</td>\n",
       "    </tr>\n",
       "    <tr>\n",
       "      <th>2018-06-26 22:00:00</th>\n",
       "      <td>183.177966</td>\n",
       "      <td>55.595781</td>\n",
       "      <td>36.285369</td>\n",
       "      <td>183.050847</td>\n",
       "    </tr>\n",
       "    <tr>\n",
       "      <th>2018-06-27 17:00:00</th>\n",
       "      <td>172.659000</td>\n",
       "      <td>59.140000</td>\n",
       "      <td>37.073912</td>\n",
       "      <td>147.540000</td>\n",
       "    </tr>\n",
       "    <tr>\n",
       "      <th>2018-06-27 18:00:00</th>\n",
       "      <td>179.156952</td>\n",
       "      <td>59.463683</td>\n",
       "      <td>39.466447</td>\n",
       "      <td>182.540000</td>\n",
       "    </tr>\n",
       "    <tr>\n",
       "      <th>2018-06-28 17:00:00</th>\n",
       "      <td>188.272451</td>\n",
       "      <td>58.987981</td>\n",
       "      <td>36.926271</td>\n",
       "      <td>190.483125</td>\n",
       "    </tr>\n",
       "    <tr>\n",
       "      <th>2018-06-28 18:00:00</th>\n",
       "      <td>163.649602</td>\n",
       "      <td>57.205197</td>\n",
       "      <td>26.562976</td>\n",
       "      <td>161.305167</td>\n",
       "    </tr>\n",
       "    <tr>\n",
       "      <th>2018-06-28 20:00:00</th>\n",
       "      <td>160.918418</td>\n",
       "      <td>55.567757</td>\n",
       "      <td>27.791687</td>\n",
       "      <td>161.409000</td>\n",
       "    </tr>\n",
       "    <tr>\n",
       "      <th>2018-06-30 22:00:00</th>\n",
       "      <td>184.528302</td>\n",
       "      <td>56.812360</td>\n",
       "      <td>37.994717</td>\n",
       "      <td>183.962264</td>\n",
       "    </tr>\n",
       "    <tr>\n",
       "      <th>2018-07-01 22:00:00</th>\n",
       "      <td>185.192308</td>\n",
       "      <td>56.695947</td>\n",
       "      <td>37.702760</td>\n",
       "      <td>186.538462</td>\n",
       "    </tr>\n",
       "    <tr>\n",
       "      <th>2018-07-01 23:00:00</th>\n",
       "      <td>166.436170</td>\n",
       "      <td>55.069490</td>\n",
       "      <td>30.990763</td>\n",
       "      <td>164.361702</td>\n",
       "    </tr>\n",
       "    <tr>\n",
       "      <th>2018-07-03 22:00:00</th>\n",
       "      <td>195.875000</td>\n",
       "      <td>64.372861</td>\n",
       "      <td>38.125833</td>\n",
       "      <td>196.250000</td>\n",
       "    </tr>\n",
       "    <tr>\n",
       "      <th>2018-07-03 23:00:00</th>\n",
       "      <td>180.961538</td>\n",
       "      <td>61.787488</td>\n",
       "      <td>35.781691</td>\n",
       "      <td>178.846154</td>\n",
       "    </tr>\n",
       "    <tr>\n",
       "      <th>2018-07-06 00:00:00</th>\n",
       "      <td>183.750000</td>\n",
       "      <td>61.565396</td>\n",
       "      <td>37.231806</td>\n",
       "      <td>184.821429</td>\n",
       "    </tr>\n",
       "    <tr>\n",
       "      <th>2018-07-06 01:00:00</th>\n",
       "      <td>170.357143</td>\n",
       "      <td>60.682590</td>\n",
       "      <td>36.466458</td>\n",
       "      <td>160.714286</td>\n",
       "    </tr>\n",
       "    <tr>\n",
       "      <th>2018-07-06 02:00:00</th>\n",
       "      <td>166.500000</td>\n",
       "      <td>58.681247</td>\n",
       "      <td>30.803043</td>\n",
       "      <td>165.000000</td>\n",
       "    </tr>\n",
       "    <tr>\n",
       "      <th>2018-07-06 07:00:00</th>\n",
       "      <td>177.857143</td>\n",
       "      <td>62.351129</td>\n",
       "      <td>39.730059</td>\n",
       "      <td>171.428571</td>\n",
       "    </tr>\n",
       "    <tr>\n",
       "      <th>2018-07-07 16:00:00</th>\n",
       "      <td>191.785714</td>\n",
       "      <td>61.684462</td>\n",
       "      <td>39.072107</td>\n",
       "      <td>203.571429</td>\n",
       "    </tr>\n",
       "    <tr>\n",
       "      <th>2018-07-07 17:00:00</th>\n",
       "      <td>184.500000</td>\n",
       "      <td>62.406505</td>\n",
       "      <td>38.553229</td>\n",
       "      <td>186.000000</td>\n",
       "    </tr>\n",
       "  </tbody>\n",
       "</table>\n",
       "</div>"
      ],
      "text/plain": [
       "                       ms_power   temp_out  ms_power_std  ms_power_actual\n",
       "2018-06-01 19:00:00  171.250000  66.175567     34.759406       162.500000\n",
       "2018-06-25 22:00:00  191.571429  55.543376     35.432495       197.142857\n",
       "2018-06-25 23:00:00  184.627660  54.409420     35.013680       181.914894\n",
       "2018-06-26 00:00:00  171.750000  53.488461     35.507478       172.500000\n",
       "2018-06-26 17:00:00  187.500000  62.436300     39.368743       187.500000\n",
       "2018-06-26 22:00:00  183.177966  55.595781     36.285369       183.050847\n",
       "2018-06-27 17:00:00  172.659000  59.140000     37.073912       147.540000\n",
       "2018-06-27 18:00:00  179.156952  59.463683     39.466447       182.540000\n",
       "2018-06-28 17:00:00  188.272451  58.987981     36.926271       190.483125\n",
       "2018-06-28 18:00:00  163.649602  57.205197     26.562976       161.305167\n",
       "2018-06-28 20:00:00  160.918418  55.567757     27.791687       161.409000\n",
       "2018-06-30 22:00:00  184.528302  56.812360     37.994717       183.962264\n",
       "2018-07-01 22:00:00  185.192308  56.695947     37.702760       186.538462\n",
       "2018-07-01 23:00:00  166.436170  55.069490     30.990763       164.361702\n",
       "2018-07-03 22:00:00  195.875000  64.372861     38.125833       196.250000\n",
       "2018-07-03 23:00:00  180.961538  61.787488     35.781691       178.846154\n",
       "2018-07-06 00:00:00  183.750000  61.565396     37.231806       184.821429\n",
       "2018-07-06 01:00:00  170.357143  60.682590     36.466458       160.714286\n",
       "2018-07-06 02:00:00  166.500000  58.681247     30.803043       165.000000\n",
       "2018-07-06 07:00:00  177.857143  62.351129     39.730059       171.428571\n",
       "2018-07-07 16:00:00  191.785714  61.684462     39.072107       203.571429\n",
       "2018-07-07 17:00:00  184.500000  62.406505     38.553229       186.000000"
      ]
     },
     "execution_count": 50,
     "metadata": {},
     "output_type": "execute_result"
    }
   ],
   "source": [
    "df_sm.query('ms_power > 160 and ms_power < 200')"
   ]
  },
  {
   "cell_type": "markdown",
   "metadata": {},
   "source": [
    "## What Power Levels does the Heat Pump Operate At?"
   ]
  },
  {
   "cell_type": "code",
   "execution_count": 51,
   "metadata": {},
   "outputs": [
    {
     "data": {
      "text/plain": [
       "<matplotlib.axes._subplots.AxesSubplot at 0x2496104fe10>"
      ]
     },
     "execution_count": 51,
     "metadata": {},
     "output_type": "execute_result"
    },
    {
     "data": {
      "image/png": "[encoded data removed]",
      "text/plain": [
       "<matplotlib.figure.Figure at 0x249606e9550>"
      ]
     },
     "metadata": {},
     "output_type": "display_data"
    }
   ],
   "source": [
    "df.query('ms_power > 100').ms_power.hist(bins=30)"
   ]
  },
  {
   "cell_type": "markdown",
   "metadata": {},
   "source": [
    "## Plot a Cycling Period against Average Power in that Period"
   ]
  },
  {
   "cell_type": "code",
   "execution_count": 82,
   "metadata": {},
   "outputs": [
    {
     "data": {
      "image/png": "[encoded data removed]",
      "text/plain": [
       "<matplotlib.figure.Figure at 0x249680ef470>"
      ]
     },
     "metadata": {},
     "output_type": "display_data"
    }
   ],
   "source": [
    "figure(figsize=(10,7))\n",
    "df['2018-04-27':'2018-04-27 6:00']['ms_power'].dropna().plot(style='b-', label='Actual Power', linewidth=1.0)\n",
    "df['2018-04-27':'2018-04-27 6:00'].resample('2H').mean()['ms_power'].plot(style='r-', label='Average Power')\n",
    "gca().axhline(175, linestyle='--', color='green', linewidth=1)\n",
    "legend(loc='upper right')\n",
    "ylabel('Compressor Input Watts')\n",
    "xlabel('Date/Time');"
   ]
  },
  {
   "cell_type": "markdown",
   "metadata": {},
   "source": [
    "The dashed green line shows the minimum compressor input power according to the specifications.\n",
    "The average power consumption (red line) is far above that level.  The compressor is cycling\n",
    "between Off and 800 Watts to meet the load instead of ramping down to a lower speed.\n",
    "\n",
    "Outdoor Temperature averaged about 33 deg F during this period.  Indoor Temperature near the Indoor Unit was about 69 deg F."
   ]
  },
  {
   "cell_type": "code",
   "execution_count": null,
   "metadata": {},
   "outputs": [],
   "source": []
  }
 ],
 "metadata": {
  "kernelspec": {
   "display_name": "Python 3",
   "language": "python",
   "name": "python3"
  },
  "language_info": {
   "codemirror_mode": {
    "name": "ipython",
    "version": 3
   },
   "file_extension": ".py",
   "mimetype": "text/x-python",
   "name": "python",
   "nbconvert_exporter": "python",
   "pygments_lexer": "ipython3",
   "version": "3.6.6"
  }
 },
 "nbformat": 4,
 "nbformat_minor": 2
}
