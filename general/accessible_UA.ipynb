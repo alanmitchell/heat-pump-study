{
 "cells": [
  {
   "cell_type": "markdown",
   "metadata": {},
   "source": [
    "# Investigation of Accessible UA to a Mini-Split Indoor Unit"
   ]
  },
  {
   "cell_type": "markdown",
   "metadata": {},
   "source": [
    "Look at known, funcational single-point heating systems and the UA associated with the space they are heating."
   ]
  },
  {
   "cell_type": "code",
   "execution_count": 14,
   "metadata": {},
   "outputs": [],
   "source": [
    "import io\n",
    "import urllib\n",
    "import functools\n",
    "import pandas as pd\n",
    "import requests\n",
    "# import matplotlib pyplot commands\n",
    "from matplotlib.pyplot import *\n",
    "from IPython.display import Image, Markdown\n",
    " \n",
    "# Show Plots in the Notebook\n",
    "%matplotlib inline\n",
    " \n",
    "# 'style' the plot like fivethirtyeight.com website\n",
    "style.use('bmh')"
   ]
  },
  {
   "cell_type": "code",
   "execution_count": 2,
   "metadata": {},
   "outputs": [],
   "source": [
    "rcParams['figure.figsize']= (10, 8)   # set Chart Size\n",
    "rcParams['font.size'] = 14            # set Font size in Chart"
   ]
  },
  {
   "cell_type": "markdown",
   "metadata": {},
   "source": [
    "### Utility Functions"
   ]
  },
  {
   "cell_type": "code",
   "execution_count": null,
   "metadata": {},
   "outputs": [],
   "source": [
    "# Function to retrieve Alaska Energy Data, particularly TMY3\n",
    "\n",
    "# The base URL to the site where the remote files are located\n",
    "base_url = 'http://ak-energy-data.analysisnorth.com/'\n",
    "\n",
    "# They also can be pulled from the GitHub repo using the rawgit.com service.\n",
    "# The advantage is that you point to a particular commit, so the files and their\n",
    "# structure will never change.\n",
    "#base_url = 'https://cdn.rawgit.com/alanmitchell/ak-energy-admin/75db23ba/data/'\n",
    "\n",
    "@functools.lru_cache(maxsize=None)   # cache results\n",
    "def get_df(file_path):\n",
    "    \"\"\"Returns a Pandas DataFrame that is found at the 'file_path'\n",
    "    below the Base URL for accessing data.  The 'file_path' should end\n",
    "    with '.pkl' and points to a pickled, compressed (bz2), Pandas DataFrame.\n",
    "    \"\"\"\n",
    "    b = requests.get(urllib.parse.urljoin(base_url, file_path)).content\n",
    "    df = pd.read_pickle(io.BytesIO(b), compression='bz2')\n",
    "    return df"
   ]
  },
  {
   "cell_type": "markdown",
   "metadata": {},
   "source": [
    "### TMY3 data"
   ]
  },
  {
   "cell_type": "code",
   "execution_count": 4,
   "metadata": {},
   "outputs": [
    {
     "data": {
      "text/html": [
       "<div>\n",
       "<style scoped>\n",
       "    .dataframe tbody tr th:only-of-type {\n",
       "        vertical-align: middle;\n",
       "    }\n",
       "\n",
       "    .dataframe tbody tr th {\n",
       "        vertical-align: top;\n",
       "    }\n",
       "\n",
       "    .dataframe thead th {\n",
       "        text-align: right;\n",
       "    }\n",
       "</style>\n",
       "<table border=\"1\" class=\"dataframe\">\n",
       "  <thead>\n",
       "    <tr style=\"text-align: right;\">\n",
       "      <th></th>\n",
       "      <th>city</th>\n",
       "      <th>db_temp_avg</th>\n",
       "      <th>elevation</th>\n",
       "      <th>latitude</th>\n",
       "      <th>longitude</th>\n",
       "      <th>rh_avg</th>\n",
       "      <th>state</th>\n",
       "      <th>url</th>\n",
       "      <th>utc_offset</th>\n",
       "      <th>wind_spd_avg</th>\n",
       "    </tr>\n",
       "    <tr>\n",
       "      <th>tmy_id</th>\n",
       "      <th></th>\n",
       "      <th></th>\n",
       "      <th></th>\n",
       "      <th></th>\n",
       "      <th></th>\n",
       "      <th></th>\n",
       "      <th></th>\n",
       "      <th></th>\n",
       "      <th></th>\n",
       "      <th></th>\n",
       "    </tr>\n",
       "  </thead>\n",
       "  <tbody>\n",
       "    <tr>\n",
       "      <th>700197</th>\n",
       "      <td>SELAWIK</td>\n",
       "      <td>24.855438</td>\n",
       "      <td>26.24672</td>\n",
       "      <td>66.600</td>\n",
       "      <td>-160.000</td>\n",
       "      <td>78.158676</td>\n",
       "      <td>AK</td>\n",
       "      <td>http://ak-energy-data.analysisnorth.com/wx/tmy...</td>\n",
       "      <td>-9.0</td>\n",
       "      <td>9.655307</td>\n",
       "    </tr>\n",
       "    <tr>\n",
       "      <th>700260</th>\n",
       "      <td>BARROW W POST-W ROGERS ARPT [NSA - ARM]</td>\n",
       "      <td>10.729712</td>\n",
       "      <td>32.80840</td>\n",
       "      <td>71.320</td>\n",
       "      <td>-156.620</td>\n",
       "      <td>84.193950</td>\n",
       "      <td>AK</td>\n",
       "      <td>http://ak-energy-data.analysisnorth.com/wx/tmy...</td>\n",
       "      <td>-9.0</td>\n",
       "      <td>12.178734</td>\n",
       "    </tr>\n",
       "    <tr>\n",
       "      <th>700637</th>\n",
       "      <td>DEADHORSE</td>\n",
       "      <td>14.890158</td>\n",
       "      <td>75.45932</td>\n",
       "      <td>70.200</td>\n",
       "      <td>-148.483</td>\n",
       "      <td>81.881279</td>\n",
       "      <td>AK</td>\n",
       "      <td>http://ak-energy-data.analysisnorth.com/wx/tmy...</td>\n",
       "      <td>-9.0</td>\n",
       "      <td>11.842146</td>\n",
       "    </tr>\n",
       "    <tr>\n",
       "      <th>701043</th>\n",
       "      <td>POINT HOPE (AWOS)</td>\n",
       "      <td>24.074966</td>\n",
       "      <td>13.12336</td>\n",
       "      <td>68.350</td>\n",
       "      <td>-166.800</td>\n",
       "      <td>77.388927</td>\n",
       "      <td>AK</td>\n",
       "      <td>http://ak-energy-data.analysisnorth.com/wx/tmy...</td>\n",
       "      <td>-9.0</td>\n",
       "      <td>15.689121</td>\n",
       "    </tr>\n",
       "    <tr>\n",
       "      <th>701195</th>\n",
       "      <td>SHISHMAREF (AWOS)</td>\n",
       "      <td>25.309137</td>\n",
       "      <td>6.56168</td>\n",
       "      <td>66.267</td>\n",
       "      <td>-166.050</td>\n",
       "      <td>78.231279</td>\n",
       "      <td>AK</td>\n",
       "      <td>http://ak-energy-data.analysisnorth.com/wx/tmy...</td>\n",
       "      <td>-9.0</td>\n",
       "      <td>13.223661</td>\n",
       "    </tr>\n",
       "  </tbody>\n",
       "</table>\n",
       "</div>"
      ],
      "text/plain": [
       "                                           city  db_temp_avg  elevation  \\\n",
       "tmy_id                                                                    \n",
       "700197                                  SELAWIK    24.855438   26.24672   \n",
       "700260  BARROW W POST-W ROGERS ARPT [NSA - ARM]    10.729712   32.80840   \n",
       "700637                                DEADHORSE    14.890158   75.45932   \n",
       "701043                        POINT HOPE (AWOS)    24.074966   13.12336   \n",
       "701195                        SHISHMAREF (AWOS)    25.309137    6.56168   \n",
       "\n",
       "        latitude  longitude     rh_avg state  \\\n",
       "tmy_id                                         \n",
       "700197    66.600   -160.000  78.158676    AK   \n",
       "700260    71.320   -156.620  84.193950    AK   \n",
       "700637    70.200   -148.483  81.881279    AK   \n",
       "701043    68.350   -166.800  77.388927    AK   \n",
       "701195    66.267   -166.050  78.231279    AK   \n",
       "\n",
       "                                                      url  utc_offset  \\\n",
       "tmy_id                                                                  \n",
       "700197  http://ak-energy-data.analysisnorth.com/wx/tmy...        -9.0   \n",
       "700260  http://ak-energy-data.analysisnorth.com/wx/tmy...        -9.0   \n",
       "700637  http://ak-energy-data.analysisnorth.com/wx/tmy...        -9.0   \n",
       "701043  http://ak-energy-data.analysisnorth.com/wx/tmy...        -9.0   \n",
       "701195  http://ak-energy-data.analysisnorth.com/wx/tmy...        -9.0   \n",
       "\n",
       "        wind_spd_avg  \n",
       "tmy_id                \n",
       "700197      9.655307  \n",
       "700260     12.178734  \n",
       "700637     11.842146  \n",
       "701043     15.689121  \n",
       "701195     13.223661  "
      ]
     },
     "execution_count": 4,
     "metadata": {},
     "output_type": "execute_result"
    }
   ],
   "source": [
    "df_tm = get_df('wx/tmy3/proc/tmy3_meta.pkl')\n",
    "df_tm.head()"
   ]
  },
  {
   "cell_type": "code",
   "execution_count": 5,
   "metadata": {},
   "outputs": [],
   "source": [
    "# Returns the TMY3 dataframe subset when they city column contains 'cty'\n",
    "def find_tmy3_id(cty):\n",
    "    return df_tm[df_tm.city.str.lower().str.contains(cty.lower())]"
   ]
  },
  {
   "cell_type": "code",
   "execution_count": 9,
   "metadata": {},
   "outputs": [
    {
     "name": "stdout",
     "output_type": "stream",
     "text": [
      "tmy_id\n",
      "702000    NOME MUNICIPAL ARPT\n",
      "Name: city, dtype: object\n",
      "tmy_id\n",
      "702770    SEWARD\n",
      "Name: city, dtype: object\n",
      "tmy_id\n",
      "702730    ANCHORAGE INTL AP\n",
      "Name: city, dtype: object\n",
      "tmy_id\n",
      "703410    HOMER ARPT\n",
      "Name: city, dtype: object\n"
     ]
    }
   ],
   "source": [
    "for cty in ('Nome', 'Seward', 'Anchorage', 'Homer'):\n",
    "    print(find_tmy3_id(cty).city)"
   ]
  },
  {
   "cell_type": "markdown",
   "metadata": {},
   "source": [
    "### Energy Model"
   ]
  },
  {
   "cell_type": "code",
   "execution_count": 7,
   "metadata": {},
   "outputs": [],
   "source": [
    "def energy_use(ua, tmy_id, bal_temp=60, htg_effic=0.83, btu_per_unit=135000):\n",
    "    \"\"\"Returns annual space heating energy use in physical fuel units\n",
    "    for a building with a UA (Btu/hr/deg-F) of 'ua', located near a TMY3 site with\n",
    "    an ID of 'tmy_id', a balance point temperature\n",
    "    of 'bal_temp', a heating system efficiency of 'htg_efic' and Btus per unit of\n",
    "    fuel of 'btu_per_unit'\n",
    "    \"\"\"\n",
    "    df_tmy = get_df(f'wx/tmy3/proc/{tmy_id}.pkl')\n",
    "    energy = 0.0\n",
    "    for t in df_tmy.db_temp.values:\n",
    "        energy += max(0.0, (bal_temp - t)) * ua\n",
    "    return energy / htg_effic / btu_per_unit"
   ]
  },
  {
   "cell_type": "code",
   "execution_count": 8,
   "metadata": {},
   "outputs": [
    {
     "data": {
      "text/plain": [
       "399.8098622043736"
      ]
     },
     "execution_count": 8,
     "metadata": {},
     "output_type": "execute_result"
    }
   ],
   "source": [
    "energy_use(163, 702000)"
   ]
  },
  {
   "cell_type": "markdown",
   "metadata": {},
   "source": [
    "## Single Point Heating Systems that Work"
   ]
  },
  {
   "cell_type": "markdown",
   "metadata": {},
   "source": [
    "Phil says that a Small Toyo can heat a 400 gallon per year house in Nome"
   ]
  },
  {
   "cell_type": "code",
   "execution_count": 45,
   "metadata": {},
   "outputs": [
    {
     "data": {
      "text/plain": [
       "399.8098622043736"
      ]
     },
     "execution_count": 45,
     "metadata": {},
     "output_type": "execute_result"
    }
   ],
   "source": [
    "energy_use(163, 702000)"
   ]
  },
  {
   "cell_type": "markdown",
   "metadata": {},
   "source": [
    "The UA of that home is about **163 Btu/hr/deg-F**."
   ]
  },
  {
   "cell_type": "markdown",
   "metadata": {},
   "source": [
    "---"
   ]
  },
  {
   "cell_type": "markdown",
   "metadata": {},
   "source": [
    "Phil's neighbor, Sharon, in Seward heats her home with a Large Toyo.  She burns about 560 gallons/year.  She's a bit older and probably keeps her house warm.  Older Seward house as well, so balance point temperature of 65 F.  Her place is about 1,000 ft2."
   ]
  },
  {
   "cell_type": "code",
   "execution_count": 54,
   "metadata": {},
   "outputs": [
    {
     "data": {
      "text/plain": [
       "560.9475319946416"
      ]
     },
     "execution_count": 54,
     "metadata": {},
     "output_type": "execute_result"
    }
   ],
   "source": [
    "energy_use(287, 702770, bal_temp=65)"
   ]
  },
  {
   "cell_type": "markdown",
   "metadata": {},
   "source": [
    "So, that is a UA of **287 Btu/hr/deg-F**."
   ]
  },
  {
   "cell_type": "markdown",
   "metadata": {},
   "source": [
    "---"
   ]
  },
  {
   "cell_type": "markdown",
   "metadata": {},
   "source": [
    "In the Long-Term NE Heat Pump Monitoring Study, Easthampton heats the entire home with a downstairs Mini-Split.  Design Temperature for the home is -2 F, and the design heat load is stated to be 11,000 Btu/hour.  So UA is 11,000 Btu/hr / (70 - -2) = **153 Btu/hr/deg-F**."
   ]
  },
  {
   "cell_type": "markdown",
   "metadata": {},
   "source": [
    "## UA of Main Open Space in Average Enstar Home"
   ]
  },
  {
   "cell_type": "markdown",
   "metadata": {},
   "source": [
    "Average Enstar home uses 150 MMBtu of gas.  Take away 35 MMBtu for uses other than space heating, leaving 115 MMBtu for space heating."
   ]
  },
  {
   "cell_type": "code",
   "execution_count": 21,
   "metadata": {},
   "outputs": [
    {
     "data": {
      "text/plain": [
       "115.16070947368405"
      ]
     },
     "execution_count": 21,
     "metadata": {},
     "output_type": "execute_result"
    }
   ],
   "source": [
    "energy_use(435, 702730, htg_effic=0.76, btu_per_unit=1e6)"
   ]
  },
  {
   "cell_type": "markdown",
   "metadata": {},
   "source": [
    "So, UA of that home is 435 Btu/hr/deg-F.  If we assume heat pump can only heat the Living/Dining/Kitchen area of such a home, what is that square footage.  This research shows the typical breakdown of spaces in a new home: (https://www.nahb.org/en/research/housing-economics/special-studies/spaces-in-new-homes-2013.aspx).  If you count the Kitchen, Dining, Living, Family, Foyer, and Laundry, what is total % of the home?  In the floor plan shown, those are all accessible to a heat pump.  Percentages:"
   ]
  },
  {
   "cell_type": "code",
   "execution_count": 17,
   "metadata": {},
   "outputs": [
    {
     "data": {
      "text/plain": [
       "46.2"
      ]
     },
     "execution_count": 17,
     "metadata": {},
     "output_type": "execute_result"
    }
   ],
   "source": [
    "11.6 + 7.4 + 8.6 + 11.5 + 3.4 + 3.7"
   ]
  },
  {
   "cell_type": "markdown",
   "metadata": {},
   "source": [
    "But, they do not include the garage.  A two-car garage is about 676 square feet. A one car a bit over half that.  The garage is kept cooler than the house, so does not use as much energy per square foot.  In terms of energy use, assume 2/3 the energy per square foot and an average square footage of 500 on a 2,000 ft2 house.  So, 500 * .67 / 2000 = 0.168.  Add 16.8% for the garage energy use."
   ]
  },
  {
   "cell_type": "code",
   "execution_count": 24,
   "metadata": {},
   "outputs": [
    {
     "data": {
      "text/plain": [
       "0.3955479452054795"
      ]
     },
     "execution_count": 24,
     "metadata": {},
     "output_type": "execute_result"
    }
   ],
   "source": [
    "ua_frac = 46.2 / (100.0 + 16.8)\n",
    "ua_frac"
   ]
  },
  {
   "cell_type": "code",
   "execution_count": 25,
   "metadata": {},
   "outputs": [
    {
     "data": {
      "text/plain": [
       "172.06335616438358"
      ]
     },
     "execution_count": 25,
     "metadata": {},
     "output_type": "execute_result"
    }
   ],
   "source": [
    "# Now the UA of the Open Space\n",
    "ua_frac * 435"
   ]
  },
  {
   "cell_type": "markdown",
   "metadata": {},
   "source": [
    "UA of the Main Open Space in a typical Enstar home is **172 Btu/hr/deg-F**."
   ]
  },
  {
   "cell_type": "markdown",
   "metadata": {},
   "source": [
    "Could also use the **40%** figure as a means of calculating the UA of the open space for any home that gets entered into the calculator. So, if a big home is entered, the open UA will be larger than for a small home.  Could have an optional input that would ask for the **square footage of the open space**, and then prorate the calculator's estimate of the total building UA.\n",
    "\n",
    "Or, we could have an **entry for the percentage of the building floor area that is open to the heat pump**.  Default could be 40%, but the slider could go from 20% - 100%"
   ]
  },
  {
   "cell_type": "markdown",
   "metadata": {},
   "source": [
    "## Electricity Use of Heat Pump"
   ]
  },
  {
   "cell_type": "code",
   "execution_count": 19,
   "metadata": {},
   "outputs": [
    {
     "name": "stdout",
     "output_type": "stream",
     "text": [
      "UA: 150, kWh: 3,154\n",
      "UA: 160, kWh: 3,364\n",
      "UA: 170, kWh: 3,574\n",
      "UA: 180, kWh: 3,785\n",
      "UA: 190, kWh: 3,995\n",
      "UA: 200, kWh: 4,205\n",
      "UA: 210, kWh: 4,415\n",
      "UA: 220, kWh: 4,626\n",
      "UA: 230, kWh: 4,836\n",
      "UA: 240, kWh: 5,046\n",
      "UA: 250, kWh: 5,257\n"
     ]
    }
   ],
   "source": [
    "# Homer\n",
    "for ua in np.arange(150, 251, 10):\n",
    "    en = energy_use(ua, 703410, htg_effic=2.6, btu_per_unit=3412)\n",
    "    print(f'UA: {ua:.0f}, kWh: {en:,.0f}')"
   ]
  }
 ],
 "metadata": {
  "kernelspec": {
   "display_name": "Python 3",
   "language": "python",
   "name": "python3"
  },
  "language_info": {
   "codemirror_mode": {
    "name": "ipython",
    "version": 3
   },
   "file_extension": ".py",
   "mimetype": "text/x-python",
   "name": "python",
   "nbconvert_exporter": "python",
   "pygments_lexer": "ipython3",
   "version": "3.6.5"
  }
 },
 "nbformat": 4,
 "nbformat_minor": 2
}
