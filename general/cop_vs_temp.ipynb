{
 "cells": [
  {
   "cell_type": "markdown",
   "metadata": {},
   "source": [
    "# Compiles all Sources of COP vs. Outdoor Temperature and Plots them"
   ]
  },
  {
   "cell_type": "code",
   "execution_count": 3,
   "metadata": {},
   "outputs": [],
   "source": [
    "import pandas as pd\n",
    "import numpy as np\n",
    "\n",
    "import altair as alt"
   ]
  },
  {
   "cell_type": "code",
   "execution_count": 19,
   "metadata": {},
   "outputs": [
    {
     "data": {
      "text/html": [
       "<div>\n",
       "<style scoped>\n",
       "    .dataframe tbody tr th:only-of-type {\n",
       "        vertical-align: middle;\n",
       "    }\n",
       "\n",
       "    .dataframe tbody tr th {\n",
       "        vertical-align: top;\n",
       "    }\n",
       "\n",
       "    .dataframe thead th {\n",
       "        text-align: right;\n",
       "    }\n",
       "</style>\n",
       "<table border=\"1\" class=\"dataframe\">\n",
       "  <thead>\n",
       "    <tr style=\"text-align: right;\">\n",
       "      <th></th>\n",
       "      <th>temperature</th>\n",
       "      <th>cop</th>\n",
       "      <th>source</th>\n",
       "      <th>field_study</th>\n",
       "    </tr>\n",
       "  </thead>\n",
       "  <tbody>\n",
       "    <tr>\n",
       "      <th>0</th>\n",
       "      <td>5.0</td>\n",
       "      <td>2.103426</td>\n",
       "      <td>Manuf Spec, Max Load</td>\n",
       "      <td>False</td>\n",
       "    </tr>\n",
       "    <tr>\n",
       "      <th>1</th>\n",
       "      <td>17.0</td>\n",
       "      <td>2.384794</td>\n",
       "      <td>Manuf Spec, Max Load</td>\n",
       "      <td>False</td>\n",
       "    </tr>\n",
       "    <tr>\n",
       "      <th>2</th>\n",
       "      <td>47.0</td>\n",
       "      <td>3.166171</td>\n",
       "      <td>Manuf Spec, Max Load</td>\n",
       "      <td>False</td>\n",
       "    </tr>\n",
       "    <tr>\n",
       "      <th>0</th>\n",
       "      <td>5.0</td>\n",
       "      <td>2.103426</td>\n",
       "      <td>Manuf Spec, Varying Load</td>\n",
       "      <td>False</td>\n",
       "    </tr>\n",
       "    <tr>\n",
       "      <th>1</th>\n",
       "      <td>17.0</td>\n",
       "      <td>2.678211</td>\n",
       "      <td>Manuf Spec, Varying Load</td>\n",
       "      <td>False</td>\n",
       "    </tr>\n",
       "    <tr>\n",
       "      <th>2</th>\n",
       "      <td>47.0</td>\n",
       "      <td>4.108061</td>\n",
       "      <td>Manuf Spec, Varying Load</td>\n",
       "      <td>False</td>\n",
       "    </tr>\n",
       "  </tbody>\n",
       "</table>\n",
       "</div>"
      ],
      "text/plain": [
       "   temperature       cop                    source  field_study\n",
       "0          5.0  2.103426      Manuf Spec, Max Load        False\n",
       "1         17.0  2.384794      Manuf Spec, Max Load        False\n",
       "2         47.0  3.166171      Manuf Spec, Max Load        False\n",
       "0          5.0  2.103426  Manuf Spec, Varying Load        False\n",
       "1         17.0  2.678211  Manuf Spec, Varying Load        False\n",
       "2         47.0  4.108061  Manuf Spec, Varying Load        False"
      ]
     },
     "execution_count": 19,
     "metadata": {},
     "output_type": "execute_result"
    }
   ],
   "source": [
    "# File names of the pickled DataFrames containing the data\n",
    "files = (\n",
    "    'temp_cop_manuf_max.pkl',\n",
    "    'temp_cop_manuf_varying.pkl'\n",
    ")\n",
    "df = None\n",
    "for fn_pkl in files:\n",
    "    if df is None:\n",
    "        df = pd.read_pickle(fn_pkl)\n",
    "    else:\n",
    "        df = pd.concat([df, pd.read_pickle(fn_pkl)])\n",
    "df"
   ]
  },
  {
   "cell_type": "code",
   "execution_count": 20,
   "metadata": {},
   "outputs": [
    {
     "data": {
      "text/plain": [
       "ThemeRegistry.enable('larger')"
      ]
     },
     "execution_count": 20,
     "metadata": {},
     "output_type": "execute_result"
    }
   ],
   "source": [
    "# define the theme by returning the dictionary of configurationsa\n",
    "def larger():\n",
    "    return {\n",
    "        'config': {\n",
    "            'view': {\n",
    "                'height': 350,\n",
    "                'width': 525,\n",
    "            },\n",
    "            'axis': {\n",
    "                'labelFontSize': 14, \n",
    "                'titleFontSize': 16\n",
    "            },\n",
    "            'legend': {\n",
    "                'labelFontSize': 12, \n",
    "                'titleFontSize': 14\n",
    "            },\n",
    "        }\n",
    "    }\n",
    "\n",
    "# register the custom theme under a chosen name\n",
    "alt.themes.register('larger', larger)\n",
    "\n",
    "# enable the newly registered theme\n",
    "alt.themes.enable('larger')"
   ]
  },
  {
   "cell_type": "code",
   "execution_count": 21,
   "metadata": {},
   "outputs": [
    {
     "data": {
      "application/vnd.vegalite.v2+json": {
       "$schema": "https://vega.github.io/schema/vega-lite/v2.4.3.json",
       "config": {
        "axis": {
         "labelFontSize": 14,
         "titleFontSize": 16
        },
        "legend": {
         "labelFontSize": 12,
         "titleFontSize": 14
        },
        "view": {
         "height": 350,
         "width": 525
        }
       },
       "layer": [
        {
         "data": {
          "values": []
         },
         "encoding": {
          "color": {
           "field": "source",
           "type": "nominal"
          },
          "x": {
           "field": "temperature",
           "type": "quantitative"
          },
          "y": {
           "field": "cop",
           "type": "quantitative"
          }
         },
         "mark": "line"
        },
        {
         "data": {
          "values": [
           {
            "cop": 2.1034256755568315,
            "field_study": false,
            "source": "Manuf Spec, Max Load",
            "temperature": 5
           },
           {
            "cop": 2.3847940984793534,
            "field_study": false,
            "source": "Manuf Spec, Max Load",
            "temperature": 17
           },
           {
            "cop": 3.166170515301146,
            "field_study": false,
            "source": "Manuf Spec, Max Load",
            "temperature": 47
           },
           {
            "cop": 2.1034256755568315,
            "field_study": false,
            "source": "Manuf Spec, Varying Load",
            "temperature": 5
           },
           {
            "cop": 2.6782109972459174,
            "field_study": false,
            "source": "Manuf Spec, Varying Load",
            "temperature": 17
           },
           {
            "cop": 4.108060915538578,
            "field_study": false,
            "source": "Manuf Spec, Varying Load",
            "temperature": 47
           }
          ]
         },
         "encoding": {
          "color": {
           "field": "source",
           "legend": {
            "title": "Source"
           },
           "type": "nominal"
          },
          "x": {
           "axis": {
            "title": "Outdoor Temperature, ℉"
           },
           "field": "temperature",
           "type": "quantitative"
          },
          "y": {
           "axis": {
            "title": "COP"
           },
           "field": "cop",
           "type": "quantitative"
          }
         },
         "mark": {
          "strokeDash": [
           5,
           5
          ],
          "type": "line"
         }
        }
       ]
      },
      "image/png": "[encoded data removed]",
      "text/plain": [
       "<VegaLite 2 object>\n",
       "\n",
       "If you see this message, it means the renderer has not been properly enabled\n",
       "for the frontend that you are using. For more information, see\n",
       "https://altair-viz.github.io/user_guide/troubleshooting.html\n"
      ]
     },
     "execution_count": 21,
     "metadata": {},
     "output_type": "execute_result"
    }
   ],
   "source": [
    "line1 = alt.Chart(df.query('field_study == True')).mark_line().encode(\n",
    "    x = 'temperature',\n",
    "    y = 'cop',\n",
    "    color = 'source:N',\n",
    "    #opacity = 'Selected:N',\n",
    ")\n",
    "line2 = alt.Chart(df.query('field_study == False')).mark_line(strokeDash=[5,5]).encode(\n",
    "    x = alt.X('temperature', axis=alt.Axis(title='Outdoor Temperature, ℉')),\n",
    "    y = alt.Y('cop', axis=alt.Axis(title='COP')),\n",
    "    color = alt.Color('source:N', legend=alt.Legend(title=\"Source\")),\n",
    "    #opacity = 'Selected:N',\n",
    ")\n",
    "line1 + line2"
   ]
  },
  {
   "cell_type": "code",
   "execution_count": null,
   "metadata": {},
   "outputs": [],
   "source": []
  }
 ],
 "metadata": {
  "kernelspec": {
   "display_name": "Python 3",
   "language": "python",
   "name": "python3"
  },
  "language_info": {
   "codemirror_mode": {
    "name": "ipython",
    "version": 3
   },
   "file_extension": ".py",
   "mimetype": "text/x-python",
   "name": "python",
   "nbconvert_exporter": "python",
   "pygments_lexer": "ipython3",
   "version": "3.6.5"
  }
 },
 "nbformat": 4,
 "nbformat_minor": 2
}
