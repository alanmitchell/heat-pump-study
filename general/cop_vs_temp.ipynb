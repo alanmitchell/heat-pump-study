{
 "cells": [
  {
   "cell_type": "markdown",
   "metadata": {},
   "source": [
    "# Compiles all Sources of COP vs. Outdoor Temperature and Plots them"
   ]
  },
  {
   "cell_type": "code",
   "execution_count": 1,
   "metadata": {},
   "outputs": [],
   "source": [
    "import pandas as pd\n",
    "import numpy as np\n",
    "\n",
    "import altair as alt"
   ]
  },
  {
   "cell_type": "code",
   "execution_count": 2,
   "metadata": {},
   "outputs": [
    {
     "data": {
      "text/html": [
       "<div>\n",
       "<style scoped>\n",
       "    .dataframe tbody tr th:only-of-type {\n",
       "        vertical-align: middle;\n",
       "    }\n",
       "\n",
       "    .dataframe tbody tr th {\n",
       "        vertical-align: top;\n",
       "    }\n",
       "\n",
       "    .dataframe thead th {\n",
       "        text-align: right;\n",
       "    }\n",
       "</style>\n",
       "<table border=\"1\" class=\"dataframe\">\n",
       "  <thead>\n",
       "    <tr style=\"text-align: right;\">\n",
       "      <th></th>\n",
       "      <th>temperature</th>\n",
       "      <th>cop</th>\n",
       "      <th>source</th>\n",
       "      <th>field_study</th>\n",
       "    </tr>\n",
       "  </thead>\n",
       "  <tbody>\n",
       "    <tr>\n",
       "      <th>0.0</th>\n",
       "      <td>5.000000</td>\n",
       "      <td>2.103426</td>\n",
       "      <td>Manuf Spec, Max Load</td>\n",
       "      <td>False</td>\n",
       "    </tr>\n",
       "    <tr>\n",
       "      <th>1.0</th>\n",
       "      <td>17.000000</td>\n",
       "      <td>2.384794</td>\n",
       "      <td>Manuf Spec, Max Load</td>\n",
       "      <td>False</td>\n",
       "    </tr>\n",
       "    <tr>\n",
       "      <th>2.0</th>\n",
       "      <td>47.000000</td>\n",
       "      <td>3.166171</td>\n",
       "      <td>Manuf Spec, Max Load</td>\n",
       "      <td>False</td>\n",
       "    </tr>\n",
       "    <tr>\n",
       "      <th>0.0</th>\n",
       "      <td>5.000000</td>\n",
       "      <td>2.103426</td>\n",
       "      <td>Manuf Spec, Varying Load</td>\n",
       "      <td>False</td>\n",
       "    </tr>\n",
       "    <tr>\n",
       "      <th>1.0</th>\n",
       "      <td>17.000000</td>\n",
       "      <td>2.678211</td>\n",
       "      <td>Manuf Spec, Varying Load</td>\n",
       "      <td>False</td>\n",
       "    </tr>\n",
       "    <tr>\n",
       "      <th>2.0</th>\n",
       "      <td>47.000000</td>\n",
       "      <td>4.108061</td>\n",
       "      <td>Manuf Spec, Varying Load</td>\n",
       "      <td>False</td>\n",
       "    </tr>\n",
       "    <tr>\n",
       "      <th>1.0</th>\n",
       "      <td>9.323181</td>\n",
       "      <td>2.203241</td>\n",
       "      <td>Seward, Kaluza</td>\n",
       "      <td>True</td>\n",
       "    </tr>\n",
       "    <tr>\n",
       "      <th>2.0</th>\n",
       "      <td>12.532493</td>\n",
       "      <td>2.210258</td>\n",
       "      <td>Seward, Kaluza</td>\n",
       "      <td>True</td>\n",
       "    </tr>\n",
       "    <tr>\n",
       "      <th>3.0</th>\n",
       "      <td>17.358148</td>\n",
       "      <td>2.345697</td>\n",
       "      <td>Seward, Kaluza</td>\n",
       "      <td>True</td>\n",
       "    </tr>\n",
       "    <tr>\n",
       "      <th>4.0</th>\n",
       "      <td>23.870238</td>\n",
       "      <td>2.617557</td>\n",
       "      <td>Seward, Kaluza</td>\n",
       "      <td>True</td>\n",
       "    </tr>\n",
       "    <tr>\n",
       "      <th>5.0</th>\n",
       "      <td>26.894927</td>\n",
       "      <td>2.749132</td>\n",
       "      <td>Seward, Kaluza</td>\n",
       "      <td>True</td>\n",
       "    </tr>\n",
       "    <tr>\n",
       "      <th>6.0</th>\n",
       "      <td>32.873171</td>\n",
       "      <td>2.509495</td>\n",
       "      <td>Seward, Kaluza</td>\n",
       "      <td>True</td>\n",
       "    </tr>\n",
       "    <tr>\n",
       "      <th>7.0</th>\n",
       "      <td>36.892772</td>\n",
       "      <td>2.288342</td>\n",
       "      <td>Seward, Kaluza</td>\n",
       "      <td>True</td>\n",
       "    </tr>\n",
       "    <tr>\n",
       "      <th>8.0</th>\n",
       "      <td>43.562374</td>\n",
       "      <td>2.266642</td>\n",
       "      <td>Seward, Kaluza</td>\n",
       "      <td>True</td>\n",
       "    </tr>\n",
       "    <tr>\n",
       "      <th>1.0</th>\n",
       "      <td>9.323181</td>\n",
       "      <td>2.203241</td>\n",
       "      <td>Seward, Kaluza w/ Remote Therm</td>\n",
       "      <td>True</td>\n",
       "    </tr>\n",
       "    <tr>\n",
       "      <th>2.0</th>\n",
       "      <td>12.532493</td>\n",
       "      <td>2.210258</td>\n",
       "      <td>Seward, Kaluza w/ Remote Therm</td>\n",
       "      <td>True</td>\n",
       "    </tr>\n",
       "    <tr>\n",
       "      <th>3.0</th>\n",
       "      <td>17.358148</td>\n",
       "      <td>2.345697</td>\n",
       "      <td>Seward, Kaluza w/ Remote Therm</td>\n",
       "      <td>True</td>\n",
       "    </tr>\n",
       "    <tr>\n",
       "      <th>4.0</th>\n",
       "      <td>23.870238</td>\n",
       "      <td>2.617557</td>\n",
       "      <td>Seward, Kaluza w/ Remote Therm</td>\n",
       "      <td>True</td>\n",
       "    </tr>\n",
       "    <tr>\n",
       "      <th>5.0</th>\n",
       "      <td>26.894927</td>\n",
       "      <td>2.749132</td>\n",
       "      <td>Seward, Kaluza w/ Remote Therm</td>\n",
       "      <td>True</td>\n",
       "    </tr>\n",
       "    <tr>\n",
       "      <th>6.0</th>\n",
       "      <td>31.963712</td>\n",
       "      <td>2.814353</td>\n",
       "      <td>Seward, Kaluza w/ Remote Therm</td>\n",
       "      <td>True</td>\n",
       "    </tr>\n",
       "    <tr>\n",
       "      <th>7.0</th>\n",
       "      <td>38.684881</td>\n",
       "      <td>2.842130</td>\n",
       "      <td>Seward, Kaluza w/ Remote Therm</td>\n",
       "      <td>True</td>\n",
       "    </tr>\n",
       "    <tr>\n",
       "      <th>8.0</th>\n",
       "      <td>42.478641</td>\n",
       "      <td>2.815109</td>\n",
       "      <td>Seward, Kaluza w/ Remote Therm</td>\n",
       "      <td>True</td>\n",
       "    </tr>\n",
       "    <tr>\n",
       "      <th>9.0</th>\n",
       "      <td>46.559423</td>\n",
       "      <td>2.880191</td>\n",
       "      <td>Seward, Kaluza w/ Remote Therm</td>\n",
       "      <td>True</td>\n",
       "    </tr>\n",
       "  </tbody>\n",
       "</table>\n",
       "</div>"
      ],
      "text/plain": [
       "     temperature       cop                          source  field_study\n",
       "0.0     5.000000  2.103426            Manuf Spec, Max Load        False\n",
       "1.0    17.000000  2.384794            Manuf Spec, Max Load        False\n",
       "2.0    47.000000  3.166171            Manuf Spec, Max Load        False\n",
       "0.0     5.000000  2.103426        Manuf Spec, Varying Load        False\n",
       "1.0    17.000000  2.678211        Manuf Spec, Varying Load        False\n",
       "2.0    47.000000  4.108061        Manuf Spec, Varying Load        False\n",
       "1.0     9.323181  2.203241                  Seward, Kaluza         True\n",
       "2.0    12.532493  2.210258                  Seward, Kaluza         True\n",
       "3.0    17.358148  2.345697                  Seward, Kaluza         True\n",
       "4.0    23.870238  2.617557                  Seward, Kaluza         True\n",
       "5.0    26.894927  2.749132                  Seward, Kaluza         True\n",
       "6.0    32.873171  2.509495                  Seward, Kaluza         True\n",
       "7.0    36.892772  2.288342                  Seward, Kaluza         True\n",
       "8.0    43.562374  2.266642                  Seward, Kaluza         True\n",
       "1.0     9.323181  2.203241  Seward, Kaluza w/ Remote Therm         True\n",
       "2.0    12.532493  2.210258  Seward, Kaluza w/ Remote Therm         True\n",
       "3.0    17.358148  2.345697  Seward, Kaluza w/ Remote Therm         True\n",
       "4.0    23.870238  2.617557  Seward, Kaluza w/ Remote Therm         True\n",
       "5.0    26.894927  2.749132  Seward, Kaluza w/ Remote Therm         True\n",
       "6.0    31.963712  2.814353  Seward, Kaluza w/ Remote Therm         True\n",
       "7.0    38.684881  2.842130  Seward, Kaluza w/ Remote Therm         True\n",
       "8.0    42.478641  2.815109  Seward, Kaluza w/ Remote Therm         True\n",
       "9.0    46.559423  2.880191  Seward, Kaluza w/ Remote Therm         True"
      ]
     },
     "execution_count": 2,
     "metadata": {},
     "output_type": "execute_result"
    }
   ],
   "source": [
    "# File names of the pickled DataFrames containing the data\n",
    "files = (\n",
    "    'temp_cop_manuf_max.pkl',\n",
    "    'temp_cop_manuf_varying.pkl',\n",
    "    '../field_studies/kaluza/temp_cop_kaluza.pkl',\n",
    "    '../field_studies/kaluza/temp_cop_kaluza_remote.pkl',\n",
    ")\n",
    "df = None\n",
    "for fn_pkl in files:\n",
    "    if df is None:\n",
    "        df = pd.read_pickle(fn_pkl)\n",
    "    else:\n",
    "        df = pd.concat([df, pd.read_pickle(fn_pkl)])\n",
    "df"
   ]
  },
  {
   "cell_type": "code",
   "execution_count": 3,
   "metadata": {},
   "outputs": [
    {
     "data": {
      "text/plain": [
       "ThemeRegistry.enable('larger')"
      ]
     },
     "execution_count": 3,
     "metadata": {},
     "output_type": "execute_result"
    }
   ],
   "source": [
    "# define the theme by returning the dictionary of configurationsa\n",
    "def larger():\n",
    "    return {\n",
    "        'config': {\n",
    "            'view': {\n",
    "                'height': 350,\n",
    "                'width': 525,\n",
    "            },\n",
    "            'axis': {\n",
    "                'labelFontSize': 14, \n",
    "                'titleFontSize': 16\n",
    "            },\n",
    "            'legend': {\n",
    "                'labelFontSize': 12, \n",
    "                'titleFontSize': 14\n",
    "            },\n",
    "        }\n",
    "    }\n",
    "\n",
    "# register the custom theme under a chosen name\n",
    "alt.themes.register('larger', larger)\n",
    "\n",
    "# enable the newly registered theme\n",
    "alt.themes.enable('larger')"
   ]
  },
  {
   "cell_type": "code",
   "execution_count": 4,
   "metadata": {},
   "outputs": [
    {
     "data": {
      "application/vnd.vegalite.v2+json": {
       "$schema": "https://vega.github.io/schema/vega-lite/v2.4.3.json",
       "config": {
        "axis": {
         "labelFontSize": 14,
         "titleFontSize": 16
        },
        "legend": {
         "labelFontSize": 12,
         "titleFontSize": 14
        },
        "view": {
         "height": 350,
         "width": 525
        }
       },
       "layer": [
        {
         "data": {
          "values": [
           {
            "cop": 2.2032414599781482,
            "field_study": true,
            "source": "Seward, Kaluza",
            "temperature": 9.323180679405695
           },
           {
            "cop": 2.21025799131429,
            "field_study": true,
            "source": "Seward, Kaluza",
            "temperature": 12.532492677910634
           },
           {
            "cop": 2.345697136246265,
            "field_study": true,
            "source": "Seward, Kaluza",
            "temperature": 17.35814819599886
           },
           {
            "cop": 2.6175567164894855,
            "field_study": true,
            "source": "Seward, Kaluza",
            "temperature": 23.870238394028032
           },
           {
            "cop": 2.749132114515984,
            "field_study": true,
            "source": "Seward, Kaluza",
            "temperature": 26.894926826979138
           },
           {
            "cop": 2.509495489396102,
            "field_study": true,
            "source": "Seward, Kaluza",
            "temperature": 32.873171329868896
           },
           {
            "cop": 2.288341826445965,
            "field_study": true,
            "source": "Seward, Kaluza",
            "temperature": 36.89277174149361
           },
           {
            "cop": 2.266642264933841,
            "field_study": true,
            "source": "Seward, Kaluza",
            "temperature": 43.56237357142844
           },
           {
            "cop": 2.2032414599781482,
            "field_study": true,
            "source": "Seward, Kaluza w/ Remote Therm",
            "temperature": 9.323180679405695
           },
           {
            "cop": 2.21025799131429,
            "field_study": true,
            "source": "Seward, Kaluza w/ Remote Therm",
            "temperature": 12.532492677910634
           },
           {
            "cop": 2.345697136246265,
            "field_study": true,
            "source": "Seward, Kaluza w/ Remote Therm",
            "temperature": 17.35814819599886
           },
           {
            "cop": 2.6175567164894855,
            "field_study": true,
            "source": "Seward, Kaluza w/ Remote Therm",
            "temperature": 23.870238394028032
           },
           {
            "cop": 2.749132114515984,
            "field_study": true,
            "source": "Seward, Kaluza w/ Remote Therm",
            "temperature": 26.894926826979138
           },
           {
            "cop": 2.814352844937004,
            "field_study": true,
            "source": "Seward, Kaluza w/ Remote Therm",
            "temperature": 31.963711653531835
           },
           {
            "cop": 2.8421298584971897,
            "field_study": true,
            "source": "Seward, Kaluza w/ Remote Therm",
            "temperature": 38.68488134262254
           },
           {
            "cop": 2.815108923560848,
            "field_study": true,
            "source": "Seward, Kaluza w/ Remote Therm",
            "temperature": 42.47864094035299
           },
           {
            "cop": 2.8801912519331694,
            "field_study": true,
            "source": "Seward, Kaluza w/ Remote Therm",
            "temperature": 46.55942277427139
           }
          ]
         },
         "encoding": {
          "color": {
           "field": "source",
           "type": "nominal"
          },
          "x": {
           "field": "temperature",
           "type": "quantitative"
          },
          "y": {
           "field": "cop",
           "type": "quantitative"
          }
         },
         "mark": "line"
        },
        {
         "data": {
          "values": [
           {
            "cop": 2.1034256755568315,
            "field_study": false,
            "source": "Manuf Spec, Max Load",
            "temperature": 5
           },
           {
            "cop": 2.3847940984793534,
            "field_study": false,
            "source": "Manuf Spec, Max Load",
            "temperature": 17
           },
           {
            "cop": 3.166170515301146,
            "field_study": false,
            "source": "Manuf Spec, Max Load",
            "temperature": 47
           },
           {
            "cop": 2.1034256755568315,
            "field_study": false,
            "source": "Manuf Spec, Varying Load",
            "temperature": 5
           },
           {
            "cop": 2.6782109972459174,
            "field_study": false,
            "source": "Manuf Spec, Varying Load",
            "temperature": 17
           },
           {
            "cop": 4.108060915538578,
            "field_study": false,
            "source": "Manuf Spec, Varying Load",
            "temperature": 47
           }
          ]
         },
         "encoding": {
          "color": {
           "field": "source",
           "legend": {
            "title": "Source"
           },
           "type": "nominal"
          },
          "x": {
           "axis": {
            "title": "Outdoor Temperature, ℉"
           },
           "field": "temperature",
           "type": "quantitative"
          },
          "y": {
           "axis": {
            "title": "COP"
           },
           "field": "cop",
           "type": "quantitative"
          }
         },
         "mark": {
          "strokeDash": [
           5,
           5
          ],
          "type": "line"
         }
        }
       ]
      },
      "image/png": "[encoded data removed]",
      "text/plain": [
       "<VegaLite 2 object>\n",
       "\n",
       "If you see this message, it means the renderer has not been properly enabled\n",
       "for the frontend that you are using. For more information, see\n",
       "https://altair-viz.github.io/user_guide/troubleshooting.html\n"
      ]
     },
     "execution_count": 4,
     "metadata": {},
     "output_type": "execute_result"
    }
   ],
   "source": [
    "line1 = alt.Chart(df.query('field_study == True')).mark_line().encode(\n",
    "    x = 'temperature',\n",
    "    y = 'cop',\n",
    "    color = 'source:N',\n",
    "    #opacity = 'Selected:N',\n",
    ")\n",
    "line2 = alt.Chart(df.query('field_study == False')).mark_line(strokeDash=[5,5]).encode(\n",
    "    x = alt.X('temperature', axis=alt.Axis(title='Outdoor Temperature, ℉')),\n",
    "    y = alt.Y('cop', axis=alt.Axis(title='COP')),\n",
    "    color = alt.Color('source:N', legend=alt.Legend(title=\"Source\")),\n",
    "    #opacity = 'Selected:N',\n",
    ")\n",
    "line1 + line2"
   ]
  },
  {
   "cell_type": "code",
   "execution_count": null,
   "metadata": {},
   "outputs": [],
   "source": []
  }
 ],
 "metadata": {
  "kernelspec": {
   "display_name": "Python 3",
   "language": "python",
   "name": "python3"
  },
  "language_info": {
   "codemirror_mode": {
    "name": "ipython",
    "version": 3
   },
   "file_extension": ".py",
   "mimetype": "text/x-python",
   "name": "python",
   "nbconvert_exporter": "python",
   "pygments_lexer": "ipython3",
   "version": "3.6.4"
  }
 },
 "nbformat": 4,
 "nbformat_minor": 2
}
