{
 "cells": [
  {
   "cell_type": "markdown",
   "metadata": {},
   "source": [
    "# Develops the Calculation Model for the Online Calculator"
   ]
  },
  {
   "cell_type": "code",
   "execution_count": 2,
   "metadata": {},
   "outputs": [],
   "source": [
    "import sys\n",
    "from importlib import reload\n",
    "import pandas as pd\n",
    "import numpy as np\n",
    "# import matplotlib pyplot commands\n",
    "from matplotlib.pyplot import *\n",
    "from IPython.display import Image, Markdown\n",
    " \n",
    "# Show Plots in the Notebook\n",
    "%matplotlib inline\n",
    " \n",
    "# 'style' the plot like fivethirtyeight.com website\n",
    "style.use('bmh')"
   ]
  },
  {
   "cell_type": "code",
   "execution_count": 3,
   "metadata": {},
   "outputs": [],
   "source": [
    "rcParams['figure.figsize']= (10, 6)   # set Chart Size\n",
    "rcParams['font.size'] = 14            # set Font size in Chart"
   ]
  },
  {
   "cell_type": "code",
   "execution_count": 4,
   "metadata": {},
   "outputs": [],
   "source": [
    "# Access the directory where some utility modules are located in the\n",
    "# actual heat pump calculator.\n",
    "sys.path.insert(0, '../../heat-pump-calc/heatpump/')"
   ]
  },
  {
   "cell_type": "code",
   "execution_count": 5,
   "metadata": {},
   "outputs": [
    {
     "data": {
      "text/plain": [
       "<module 'library' from '../../heat-pump-calc/heatpump/library.py'>"
      ]
     },
     "execution_count": 5,
     "metadata": {},
     "output_type": "execute_result"
    }
   ],
   "source": [
    "import library as lib\n",
    "reload(lib)"
   ]
  },
  {
   "cell_type": "code",
   "execution_count": 46,
   "metadata": {},
   "outputs": [],
   "source": [
    "# Put the input parameters here for the Calculation Function\n",
    "city_id = 257\n",
    "utility_id = 53\n",
    "hp_model_id = 575\n",
    "\n",
    "# Existing Heating System Fuel Type\n",
    "fuel_id = 4\n",
    "\n"
   ]
  },
  {
   "cell_type": "code",
   "execution_count": 47,
   "metadata": {},
   "outputs": [
    {
     "data": {
      "text/plain": [
       "Name                                                             Homer\n",
       "Latitude                                                       59.6523\n",
       "Longitude                                                      -151.53\n",
       "ERHRegionID                                                          2\n",
       "WAPRegionID                                                          2\n",
       "FuelRefer                                                        False\n",
       "FuelCityID                                                         NaN\n",
       "Oil1Price                                                         2.72\n",
       "Oil2Price                                                          NaN\n",
       "PropanePrice                                                       4.1\n",
       "BirchPrice                                                         NaN\n",
       "SprucePrice                                                        NaN\n",
       "CoalPrice                                                          NaN\n",
       "SteamPrice                                                         NaN\n",
       "HotWaterPrice                                                      NaN\n",
       "MunicipalSalesTax                                                0.045\n",
       "BoroughSalesTax                                                   0.03\n",
       "TMYid                                                           703410\n",
       "TMYname                                                 HOMER ARPT, AK\n",
       "ElecUtilities        [(Homer Electric Assn  - Residential, 53), (Ho...\n",
       "GasPrice                                                       0.97852\n",
       "aris_city                                                        Homer\n",
       "census_city                                                 Homer city\n",
       "census_area                                    Kenai Peninsula Borough\n",
       "ancsa_region                                Cook Inlet Regional (CIRI)\n",
       "railbelt                                                      Railbelt\n",
       "hub                                                               True\n",
       "avg_elec_usage       [674.3176110825001, 616.54369648225, 568.80201...\n",
       "Name: 257, dtype: object"
      ]
     },
     "execution_count": 47,
     "metadata": {},
     "output_type": "execute_result"
    }
   ],
   "source": [
    "city = lib.city_from_id(city_id)\n",
    "city"
   ]
  },
  {
   "cell_type": "code",
   "execution_count": 48,
   "metadata": {},
   "outputs": [
    {
     "data": {
      "text/plain": [
       "brand                 Fujitsu\n",
       "ahri_num              8703350\n",
       "zones                  Single\n",
       "outdoor_model       AOU12RLS3\n",
       "indoor_model       ASU12RLS3Y\n",
       "hspf                       14\n",
       "in_pwr_5F_max             2.1\n",
       "capacity_5F_max         16500\n",
       "in_pwr_47F_min            0.2\n",
       "Name: 575, dtype: object"
      ]
     },
     "execution_count": 48,
     "metadata": {},
     "output_type": "execute_result"
    }
   ],
   "source": [
    "hp_model = lib.heat_pump_from_id(hp_model_id)\n",
    "hp_model"
   ]
  },
  {
   "cell_type": "code",
   "execution_count": 49,
   "metadata": {},
   "outputs": [
    {
     "data": {
      "text/plain": [
       "ID                                                             53\n",
       "Name                           Homer Electric Assn  - Residential\n",
       "Active                                                       True\n",
       "Type                                                            1\n",
       "IsCommercial                                                False\n",
       "ChargesRCC                                                   True\n",
       "PCE                                                             0\n",
       "CO2                                                           1.1\n",
       "CustomerChg                                                    20\n",
       "DemandCharge                                                  NaN\n",
       "NameShort                                                  Homer \n",
       "Blocks          [(nan, 0.22033000702504113), (nan, nan), (nan,...\n",
       "Name: 53, dtype: object"
      ]
     },
     "execution_count": 49,
     "metadata": {},
     "output_type": "execute_result"
    }
   ],
   "source": [
    "utility = lib.util_from_id(utility_id)\n",
    "utility"
   ]
  },
  {
   "cell_type": "code",
   "execution_count": 50,
   "metadata": {},
   "outputs": [
    {
     "data": {
      "text/plain": [
       "desc                                                        #1 Oil\n",
       "unit                                                        gallon\n",
       "btus                                                        137452\n",
       "co2                                                          161.3\n",
       "price_col                                                Oil1Price\n",
       "effic_choices    [(Standard, 80), (High Efficiency (e.g. Toyost...\n",
       "Name: 4, dtype: object"
      ]
     },
     "execution_count": 50,
     "metadata": {},
     "output_type": "execute_result"
    }
   ],
   "source": [
    "fuel = lib.fuel_from_id(fuel_id)\n",
    "fuel"
   ]
  },
  {
   "cell_type": "code",
   "execution_count": 51,
   "metadata": {},
   "outputs": [
    {
     "data": {
      "text/html": [
       "<div>\n",
       "<style scoped>\n",
       "    .dataframe tbody tr th:only-of-type {\n",
       "        vertical-align: middle;\n",
       "    }\n",
       "\n",
       "    .dataframe tbody tr th {\n",
       "        vertical-align: top;\n",
       "    }\n",
       "\n",
       "    .dataframe thead th {\n",
       "        text-align: right;\n",
       "    }\n",
       "</style>\n",
       "<table border=\"1\" class=\"dataframe\">\n",
       "  <thead>\n",
       "    <tr style=\"text-align: right;\">\n",
       "      <th></th>\n",
       "      <th>db_temp</th>\n",
       "      <th>rh</th>\n",
       "      <th>wind_spd</th>\n",
       "      <th>month</th>\n",
       "    </tr>\n",
       "    <tr>\n",
       "      <th>timestamp</th>\n",
       "      <th></th>\n",
       "      <th></th>\n",
       "      <th></th>\n",
       "      <th></th>\n",
       "    </tr>\n",
       "  </thead>\n",
       "  <tbody>\n",
       "    <tr>\n",
       "      <th>2018-01-01 00:30:00</th>\n",
       "      <td>41.00</td>\n",
       "      <td>67</td>\n",
       "      <td>17.224438</td>\n",
       "      <td>1</td>\n",
       "    </tr>\n",
       "    <tr>\n",
       "      <th>2018-01-01 01:30:00</th>\n",
       "      <td>39.92</td>\n",
       "      <td>70</td>\n",
       "      <td>16.105968</td>\n",
       "      <td>1</td>\n",
       "    </tr>\n",
       "    <tr>\n",
       "      <th>2018-01-01 02:30:00</th>\n",
       "      <td>42.08</td>\n",
       "      <td>61</td>\n",
       "      <td>17.224438</td>\n",
       "      <td>1</td>\n",
       "    </tr>\n",
       "    <tr>\n",
       "      <th>2018-01-01 03:30:00</th>\n",
       "      <td>41.00</td>\n",
       "      <td>67</td>\n",
       "      <td>19.685072</td>\n",
       "      <td>1</td>\n",
       "    </tr>\n",
       "    <tr>\n",
       "      <th>2018-01-01 04:30:00</th>\n",
       "      <td>39.92</td>\n",
       "      <td>70</td>\n",
       "      <td>13.869028</td>\n",
       "      <td>1</td>\n",
       "    </tr>\n",
       "  </tbody>\n",
       "</table>\n",
       "</div>"
      ],
      "text/plain": [
       "                     db_temp  rh   wind_spd  month\n",
       "timestamp                                         \n",
       "2018-01-01 00:30:00    41.00  67  17.224438      1\n",
       "2018-01-01 01:30:00    39.92  70  16.105968      1\n",
       "2018-01-01 02:30:00    42.08  61  17.224438      1\n",
       "2018-01-01 03:30:00    41.00  67  19.685072      1\n",
       "2018-01-01 04:30:00    39.92  70  13.869028      1"
      ]
     },
     "execution_count": 51,
     "metadata": {},
     "output_type": "execute_result"
    }
   ],
   "source": [
    "# Start a DataFrame to do the hourly analysis.\n",
    "# First fill it if the outdoor temperature values.\n",
    "df_tmy = lib.tmy_from_id(city.TMYid)\n",
    "df_tmy.head()"
   ]
  },
  {
   "cell_type": "markdown",
   "metadata": {},
   "source": [
    "## Loop through each hour and determine heat load supplied by the Heat Pump\n",
    "\n",
    "Things that limit heat supplied by the heat pump:\n",
    "* Heat Distribution issues\n",
    "* Low temperature cutoff\n",
    "* Maximum heat output of heat pump"
   ]
  },
  {
   "cell_type": "code",
   "execution_count": 60,
   "metadata": {},
   "outputs": [],
   "source": [
    "fuel_effic = 0.8\n",
    "\n",
    "low_temp_cutoff = 5.0    # temperature below which heat pump doesn't run.\n",
    "\n",
    "bldg_floor_area = 2100.0   # ft2\n",
    "ua_home = 0.18 * bldg_floor_area     # Btu/hr/deg-F: will be calculated at some point; is not an input\n",
    "garage_car_count = 1    # 2 means 2-car garage.\n",
    "ua_garage = 70.0 * garage_car_count     # need better model based on construction of building.\n",
    "\n",
    "# Percentages of the home floor area (including garage) in different\n",
    "# zones.\n",
    "hp_zone_pct = 0.4\n",
    "hp_adjacent_pct = 0.4\n",
    "hp_separate_pct = 0.2\n",
    "doors_open_to_adjacent = False    # Are doors open to zones adjacent to the heat pump\n",
    "only_hp = False      # maximum input power of the heat pump in kW\n",
    "\n",
    "df_hourly = df_tmy.reset_index()[['db_temp']]\n",
    "df_hourly['day_of_year'] = df_tmy.index.dayofyear\n",
    "df_hourly['month'] =  df_tmy.index.month\n",
    "\n",
    "# Determine days that the heat pump is running.  Look at the minimum\n",
    "# temperature for the day, and ensure that it is above the low \n",
    "# temperature cutoff.\n",
    "hp_is_running = lambda x: (x.min() > low_temp_cutoff)\n",
    "df_hourly['running'] = df_hourly.groupby('day_of_year')['db_temp'].transform(hp_is_running)\n",
    "\n",
    "# Calculate the COP of the heat pump for every hour of the year.\n",
    "df_hourly['cop'] =  lib.cop_from_temp_out(df_hourly.db_temp, hp_model.hspf)\n",
    "\n",
    "max_in_pwr = hp_model.in_pwr_5F_max\n",
    "\n",
    "# need to better calculate these\n",
    "balance_point_home = 60.0   \n",
    "balance_point_garage = 50.0"
   ]
  },
  {
   "cell_type": "code",
   "execution_count": 61,
   "metadata": {},
   "outputs": [
    {
     "data": {
      "text/plain": [
       "hp_load           2.832394e+07\n",
       "secondary_load    4.989495e+07\n",
       "hp_kwh            2.877285e+03\n",
       "secondary_fuel    6.236869e+07\n",
       "dtype: float64"
      ]
     },
     "execution_count": 61,
     "metadata": {},
     "output_type": "execute_result"
    }
   ],
   "source": [
    "# BTU loads in the hour for the heat pump and for the secondary system.\n",
    "hp_load = []\n",
    "secondary_load = []\n",
    "\n",
    "for _, h in df_hourly.iterrows():\n",
    "    # calculate total heat load for the hour.\n",
    "    # Really need to recognize that delta-T to outdoors is lower in the adjacent and remote spaces\n",
    "    # if there heat pump is the only source of heat.\n",
    "    total_load = max(0.0, balance_point_home - h.db_temp) * ua_home + max(0.0, balance_point_garage - h.db_temp) * ua_garage\n",
    "    if not h.running:\n",
    "        hp_load.append(0.0)\n",
    "        secondary_load.append(total_load)\n",
    "    else:\n",
    "        max_hp_output = max_in_pwr * h.cop * 3412.\n",
    "        if only_hp:\n",
    "            hp_ld = min(total_load, max_hp_output)\n",
    "            hp_load.append(hp_ld)\n",
    "        else:\n",
    "            # Nowhere near correct yet.  Just get a calc framework working.\n",
    "            hp_ld = min(total_load * hp_zone_pct, max_hp_output)\n",
    "            sec_ld = total_load - hp_ld\n",
    "            hp_load.append(hp_ld)\n",
    "            secondary_load.append(sec_ld)\n",
    "            \n",
    "df_hourly['hp_load'] = hp_load\n",
    "df_hourly['secondary_load'] =  secondary_load\n",
    "\n",
    "# calculate kWh use by the heat pump and the Btu use of secondary system.\n",
    "df_hourly['hp_kwh'] = df_hourly.hp_load / df_hourly.cop / 3412.\n",
    "df_hourly['secondary_fuel'] = df_hourly.secondary_load / fuel_effic\n",
    "df_hourly[['hp_load', 'secondary_load', 'hp_kwh', 'secondary_fuel']].sum()"
   ]
  },
  {
   "cell_type": "code",
   "execution_count": 65,
   "metadata": {},
   "outputs": [
    {
     "data": {
      "text/html": [
       "<div>\n",
       "<style scoped>\n",
       "    .dataframe tbody tr th:only-of-type {\n",
       "        vertical-align: middle;\n",
       "    }\n",
       "\n",
       "    .dataframe tbody tr th {\n",
       "        vertical-align: top;\n",
       "    }\n",
       "\n",
       "    .dataframe thead th {\n",
       "        text-align: right;\n",
       "    }\n",
       "</style>\n",
       "<table border=\"1\" class=\"dataframe\">\n",
       "  <thead>\n",
       "    <tr style=\"text-align: right;\">\n",
       "      <th></th>\n",
       "      <th>db_temp</th>\n",
       "      <th>day_of_year</th>\n",
       "      <th>month</th>\n",
       "      <th>cop</th>\n",
       "      <th>hp_load</th>\n",
       "      <th>secondary_load</th>\n",
       "      <th>hp_kwh</th>\n",
       "      <th>secondary_fuel</th>\n",
       "    </tr>\n",
       "  </thead>\n",
       "  <tbody>\n",
       "    <tr>\n",
       "      <th>count</th>\n",
       "      <td>8760.000000</td>\n",
       "      <td>8760.000000</td>\n",
       "      <td>8760.000000</td>\n",
       "      <td>8760.000000</td>\n",
       "      <td>8760.000000</td>\n",
       "      <td>8760.000000</td>\n",
       "      <td>8760.000000</td>\n",
       "      <td>8760.000000</td>\n",
       "    </tr>\n",
       "    <tr>\n",
       "      <th>mean</th>\n",
       "      <td>38.797836</td>\n",
       "      <td>183.000000</td>\n",
       "      <td>6.526027</td>\n",
       "      <td>3.076907</td>\n",
       "      <td>3233.326389</td>\n",
       "      <td>5695.770625</td>\n",
       "      <td>0.328457</td>\n",
       "      <td>7119.713281</td>\n",
       "    </tr>\n",
       "    <tr>\n",
       "      <th>std</th>\n",
       "      <td>14.336010</td>\n",
       "      <td>105.372043</td>\n",
       "      <td>3.448048</td>\n",
       "      <td>0.319682</td>\n",
       "      <td>2344.474987</td>\n",
       "      <td>4735.792181</td>\n",
       "      <td>0.272269</td>\n",
       "      <td>5919.740226</td>\n",
       "    </tr>\n",
       "    <tr>\n",
       "      <th>min</th>\n",
       "      <td>-5.080000</td>\n",
       "      <td>1.000000</td>\n",
       "      <td>1.000000</td>\n",
       "      <td>1.864632</td>\n",
       "      <td>0.000000</td>\n",
       "      <td>0.000000</td>\n",
       "      <td>0.000000</td>\n",
       "      <td>0.000000</td>\n",
       "    </tr>\n",
       "    <tr>\n",
       "      <th>25%</th>\n",
       "      <td>28.040000</td>\n",
       "      <td>92.000000</td>\n",
       "      <td>4.000000</td>\n",
       "      <td>2.906105</td>\n",
       "      <td>1212.624000</td>\n",
       "      <td>2268.000000</td>\n",
       "      <td>0.105509</td>\n",
       "      <td>2835.000000</td>\n",
       "    </tr>\n",
       "    <tr>\n",
       "      <th>50%</th>\n",
       "      <td>41.000000</td>\n",
       "      <td>183.000000</td>\n",
       "      <td>7.000000</td>\n",
       "      <td>3.178947</td>\n",
       "      <td>2931.264000</td>\n",
       "      <td>4687.200000</td>\n",
       "      <td>0.268329</td>\n",
       "      <td>5859.000000</td>\n",
       "    </tr>\n",
       "    <tr>\n",
       "      <th>75%</th>\n",
       "      <td>50.000000</td>\n",
       "      <td>274.000000</td>\n",
       "      <td>10.000000</td>\n",
       "      <td>3.368421</td>\n",
       "      <td>4931.136000</td>\n",
       "      <td>8170.848000</td>\n",
       "      <td>0.487146</td>\n",
       "      <td>10213.560000</td>\n",
       "    </tr>\n",
       "    <tr>\n",
       "      <th>max</th>\n",
       "      <td>75.020000</td>\n",
       "      <td>365.000000</td>\n",
       "      <td>12.000000</td>\n",
       "      <td>3.368421</td>\n",
       "      <td>9382.464000</td>\n",
       "      <td>28455.840000</td>\n",
       "      <td>1.231312</td>\n",
       "      <td>35569.800000</td>\n",
       "    </tr>\n",
       "  </tbody>\n",
       "</table>\n",
       "</div>"
      ],
      "text/plain": [
       "           db_temp  day_of_year        month          cop      hp_load  \\\n",
       "count  8760.000000  8760.000000  8760.000000  8760.000000  8760.000000   \n",
       "mean     38.797836   183.000000     6.526027     3.076907  3233.326389   \n",
       "std      14.336010   105.372043     3.448048     0.319682  2344.474987   \n",
       "min      -5.080000     1.000000     1.000000     1.864632     0.000000   \n",
       "25%      28.040000    92.000000     4.000000     2.906105  1212.624000   \n",
       "50%      41.000000   183.000000     7.000000     3.178947  2931.264000   \n",
       "75%      50.000000   274.000000    10.000000     3.368421  4931.136000   \n",
       "max      75.020000   365.000000    12.000000     3.368421  9382.464000   \n",
       "\n",
       "       secondary_load       hp_kwh  secondary_fuel  \n",
       "count     8760.000000  8760.000000     8760.000000  \n",
       "mean      5695.770625     0.328457     7119.713281  \n",
       "std       4735.792181     0.272269     5919.740226  \n",
       "min          0.000000     0.000000        0.000000  \n",
       "25%       2268.000000     0.105509     2835.000000  \n",
       "50%       4687.200000     0.268329     5859.000000  \n",
       "75%       8170.848000     0.487146    10213.560000  \n",
       "max      28455.840000     1.231312    35569.800000  "
      ]
     },
     "execution_count": 65,
     "metadata": {},
     "output_type": "execute_result"
    }
   ],
   "source": [
    "df_hourly.describe()"
   ]
  }
 ],
 "metadata": {
  "kernelspec": {
   "display_name": "Python 3",
   "language": "python",
   "name": "python3"
  },
  "language_info": {
   "codemirror_mode": {
    "name": "ipython",
    "version": 3
   },
   "file_extension": ".py",
   "mimetype": "text/x-python",
   "name": "python",
   "nbconvert_exporter": "python",
   "pygments_lexer": "ipython3",
   "version": "3.6.5"
  }
 },
 "nbformat": 4,
 "nbformat_minor": 2
}
