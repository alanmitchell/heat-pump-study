{
 "cells": [
  {
   "cell_type": "markdown",
   "metadata": {},
   "source": [
    "# Develops the Calculation Model for the Online Calculator"
   ]
  },
  {
   "cell_type": "code",
   "execution_count": 15,
   "metadata": {},
   "outputs": [],
   "source": [
    "import sys\n",
    "from importlib import reload\n",
    "import pandas as pd\n",
    "import numpy as np\n",
    "# import matplotlib pyplot commands\n",
    "from matplotlib.pyplot import *\n",
    "from IPython.display import Image, Markdown\n",
    " \n",
    "# Show Plots in the Notebook\n",
    "%matplotlib inline\n",
    " \n",
    "# 'style' the plot like fivethirtyeight.com website\n",
    "style.use('bmh')"
   ]
  },
  {
   "cell_type": "code",
   "execution_count": 4,
   "metadata": {},
   "outputs": [],
   "source": [
    "rcParams['figure.figsize']= (10, 6)   # set Chart Size\n",
    "rcParams['font.size'] = 14            # set Font size in Chart"
   ]
  },
  {
   "cell_type": "code",
   "execution_count": 5,
   "metadata": {},
   "outputs": [],
   "source": [
    "# Access the directory where some utility modules are located in the\n",
    "# actual heat pump calculator.\n",
    "sys.path.insert(0, '../../heat-pump-calc/heatpump/')"
   ]
  },
  {
   "cell_type": "code",
   "execution_count": 16,
   "metadata": {},
   "outputs": [
    {
     "data": {
      "text/plain": [
       "<module 'library' from '../../heat-pump-calc/heatpump/library.py'>"
      ]
     },
     "execution_count": 16,
     "metadata": {},
     "output_type": "execute_result"
    }
   ],
   "source": [
    "import library as lib\n",
    "reload(lib)"
   ]
  },
  {
   "cell_type": "code",
   "execution_count": 27,
   "metadata": {},
   "outputs": [],
   "source": [
    "# Put the input parameters here for the Calculation Function\n",
    "city_id = 257\n",
    "utility_id = 53\n",
    "fuel_id = 4\n",
    "hp_model_id = 575"
   ]
  },
  {
   "cell_type": "code",
   "execution_count": 28,
   "metadata": {},
   "outputs": [
    {
     "data": {
      "text/plain": [
       "Name                                                             Homer\n",
       "Latitude                                                       59.6523\n",
       "Longitude                                                      -151.53\n",
       "ERHRegionID                                                          2\n",
       "WAPRegionID                                                          2\n",
       "FuelRefer                                                        False\n",
       "FuelCityID                                                         NaN\n",
       "Oil1Price                                                         2.72\n",
       "Oil2Price                                                          NaN\n",
       "PropanePrice                                                       4.1\n",
       "BirchPrice                                                         NaN\n",
       "SprucePrice                                                        NaN\n",
       "CoalPrice                                                          NaN\n",
       "SteamPrice                                                         NaN\n",
       "HotWaterPrice                                                      NaN\n",
       "MunicipalSalesTax                                                0.045\n",
       "BoroughSalesTax                                                   0.03\n",
       "TMYid                                                           703410\n",
       "TMYname                                                 HOMER ARPT, AK\n",
       "ElecUtilities        [(Homer Electric Assn  - Residential, 53), (Ho...\n",
       "GasPrice                                                       0.97852\n",
       "aris_city                                                        Homer\n",
       "census_city                                                 Homer city\n",
       "census_area                                    Kenai Peninsula Borough\n",
       "ancsa_region                                Cook Inlet Regional (CIRI)\n",
       "railbelt                                                      Railbelt\n",
       "hub                                                               True\n",
       "avg_elec_usage       [674.3176110825001, 616.54369648225, 568.80201...\n",
       "Name: 257, dtype: object"
      ]
     },
     "execution_count": 28,
     "metadata": {},
     "output_type": "execute_result"
    }
   ],
   "source": [
    "city = lib.city_from_id(city_id)\n",
    "city"
   ]
  },
  {
   "cell_type": "code",
   "execution_count": 29,
   "metadata": {},
   "outputs": [
    {
     "data": {
      "text/plain": [
       "brand                 Fujitsu\n",
       "ahri_num              8703350\n",
       "zones                  Single\n",
       "outdoor_model       AOU12RLS3\n",
       "indoor_model       ASU12RLS3Y\n",
       "hspf                       14\n",
       "in_pwr_5F_max             2.1\n",
       "capacity_5F_max         16500\n",
       "in_pwr_47F_min            0.2\n",
       "Name: 575, dtype: object"
      ]
     },
     "execution_count": 29,
     "metadata": {},
     "output_type": "execute_result"
    }
   ],
   "source": [
    "hp_model = lib.heat_pump_from_id(hp_model_id)\n",
    "hp_model"
   ]
  },
  {
   "cell_type": "code",
   "execution_count": 30,
   "metadata": {},
   "outputs": [
    {
     "data": {
      "text/plain": [
       "ID                                                             53\n",
       "Name                           Homer Electric Assn  - Residential\n",
       "Active                                                       True\n",
       "Type                                                            1\n",
       "IsCommercial                                                False\n",
       "ChargesRCC                                                   True\n",
       "PCE                                                             0\n",
       "CO2                                                           1.1\n",
       "CustomerChg                                                    20\n",
       "DemandCharge                                                  NaN\n",
       "NameShort                                                  Homer \n",
       "Blocks          [(nan, 0.22033000702504113), (nan, nan), (nan,...\n",
       "Name: 53, dtype: object"
      ]
     },
     "execution_count": 30,
     "metadata": {},
     "output_type": "execute_result"
    }
   ],
   "source": [
    "utility = lib.util_from_id(utility_id)\n",
    "utility"
   ]
  },
  {
   "cell_type": "code",
   "execution_count": 31,
   "metadata": {},
   "outputs": [
    {
     "data": {
      "text/plain": [
       "desc                                                        #1 Oil\n",
       "unit                                                        gallon\n",
       "btus                                                        137452\n",
       "co2                                                          161.3\n",
       "price_col                                                Oil1Price\n",
       "effic_choices    [(Standard, 80), (High Efficiency (e.g. Toyost...\n",
       "Name: 4, dtype: object"
      ]
     },
     "execution_count": 31,
     "metadata": {},
     "output_type": "execute_result"
    }
   ],
   "source": [
    "fuel = lib.fuel_from_id(fuel_id)\n",
    "fuel"
   ]
  },
  {
   "cell_type": "code",
   "execution_count": null,
   "metadata": {},
   "outputs": [],
   "source": []
  }
 ],
 "metadata": {
  "kernelspec": {
   "display_name": "Python 3",
   "language": "python",
   "name": "python3"
  },
  "language_info": {
   "codemirror_mode": {
    "name": "ipython",
    "version": 3
   },
   "file_extension": ".py",
   "mimetype": "text/x-python",
   "name": "python",
   "nbconvert_exporter": "python",
   "pygments_lexer": "ipython3",
   "version": "3.6.5"
  }
 },
 "nbformat": 4,
 "nbformat_minor": 2
}
