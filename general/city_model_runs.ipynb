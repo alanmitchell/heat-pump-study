{
 "cells": [
  {
   "cell_type": "markdown",
   "metadata": {},
   "source": [
    "# Runs the Heat Pump Model for Multiple Scenaries across Multiple Communities"
   ]
  },
  {
   "cell_type": "code",
   "execution_count": 1,
   "metadata": {},
   "outputs": [],
   "source": [
    "import sys\n",
    "import numpy as np\n",
    "import pandas as pd\n",
    "import qgrid\n",
    "\n",
    "sh = lambda df: qgrid.show_grid(df, show_toolbar=False)\n",
    "\n",
    "# import matplotlib pyplot commands\n",
    "from matplotlib.pyplot import *\n",
    " \n",
    "# Show Plots in the Notebook\n",
    "%matplotlib inline\n",
    " \n",
    "# 'style' the plot like fivethirtyeight.com website\n",
    "style.use('bmh')\n",
    "\n",
    "#---- Auto-reload of modules\n",
    "%load_ext autoreload\n",
    "%autoreload 2\n",
    "\n",
    "#---- Altair imports \n",
    "import altair as alt\n",
    "alt.data_transformers.enable('json');   # keeps Huge data out of Notebook"
   ]
  },
  {
   "cell_type": "markdown",
   "metadata": {},
   "source": [
    "## Loop through Cities Running all Scenarios"
   ]
  },
  {
   "cell_type": "code",
   "execution_count": 2,
   "metadata": {},
   "outputs": [],
   "source": [
    "# Bring the heat pump calculator into the Python Path.\n",
    "# This assumes that the heat-pump-calc project is present and on\n",
    "# the same directory level as this heat-pump-study project.\n",
    "sys.path.insert(0, '../../heat-pump-calc')\n",
    "import heatpump.library as lib\n",
    "import heatpump.hp_model as hpmod"
   ]
  },
  {
   "cell_type": "code",
   "execution_count": 3,
   "metadata": {},
   "outputs": [],
   "source": [
    "in_base = dict(\n",
    "    pce_limit=500,\n",
    "    co2_lbs_per_kwh=1.5,\n",
    "    exist_fuel_use=None,\n",
    "    exist_heat_effic=0.8,\n",
    "    exist_kwh_per_mmbtu=6.25,\n",
    "    includes_dhw=False,\n",
    "    includes_dryer=False,\n",
    "    includes_cooking=False,\n",
    "    occupant_count=3,\n",
    "    hp_model_id=-1,\n",
    "    low_temp_cutoff=5,\n",
    "    off_months_chks=[],\n",
    "    garage_stall_count=1,\n",
    "    garage_heated_by_hp=False,\n",
    "    indoor_heat_setpoint=70,\n",
    "    insul_level=2,\n",
    "    pct_exposed_to_hp=0.46,\n",
    "    doors_open_to_adjacent=True,\n",
    "    bedroom_temp_tolerance='med',\n",
    "    rebate_dol=0,\n",
    "    pct_financed=0,\n",
    "    loan_term=10,\n",
    "    loan_interest=0.05,\n",
    "    hp_life=14,\n",
    "    op_cost_chg=0,\n",
    "    discount_rate=0.05,\n",
    "    inflation_rate=0.02,\n",
    "    fuel_esc_rate=0.03,\n",
    "    elec_esc_rate=0.02,\n",
    ")\n",
    "\n",
    "# Inputs that need to be determined for each community\n",
    "# city_id\n",
    "# utility\n",
    "# bldg_floor_area\n",
    "# exist_unit_fuel_cost\n",
    "# elec_use_jan\n",
    "# elec_use_may\n",
    "# capital_cost,\n",
    "# sales_tax,"
   ]
  },
  {
   "cell_type": "code",
   "execution_count": 4,
   "metadata": {},
   "outputs": [],
   "source": [
    "in_test = in_base.copy()\n",
    "in_test['city_id'] = 1\n",
    "in_test['utility'] = lib.util_from_id(53)\n",
    "in_test['bldg_floor_area'] = 1700\n",
    "in_test['exist_heat_fuel_id'] = 4     # 4 - #1 Oil, 3 - Propane, 1 - Electricity\n",
    "in_test['exist_unit_fuel_cost'] = 2.69\n",
    "in_test['elec_use_jan'] = 674\n",
    "in_test['elec_use_may'] = 503\n",
    "in_test['capital_cost'] = 4000\n",
    "in_test['sales_tax'] =  0.06"
   ]
  },
  {
   "cell_type": "code",
   "execution_count": 5,
   "metadata": {},
   "outputs": [
    {
     "data": {
      "text/plain": [
       "{'fuel_unit': 'gallon',\n",
       " 'fuel_desc': '#1 Oil',\n",
       " 'design_heat_load': 27137.998944,\n",
       " 'design_heat_temp': -2.9200000000000017,\n",
       " 'cop': 2.768709522701937,\n",
       " 'hp_max_capacity_5F': 13309.359,\n",
       " 'max_hp_reached': True,\n",
       " 'co2_lbs_saved': 2599.0911896777543,\n",
       " 'co2_driving_miles_saved': 2914.2073439908268,\n",
       " 'hp_load_frac': 0.7482128214632623,\n",
       " 'irr': -0.024994180498934093,\n",
       " 'npv': -1918.8347917250733,\n",
       " 'fuel_use_base': 650.4120176530662,\n",
       " 'fuel_use_hp': 166.36443331460313,\n",
       " 'fuel_use_chg': -484.047584338463,\n",
       " 'fuel_price_incremental': 2.8514000000000004,\n",
       " 'elec_use_base': 6567.626453242359,\n",
       " 'elec_use_hp': 11989.447440876997,\n",
       " 'elec_use_chg': 5421.820987634637,\n",
       " 'elec_rate_avg_base': 0.2744137409227546,\n",
       " 'elec_rate_avg_hp': 0.2568969450238375,\n",
       " 'elec_rate_incremental': 0.23567828576080543}"
      ]
     },
     "execution_count": 5,
     "metadata": {},
     "output_type": "execute_result"
    }
   ],
   "source": [
    "mod = hpmod.HP_model(**in_test)\n",
    "mod.run()\n",
    "mod.summary"
   ]
  },
  {
   "cell_type": "code",
   "execution_count": 6,
   "metadata": {},
   "outputs": [
    {
     "data": {
      "text/plain": [
       "Name                                                         Anchorage\n",
       "Latitude                                                        61.152\n",
       "Longitude                                                     -149.864\n",
       "ERHRegionID                                                          2\n",
       "WAPRegionID                                                          2\n",
       "ImpCost                                                              1\n",
       "FuelRefer                                                        False\n",
       "FuelCityID                                                         NaN\n",
       "Oil1Price                                                         3.08\n",
       "Oil2Price                                                          NaN\n",
       "PropanePrice                                                       4.5\n",
       "BirchPrice                                                         325\n",
       "SprucePrice                                                        345\n",
       "CoalPrice                                                          175\n",
       "SteamPrice                                                         NaN\n",
       "HotWaterPrice                                                      NaN\n",
       "MunicipalSalesTax                                                  NaN\n",
       "BoroughSalesTax                                                    NaN\n",
       "TMYid                                                           702730\n",
       "TMYname                                          ANCHORAGE INTL AP, AK\n",
       "ElecUtilities        [(Anchorage ML&P - Residential, 2), (Anchorage...\n",
       "GasPrice                                                       0.93955\n",
       "aris_city                                                    Anchorage\n",
       "census_city                                     Anchorage municipality\n",
       "census_area                                     Anchorage municipality\n",
       "ancsa_region                                Cook Inlet Regional (CIRI)\n",
       "railbelt                                                      Railbelt\n",
       "hub                                                               True\n",
       "avg_elec_usage       [674.3176110825001, 616.54369648225, 568.80201...\n",
       "Name: 1, dtype: object"
      ]
     },
     "execution_count": 6,
     "metadata": {},
     "output_type": "execute_result"
    }
   ],
   "source": [
    "lib.city_from_id(1)"
   ]
  },
  {
   "cell_type": "code",
   "execution_count": 7,
   "metadata": {},
   "outputs": [
    {
     "data": {
      "text/plain": [
       "ID                                                              2\n",
       "Name                                 Anchorage ML&P - Residential\n",
       "Active                                                       True\n",
       "Type                                                            1\n",
       "IsCommercial                                                False\n",
       "ChargesRCC                                                   True\n",
       "PCE                                                           NaN\n",
       "CO2                                                           1.1\n",
       "CustomerChg                                                 13.62\n",
       "DemandCharge                                                  NaN\n",
       "NameShort                                                  Anchor\n",
       "Blocks          [(nan, 0.17457800125703232), (nan, nan), (nan,...\n",
       "Name: 2, dtype: object"
      ]
     },
     "execution_count": 7,
     "metadata": {},
     "output_type": "execute_result"
    }
   ],
   "source": [
    "lib.util_from_id(2)"
   ]
  },
  {
   "cell_type": "code",
   "execution_count": 8,
   "metadata": {},
   "outputs": [],
   "source": [
    "# Maps Census Area to average size of home.  Comes from the 2018 AHFC\n",
    "# Housing Assessment.\n",
    "census_to_size = {\n",
    " 'Anchorage municipality': 2057,\n",
    " 'Aleutians West Census Area': 1130,\n",
    " 'Aleutians East Borough': 1296,\n",
    " 'Yukon-Koyukuk Census Area': 947,\n",
    " 'Hoonah-Angoon Census Area': 1258,\n",
    " 'Bethel Census Area': 950,\n",
    " 'Juneau City and Borough': 1725,\n",
    " 'North Slope Borough': 1164,\n",
    " 'Southeast Fairbanks Census Area': 1745,\n",
    " 'Matanuska-Susitna Borough': 1912,\n",
    " 'Denali Borough': 1736,\n",
    " 'Lake and Peninsula Borough': 1026,\n",
    " 'Valdez-Cordova Census Area': 1781,\n",
    " 'Prince of Wales-Hyder Census Area': 1246,\n",
    " 'Kenai Peninsula Borough': 1890,\n",
    " 'Northwest Arctic Borough': 920,\n",
    " 'Nome Census Area': 1168,\n",
    " 'Wade Hampton Census Area': 834,\n",
    " 'Dillingham Census Area': 1150,\n",
    " 'Bristol Bay Borough': 1445,\n",
    " 'Haines Borough': 1730,\n",
    " 'Yakutat City and Borough': 1116,\n",
    " 'Skagway Municipality': 1672,\n",
    " 'Sitka City and Borough': 1629,\n",
    " 'Wrangell City and Borough': 1766,\n",
    " 'Petersburg Borough': 1714,\n",
    " 'Ketchikan Gateway Borough': 1734,\n",
    " 'Kodiak Island Borough': 1790,\n",
    " 'Fairbanks North Star Borough': 2068,\n",
    "}"
   ]
  },
  {
   "cell_type": "code",
   "execution_count": 13,
   "metadata": {},
   "outputs": [
    {
     "name": "stdout",
     "output_type": "stream",
     "text": [
      "Adak\n",
      "Akhiok\n",
      "Akiachak\n",
      "Akiak\n",
      "Akutan\n",
      "Alakanuk\n",
      "Alatna\n",
      "Aleknagik\n",
      "Allakaket\n",
      "Anaktuvuk Pass - C\n",
      "Anaktuvuk Pass Res\n",
      "Anchor Point\n",
      "Anchorage\n",
      "Anderson\n",
      "Angoon\n",
      "Aniak\n",
      "Anvik\n",
      "Arctic Village\n",
      "Atka\n",
      "Atmautluak\n",
      "Atqasuk - Com\n",
      "Atqasuk - Res\n",
      "Auke Bay\n",
      "Beaver\n",
      "Bethel\n",
      "Bettles\n",
      "Big Lake\n",
      "Birch Creek\n",
      "Bird Creek\n",
      "Brevig Mission\n",
      "Buckland\n",
      "Cantwell\n",
      "Central\n",
      "Chalkyitsik\n",
      "Chefornak\n",
      "Chenega\n",
      "Chevak\n",
      "Chickaloon\n",
      "Chicken\n",
      "Chignik\n",
      "Chignik Lake\n",
      "Chiniak\n",
      "Chistochina\n",
      "Chitina\n",
      "Chuathbaluk\n",
      "Chugiak\n",
      "Circle\n",
      "Clam Gulch\n",
      "Clark's Point\n",
      "Clear\n",
      "Coffman Cove\n",
      "Cold Bay\n",
      "Cooper Landing\n",
      "Copper Center\n",
      "Cordova\n",
      "Craig\n",
      "Crooked Creek\n",
      "Deering\n",
      "Delta Junction\n",
      "Denali Nat'l Park\n",
      "Dillingham\n",
      "Diomede\n",
      "Dot Lake\n",
      "Douglas\n",
      "Dutch Harbor\n",
      "Eagle\n",
      "Eagle River\n",
      "Eek\n",
      "Egegik\n",
      "Ekwok\n",
      "Elfin Cove\n",
      "Elim\n",
      "Emmonak\n",
      "English Bay/Nanwal\n",
      "Ester\n",
      "Evansville\n",
      "Eyak\n",
      "Fairbanks\n",
      "False Pass\n",
      "Faribanks - Chena Ridge\n",
      "Fort Yukon\n",
      "Gakona\n",
      "Galena\n",
      "Gambell\n",
      "Girdwood\n",
      "Glennallen\n",
      "Golovin\n",
      "Goodnews Bay\n",
      "Grayling\n",
      "Gulkana\n",
      "Gustavus\n",
      "Haines\n",
      "Healy\n",
      "Hollis\n",
      "Holy Cross\n",
      "Homer\n",
      "Hoonah\n",
      "Hooper Bay\n",
      "Hope\n",
      "Houston\n",
      "Hughes\n",
      "Huslia\n",
      "Hydaburg\n",
      "Igiugig\n",
      "Iliamna\n",
      "Indian\n",
      "Juneau, Airport\n",
      "Juneau, City of\n",
      "Kake\n",
      "Kaktovik - Com\n",
      "Kaktovik - Res\n",
      "Kaltag\n",
      "Karluk\n",
      "Kasaan\n",
      "Kasigluk\n",
      "Kasilof\n",
      "Kenai\n",
      "Kenny Lake\n",
      "Ketchikan\n",
      "Kiana\n",
      "King Cove\n",
      "King Salmon\n",
      "Kipnuk\n",
      "Kivalina\n",
      "Klawock\n",
      "Klukwan\n",
      "Kobuk\n",
      "Kodiak\n",
      "Kokhanok\n",
      "Koliganek\n",
      "Kongiganak\n",
      "Kotlik\n",
      "Kotzebue\n",
      "Koyuk\n",
      "Koyukuk\n",
      "Kwethluk\n",
      "Kwigillingok\n",
      "Larsen Bay\n",
      "Levelock\n",
      "Lime Village\n",
      "Lower Kalskag\n",
      "Manley Hot Springs\n",
      "Manokotak\n",
      "Marshall\n",
      "McCarthy\n",
      "McGrath\n",
      "Mekoryok\n",
      "Mentasta Lake\n",
      "Metlakatla\n",
      "Minto\n",
      "Moose Pass\n",
      "Mountain Village\n",
      "Naknek\n",
      "Napakiak\n",
      "Napaskiak\n",
      "Naukati\n",
      "Nelson Lagoon\n",
      "Nenana\n",
      "New Stuyahok\n",
      "Newhalen\n",
      "Newtok\n",
      "Nightmute\n",
      "Nikiski\n",
      "Nikolaevsk\n",
      "Nikolai\n",
      "Ninilchik\n",
      "Noatak\n",
      "Nome\n",
      "Nondalton\n",
      "Noorvik\n",
      "North Pole\n",
      "Northway\n",
      "Nuiqsut\n",
      "Nulato\n",
      "Nunapitchuk\n",
      "Nunum Iqua\n",
      "Old Harbor\n",
      "Oscarville\n",
      "Ouzinkie\n",
      "Palmer\n",
      "Paxson\n",
      "Pedro Bay\n",
      "Pelican\n",
      "Perryville\n",
      "Petersburg\n",
      "Pilot Point\n",
      "Pilot Station\n",
      "Pitkas Point\n",
      "Point Baker\n",
      "Point Hope Com\n",
      "Point Hope Res\n",
      "Point Lay\n",
      "Port Alexander\n",
      "Port Graham\n",
      "Port Heiden\n",
      "Port Lions\n",
      "Port Protection\n",
      "Quinhagak\n",
      "Rampart\n",
      "Ruby\n",
      "Russian Mission\n",
      "Saint George\n",
      "Saint Mary's\n",
      "Saint Michael\n",
      "Saint Paul\n",
      "Salcha\n",
      "Sand Point\n",
      "Savoonga\n",
      "Saxman\n",
      "Scammon Bay\n",
      "Selawik\n",
      "Seldovia\n",
      "Seward\n",
      "Shageluk\n",
      "Shaktoolik\n",
      "Shishmaref\n",
      "Shungnak\n",
      "Sitka\n",
      "Skagway\n",
      "Slana\n",
      "Sleetmute\n",
      "Soldotna\n",
      "South Naknek\n",
      "Stebbins\n",
      "Sterling\n",
      "Stony River\n",
      "Sutton\n",
      "Takotna\n",
      "Talkeetna\n",
      "Tanacross\n",
      "Tanana\n",
      "Tazlina\n",
      "Teller\n",
      "Tenakee Springs\n",
      "Tetlin\n",
      "Thorne Bay\n",
      "Togiak\n",
      "Tok\n",
      "Toksook Bay\n",
      "Tonsina\n",
      "Trapper Creek\n",
      "Tuluksak\n",
      "Tuntutuliak\n",
      "Tununak\n",
      "Twin Hills\n",
      "Tyonek\n",
      "Ugashik\n",
      "Unalakleet\n",
      "Unalaska\n",
      "Upper Kalskag\n",
      "Valdez\n",
      "Venetie\n",
      "Wainwright Com\n",
      "Wainwright Res\n",
      "Wales\n",
      "Ward Cove\n",
      "Wasilla\n",
      "Whale Pass\n",
      "White Mountain\n",
      "Whittier\n",
      "Willow\n",
      "Wrangell\n",
      "Yakutat\n",
      "263\n"
     ]
    }
   ],
   "source": [
    "def find_util(city, name_part):\n",
    "    \"\"\"Returns the first electric utility that has a name containing 'name_part', insensitive\n",
    "    to capitalization.  If no utilities match, returns the first utility listed for \n",
    "    'city'. Returns None if there are no utilities for the city. \n",
    "    \"\"\"\n",
    "    utils = city.ElecUtilities\n",
    "    if len(utils) == 1:\n",
    "        return lib.util_from_id(utils[0][1])\n",
    "    if len(utils) == 0:\n",
    "        return None\n",
    "    else:\n",
    "        for util_name, util_id in utils:\n",
    "            if name_part.lower() in util_name.lower():\n",
    "                return lib.util_from_id(util_id)\n",
    "        return lib.util_from_id(utils[0][1])\n",
    "                \n",
    "def scenarios(city_id, fuel_id):\n",
    "    '''Returns a list of (scenario name, input dictionary) tuples for all \n",
    "    of the scenarios being modeled for 'city_id' with the existing system\n",
    "    using 'fuel_id'.\n",
    "    '''\n",
    "    scenarios = []\n",
    "    city = lib.city_from_id(city_id)\n",
    "    \n",
    "    # Base Case\n",
    "    sc_base = in_base.copy()\n",
    "    sc_base['city_id'] = city_id\n",
    "    sc_base['exist_heat_fuel_id'] = fuel_id\n",
    "\n",
    "    # Capital Cost\n",
    "    # Each cost level is the same percentage above the one prior.\n",
    "    # Assume highest level (level 5) is 1.6 x lowest level.\n",
    "    cost_mult = 1.6 ** 0.25\n",
    "    sc_base['capital_cost'] = 4000.0 * cost_mult ** (city.ImpCost - 1)\n",
    "    \n",
    "    # Find the residential utility for this city\n",
    "    sc_base['utility'] = find_util(city, 'resid')\n",
    "    \n",
    "    # Building Floor Area\n",
    "    sc_base['bldg_floor_area'] = census_to_size[city.census_area]\n",
    "    \n",
    "    # fuel price\n",
    "    the_fuel = lib.fuel_from_id(fuel_id)\n",
    "    price_col = the_fuel['price_col']\n",
    "    price = np.nan_to_num(city[price_col])\n",
    "    sc_base['exist_unit_fuel_cost'] = price\n",
    "    \n",
    "    # January and May electricity use\n",
    "    sc_base['elec_use_jan'] = city.avg_elec_usage[0]\n",
    "    sc_base['elec_use_may'] = city.avg_elec_usage[4]\n",
    "    \n",
    "    # Sales Tax\n",
    "    sc_base['sales_tax'] = np.nan_to_num(city.MunicipalSalesTax) + np.nan_to_num(city.BoroughSalesTax)\n",
    "    \n",
    "    scenarios.append(('Base', sc_base))\n",
    "    return scenarios\n",
    "    \n",
    "sc_count = 0\n",
    "recs = []\n",
    "for city_name, city_id in lib.cities():\n",
    "    print(city_name)\n",
    "    city = lib.city_from_id(city_id)\n",
    "    \n",
    "    for fuel_id in (4, 3, 1):\n",
    "        for scenario_name, inp in scenarios(city_id, fuel_id):\n",
    "\n",
    "            # If no utility for the scenario or no fuel price, skip it\n",
    "            if (inp['utility'] is None) or (inp['exist_unit_fuel_cost']==0.0):\n",
    "                continue\n",
    "\n",
    "            rec = {\n",
    "                'City': city_name,\n",
    "                'Exist_Fuel_Type': fuel_id,\n",
    "                'Scenario': scenario_name,\n",
    "                'Census_Area': city.census_area,\n",
    "                'ANCSA_Region': city.ancsa_region,\n",
    "                'Util_Name': inp['utility'].Name, \n",
    "                'Sq_Ft': inp['bldg_floor_area'],\n",
    "                'Capital_Cost': inp['capital_cost'],\n",
    "                'Elec_Use_Jan': inp['elec_use_jan'],\n",
    "                'Elec_Use_May': inp['elec_use_may'],\n",
    "            }\n",
    "\n",
    "            md = hpmod.HP_model(**inp)\n",
    "            md.run()\n",
    "            smy = md.summary\n",
    "            rec.update(\n",
    "                 Design_Heat_Load = smy['design_heat_load'],\n",
    "                 Design_Heat_Temp = smy['design_heat_temp'],\n",
    "                 COP = smy['cop'],\n",
    "                 Max_HP_Cap_Reached = smy['max_hp_reached'],\n",
    "                 HP_Load_Frac = smy['hp_load_frac'],\n",
    "                 IRR = smy['irr'],\n",
    "                 NPV = smy['npv'],\n",
    "                 Fuel_Use_Chg = smy['fuel_use_chg'],\n",
    "                 Fuel_Price_Incremental = smy['fuel_price_incremental'],\n",
    "                 Elec_Use_Chg = smy['elec_use_chg'],\n",
    "                 Elec_Rate_Incremental = smy['elec_rate_incremental'],            \n",
    "            )\n",
    "            recs.append(rec)\n",
    "            sc_count += 1\n",
    "print(sc_count)\n",
    "df_results = pd.DataFrame(recs)\n",
    "df_results.to_pickle('results.pkl')"
   ]
  },
  {
   "cell_type": "code",
   "execution_count": 14,
   "metadata": {},
   "outputs": [
    {
     "data": {
      "application/vnd.jupyter.widget-view+json": {
       "model_id": "2eec5aa3fc0249599fe9b7d59454b35c",
       "version_major": 2,
       "version_minor": 0
      },
      "text/plain": [
       "QgridWidget(grid_options={'fullWidthRows': True, 'syncColumnCellResize': True, 'forceFitColumns': True, 'defau…"
      ]
     },
     "metadata": {},
     "output_type": "display_data"
    }
   ],
   "source": [
    "sh(df_results)"
   ]
  },
  {
   "cell_type": "code",
   "execution_count": 39,
   "metadata": {},
   "outputs": [
    {
     "data": {
      "text/plain": [
       "<matplotlib.axes._subplots.AxesSubplot at 0x7f7d60c68b38>"
      ]
     },
     "execution_count": 39,
     "metadata": {},
     "output_type": "execute_result"
    },
    {
     "data": {
      "image/png": "[encoded data removed]",
      "text/plain": [
       "<Figure size 432x288 with 1 Axes>"
      ]
     },
     "metadata": {
      "needs_background": "light"
     },
     "output_type": "display_data"
    }
   ],
   "source": [
    "df_results.cop.plot.hist()"
   ]
  },
  {
   "cell_type": "markdown",
   "metadata": {},
   "source": [
    "## Test out Plotting"
   ]
  },
  {
   "cell_type": "code",
   "execution_count": 17,
   "metadata": {},
   "outputs": [],
   "source": [
    "df_test = pd.DataFrame({'Val': [-3500, -2000, -1900, 1230., 2420., 4560., 5230],\n",
    "                        'Scenario': ['a', 'b', 'c', 'd', 'e', 'f', 'g']})\n",
    "df_test['City'] = 'Kotzebue'\n",
    "df_test['Econ'] = 'Close'\n",
    "df_test.loc[df_test.Val < -2000, 'Econ'] =  'Not Economic'\n",
    "df_test.loc[df_test.Val > 0, 'Econ'] =  'Economic'\n",
    "df_test2 = df_test.copy()\n",
    "df_test2['Val'] -= 300\n",
    "df_test2['City'] = 'Ambler'\n",
    "df_test2['Econ'] = 'Close'\n",
    "df_test2.loc[df_test2.Val < -2000, 'Econ'] =  'Not Economic'\n",
    "df_test2.loc[df_test2.Val > 0, 'Econ'] =  'Economic'\n",
    "df_test = pd.concat([df_test, df_test2])"
   ]
  },
  {
   "cell_type": "code",
   "execution_count": 19,
   "metadata": {},
   "outputs": [
    {
     "data": {
      "application/vnd.vegalite.v2+json": {
       "$schema": "https://vega.github.io/schema/vega-lite/v2.6.0.json",
       "config": {
        "view": {
         "height": 300,
         "width": 400
        }
       },
       "layer": [
        {
         "data": {
          "format": {
           "type": "json"
          },
          "url": "altair-data-2120a3aa2f1d0cc9fb04e27eb9867a4c.json"
         },
         "encoding": {
          "size": {
           "value": 2
          },
          "x": {
           "field": "ThresholdValue",
           "type": "quantitative"
          }
         },
         "mark": {
          "color": "green",
          "type": "rule"
         },
         "selection": {
          "selector010": {
           "bind": "scales",
           "encodings": [
            "x",
            "y"
           ],
           "mark": {
            "fill": "#333",
            "fillOpacity": 0.125,
            "stroke": "white"
           },
           "on": "[mousedown, window:mouseup] > window:mousemove!",
           "resolve": "global",
           "translate": "[mousedown, window:mouseup] > window:mousemove!",
           "type": "interval",
           "zoom": "wheel!"
          }
         }
        },
        {
         "data": {
          "format": {
           "type": "json"
          },
          "url": "altair-data-b45e038703ffecee60b895a685074dbc.json"
         },
         "encoding": {
          "color": {
           "field": "Econ",
           "scale": {
            "domain": [
             "Economic",
             "Close",
             "Not Economic"
            ],
            "range": [
             "green",
             "#FFBB00",
             "red"
            ]
           },
           "type": "nominal"
          },
          "fill": {
           "field": "Econ",
           "scale": {
            "domain": [
             "Economic",
             "Close",
             "Not Economic"
            ],
            "range": [
             "green",
             "#FFBB00",
             "red"
            ]
           },
           "type": "nominal"
          },
          "shape": {
           "field": "Scenario",
           "type": "nominal"
          },
          "tooltip": [
           {
            "field": "Scenario",
            "type": "nominal"
           }
          ],
          "x": {
           "axis": {
            "grid": false,
            "title": "Net Present Value"
           },
           "field": "Val",
           "type": "quantitative"
          },
          "y": {
           "axis": {
            "grid": true,
            "title": "Community"
           },
           "field": "City",
           "type": "nominal"
          }
         },
         "mark": {
          "opacity": 0.7,
          "size": 150,
          "stroke": "black",
          "strokeWidth": 1,
          "type": "point"
         }
        }
       ]
      },
      "image/png": "[encoded data removed]",
      "text/plain": [
       "<VegaLite 2 object>\n",
       "\n",
       "If you see this message, it means the renderer has not been properly enabled\n",
       "for the frontend that you are using. For more information, see\n",
       "https://altair-viz.github.io/user_guide/troubleshooting.html\n"
      ]
     },
     "execution_count": 19,
     "metadata": {},
     "output_type": "execute_result"
    }
   ],
   "source": [
    "# make a color scale for economic payback\n",
    "color_scale = alt.Scale(\n",
    "            domain=['Economic', 'Close', 'Not Economic'],\n",
    "            range=['green', '#FFBB00', 'red'])\n",
    "\n",
    "main = alt.Chart(df_test).mark_point(\n",
    "    size=150, opacity=0.7, stroke='black', strokeWidth=1\n",
    ").encode(\n",
    "    x=alt.X('Val', axis=alt.Axis(title='Net Present Value', grid=False)),\n",
    "    y=alt.Y('City', axis=alt.Axis(title='Community', grid=True)),\n",
    "    shape='Scenario',\n",
    "    color=alt.Color('Econ', scale=color_scale),\n",
    "    fill=alt.Color('Econ', scale=color_scale),\n",
    "    tooltip=['Scenario']\n",
    ")\n",
    "rule_data = pd.DataFrame([{\"ThresholdValue\": 0, \"Threshold\": \"breakeven\"}])\n",
    "rule = alt.Chart(rule_data).mark_rule(color='green').encode(\n",
    "    x='ThresholdValue',\n",
    "    size=alt.value(2)\n",
    ")\n",
    "(rule + main).interactive()"
   ]
  },
  {
   "cell_type": "code",
   "execution_count": 9,
   "metadata": {},
   "outputs": [
    {
     "data": {
      "text/plain": [
       "(10, 10)"
      ]
     },
     "execution_count": 9,
     "metadata": {},
     "output_type": "execute_result"
    }
   ],
   "source": [
    "import logging\n",
    "logging.root.setLevel(logging.DEBUG)\n",
    "logging.root.getEffectiveLevel(), logging.DEBUG"
   ]
  }
 ],
 "metadata": {
  "kernelspec": {
   "display_name": "Python 3",
   "language": "python",
   "name": "python3"
  },
  "language_info": {
   "codemirror_mode": {
    "name": "ipython",
    "version": 3
   },
   "file_extension": ".py",
   "mimetype": "text/x-python",
   "name": "python",
   "nbconvert_exporter": "python",
   "pygments_lexer": "ipython3",
   "version": "3.7.0"
  }
 },
 "nbformat": 4,
 "nbformat_minor": 2
}
