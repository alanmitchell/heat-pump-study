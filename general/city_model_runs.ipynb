{
 "cells": [
  {
   "cell_type": "markdown",
   "metadata": {},
   "source": [
    "# Runs the Heat Pump Model for Multiple Scenaries across Multiple Communities"
   ]
  },
  {
   "cell_type": "code",
   "execution_count": 1,
   "metadata": {},
   "outputs": [],
   "source": [
    "import sys\n",
    "import numpy as np\n",
    "import pandas as pd\n",
    "\n",
    "#---- Auto-reload of modules\n",
    "%load_ext autoreload\n",
    "%autoreload 2\n",
    "\n",
    "#---- Altair imports \n",
    "import altair as alt\n",
    "alt.data_transformers.enable('json');   # keeps Huge data out of Notebook"
   ]
  },
  {
   "cell_type": "markdown",
   "metadata": {},
   "source": [
    "## Loop through Cities Running all Scenarios"
   ]
  },
  {
   "cell_type": "code",
   "execution_count": 2,
   "metadata": {},
   "outputs": [],
   "source": [
    "# Bring the heat pump calculator into the Python Path.\n",
    "# This assumes that the heat-pump-calc project is present and on\n",
    "# the same directory level as this heat-pump-study project.\n",
    "sys.path.insert(0, '../../heat-pump-calc')\n",
    "import heatpump.library as lib\n",
    "import heatpump.hp_model as hpmod"
   ]
  },
  {
   "cell_type": "code",
   "execution_count": 19,
   "metadata": {},
   "outputs": [],
   "source": [
    "in_base = dict(\n",
    "    pce_limit=500,\n",
    "    co2_lbs_per_kwh=1.5,\n",
    "    exist_fuel_use=None,\n",
    "    exist_heat_effic=0.8,\n",
    "    exist_kwh_per_mmbtu=6.25,\n",
    "    includes_dhw=False,\n",
    "    includes_dryer=False,\n",
    "    includes_cooking=False,\n",
    "    occupant_count=3,\n",
    "    hp_model_id=-1,\n",
    "    low_temp_cutoff=5,\n",
    "    off_months_chks=[],\n",
    "    garage_stall_count=1,\n",
    "    garage_heated_by_hp=False,\n",
    "    bldg_floor_area=1800,\n",
    "    indoor_heat_setpoint=70,\n",
    "    insul_level=2,\n",
    "    pct_exposed_to_hp=0.46,\n",
    "    doors_open_to_adjacent=True,\n",
    "    bedroom_temp_tolerance='med',\n",
    "    rebate_dol=0,\n",
    "    pct_financed=0,\n",
    "    loan_term=10,\n",
    "    loan_interest=0.05,\n",
    "    hp_life=14,\n",
    "    op_cost_chg=0,\n",
    "    discount_rate=0.05,\n",
    "    inflation_rate=0.02,\n",
    "    fuel_esc_rate=0.03,\n",
    "    elec_esc_rate=0.02,\n",
    ")\n",
    "\n",
    "# Inputs that need to be determined for each community\n",
    "# city_id\n",
    "# utility\n",
    "# exist_unit_fuel_cost\n",
    "# elec_use_jan\n",
    "# elec_use_may\n",
    "# capital_cost,\n",
    "# sales_tax,"
   ]
  },
  {
   "cell_type": "code",
   "execution_count": 10,
   "metadata": {},
   "outputs": [],
   "source": [
    "in_base['city_id'] = 270\n",
    "in_base['utility'] = lib.util_from_id(53)\n",
    "in_base['exist_heat_fuel_id'] = 4     # 4 - #1 Oil, 3 - Propane, 1 - Electricity\n",
    "in_base['exist_unit_fuel_cost'] = 2.69\n",
    "in_base['elec_use_jan'] = 674\n",
    "in_base['elec_use_may'] = 503\n",
    "in_base['capital_cost'] = 4000\n",
    "in_base['sales_tax'] =  0.06"
   ]
  },
  {
   "cell_type": "code",
   "execution_count": 11,
   "metadata": {},
   "outputs": [
    {
     "data": {
      "text/plain": [
       "{'fuel_unit': 'gallon',\n",
       " 'fuel_desc': '#1 Oil',\n",
       " 'design_heat_load': 29825.902511999997,\n",
       " 'design_heat_temp': -6.159999999999997,\n",
       " 'cop': 2.878791041986915,\n",
       " 'hp_max_capacity_5F': 13309.359,\n",
       " 'max_hp_reached': True,\n",
       " 'co2_lbs_saved': 3107.6064905260464,\n",
       " 'co2_driving_miles_saved': 3484.375497439699,\n",
       " 'hp_load_frac': 0.769674525892312,\n",
       " 'irr': 0.006809231607130428,\n",
       " 'npv': -1180.2832361241437,\n",
       " 'fuel_use_base': 670.4895715135682,\n",
       " 'fuel_use_hp': 156.95316047548178,\n",
       " 'fuel_use_chg': -513.5364110380864,\n",
       " 'fuel_price_incremental': 2.8514000000000004,\n",
       " 'elec_use_base': 6567.626453242359,\n",
       " 'elec_use_hp': 12086.301907559753,\n",
       " 'elec_use_chg': 5518.675454317394,\n",
       " 'elec_rate_avg_base': 0.2744137409227546,\n",
       " 'elec_rate_avg_hp': 0.25672690774176715,\n",
       " 'elec_rate_incremental': 0.23567828576080563}"
      ]
     },
     "execution_count": 11,
     "metadata": {},
     "output_type": "execute_result"
    }
   ],
   "source": [
    "mod = hpmod.HP_model(**in_base)\n",
    "mod.run()\n",
    "mod.summary"
   ]
  },
  {
   "cell_type": "code",
   "execution_count": 12,
   "metadata": {},
   "outputs": [
    {
     "data": {
      "text/plain": [
       "Name                                                         Anchorage\n",
       "Latitude                                                        61.152\n",
       "Longitude                                                     -149.864\n",
       "ERHRegionID                                                          2\n",
       "WAPRegionID                                                          2\n",
       "ImpCost                                                              1\n",
       "FuelRefer                                                        False\n",
       "FuelCityID                                                         NaN\n",
       "Oil1Price                                                         3.08\n",
       "Oil2Price                                                          NaN\n",
       "PropanePrice                                                       4.5\n",
       "BirchPrice                                                         325\n",
       "SprucePrice                                                        345\n",
       "CoalPrice                                                          175\n",
       "SteamPrice                                                         NaN\n",
       "HotWaterPrice                                                      NaN\n",
       "MunicipalSalesTax                                                  NaN\n",
       "BoroughSalesTax                                                    NaN\n",
       "TMYid                                                           702730\n",
       "TMYname                                          ANCHORAGE INTL AP, AK\n",
       "ElecUtilities        [(Anchorage ML&P - Residential, 2), (Anchorage...\n",
       "GasPrice                                                       0.93955\n",
       "aris_city                                                    Anchorage\n",
       "census_city                                     Anchorage municipality\n",
       "census_area                                     Anchorage municipality\n",
       "ancsa_region                                Cook Inlet Regional (CIRI)\n",
       "railbelt                                                      Railbelt\n",
       "hub                                                               True\n",
       "avg_elec_usage       [674.3176110825001, 616.54369648225, 568.80201...\n",
       "Name: 1, dtype: object"
      ]
     },
     "execution_count": 12,
     "metadata": {},
     "output_type": "execute_result"
    }
   ],
   "source": [
    "lib.city_from_id(1)"
   ]
  },
  {
   "cell_type": "code",
   "execution_count": 13,
   "metadata": {},
   "outputs": [
    {
     "data": {
      "text/plain": [
       "ID                                                              2\n",
       "Name                                 Anchorage ML&P - Residential\n",
       "Active                                                       True\n",
       "Type                                                            1\n",
       "IsCommercial                                                False\n",
       "ChargesRCC                                                   True\n",
       "PCE                                                           NaN\n",
       "CO2                                                           1.1\n",
       "CustomerChg                                                 13.62\n",
       "DemandCharge                                                  NaN\n",
       "NameShort                                                  Anchor\n",
       "Blocks          [(nan, 0.17457800125703232), (nan, nan), (nan,...\n",
       "Name: 2, dtype: object"
      ]
     },
     "execution_count": 13,
     "metadata": {},
     "output_type": "execute_result"
    }
   ],
   "source": [
    "lib.util_from_id(2)"
   ]
  },
  {
   "cell_type": "code",
   "execution_count": 25,
   "metadata": {},
   "outputs": [
    {
     "name": "stdout",
     "output_type": "stream",
     "text": [
      "Adak -74161.43515677947\n",
      "Akhiok -24814.89655286579\n",
      "Akiachak -7233.162274052768\n",
      "Akiak 1651.8828474641325\n",
      "Akutan -41589.68809312132\n",
      "Alakanuk 5402.665070819328\n",
      "Alatna -6421.281414030337\n",
      "Aleknagik -3082.214958240925\n",
      "Allakaket -12807.790916185255\n",
      "Anaktuvuk Pass - C 24123.932100696038\n",
      "Anaktuvuk Pass Res -18637.631329515843\n",
      "Anchor Point 175.70357478066677\n",
      "Anchorage 3954.48679501021\n",
      "Anderson 3028.099003268156\n",
      "Angoon -11643.388088575657\n",
      "Aniak -2770.3229284690374\n",
      "Anvik 3094.114848027438\n",
      "Arctic Village 25344.089635692755\n",
      "Atka -997.3166746909806\n",
      "Atmautluak -11516.522582808484\n",
      "Atqasuk - Com -2523.2683637436694\n",
      "Atqasuk - Res -16201.079321135885\n",
      "Auke Bay 9406.942129954687\n",
      "Beaver -17739.277451470414\n",
      "Bethel 1662.722472062028\n",
      "Bettles -13276.106317429052\n",
      "Big Lake 2893.7208281112453\n",
      "Birch Creek -47035.07153620835\n",
      "Bird Creek 3546.188495009442\n",
      "Brevig Mission -4972.170647491211\n",
      "Buckland 6179.805602919665\n",
      "Cantwell 2041.1383987436495\n",
      "Central -15936.833775626277\n",
      "Chalkyitsik -2066.64920734524\n",
      "Chefornak 1930.0719187130753\n",
      "Chenega -1910.8513013311358\n",
      "Chevak 1825.2164712892632\n",
      "Chickaloon 2394.990226588453\n",
      "Chicken -43997.70836875749\n",
      "Chignik -12519.479803751057\n",
      "Chignik Lake -33198.397153189515\n",
      "Chiniak 4118.104908879141\n",
      "Chistochina -16331.672874806085\n",
      "Chitina -17790.386408449507\n",
      "Chuathbaluk -28961.63297196307\n",
      "Chugiak 3196.759055020098\n",
      "Circle -16785.33820998306\n",
      "Clam Gulch -1696.391209832329\n",
      "Clark's Point -48293.681531171416\n",
      "Clear 2602.0520534902644\n",
      "Coffman Cove 2344.118115090052\n",
      "Cold Bay -13632.306363375634\n",
      "Cooper Landing 2399.883976458297\n",
      "Copper Center -3777.493127666779\n",
      "Cordova 2020.8649496570233\n",
      "Craig 1195.0807741255708\n",
      "Crooked Creek -22900.89155367924\n",
      "Deering -28674.781274081353\n",
      "Delta Junction 1435.0648349125918\n",
      "Denali Nat'l Park 2162.3531115098376\n",
      "Dillingham -6547.644966524701\n",
      "Diomede -13318.728260201637\n",
      "Dot Lake -1716.4068301131351\n",
      "Douglas 9406.942129954687\n",
      "Dutch Harbor -12233.242315814388\n",
      "Eagle -10647.65706385062\n",
      "Eagle River 2893.7208281112453\n",
      "Eek -4522.119920280942\n",
      "Egegik -22770.02107831219\n",
      "Ekwok 2292.2265507375755\n",
      "Elfin Cove -10370.004346211044\n",
      "Elim -6249.38724382061\n",
      "Emmonak 9103.96474506889\n",
      "English Bay/Nanwal 13373.839356974806\n",
      "Ester 905.0446297700014\n",
      "Evansville -13276.106317429052\n",
      "Eyak 2409.2441374657565\n",
      "Fairbanks 905.0446297700014\n",
      "False Pass -11759.9597031235\n",
      "Faribanks - Chena Ridge 905.0446297700014\n",
      "Fort Yukon 4062.568739637796\n",
      "Gakona -3777.493127666779\n",
      "Galena -9583.205263063588\n",
      "Gambell -5318.568674933721\n",
      "Girdwood 4091.654702457433\n",
      "Glennallen -2549.898552706049\n",
      "Golovin -5087.649358775711\n",
      "Goodnews Bay -4652.625994579981\n",
      "Grayling 3125.806122774031\n",
      "Gulkana -3777.493127666779\n",
      "Gustavus 1509.8245070205298\n",
      "Haines 1655.6698387952267\n",
      "Healy 2602.0520534902644\n",
      "Hollis 1628.9528162356278\n",
      "Holy Cross 9372.850785035485\n",
      "Homer 1205.1250398084294\n",
      "Hoonah -19882.730373206912\n",
      "Hooper Bay 3780.6967514751736\n",
      "Hope 2774.4374386620366\n",
      "Houston 3031.5952415917395\n",
      "Hughes 19057.577709715737\n",
      "Huslia 6255.475143958338\n",
      "Hydaburg 2030.2686316158206\n",
      "Igiugig -15195.326499809771\n",
      "Iliamna -23053.584049530855\n",
      "Indian 4091.654702457433\n",
      "Juneau, Airport 9406.942129954687\n",
      "Juneau, City of 9406.942129954687\n",
      "Kake -20870.03765429427\n",
      "Kaktovik - Com 8992.140908992933\n",
      "Kaktovik - Res -12220.454055000448\n",
      "Kaltag -1891.4928750089655\n",
      "Karluk -9362.073063184109\n",
      "Kasaan 1628.9528162356278\n",
      "Kasigluk -1431.2968420417917\n",
      "Kasilof -1260.086185343512\n",
      "Kenai -1180.282872085316\n",
      "Kenny Lake -3777.493127666779\n",
      "Ketchikan 10845.717896149337\n",
      "Kiana 149.86553251931264\n",
      "King Cove -2974.7293790447266\n",
      "King Salmon -11915.435873871626\n",
      "Kipnuk 1748.953360344594\n",
      "Kivalina -6231.224401074425\n",
      "Klawock 1357.418043568911\n",
      "Klukwan -17238.156954164668\n",
      "Kobuk 8220.286614695835\n",
      "Kodiak 5588.1289093723035\n",
      "Kokhanok -25811.92733107533\n",
      "Koliganek -2070.9218534019424\n",
      "Kongiganak -12084.932050771495\n",
      "Kotlik 3258.412196626905\n",
      "Kotzebue 7071.153037931028\n",
      "Koyuk -1875.0858676405542\n",
      "Koyukuk -17999.474625266517\n",
      "Kwethluk -4818.685875189547\n",
      "Kwigillingok -13330.877382117957\n",
      "Larsen Bay -6687.308849141497\n",
      "Levelock -28754.11932112675\n",
      "Lime Village -64392.53478227767\n",
      "Lower Kalskag 5943.678775052861\n",
      "Manley Hot Springs -19723.041893308095\n",
      "Manokotak -5211.302709747475\n",
      "Marshall 4681.405121479666\n",
      "McCarthy -45755.323148860865\n",
      "McGrath 9375.136811292665\n",
      "Mekoryok -1638.9136751327912\n",
      "Mentasta Lake -11846.724167476346\n",
      "Metlakatla 10476.890927028637\n",
      "Minto -5123.94869662164\n",
      "Moose Pass 2399.883976458297\n",
      "Mountain Village 10398.0142246727\n",
      "Naknek -13988.708235271235\n",
      "Napakiak -16897.13768891781\n",
      "Napaskiak -3202.057623747469\n",
      "Naukati 998.1029603804823\n",
      "Nelson Lagoon -23564.97894422927\n",
      "Nenana 2886.083353342187\n",
      "New Stuyahok 5145.437568219418\n",
      "Newhalen -14783.91225476425\n",
      "Newtok -6763.656456532031\n",
      "Nightmute 11014.985100794134\n",
      "Nikiski -1260.086185343512\n",
      "Nikolaevsk 175.70357478066677\n",
      "Nikolai 283.6396336503458\n",
      "Ninilchik 550.2570369844009\n",
      "Noatak 8538.704691670137\n",
      "Nome 8902.59177026637\n",
      "Nondalton -11982.2329962016\n",
      "Noorvik 2257.910491417746\n",
      "North Pole 1121.1956341903528\n",
      "Northway -15138.756510755686\n",
      "Nuiqsut 6022.379001227505\n",
      "Nulato 1494.2261986512135\n",
      "Nunapitchuk -422.79043269392633\n",
      "Nunum Iqua -870.151897673559\n",
      "Old Harbor 453.9820638331978\n",
      "Oscarville 17375.862471372828\n",
      "Ouzinkie -5920.563403245628\n",
      "Palmer 3100.532448331975\n",
      "Paxson -49149.33944129475\n",
      "Pedro Bay -28398.149892435624\n",
      "Pelican -11124.61347348105\n",
      "Perryville -43256.5838178486\n",
      "Petersburg 12201.451223688358\n",
      "Pilot Point -18039.028860304792\n",
      "Pilot Station 6416.446246283361\n",
      "Pitkas Point 7901.773905427667\n",
      "Point Baker -37557.87536487635\n",
      "Point Hope Com 21876.605374100927\n",
      "Point Hope Res -15250.824764142355\n",
      "Point Lay -18584.23225519976\n",
      "Port Alexander -48391.65818032069\n",
      "Port Graham 114.86855105450445\n",
      "Port Heiden -18054.32685371459\n",
      "Port Lions 10906.136048753566\n",
      "Port Protection -37679.0900776426\n",
      "Quinhagak 211.836861141984\n",
      "Rampart -36749.594669842365\n",
      "Ruby -7631.927947330555\n",
      "Russian Mission -2410.7648555289556\n",
      "Saint George -17540.709320191556\n",
      "Saint Mary's 8309.541936839934\n",
      "Saint Michael 6864.765815322783\n",
      "Saint Paul -8020.194943418977\n",
      "Salcha -80.12051965835451\n",
      "Sand Point -17705.115113466498\n",
      "Savoonga -3137.7231877038566\n",
      "Saxman 10915.744852714372\n",
      "Scammon Bay 7344.948973825508\n",
      "Selawik 15359.727497266518\n",
      "Seldovia 12599.151359463936\n",
      "Seward 4260.912709182989\n",
      "Shageluk 7946.342182462514\n",
      "Shaktoolik -2814.023997031643\n",
      "Shishmaref -5312.457850964573\n",
      "Shungnak 10767.687289314465\n",
      "Sitka 4477.73904792912\n",
      "Skagway 2955.875028984735\n",
      "Slana -17022.535556320792\n",
      "Sleetmute -25567.618124522538\n",
      "Soldotna -1180.282872085316\n",
      "South Naknek -13988.708235271235\n",
      "Stebbins -2432.5280776248646\n",
      "Sterling -1260.086185343512\n",
      "Stony River -33507.18903567594\n",
      "Sutton 2893.7208281112453\n",
      "Takotna -31415.910742671877\n",
      "Talkeetna 2893.7208281112453\n",
      "Tanacross -2367.641748021977\n",
      "Tanana -11552.403567262187\n",
      "Tazlina -3777.493127666779\n",
      "Teller -69.87747097762775\n",
      "Tenakee Springs -16069.541515208863\n",
      "Tetlin -2928.555402768592\n",
      "Thorne Bay 1580.5620478221447\n",
      "Togiak 4190.687057289526\n",
      "Tok -8100.320465488748\n",
      "Toksook Bay 4833.028856854006\n",
      "Tonsina -3777.493127666779\n",
      "Trapper Creek 2893.7208281112453\n",
      "Tuluksak -6842.556435368842\n",
      "Tuntutuliak -11802.648419042824\n",
      "Tununak 81.12921003581988\n",
      "Twin Hills 1310.2309801799076\n",
      "Tyonek 15274.707995521849\n",
      "Ugashik -36118.74481398716\n",
      "Unalakleet -6843.29387908852\n",
      "Unalaska -12309.923181185504\n",
      "Upper Kalskag 5943.678775052861\n",
      "Valdez -102.7524081745953\n",
      "Venetie 265.52453677762264\n",
      "Wainwright Com 16871.105908756563\n",
      "Wainwright Res -18281.195473284264\n",
      "Wales 5378.000782192225\n",
      "Ward Cove 10845.717896149337\n",
      "Wasilla 3100.532448331975\n",
      "Whale Pass 938.0901347209063\n",
      "White Mountain -9702.637097087794\n",
      "Whittier 3042.9394611319485\n",
      "Willow 2893.7208281112453\n",
      "Wrangell 5820.903346779304\n",
      "Yakutat -1137.1758918788257\n"
     ]
    }
   ],
   "source": [
    "def find_util(city, name_part):\n",
    "    \"\"\"Returns the first electric utility that has a name containing 'name_part', insensitive\n",
    "    to capitalization.  If no utilities match, returns the first utility listed for \n",
    "    'city'. Returns None if there are no utilities for the city. \n",
    "    \"\"\"\n",
    "    utils = city.ElecUtilities\n",
    "    if len(utils) == 1:\n",
    "        return lib.util_from_id(utils[0][1])\n",
    "    if len(utils) == 0:\n",
    "        return None\n",
    "    else:\n",
    "        for util_name, util_id in utils:\n",
    "            if name_part.lower() in util_name.lower():\n",
    "                return lib.util_from_id(util_id)\n",
    "        return lib.util_from_id(utils[0][1])\n",
    "                \n",
    "def scenarios(city_id, fuel_id):\n",
    "    '''Returns a list of (scenario name, input dictionary) tuples for all \n",
    "    of the scenarios being modeled for 'city_id' with the existing system\n",
    "    using 'fuel_id'.\n",
    "    '''\n",
    "    scenarios = []\n",
    "    city = lib.city_from_id(city_id)\n",
    "    \n",
    "    # Base Case\n",
    "    sc_base = in_mid.copy()\n",
    "\n",
    "    # Capital Cost\n",
    "    # Each cost level is the same percentage above the one prior.\n",
    "    # Assume highest level (level 5) is 1.6 x lowest level.\n",
    "    cost_mult = 1.6 ** 0.25\n",
    "    sc_base['capital_cost'] = 4000.0 * cost_mult ** (city.ImpCost - 1)\n",
    "    \n",
    "    # Find the residential utility for this city\n",
    "    sc_base['utility'] = find_util(city, 'resid')\n",
    "    \n",
    "    # fuel price\n",
    "    the_fuel = lib.fuel_from_id(fuel_id)\n",
    "    price_col = the_fuel['price_col']\n",
    "    price = np.nan_to_num(city[price_col])\n",
    "    sc_base['exist_unit_fuel_cost'] = price\n",
    "    \n",
    "    # January and May electricity use\n",
    "    sc_base['elec_use_jan'] = city.avg_elec_usage[0]\n",
    "    sc_base['elec_use_may'] = city.avg_elec_usage[4]\n",
    "    \n",
    "    # Sales Tax\n",
    "    sc_base['sales_tax'] = np.nan_to_num(city.MunicipalSalesTax) + np.nan_to_num(city.BoroughSalesTax)\n",
    "    \n",
    "    scenarios.append(('Base', sc_base))\n",
    "    return scenarios\n",
    "    \n",
    "sc_count = 0\n",
    "for city_name, city_id in lib.cities():\n",
    "    for scenario_name, inp in scenarios(city_id, 4):    # 4 is oil\n",
    "        \n",
    "        # If no utility for the scenario or no fuel price, skip it\n",
    "        if (inp['utility'] is None) or (inp['exist_unit_fuel_cost']==0.0):\n",
    "            continue\n",
    "        \n",
    "        mod = hpmod.HP_model(**inp)\n",
    "        mod.run()\n",
    "        smy = mod.summary\n",
    "\n",
    "        print(city_name, smy['npv'])\n",
    "        sc_count += 1"
   ]
  },
  {
   "cell_type": "markdown",
   "metadata": {},
   "source": [
    "## Test out Plotting"
   ]
  },
  {
   "cell_type": "code",
   "execution_count": 17,
   "metadata": {},
   "outputs": [],
   "source": [
    "df_test = pd.DataFrame({'Val': [-3500, -2000, -1900, 1230., 2420., 4560., 5230],\n",
    "                        'Scenario': ['a', 'b', 'c', 'd', 'e', 'f', 'g']})\n",
    "df_test['City'] = 'Kotzebue'\n",
    "df_test['Econ'] = 'Close'\n",
    "df_test.loc[df_test.Val < -2000, 'Econ'] =  'Not Economic'\n",
    "df_test.loc[df_test.Val > 0, 'Econ'] =  'Economic'\n",
    "df_test2 = df_test.copy()\n",
    "df_test2['Val'] -= 300\n",
    "df_test2['City'] = 'Ambler'\n",
    "df_test2['Econ'] = 'Close'\n",
    "df_test2.loc[df_test2.Val < -2000, 'Econ'] =  'Not Economic'\n",
    "df_test2.loc[df_test2.Val > 0, 'Econ'] =  'Economic'\n",
    "df_test = pd.concat([df_test, df_test2])"
   ]
  },
  {
   "cell_type": "code",
   "execution_count": 19,
   "metadata": {},
   "outputs": [
    {
     "data": {
      "application/vnd.vegalite.v2+json": {
       "$schema": "https://vega.github.io/schema/vega-lite/v2.6.0.json",
       "config": {
        "view": {
         "height": 300,
         "width": 400
        }
       },
       "layer": [
        {
         "data": {
          "format": {
           "type": "json"
          },
          "url": "altair-data-2120a3aa2f1d0cc9fb04e27eb9867a4c.json"
         },
         "encoding": {
          "size": {
           "value": 2
          },
          "x": {
           "field": "ThresholdValue",
           "type": "quantitative"
          }
         },
         "mark": {
          "color": "green",
          "type": "rule"
         },
         "selection": {
          "selector010": {
           "bind": "scales",
           "encodings": [
            "x",
            "y"
           ],
           "mark": {
            "fill": "#333",
            "fillOpacity": 0.125,
            "stroke": "white"
           },
           "on": "[mousedown, window:mouseup] > window:mousemove!",
           "resolve": "global",
           "translate": "[mousedown, window:mouseup] > window:mousemove!",
           "type": "interval",
           "zoom": "wheel!"
          }
         }
        },
        {
         "data": {
          "format": {
           "type": "json"
          },
          "url": "altair-data-b45e038703ffecee60b895a685074dbc.json"
         },
         "encoding": {
          "color": {
           "field": "Econ",
           "scale": {
            "domain": [
             "Economic",
             "Close",
             "Not Economic"
            ],
            "range": [
             "green",
             "#FFBB00",
             "red"
            ]
           },
           "type": "nominal"
          },
          "fill": {
           "field": "Econ",
           "scale": {
            "domain": [
             "Economic",
             "Close",
             "Not Economic"
            ],
            "range": [
             "green",
             "#FFBB00",
             "red"
            ]
           },
           "type": "nominal"
          },
          "shape": {
           "field": "Scenario",
           "type": "nominal"
          },
          "tooltip": [
           {
            "field": "Scenario",
            "type": "nominal"
           }
          ],
          "x": {
           "axis": {
            "grid": false,
            "title": "Net Present Value"
           },
           "field": "Val",
           "type": "quantitative"
          },
          "y": {
           "axis": {
            "grid": true,
            "title": "Community"
           },
           "field": "City",
           "type": "nominal"
          }
         },
         "mark": {
          "opacity": 0.7,
          "size": 150,
          "stroke": "black",
          "strokeWidth": 1,
          "type": "point"
         }
        }
       ]
      },
      "image/png": "[encoded data removed]",
      "text/plain": [
       "<VegaLite 2 object>\n",
       "\n",
       "If you see this message, it means the renderer has not been properly enabled\n",
       "for the frontend that you are using. For more information, see\n",
       "https://altair-viz.github.io/user_guide/troubleshooting.html\n"
      ]
     },
     "execution_count": 19,
     "metadata": {},
     "output_type": "execute_result"
    }
   ],
   "source": [
    "# make a color scale for economic payback\n",
    "color_scale = alt.Scale(\n",
    "            domain=['Economic', 'Close', 'Not Economic'],\n",
    "            range=['green', '#FFBB00', 'red'])\n",
    "\n",
    "main = alt.Chart(df_test).mark_point(\n",
    "    size=150, opacity=0.7, stroke='black', strokeWidth=1\n",
    ").encode(\n",
    "    x=alt.X('Val', axis=alt.Axis(title='Net Present Value', grid=False)),\n",
    "    y=alt.Y('City', axis=alt.Axis(title='Community', grid=True)),\n",
    "    shape='Scenario',\n",
    "    color=alt.Color('Econ', scale=color_scale),\n",
    "    fill=alt.Color('Econ', scale=color_scale),\n",
    "    tooltip=['Scenario']\n",
    ")\n",
    "rule_data = pd.DataFrame([{\"ThresholdValue\": 0, \"Threshold\": \"breakeven\"}])\n",
    "rule = alt.Chart(rule_data).mark_rule(color='green').encode(\n",
    "    x='ThresholdValue',\n",
    "    size=alt.value(2)\n",
    ")\n",
    "(rule + main).interactive()"
   ]
  },
  {
   "cell_type": "code",
   "execution_count": 9,
   "metadata": {},
   "outputs": [
    {
     "data": {
      "text/plain": [
       "(10, 10)"
      ]
     },
     "execution_count": 9,
     "metadata": {},
     "output_type": "execute_result"
    }
   ],
   "source": [
    "import logging\n",
    "logging.root.setLevel(logging.DEBUG)\n",
    "logging.root.getEffectiveLevel(), logging.DEBUG"
   ]
  }
 ],
 "metadata": {
  "kernelspec": {
   "display_name": "Python 3",
   "language": "python",
   "name": "python3"
  },
  "language_info": {
   "codemirror_mode": {
    "name": "ipython",
    "version": 3
   },
   "file_extension": ".py",
   "mimetype": "text/x-python",
   "name": "python",
   "nbconvert_exporter": "python",
   "pygments_lexer": "ipython3",
   "version": "3.7.0"
  }
 },
 "nbformat": 4,
 "nbformat_minor": 2
}
