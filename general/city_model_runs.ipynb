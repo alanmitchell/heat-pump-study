{
 "cells": [
  {
   "cell_type": "markdown",
   "metadata": {},
   "source": [
    "# Runs the Heat Pump Model for Multiple Scenaries across Multiple Communities"
   ]
  },
  {
   "cell_type": "code",
   "execution_count": 51,
   "metadata": {},
   "outputs": [
    {
     "name": "stdout",
     "output_type": "stream",
     "text": [
      "The autoreload extension is already loaded. To reload it, use:\n",
      "  %reload_ext autoreload\n"
     ]
    }
   ],
   "source": [
    "import sys\n",
    "import numpy as np\n",
    "import pandas as pd\n",
    "import qgrid\n",
    "\n",
    "sh = lambda df: qgrid.show_grid(df, show_toolbar=False)\n",
    "\n",
    "# import matplotlib pyplot commands\n",
    "from matplotlib.pyplot import *\n",
    " \n",
    "# Show Plots in the Notebook\n",
    "%matplotlib inline\n",
    " \n",
    "# 'style' the plot like fivethirtyeight.com website\n",
    "style.use('bmh')\n",
    "\n",
    "#---- Auto-reload of modules\n",
    "%load_ext autoreload\n",
    "%autoreload 2\n",
    "\n",
    "#---- Altair imports \n",
    "import altair as alt\n",
    "alt.data_transformers.enable('json');   # keeps Huge data out of Notebook"
   ]
  },
  {
   "cell_type": "markdown",
   "metadata": {},
   "source": [
    "## Loop through Cities Running all Scenarios"
   ]
  },
  {
   "cell_type": "code",
   "execution_count": 2,
   "metadata": {},
   "outputs": [],
   "source": [
    "# Bring the heat pump calculator into the Python Path.\n",
    "# This assumes that the heat-pump-calc project is present and on\n",
    "# the same directory level as this heat-pump-study project.  Both\n",
    "# are avaiable from GitHub: https://github.com/alanmitchell.\n",
    "sys.path.insert(0, '../../heat-pump-calc')\n",
    "import heatpump.library as lib\n",
    "import heatpump.hp_model as hpmod"
   ]
  },
  {
   "cell_type": "code",
   "execution_count": 3,
   "metadata": {},
   "outputs": [],
   "source": [
    "# Base Case Inputs to the Heat Pump Calcuator.\n",
    "in_base = dict(\n",
    "    pce_limit=500,\n",
    "    co2_lbs_per_kwh=1.5,\n",
    "    exist_fuel_use=None,\n",
    "    exist_heat_effic=0.8,\n",
    "    exist_kwh_per_mmbtu=6.25,\n",
    "    includes_dhw=False,\n",
    "    includes_dryer=False,\n",
    "    includes_cooking=False,\n",
    "    occupant_count=3,\n",
    "    hp_model_id=-1,\n",
    "    low_temp_cutoff=5,\n",
    "    off_months_chks=[],\n",
    "    garage_stall_count=1,\n",
    "    garage_heated_by_hp=False,\n",
    "    indoor_heat_setpoint=70,\n",
    "    insul_level=2,\n",
    "    pct_exposed_to_hp=0.46,\n",
    "    doors_open_to_adjacent=True,\n",
    "    bedroom_temp_tolerance='med',\n",
    "    rebate_dol=0,\n",
    "    pct_financed=0,\n",
    "    loan_term=10,\n",
    "    loan_interest=0.05,\n",
    "    hp_life=14,\n",
    "    op_cost_chg=0,\n",
    "    discount_rate=0.05,\n",
    "    inflation_rate=0.02,\n",
    "    fuel_esc_rate=0.03,\n",
    "    elec_esc_rate=0.02,\n",
    ")\n",
    "\n",
    "# Inputs that need to be determined for each community\n",
    "# city_id\n",
    "# utility\n",
    "# bldg_floor_area\n",
    "# exist_unit_fuel_cost\n",
    "# elec_use_jan\n",
    "# elec_use_may\n",
    "# capital_cost,\n",
    "# sales_tax,"
   ]
  },
  {
   "cell_type": "code",
   "execution_count": 4,
   "metadata": {},
   "outputs": [],
   "source": [
    "in_test = in_base.copy()\n",
    "in_test['city_id'] = 1\n",
    "in_test['utility'] = lib.util_from_id(53)\n",
    "in_test['bldg_floor_area'] = 1700\n",
    "in_test['exist_heat_fuel_id'] = 4     # 4 - #1 Oil, 3 - Propane, 1 - Electricity\n",
    "in_test['exist_unit_fuel_cost'] = 2.69\n",
    "in_test['elec_use_jan'] = 674\n",
    "in_test['elec_use_may'] = 503\n",
    "in_test['capital_cost'] = 4000\n",
    "in_test['sales_tax'] =  0.06"
   ]
  },
  {
   "cell_type": "code",
   "execution_count": 5,
   "metadata": {},
   "outputs": [
    {
     "data": {
      "text/plain": [
       "{'fuel_unit': 'gallon',\n",
       " 'fuel_desc': '#1 Oil',\n",
       " 'design_heat_load': 27137.998944,\n",
       " 'design_heat_temp': -2.9200000000000017,\n",
       " 'cop': 2.768709522701937,\n",
       " 'hp_max_capacity_5F': 13309.359,\n",
       " 'max_hp_reached': True,\n",
       " 'co2_lbs_saved': 2599.0911896777543,\n",
       " 'co2_driving_miles_saved': 2914.2073439908268,\n",
       " 'hp_load_frac': 0.7482128214632623,\n",
       " 'irr': -0.024994180498934093,\n",
       " 'npv': -1918.8347917250733,\n",
       " 'fuel_use_base': 650.4120176530662,\n",
       " 'fuel_use_hp': 166.36443331460313,\n",
       " 'fuel_use_chg': -484.047584338463,\n",
       " 'fuel_price_incremental': 2.8514000000000004,\n",
       " 'elec_use_base': 6567.626453242359,\n",
       " 'elec_use_hp': 11989.447440876997,\n",
       " 'elec_use_chg': 5421.820987634637,\n",
       " 'elec_rate_avg_base': 0.2744137409227546,\n",
       " 'elec_rate_avg_hp': 0.2568969450238375,\n",
       " 'elec_rate_incremental': 0.23567828576080543}"
      ]
     },
     "execution_count": 5,
     "metadata": {},
     "output_type": "execute_result"
    }
   ],
   "source": [
    "mod = hpmod.HP_model(**in_test)\n",
    "mod.run()\n",
    "mod.summary"
   ]
  },
  {
   "cell_type": "code",
   "execution_count": 6,
   "metadata": {},
   "outputs": [
    {
     "data": {
      "text/html": [
       "<div>\n",
       "<style scoped>\n",
       "    .dataframe tbody tr th:only-of-type {\n",
       "        vertical-align: middle;\n",
       "    }\n",
       "\n",
       "    .dataframe tbody tr th {\n",
       "        vertical-align: top;\n",
       "    }\n",
       "\n",
       "    .dataframe thead th {\n",
       "        text-align: right;\n",
       "    }\n",
       "</style>\n",
       "<table border=\"1\" class=\"dataframe\">\n",
       "  <thead>\n",
       "    <tr style=\"text-align: right;\">\n",
       "      <th></th>\n",
       "      <th>Name</th>\n",
       "      <th>Latitude</th>\n",
       "      <th>Longitude</th>\n",
       "      <th>ERHRegionID</th>\n",
       "      <th>WAPRegionID</th>\n",
       "      <th>ImpCost</th>\n",
       "      <th>FuelRefer</th>\n",
       "      <th>FuelCityID</th>\n",
       "      <th>Oil1Price</th>\n",
       "      <th>Oil2Price</th>\n",
       "      <th>...</th>\n",
       "      <th>TMYname</th>\n",
       "      <th>ElecUtilities</th>\n",
       "      <th>GasPrice</th>\n",
       "      <th>aris_city</th>\n",
       "      <th>census_city</th>\n",
       "      <th>census_area</th>\n",
       "      <th>ancsa_region</th>\n",
       "      <th>railbelt</th>\n",
       "      <th>hub</th>\n",
       "      <th>avg_elec_usage</th>\n",
       "    </tr>\n",
       "    <tr>\n",
       "      <th>ID</th>\n",
       "      <th></th>\n",
       "      <th></th>\n",
       "      <th></th>\n",
       "      <th></th>\n",
       "      <th></th>\n",
       "      <th></th>\n",
       "      <th></th>\n",
       "      <th></th>\n",
       "      <th></th>\n",
       "      <th></th>\n",
       "      <th></th>\n",
       "      <th></th>\n",
       "      <th></th>\n",
       "      <th></th>\n",
       "      <th></th>\n",
       "      <th></th>\n",
       "      <th></th>\n",
       "      <th></th>\n",
       "      <th></th>\n",
       "      <th></th>\n",
       "      <th></th>\n",
       "    </tr>\n",
       "  </thead>\n",
       "  <tbody>\n",
       "    <tr>\n",
       "      <th>6</th>\n",
       "      <td>Aniak</td>\n",
       "      <td>61.577904</td>\n",
       "      <td>-159.546753</td>\n",
       "      <td>4</td>\n",
       "      <td>6</td>\n",
       "      <td>3</td>\n",
       "      <td>False</td>\n",
       "      <td>NaN</td>\n",
       "      <td>5.69</td>\n",
       "      <td>NaN</td>\n",
       "      <td>...</td>\n",
       "      <td>ANIAK AIRPORT, AK</td>\n",
       "      <td>[(Aniak Light &amp; Power - Residential, 17), (Ani...</td>\n",
       "      <td>NaN</td>\n",
       "      <td>Aniak</td>\n",
       "      <td>Aniak city</td>\n",
       "      <td>Bethel Census Area</td>\n",
       "      <td>Calista</td>\n",
       "      <td>Affordable Energy Strategy Area</td>\n",
       "      <td>False</td>\n",
       "      <td>[416.867554436, 363.900387399, 367.474233607, ...</td>\n",
       "    </tr>\n",
       "  </tbody>\n",
       "</table>\n",
       "<p>1 rows × 29 columns</p>\n",
       "</div>"
      ],
      "text/plain": [
       "     Name   Latitude   Longitude  ERHRegionID  WAPRegionID  ImpCost  \\\n",
       "ID                                                                    \n",
       "6   Aniak  61.577904 -159.546753            4            6        3   \n",
       "\n",
       "    FuelRefer  FuelCityID  Oil1Price  Oil2Price  \\\n",
       "ID                                                \n",
       "6       False         NaN       5.69        NaN   \n",
       "\n",
       "                          ...                                    TMYname  \\\n",
       "ID                        ...                                              \n",
       "6                         ...                          ANIAK AIRPORT, AK   \n",
       "\n",
       "                                        ElecUtilities  GasPrice  aris_city  \\\n",
       "ID                                                                           \n",
       "6   [(Aniak Light & Power - Residential, 17), (Ani...       NaN      Aniak   \n",
       "\n",
       "    census_city         census_area  ancsa_region  \\\n",
       "ID                                                  \n",
       "6    Aniak city  Bethel Census Area       Calista   \n",
       "\n",
       "                           railbelt    hub  \\\n",
       "ID                                           \n",
       "6   Affordable Energy Strategy Area  False   \n",
       "\n",
       "                                       avg_elec_usage  \n",
       "ID                                                     \n",
       "6   [416.867554436, 363.900387399, 367.474233607, ...  \n",
       "\n",
       "[1 rows x 29 columns]"
      ]
     },
     "execution_count": 6,
     "metadata": {},
     "output_type": "execute_result"
    }
   ],
   "source": [
    "lib.df_city.query('Name == \"Aniak\"')"
   ]
  },
  {
   "cell_type": "code",
   "execution_count": 7,
   "metadata": {},
   "outputs": [
    {
     "data": {
      "text/plain": [
       "Name                                                             Aniak\n",
       "Latitude                                                       61.5779\n",
       "Longitude                                                     -159.547\n",
       "ERHRegionID                                                          4\n",
       "WAPRegionID                                                          6\n",
       "ImpCost                                                              3\n",
       "FuelRefer                                                        False\n",
       "FuelCityID                                                         NaN\n",
       "Oil1Price                                                         5.69\n",
       "Oil2Price                                                          NaN\n",
       "PropanePrice                                                       NaN\n",
       "BirchPrice                                                         NaN\n",
       "SprucePrice                                                        NaN\n",
       "CoalPrice                                                          NaN\n",
       "SteamPrice                                                         NaN\n",
       "HotWaterPrice                                                      NaN\n",
       "MunicipalSalesTax                                                 0.02\n",
       "BoroughSalesTax                                                    NaN\n",
       "TMYid                                                           702320\n",
       "TMYname                                              ANIAK AIRPORT, AK\n",
       "ElecUtilities        [(Aniak Light & Power - Residential, 17), (Ani...\n",
       "GasPrice                                                           NaN\n",
       "aris_city                                                        Aniak\n",
       "census_city                                                 Aniak city\n",
       "census_area                                         Bethel Census Area\n",
       "ancsa_region                                                   Calista\n",
       "railbelt                               Affordable Energy Strategy Area\n",
       "hub                                                              False\n",
       "avg_elec_usage       [416.867554436, 363.900387399, 367.474233607, ...\n",
       "Name: 6, dtype: object"
      ]
     },
     "execution_count": 7,
     "metadata": {},
     "output_type": "execute_result"
    }
   ],
   "source": [
    "lib.city_from_id(6)"
   ]
  },
  {
   "cell_type": "code",
   "execution_count": 8,
   "metadata": {},
   "outputs": [
    {
     "data": {
      "text/plain": [
       "[('Aniak Light & Power - Residential', 17),\n",
       " ('Aniak Light & Power - Commercial - Sm', 295),\n",
       " ('Aniak Light & Power - Commercial - Lg', 482)]"
      ]
     },
     "execution_count": 8,
     "metadata": {},
     "output_type": "execute_result"
    }
   ],
   "source": [
    "lib.city_from_id(6).ElecUtilities"
   ]
  },
  {
   "cell_type": "code",
   "execution_count": 9,
   "metadata": {},
   "outputs": [
    {
     "data": {
      "text/plain": [
       "ID                                                             17\n",
       "Name                            Aniak Light & Power - Residential\n",
       "Active                                                       True\n",
       "Type                                                            1\n",
       "IsCommercial                                                False\n",
       "ChargesRCC                                                   True\n",
       "PCE                                                        0.3303\n",
       "CO2                                                           1.7\n",
       "CustomerChg                                                   NaN\n",
       "DemandCharge                                                  NaN\n",
       "NameShort                                                  Aniak \n",
       "Blocks          [(nan, 0.622677988838405), (nan, nan), (nan, n...\n",
       "Name: 17, dtype: object"
      ]
     },
     "execution_count": 9,
     "metadata": {},
     "output_type": "execute_result"
    }
   ],
   "source": [
    "lib.util_from_id(17)"
   ]
  },
  {
   "cell_type": "code",
   "execution_count": 10,
   "metadata": {},
   "outputs": [],
   "source": [
    "# Maps Census Area to average size of home.  Comes from the 2018 AHFC\n",
    "# Housing Assessment.\n",
    "census_to_size = {\n",
    " 'Anchorage municipality': 2057,\n",
    " 'Aleutians West Census Area': 1130,\n",
    " 'Aleutians East Borough': 1296,\n",
    " 'Yukon-Koyukuk Census Area': 947,\n",
    " 'Hoonah-Angoon Census Area': 1258,\n",
    " 'Bethel Census Area': 950,\n",
    " 'Juneau City and Borough': 1725,\n",
    " 'North Slope Borough': 1164,\n",
    " 'Southeast Fairbanks Census Area': 1745,\n",
    " 'Matanuska-Susitna Borough': 1912,\n",
    " 'Denali Borough': 1736,\n",
    " 'Lake and Peninsula Borough': 1026,\n",
    " 'Valdez-Cordova Census Area': 1781,\n",
    " 'Prince of Wales-Hyder Census Area': 1246,\n",
    " 'Kenai Peninsula Borough': 1890,\n",
    " 'Northwest Arctic Borough': 920,\n",
    " 'Nome Census Area': 1168,\n",
    " 'Wade Hampton Census Area': 834,\n",
    " 'Dillingham Census Area': 1150,\n",
    " 'Bristol Bay Borough': 1445,\n",
    " 'Haines Borough': 1730,\n",
    " 'Yakutat City and Borough': 1116,\n",
    " 'Skagway Municipality': 1672,\n",
    " 'Sitka City and Borough': 1629,\n",
    " 'Wrangell City and Borough': 1766,\n",
    " 'Petersburg Borough': 1714,\n",
    " 'Ketchikan Gateway Borough': 1734,\n",
    " 'Kodiak Island Borough': 1790,\n",
    " 'Fairbanks North Star Borough': 2068,\n",
    "}"
   ]
  },
  {
   "cell_type": "code",
   "execution_count": 11,
   "metadata": {},
   "outputs": [],
   "source": [
    "df_fa = pd.DataFrame(list(census_to_size.items()), columns=['Census Area', 'Floor Area, ft2'])\n",
    "df_fa.to_excel('floor_area.xlsx')"
   ]
  },
  {
   "cell_type": "code",
   "execution_count": 12,
   "metadata": {},
   "outputs": [],
   "source": [
    "# Fuel Prices to override what is in the library.  Key is\n",
    "# (City Name, Fuel Type ID).\n",
    "fuel_override = {\n",
    "    ('Ambler', 4): 9.53/1.03,\n",
    "    ('Buckland', 4): 6.89/1.06,\n",
    "    ('Deering', 4): 4.90/1.03,\n",
    "    ('Kiana', 4): 5.67/1.03,\n",
    "    ('Kivalina', 4): 4.49/1.03,\n",
    "    ('Kobuk', 4): 8.24/1.03,\n",
    "    ('Kotzebue', 4): 6.33/1.06,\n",
    "    ('Noatak', 4): 10.29/1.03,\n",
    "    ('Noorvik', 4): 5.64/1.04,\n",
    "    ('Selawk', 4): 7.99/1.06,\n",
    "    ('Shungnak', 4): 8.42/1.03,\n",
    "}"
   ]
  },
  {
   "cell_type": "code",
   "execution_count": 13,
   "metadata": {},
   "outputs": [],
   "source": [
    "# Some Electric Rate & PCE Overrides\n",
    "# Key is the Utility ID\n",
    "block1_rate_override = {\n",
    "    58: 0.6547,              # Deering Residential\n",
    "    394: 0.6547,             # Deering Small Commercial\n",
    "}\n",
    "pce_override = {\n",
    "    58: 0.2635,              # Deering Residential\n",
    "    394: 0.2635,             # Deering Small Commercial\n",
    "}\n",
    "\n",
    "def check_elec_override(util):\n",
    "    \"\"\"'util' is a Utility series and it is adjusted if one of the\n",
    "    above overrides applies.\n",
    "    \"\"\"\n",
    "    ut = util.copy(deep=True)\n",
    "    if ut.ID in block1_rate_override:\n",
    "        kwh_limit, rate = ut.Blocks[0]\n",
    "        blocks = ut.Blocks.copy()\n",
    "        blocks[0] = (kwh_limit, block1_rate_override[ut.ID])\n",
    "        ut.Blocks = blocks\n",
    "        \n",
    "    if ut.ID in pce_override:\n",
    "        ut.PCE = pce_override[ut.ID]\n",
    "        \n",
    "    return ut        "
   ]
  },
  {
   "cell_type": "code",
   "execution_count": 14,
   "metadata": {},
   "outputs": [],
   "source": [
    "def find_res_util(city):\n",
    "    \"\"\"Returns the first residential electric utility for the city, or None\n",
    "    if no Residential utility exists.\n",
    "    \"\"\"\n",
    "    for _, util_id in city.ElecUtilities:\n",
    "        util = lib.util_from_id(util_id)\n",
    "        if not util.IsCommercial:\n",
    "            return check_elec_override(util)\n",
    "    return None\n",
    "\n",
    "def find_sm_comm_util(city):\n",
    "    \"\"\"Returns the small commercial utilty for the city, resorting to the \n",
    "    only utility if there are no commercial utilities.\n",
    "    \"\"\"\n",
    "    comm_utils = []    # list of commercial utilities\n",
    "    for _, util_id in city.ElecUtilities:\n",
    "        util = lib.util_from_id(util_id)\n",
    "        if util.IsCommercial:\n",
    "            comm_utils.append(util)\n",
    "            if np.nan_to_num(util.DemandCharge)==0.0 or 'sm' in util.Name.lower():\n",
    "                return check_elec_override(util)\n",
    "    if len(comm_utils) > 0:\n",
    "        # Assume first commercial utility is the small commercial rate schedule \n",
    "        return check_elec_override(comm_utils[0])\n",
    "    else:\n",
    "        # Return the first utility\n",
    "        _, util_id = city.ElecUtilities[0]\n",
    "        return check_elec_override(lib.util_from_id(util_id))\n",
    "    return None\n",
    "    \n",
    "def scenarios(city_id, fuel_id):\n",
    "    '''Returns a list of (scenario name, input dictionary) tuples for all \n",
    "    of the scenarios being modeled for 'city_id' with the existing system\n",
    "    using 'fuel_id'.\n",
    "    '''\n",
    "    scenarios = []\n",
    "    city = lib.city_from_id(city_id)\n",
    "    \n",
    "    # ------------------- Base Case Scenario\n",
    "    \n",
    "    sc_base = in_base.copy()\n",
    "    sc_base['city_id'] = city_id\n",
    "    sc_base['exist_heat_fuel_id'] = fuel_id\n",
    "    \n",
    "    # If electric heat, then 100% efficient\n",
    "    if fuel_id == 1:\n",
    "        sc_base['exist_heat_effic'] = 1.0\n",
    "\n",
    "    # Capital Cost\n",
    "    # Each cost level is the same percentage above the one prior.\n",
    "    # Assume highest level (level 5) is 1.6 x lowest level.\n",
    "    cost_mult = 1.6 ** 0.25\n",
    "    sc_base['capital_cost'] = 4000.0 * cost_mult ** (city.ImpCost - 1)\n",
    "    \n",
    "    # Find the residential utility for this city\n",
    "    sc_base['utility'] = find_res_util(city)\n",
    "    \n",
    "    # Building Floor Area\n",
    "    sc_base['bldg_floor_area'] = census_to_size[city.census_area]\n",
    "    \n",
    "    # fuel price\n",
    "    if fuel_id != 1:\n",
    "        # Not Electricity\n",
    "        if (city.Name, fuel_id) in fuel_override:\n",
    "            # Override exists for fuel price\n",
    "            sc_base['exist_unit_fuel_cost'] =  fuel_override[(city.Name, fuel_id)]\n",
    "        else:\n",
    "            the_fuel = lib.fuel_from_id(fuel_id)\n",
    "            price_col = the_fuel['price_col']\n",
    "            price = np.nan_to_num(city[price_col])\n",
    "            sc_base['exist_unit_fuel_cost'] = price\n",
    "    else:\n",
    "        sc_base['exist_unit_fuel_cost'] = np.nan\n",
    "        \n",
    "    # January and May electricity use\n",
    "    sc_base['elec_use_jan'] = city.avg_elec_usage[0]\n",
    "    sc_base['elec_use_may'] = city.avg_elec_usage[4]\n",
    "    \n",
    "    # Sales Tax\n",
    "    sc_base['sales_tax'] = np.nan_to_num(city.MunicipalSalesTax) + np.nan_to_num(city.BoroughSalesTax)\n",
    "    \n",
    "    scenarios.append(('Base', sc_base))\n",
    "    \n",
    "    # --------------------- Small Load Scenario\n",
    "    \n",
    "    sc_small = sc_base.copy()\n",
    "    # 40% smaller floor area\n",
    "    sc_small['bldg_floor_area'] *= 0.6      \n",
    "    \n",
    "    # 20% reduction in base electric use\n",
    "    sc_small['elec_use_jan'] *= 0.8\n",
    "    sc_small['elec_use_may'] *= 0.8\n",
    "    \n",
    "    # Toyostove or Rinnai type efficiency and auxiliary use\n",
    "    if fuel_id == 4:\n",
    "        sc_small['exist_heat_effic'] = 0.84\n",
    "    elif fuel_id == 3 or fuel_id==2:\n",
    "        sc_small['exist_heat_effic'] = 0.82\n",
    "    sc_small['exist_kwh_per_mmbtu'] = 3.0\n",
    "    \n",
    "    scenarios.append(('Small Load', sc_small))\n",
    "    \n",
    "    # --------------------- Large Load Scenario\n",
    "\n",
    "    sc_large = sc_base.copy()\n",
    "    # 50% larger floor area\n",
    "    sc_large['bldg_floor_area'] *= 1.5      \n",
    "    \n",
    "    # Trying to make this a heat pump favorable scenario, so leave base\n",
    "    # electric use the same.\n",
    "    \n",
    "    # Lower non-electric efficiencies, higher auxiliary use\n",
    "    if fuel_id != 1:\n",
    "        sc_large['exist_heat_effic'] = 0.77\n",
    "        sc_large['exist_kwh_per_mmbtu'] = 9.0\n",
    "    \n",
    "    scenarios.append(('Large Load', sc_large))\n",
    "    \n",
    "    # -------------------- Base Case with Low Base Electricity Use\n",
    "    # This only affects PCE communities, so only do it there.\n",
    "    util = sc_base['utility']\n",
    "    if (util is not None) and np.nan_to_num(util.PCE) > 0.0:\n",
    "    \n",
    "        sc_low_elec = sc_base.copy()\n",
    "\n",
    "        # 30% reduction in base electric use\n",
    "        sc_low_elec['elec_use_jan'] *= 0.7\n",
    "        sc_low_elec['elec_use_may'] *= 0.7\n",
    "\n",
    "        scenarios.append(('Low Elec', sc_low_elec))\n",
    "        \n",
    "        # ----------------- Base Case with No PCE\n",
    "        # Also done only in PCE communities\n",
    "        sc_no_pce = sc_base.copy()\n",
    "        sc_no_pce['pce_limit'] = 0.0\n",
    "        scenarios.append(('No PCE', sc_no_pce))\n",
    "\n",
    "    # ---------------------- Community Building, all kWh get PCE.\n",
    "    # Only true for communities that have not used their PCE allotment.\n",
    "    # Only run this scenario for communities with PCE.\n",
    "    \n",
    "    # Get small commercial electric utility\n",
    "    util = find_sm_comm_util(city)\n",
    "    if (util is not None) and np.nan_to_num(util.PCE) > 0.0:\n",
    "        \n",
    "        sc_commun = sc_base.copy()\n",
    "        sc_commun['utility'] =  util\n",
    "        \n",
    "        # 2,000 square foot building\n",
    "        sc_commun['bldg_floor_area'] = 2000.0\n",
    "\n",
    "        # Base electric use doesn't matter.\n",
    "\n",
    "        # Set infinite PCE limit. \n",
    "        sc_commun['pce_limit'] = np.inf\n",
    "        \n",
    "        scenarios.append(('Community Bldg', sc_commun))\n",
    "    \n",
    "    return scenarios"
   ]
  },
  {
   "cell_type": "code",
   "execution_count": 25,
   "metadata": {},
   "outputs": [],
   "source": [
    "#scs = scenarios(47, 4)    # Deering is ID = 47\n",
    "#scs"
   ]
  },
  {
   "cell_type": "code",
   "execution_count": 38,
   "metadata": {},
   "outputs": [
    {
     "name": "stdout",
     "output_type": "stream",
     "text": [
      "Adak\n",
      "Akhiok\n",
      "Akiachak\n",
      "Akiak\n",
      "Akutan\n",
      "Alakanuk\n",
      "Alatna\n",
      "Aleknagik\n",
      "Allakaket\n",
      "Ambler\n",
      "Anaktuvuk Pass - C\n",
      "Anaktuvuk Pass Res\n",
      "Anchor Point\n",
      "Anchorage\n",
      "Anderson\n",
      "Angoon\n",
      "Aniak\n",
      "Anvik\n",
      "Arctic Village\n",
      "Atka\n",
      "Atmautluak\n",
      "Atqasuk - Com\n",
      "Atqasuk - Res\n",
      "Auke Bay\n",
      "Barrow/Utqiavik\n",
      "Beaver\n",
      "Bethel\n",
      "Bettles\n",
      "Big Lake\n",
      "Birch Creek\n",
      "Bird Creek\n",
      "Brevig Mission\n",
      "Buckland\n",
      "Cantwell\n",
      "Central\n",
      "Chalkyitsik\n",
      "Chefornak\n",
      "Chenega\n",
      "Chevak\n",
      "Chickaloon\n",
      "Chicken\n",
      "Chignik\n",
      "Chignik Lake\n",
      "Chiniak\n",
      "Chistochina\n",
      "Chitina\n",
      "Chuathbaluk\n",
      "Chugiak\n",
      "Circle\n",
      "Clam Gulch\n",
      "Clark's Point\n",
      "Clear\n",
      "Coffman Cove\n",
      "Cold Bay\n",
      "Cooper Landing\n",
      "Copper Center\n",
      "Cordova\n",
      "Craig\n",
      "Crooked Creek\n",
      "Deering\n",
      "Delta Junction\n",
      "Denali Nat'l Park\n",
      "Dillingham\n",
      "Diomede\n",
      "Dot Lake\n",
      "Douglas\n",
      "Dutch Harbor\n",
      "Eagle\n",
      "Eagle River\n",
      "Eek\n",
      "Egegik\n",
      "Ekwok\n",
      "Elfin Cove\n",
      "Elim\n",
      "Emmonak\n",
      "English Bay/Nanwal\n",
      "Ester\n",
      "Evansville\n",
      "Eyak\n",
      "Fairbanks\n",
      "False Pass\n",
      "Faribanks - Chena Ridge\n",
      "Fort Yukon\n",
      "Gakona\n",
      "Galena\n",
      "Gambell\n",
      "Girdwood\n",
      "Glennallen\n",
      "Golovin\n",
      "Goodnews Bay\n",
      "Grayling\n",
      "Gulkana\n",
      "Gustavus\n",
      "Haines\n",
      "Healy\n",
      "Hollis\n",
      "Holy Cross\n",
      "Homer\n",
      "Hoonah\n",
      "Hooper Bay\n",
      "Hope\n",
      "Houston\n",
      "Hughes\n",
      "Huslia\n",
      "Hydaburg\n",
      "Hyder\n",
      "Igiugig\n",
      "Iliamna\n",
      "Indian\n",
      "Juneau, Airport\n",
      "Juneau, City of\n",
      "Kake\n",
      "Kaktovik - Com\n",
      "Kaktovik - Res\n",
      "Kaltag\n",
      "Karluk\n",
      "Kasaan\n",
      "Kasigluk\n",
      "Kasilof\n",
      "Kenai\n",
      "Kenny Lake\n",
      "Ketchikan\n",
      "Kiana\n",
      "King Cove\n",
      "King Salmon\n",
      "Kipnuk\n",
      "Kivalina\n",
      "Klawock\n",
      "Klukwan\n",
      "Kobuk\n",
      "Kodiak\n",
      "Kokhanok\n",
      "Koliganek\n",
      "Kongiganak\n",
      "Kotlik\n",
      "Kotzebue\n",
      "Koyuk\n",
      "Koyukuk\n",
      "Kwethluk\n",
      "Kwigillingok\n",
      "Larsen Bay\n",
      "Levelock\n",
      "Lime Village\n",
      "Lower Kalskag\n",
      "Manley Hot Springs\n",
      "Manokotak\n",
      "Marshall\n",
      "McCarthy\n",
      "McGrath\n",
      "Mekoryok\n",
      "Mentasta Lake\n",
      "Metlakatla\n",
      "Minchumina\n",
      "Minto\n",
      "Moose Pass\n",
      "Mountain Village\n",
      "Naknek\n",
      "Napakiak\n",
      "Napaskiak\n",
      "Naukati\n",
      "Nelson Lagoon\n",
      "Nenana\n",
      "New Stuyahok\n",
      "Newhalen\n",
      "Newtok\n",
      "Nightmute\n",
      "Nikiski\n",
      "Nikolaevsk\n",
      "Nikolai\n",
      "Nikolski\n",
      "Ninilchik\n",
      "Noatak\n",
      "Nome\n",
      "Nondalton\n",
      "Noorvik\n",
      "North Pole\n",
      "Northway\n",
      "Nuiqsut\n",
      "Nulato\n",
      "Nunapitchuk\n",
      "Nunum Iqua\n",
      "Old Harbor\n",
      "Oscarville\n",
      "Ouzinkie\n",
      "Palmer\n",
      "Paxson\n",
      "Pedro Bay\n",
      "Pelican\n",
      "Perryville\n",
      "Petersburg\n",
      "Pilot Point\n",
      "Pilot Station\n",
      "Pitkas Point\n",
      "Platinum\n",
      "Point Baker\n",
      "Point Hope Com\n",
      "Point Hope Res\n",
      "Point Lay\n",
      "Port Alexander\n",
      "Port Alsworth\n",
      "Port Graham\n",
      "Port Heiden\n",
      "Port Lions\n",
      "Port Protection\n",
      "Quinhagak\n",
      "Rampart\n",
      "Ruby\n",
      "Russian Mission\n",
      "Saint George\n",
      "Saint Mary's\n",
      "Saint Michael\n",
      "Saint Paul\n",
      "Salcha\n",
      "Sand Point\n",
      "Savoonga\n",
      "Saxman\n",
      "Scammon Bay\n",
      "Selawik\n",
      "Seldovia\n",
      "Seward\n",
      "Shageluk\n",
      "Shaktoolik\n",
      "Shishmaref\n",
      "Shungnak\n",
      "Sitka\n",
      "Skagway\n",
      "Skwentna\n",
      "Slana\n",
      "Sleetmute\n",
      "Soldotna\n",
      "South Naknek\n",
      "Stebbins\n",
      "Sterling\n",
      "Stevens Village\n",
      "Stony River\n",
      "Sutton\n",
      "Takotna\n",
      "Talkeetna\n",
      "Tanacross\n",
      "Tanana\n",
      "Tatitlek\n",
      "Tazlina\n",
      "Teller\n",
      "Tenakee Springs\n",
      "Tetlin\n",
      "Thorne Bay\n",
      "Togiak\n",
      "Tok\n",
      "Toksook Bay\n",
      "Tonsina\n",
      "Trapper Creek\n",
      "Tuluksak\n",
      "Tuntutuliak\n",
      "Tununak\n",
      "Twin Hills\n",
      "Tyonek\n",
      "Ugashik\n",
      "Unalakleet\n",
      "Unalaska\n",
      "Upper Kalskag\n",
      "Valdez\n",
      "Venetie\n",
      "Wainwright Com\n",
      "Wainwright Res\n",
      "Wales\n",
      "Ward Cove\n",
      "Wasilla\n",
      "Whale Pass\n",
      "White Mountain\n",
      "Whittier\n",
      "Willow\n",
      "Wiseman\n",
      "Wrangell\n",
      "Yakutat\n",
      "3795\n"
     ]
    }
   ],
   "source": [
    "sc_count = 0\n",
    "recs = []\n",
    "\n",
    "for city_name, city_id in lib.cities():\n",
    "    print(city_name)\n",
    "    city = lib.city_from_id(city_id)\n",
    "    \n",
    "    for fuel_id in (1, 2, 3, 4):\n",
    "        for scenario_name, inp in scenarios(city_id, fuel_id):\n",
    "\n",
    "            # If no utility for the scenario or no fuel price if non-electric, skip it\n",
    "            if (inp['utility'] is None) or (fuel_id != 1 and inp['exist_unit_fuel_cost']==0.0):\n",
    "                continue\n",
    "\n",
    "            rec = {\n",
    "                'City': city_name,\n",
    "                'Exist_Fuel_Type': fuel_id,\n",
    "                'Scenario': scenario_name,\n",
    "                'Census_Area': city.census_area,\n",
    "                'ANCSA_Region': city.ancsa_region,\n",
    "                'Util_Name': inp['utility'].Name,\n",
    "                'PCE': np.nan_to_num(inp['utility'].PCE),\n",
    "                'Sq_Ft': inp['bldg_floor_area'],\n",
    "                'Capital_Cost': inp['capital_cost'],\n",
    "                'Elec_Use_Jan': inp['elec_use_jan'],\n",
    "                'Elec_Use_May': inp['elec_use_may'],\n",
    "            }\n",
    "\n",
    "            md = hpmod.HP_model(**inp)\n",
    "            md.run()\n",
    "            smy = md.summary\n",
    "            rec.update(\n",
    "                 Design_Heat_Load = smy['design_heat_load'],\n",
    "                 Design_Heat_Temp = smy['design_heat_temp'],\n",
    "                 COP = smy['cop'],\n",
    "                 Max_HP_Cap_Reached = smy['max_hp_reached'],\n",
    "                 HP_Load_Frac = smy['hp_load_frac'],\n",
    "                 IRR = smy['irr'],\n",
    "                 NPV = smy['npv'],\n",
    "                 Fuel_Use_Chg = smy['fuel_use_chg'],\n",
    "                 Fuel_Price_Incremental = smy['fuel_price_incremental'],\n",
    "                 Elec_Use_Chg = smy['elec_use_chg'],\n",
    "                 Elec_Rate_Incremental = smy['elec_rate_incremental'],            \n",
    "            )\n",
    "            recs.append(rec)\n",
    "            sc_count += 1\n",
    "    #if city_name == 'Adak':\n",
    "    #    break\n",
    "print(sc_count)\n",
    "df_results = pd.DataFrame(recs)\n",
    "\n",
    "# Add categories of cost-effectiveness\n",
    "df_results['Econ'] = 'Close'\n",
    "df_results.loc[df_results.NPV < -2000, 'Econ'] =  'Not Economic'\n",
    "df_results.loc[df_results.NPV > 0, 'Econ'] =  'Economic'\n",
    "\n",
    "# Add Fuel Type Label\n",
    "fuel_id_to_label = dict(zip(lib.df_fuel.index, lib.df_fuel.desc))\n",
    "df_results['Exist_Fuel'] = df_results.Exist_Fuel_Type.map(fuel_id_to_label)\n",
    "\n",
    "df_results.to_pickle('results.pkl')"
   ]
  },
  {
   "cell_type": "code",
   "execution_count": 35,
   "metadata": {},
   "outputs": [
    {
     "data": {
      "text/plain": [
       "Index(['ANCSA_Region', 'COP', 'Capital_Cost', 'Census_Area', 'City',\n",
       "       'Design_Heat_Load', 'Design_Heat_Temp', 'Elec_Rate_Incremental',\n",
       "       'Elec_Use_Chg', 'Elec_Use_Jan', 'Elec_Use_May', 'Exist_Fuel_Type',\n",
       "       'Fuel_Price_Incremental', 'Fuel_Use_Chg', 'HP_Load_Frac', 'IRR',\n",
       "       'Max_HP_Cap_Reached', 'NPV', 'PCE', 'Scenario', 'Sq_Ft', 'Util_Name',\n",
       "       'Econ', 'Exist_Fuel'],\n",
       "      dtype='object')"
      ]
     },
     "execution_count": 35,
     "metadata": {},
     "output_type": "execute_result"
    }
   ],
   "source": [
    "df_results = pd.read_pickle('results.pkl')\n",
    "df_results.columns"
   ]
  },
  {
   "cell_type": "code",
   "execution_count": 102,
   "metadata": {},
   "outputs": [],
   "source": [
    "#sh(df_results)\n",
    "df_results.to_excel('results.xlsx')"
   ]
  },
  {
   "cell_type": "code",
   "execution_count": 20,
   "metadata": {},
   "outputs": [
    {
     "data": {
      "text/plain": [
       "<matplotlib.axes._subplots.AxesSubplot at 0x7fafe5eb7a20>"
      ]
     },
     "execution_count": 20,
     "metadata": {},
     "output_type": "execute_result"
    },
    {
     "data": {
      "image/png": "[encoded data removed]",
      "text/plain": [
       "<Figure size 432x288 with 1 Axes>"
      ]
     },
     "metadata": {
      "needs_background": "light"
     },
     "output_type": "display_data"
    }
   ],
   "source": [
    "df_results.query('Exist_Fuel_Type == 4').NPV.hist(bins=30)\n",
    "#xlim(-10000, 10000)"
   ]
  },
  {
   "cell_type": "code",
   "execution_count": 21,
   "metadata": {},
   "outputs": [],
   "source": [
    "# Make a Break-even rule for use in multiple charts\n",
    "rule_data = pd.DataFrame([{\"ThresholdValue\": 0, \"Threshold\": \"breakeven\"}])\n",
    "rule = alt.Chart(rule_data).mark_rule(color='green').encode(\n",
    "    x=alt.X('ThresholdValue', axis=alt.Axis(title='Net Present Value')),\n",
    "    size=alt.value(2)\n",
    ")"
   ]
  },
  {
   "cell_type": "code",
   "execution_count": 22,
   "metadata": {},
   "outputs": [],
   "source": [
    "# Function to limit values in a Pandas Series to +/- some limit\n",
    "def limit_vals(a_series, limit_value):\n",
    "    \"\"\"Returns an array that limits the values in the Pandas Series\n",
    "    'a_sereies' to +/- 'limit_value'.\n",
    "    \"\"\"\n",
    "    return np.where(\n",
    "        a_series.abs() < limit_value, \n",
    "        a_series,\n",
    "        limit_value * np.sign(a_series)\n",
    "    )"
   ]
  },
  {
   "cell_type": "code",
   "execution_count": 23,
   "metadata": {},
   "outputs": [
    {
     "data": {
      "application/vnd.vegalite.v2+json": {
       "$schema": "https://vega.github.io/schema/vega-lite/v2.6.0.json",
       "config": {
        "view": {
         "height": 300,
         "width": 400
        }
       },
       "layer": [
        {
         "data": {
          "format": {
           "type": "json"
          },
          "url": "altair-data-2120a3aa2f1d0cc9fb04e27eb9867a4c.json"
         },
         "encoding": {
          "size": {
           "value": 2
          },
          "x": {
           "axis": {
            "title": "Net Present Value"
           },
           "field": "ThresholdValue",
           "type": "quantitative"
          }
         },
         "mark": {
          "color": "green",
          "type": "rule"
         }
        },
        {
         "data": {
          "format": {
           "type": "json"
          },
          "url": "altair-data-2386015235fdf4371a2a53085fc8d81d.json"
         },
         "encoding": {
          "size": {
           "aggregate": "count",
           "legend": null,
           "type": "quantitative"
          },
          "x": {
           "bin": {
            "maxbins": 60
           },
           "field": "npv_limited",
           "scale": {
            "domain": [
             -50000,
             50000
            ]
           },
           "type": "quantitative"
          },
          "y": {
           "axis": {
            "title": "Existing Fuel Type"
           },
           "field": "Exist_Fuel",
           "type": "nominal"
          }
         },
         "height": 120,
         "mark": "point"
        }
       ]
      },
      "image/png": "[encoded data removed]",
      "text/plain": [
       "<VegaLite 2 object>\n",
       "\n",
       "If you see this message, it means the renderer has not been properly enabled\n",
       "for the frontend that you are using. For more information, see\n",
       "https://altair-viz.github.io/user_guide/troubleshooting.html\n"
      ]
     },
     "execution_count": 23,
     "metadata": {},
     "output_type": "execute_result"
    }
   ],
   "source": [
    "limit = 50000\n",
    "df_results['npv_limited'] = limit_vals(df_results.NPV, limit)\n",
    "main = alt.Chart(df_results, height=120).mark_point().encode(\n",
    "    y=alt.Y('Exist_Fuel', axis=alt.Axis(title='Existing Fuel Type')),\n",
    "    x=alt.X('npv_limited', bin=alt.Bin(maxbins=60), scale=alt.Scale(domain=(-limit, limit))),\n",
    "    size=alt.Size('count()', legend=None)\n",
    ")\n",
    "rule + main"
   ]
  },
  {
   "cell_type": "code",
   "execution_count": 38,
   "metadata": {},
   "outputs": [
    {
     "data": {
      "application/vnd.vegalite.v2+json": {
       "$schema": "https://vega.github.io/schema/vega-lite/v2.6.0.json",
       "config": {
        "view": {
         "height": 300,
         "width": 400
        }
       },
       "data": {
        "format": {
         "type": "json"
        },
        "url": "altair-data-b984adf6e098293a1eb6d460502c41d7.json"
       },
       "encoding": {
        "color": {
         "field": "Econ",
         "scale": {
          "domain": [
           "Economic",
           "Close",
           "Not Economic"
          ],
          "range": [
           "green",
           "#FFBB00",
           "red"
          ]
         },
         "type": "nominal"
        },
        "order": {
         "field": "econ_order",
         "type": "quantitative"
        },
        "x": {
         "aggregate": "count",
         "axis": {
          "title": "Fraction of Cases Modeled"
         },
         "field": "Econ",
         "stack": "normalize",
         "type": "nominal"
        },
        "y": {
         "axis": {
          "title": "Existing Fuel Type"
         },
         "field": "Exist_Fuel",
         "type": "nominal"
        }
       },
       "mark": "bar"
      },
      "image/png": "[encoded data removed]",
      "text/plain": [
       "<VegaLite 2 object>\n",
       "\n",
       "If you see this message, it means the renderer has not been properly enabled\n",
       "for the frontend that you are using. For more information, see\n",
       "https://altair-viz.github.io/user_guide/troubleshooting.html\n"
      ]
     },
     "execution_count": 38,
     "metadata": {},
     "output_type": "execute_result"
    }
   ],
   "source": [
    "econ_color_scale = alt.Scale(\n",
    "            domain=['Economic', 'Close', 'Not Economic'],\n",
    "            range=['green', '#FFBB00', 'red'])\n",
    "\n",
    "# Make an 'econ_order' field to sort the stacking of the bars\n",
    "econ_order = {'Economic': 1, 'Close': 2, 'Not Economic': 3}\n",
    "df_results['econ_order'] = df_results.Econ.map(econ_order)\n",
    "\n",
    "cht = alt.Chart(df_results).mark_bar().encode(\n",
    "    x=alt.X('count(Econ)', stack='normalize', axis=alt.Axis(title='Fraction of Cases Modeled')),\n",
    "    y=alt.Y('Exist_Fuel', axis=alt.Axis(title='Existing Fuel Type')),\n",
    "    color=alt.Color('Econ', scale=econ_color_scale),\n",
    "    order='econ_order',\n",
    ")\n",
    "cht.save('images/by_fuel.png', scale_factor=1.5)\n",
    "cht"
   ]
  },
  {
   "cell_type": "code",
   "execution_count": 43,
   "metadata": {},
   "outputs": [
    {
     "data": {
      "text/html": [
       "<div>\n",
       "<style scoped>\n",
       "    .dataframe tbody tr th:only-of-type {\n",
       "        vertical-align: middle;\n",
       "    }\n",
       "\n",
       "    .dataframe tbody tr th {\n",
       "        vertical-align: top;\n",
       "    }\n",
       "\n",
       "    .dataframe thead th {\n",
       "        text-align: right;\n",
       "    }\n",
       "</style>\n",
       "<table border=\"1\" class=\"dataframe\">\n",
       "  <thead>\n",
       "    <tr style=\"text-align: right;\">\n",
       "      <th>Exist_Fuel</th>\n",
       "      <th>#1 Oil</th>\n",
       "      <th>Electricity</th>\n",
       "      <th>Natural Gas</th>\n",
       "      <th>Propane</th>\n",
       "      <th>All</th>\n",
       "    </tr>\n",
       "    <tr>\n",
       "      <th>Econ</th>\n",
       "      <th></th>\n",
       "      <th></th>\n",
       "      <th></th>\n",
       "      <th></th>\n",
       "      <th></th>\n",
       "    </tr>\n",
       "  </thead>\n",
       "  <tbody>\n",
       "    <tr>\n",
       "      <th>Close</th>\n",
       "      <td>181.0</td>\n",
       "      <td>2.0</td>\n",
       "      <td>2.0</td>\n",
       "      <td>28.0</td>\n",
       "      <td>213</td>\n",
       "    </tr>\n",
       "    <tr>\n",
       "      <th>Economic</th>\n",
       "      <td>484.0</td>\n",
       "      <td>1379.0</td>\n",
       "      <td>NaN</td>\n",
       "      <td>924.0</td>\n",
       "      <td>2787</td>\n",
       "    </tr>\n",
       "    <tr>\n",
       "      <th>Not Economic</th>\n",
       "      <td>677.0</td>\n",
       "      <td>NaN</td>\n",
       "      <td>79.0</td>\n",
       "      <td>39.0</td>\n",
       "      <td>795</td>\n",
       "    </tr>\n",
       "    <tr>\n",
       "      <th>All</th>\n",
       "      <td>1342.0</td>\n",
       "      <td>1381.0</td>\n",
       "      <td>81.0</td>\n",
       "      <td>991.0</td>\n",
       "      <td>3795</td>\n",
       "    </tr>\n",
       "  </tbody>\n",
       "</table>\n",
       "</div>"
      ],
      "text/plain": [
       "Exist_Fuel    #1 Oil  Electricity  Natural Gas  Propane   All\n",
       "Econ                                                         \n",
       "Close          181.0          2.0          2.0     28.0   213\n",
       "Economic       484.0       1379.0          NaN    924.0  2787\n",
       "Not Economic   677.0          NaN         79.0     39.0   795\n",
       "All           1342.0       1381.0         81.0    991.0  3795"
      ]
     },
     "execution_count": 43,
     "metadata": {},
     "output_type": "execute_result"
    }
   ],
   "source": [
    "pd.pivot_table(\n",
    "    df_results, \n",
    "    values='City', \n",
    "    index='Econ', \n",
    "    columns='Exist_Fuel', \n",
    "    aggfunc='count',\n",
    "    margins=True\n",
    ")"
   ]
  },
  {
   "cell_type": "code",
   "execution_count": 44,
   "metadata": {},
   "outputs": [
    {
     "data": {
      "text/html": [
       "<div>\n",
       "<style scoped>\n",
       "    .dataframe tbody tr th:only-of-type {\n",
       "        vertical-align: middle;\n",
       "    }\n",
       "\n",
       "    .dataframe tbody tr th {\n",
       "        vertical-align: top;\n",
       "    }\n",
       "\n",
       "    .dataframe thead th {\n",
       "        text-align: right;\n",
       "    }\n",
       "</style>\n",
       "<table border=\"1\" class=\"dataframe\">\n",
       "  <thead>\n",
       "    <tr style=\"text-align: right;\">\n",
       "      <th></th>\n",
       "      <th>ANCSA_Region</th>\n",
       "      <th>COP</th>\n",
       "      <th>Capital_Cost</th>\n",
       "      <th>Census_Area</th>\n",
       "      <th>City</th>\n",
       "      <th>Design_Heat_Load</th>\n",
       "      <th>Design_Heat_Temp</th>\n",
       "      <th>Elec_Rate_Incremental</th>\n",
       "      <th>Elec_Use_Chg</th>\n",
       "      <th>Elec_Use_Jan</th>\n",
       "      <th>...</th>\n",
       "      <th>IRR</th>\n",
       "      <th>Max_HP_Cap_Reached</th>\n",
       "      <th>NPV</th>\n",
       "      <th>PCE</th>\n",
       "      <th>Scenario</th>\n",
       "      <th>Sq_Ft</th>\n",
       "      <th>Util_Name</th>\n",
       "      <th>Econ</th>\n",
       "      <th>Exist_Fuel</th>\n",
       "      <th>econ_order</th>\n",
       "    </tr>\n",
       "  </thead>\n",
       "  <tbody>\n",
       "    <tr>\n",
       "      <th>355</th>\n",
       "      <td>Arctic Slope Regional Corporation</td>\n",
       "      <td>2.674833</td>\n",
       "      <td>5690.494112</td>\n",
       "      <td>North Slope Borough</td>\n",
       "      <td>Barrow/Utqiavik</td>\n",
       "      <td>19438.467048</td>\n",
       "      <td>-34.06</td>\n",
       "      <td>0.1225</td>\n",
       "      <td>-3463.681017</td>\n",
       "      <td>539.454089</td>\n",
       "      <td>...</td>\n",
       "      <td>0.023163</td>\n",
       "      <td>False</td>\n",
       "      <td>-972.641660</td>\n",
       "      <td>0.0</td>\n",
       "      <td>Small Load</td>\n",
       "      <td>698.4</td>\n",
       "      <td>Barrow Utilities &amp; Electric-elec - Residential</td>\n",
       "      <td>Close</td>\n",
       "      <td>Electricity</td>\n",
       "      <td>2</td>\n",
       "    </tr>\n",
       "    <tr>\n",
       "      <th>2164</th>\n",
       "      <td>Sealaska Corporation</td>\n",
       "      <td>3.234719</td>\n",
       "      <td>5059.644256</td>\n",
       "      <td>Prince of Wales-Hyder Census Area</td>\n",
       "      <td>Metlakatla</td>\n",
       "      <td>8061.684624</td>\n",
       "      <td>26.06</td>\n",
       "      <td>0.0925</td>\n",
       "      <td>-3501.975564</td>\n",
       "      <td>539.454089</td>\n",
       "      <td>...</td>\n",
       "      <td>0.002882</td>\n",
       "      <td>False</td>\n",
       "      <td>-1457.797615</td>\n",
       "      <td>0.0</td>\n",
       "      <td>Small Load</td>\n",
       "      <td>747.6</td>\n",
       "      <td>Metlakatla Power &amp; Light - Residential</td>\n",
       "      <td>Close</td>\n",
       "      <td>Electricity</td>\n",
       "      <td>2</td>\n",
       "    </tr>\n",
       "  </tbody>\n",
       "</table>\n",
       "<p>2 rows × 25 columns</p>\n",
       "</div>"
      ],
      "text/plain": [
       "                           ANCSA_Region       COP  Capital_Cost  \\\n",
       "355   Arctic Slope Regional Corporation  2.674833   5690.494112   \n",
       "2164               Sealaska Corporation  3.234719   5059.644256   \n",
       "\n",
       "                            Census_Area             City  Design_Heat_Load  \\\n",
       "355                 North Slope Borough  Barrow/Utqiavik      19438.467048   \n",
       "2164  Prince of Wales-Hyder Census Area       Metlakatla       8061.684624   \n",
       "\n",
       "      Design_Heat_Temp  Elec_Rate_Incremental  Elec_Use_Chg  Elec_Use_Jan  \\\n",
       "355             -34.06                 0.1225  -3463.681017    539.454089   \n",
       "2164             26.06                 0.0925  -3501.975564    539.454089   \n",
       "\n",
       "        ...           IRR  Max_HP_Cap_Reached          NPV  PCE    Scenario  \\\n",
       "355     ...      0.023163               False  -972.641660  0.0  Small Load   \n",
       "2164    ...      0.002882               False -1457.797615  0.0  Small Load   \n",
       "\n",
       "      Sq_Ft                                       Util_Name   Econ  \\\n",
       "355   698.4  Barrow Utilities & Electric-elec - Residential  Close   \n",
       "2164  747.6          Metlakatla Power & Light - Residential  Close   \n",
       "\n",
       "       Exist_Fuel econ_order  \n",
       "355   Electricity          2  \n",
       "2164  Electricity          2  \n",
       "\n",
       "[2 rows x 25 columns]"
      ]
     },
     "execution_count": 44,
     "metadata": {},
     "output_type": "execute_result"
    }
   ],
   "source": [
    "df_results.query('Exist_Fuel == \"Electricity\" and Econ == \"Close\"')"
   ]
  },
  {
   "cell_type": "code",
   "execution_count": 45,
   "metadata": {},
   "outputs": [
    {
     "data": {
      "text/html": [
       "<div>\n",
       "<style scoped>\n",
       "    .dataframe tbody tr th:only-of-type {\n",
       "        vertical-align: middle;\n",
       "    }\n",
       "\n",
       "    .dataframe tbody tr th {\n",
       "        vertical-align: top;\n",
       "    }\n",
       "\n",
       "    .dataframe thead th {\n",
       "        text-align: right;\n",
       "    }\n",
       "</style>\n",
       "<table border=\"1\" class=\"dataframe\">\n",
       "  <thead>\n",
       "    <tr style=\"text-align: right;\">\n",
       "      <th></th>\n",
       "      <th>ANCSA_Region</th>\n",
       "      <th>COP</th>\n",
       "      <th>Capital_Cost</th>\n",
       "      <th>Census_Area</th>\n",
       "      <th>City</th>\n",
       "      <th>Design_Heat_Load</th>\n",
       "      <th>Design_Heat_Temp</th>\n",
       "      <th>Elec_Rate_Incremental</th>\n",
       "      <th>Elec_Use_Chg</th>\n",
       "      <th>Elec_Use_Jan</th>\n",
       "      <th>...</th>\n",
       "      <th>IRR</th>\n",
       "      <th>Max_HP_Cap_Reached</th>\n",
       "      <th>NPV</th>\n",
       "      <th>PCE</th>\n",
       "      <th>Scenario</th>\n",
       "      <th>Sq_Ft</th>\n",
       "      <th>Util_Name</th>\n",
       "      <th>Econ</th>\n",
       "      <th>Exist_Fuel</th>\n",
       "      <th>econ_order</th>\n",
       "    </tr>\n",
       "  </thead>\n",
       "  <tbody>\n",
       "    <tr>\n",
       "      <th>1109</th>\n",
       "      <td>Doyon</td>\n",
       "      <td>2.822556</td>\n",
       "      <td>4498.730602</td>\n",
       "      <td>Fairbanks North Star Borough</td>\n",
       "      <td>Fairbanks</td>\n",
       "      <td>58868.1324</td>\n",
       "      <td>-22.0</td>\n",
       "      <td>0.227998</td>\n",
       "      <td>4960.483389</td>\n",
       "      <td>674.317611</td>\n",
       "      <td>...</td>\n",
       "      <td>-0.000798</td>\n",
       "      <td>True</td>\n",
       "      <td>-1509.3601</td>\n",
       "      <td>0.0</td>\n",
       "      <td>Large Load</td>\n",
       "      <td>3102.0</td>\n",
       "      <td>Golden Valley Electric - Residential</td>\n",
       "      <td>Close</td>\n",
       "      <td>Natural Gas</td>\n",
       "      <td>2</td>\n",
       "    </tr>\n",
       "    <tr>\n",
       "      <th>1139</th>\n",
       "      <td>Doyon</td>\n",
       "      <td>2.822556</td>\n",
       "      <td>4498.730602</td>\n",
       "      <td>Fairbanks North Star Borough</td>\n",
       "      <td>Faribanks - Chena Ridge</td>\n",
       "      <td>58868.1324</td>\n",
       "      <td>-22.0</td>\n",
       "      <td>0.227998</td>\n",
       "      <td>4960.483389</td>\n",
       "      <td>674.317611</td>\n",
       "      <td>...</td>\n",
       "      <td>-0.000798</td>\n",
       "      <td>True</td>\n",
       "      <td>-1509.3601</td>\n",
       "      <td>0.0</td>\n",
       "      <td>Large Load</td>\n",
       "      <td>3102.0</td>\n",
       "      <td>Golden Valley Electric - Residential</td>\n",
       "      <td>Close</td>\n",
       "      <td>Natural Gas</td>\n",
       "      <td>2</td>\n",
       "    </tr>\n",
       "  </tbody>\n",
       "</table>\n",
       "<p>2 rows × 25 columns</p>\n",
       "</div>"
      ],
      "text/plain": [
       "     ANCSA_Region       COP  Capital_Cost                   Census_Area  \\\n",
       "1109        Doyon  2.822556   4498.730602  Fairbanks North Star Borough   \n",
       "1139        Doyon  2.822556   4498.730602  Fairbanks North Star Borough   \n",
       "\n",
       "                         City  Design_Heat_Load  Design_Heat_Temp  \\\n",
       "1109                Fairbanks        58868.1324             -22.0   \n",
       "1139  Faribanks - Chena Ridge        58868.1324             -22.0   \n",
       "\n",
       "      Elec_Rate_Incremental  Elec_Use_Chg  Elec_Use_Jan    ...           IRR  \\\n",
       "1109               0.227998   4960.483389    674.317611    ...     -0.000798   \n",
       "1139               0.227998   4960.483389    674.317611    ...     -0.000798   \n",
       "\n",
       "      Max_HP_Cap_Reached        NPV  PCE    Scenario   Sq_Ft  \\\n",
       "1109                True -1509.3601  0.0  Large Load  3102.0   \n",
       "1139                True -1509.3601  0.0  Large Load  3102.0   \n",
       "\n",
       "                                 Util_Name   Econ   Exist_Fuel econ_order  \n",
       "1109  Golden Valley Electric - Residential  Close  Natural Gas          2  \n",
       "1139  Golden Valley Electric - Residential  Close  Natural Gas          2  \n",
       "\n",
       "[2 rows x 25 columns]"
      ]
     },
     "execution_count": 45,
     "metadata": {},
     "output_type": "execute_result"
    }
   ],
   "source": [
    "df_results.query('Exist_Fuel == \"Natural Gas\" and Econ == \"Close\"')"
   ]
  },
  {
   "cell_type": "code",
   "execution_count": 46,
   "metadata": {},
   "outputs": [
    {
     "data": {
      "text/plain": [
       "array(['Anchor Point', 'Anchorage', 'Barrow/Utqiavik', 'Big Lake',\n",
       "       'Bird Creek', 'Chugiak', 'Clam Gulch', 'Cooper Landing',\n",
       "       'Eagle River', 'Fairbanks', 'Faribanks - Chena Ridge', 'Girdwood',\n",
       "       'Homer', 'Hope', 'Houston', 'Indian', 'Kasilof', 'Kenai',\n",
       "       'Moose Pass', 'Nikiski', 'Nikolaevsk', 'Ninilchik', 'Palmer',\n",
       "       'Soldotna', 'Sterling', 'Wasilla', 'Whittier'], dtype=object)"
      ]
     },
     "execution_count": 46,
     "metadata": {},
     "output_type": "execute_result"
    }
   ],
   "source": [
    "df_results.query('Exist_Fuel == \"Natural Gas\"')['City'].unique()"
   ]
  },
  {
   "cell_type": "code",
   "execution_count": 25,
   "metadata": {},
   "outputs": [],
   "source": [
    "main = alt.Chart(df_results).mark_bar().encode(\n",
    "    x=alt.X('NPV', bin=alt.Bin(maxbins=60), axis=alt.Axis(title='Net Present Value')),\n",
    "    y='count()',\n",
    "    row='Exist_Fuel',\n",
    ")\n",
    "#(main + rule).facet(\n",
    "#    column='Exist_Fuel'\n",
    "#)\n",
    "\n",
    "# Uncomment below to see chart, but not great\n",
    "# main"
   ]
  },
  {
   "cell_type": "code",
   "execution_count": 26,
   "metadata": {},
   "outputs": [
    {
     "data": {
      "application/vnd.vegalite.v2+json": {
       "$schema": "https://vega.github.io/schema/vega-lite/v2.6.0.json",
       "config": {
        "view": {
         "height": 300,
         "width": 400
        }
       },
       "layer": [
        {
         "data": {
          "format": {
           "type": "json"
          },
          "url": "altair-data-2120a3aa2f1d0cc9fb04e27eb9867a4c.json"
         },
         "encoding": {
          "size": {
           "value": 2
          },
          "x": {
           "axis": {
            "title": "Net Present Value"
           },
           "field": "ThresholdValue",
           "type": "quantitative"
          }
         },
         "mark": {
          "color": "green",
          "type": "rule"
         }
        },
        {
         "data": {
          "format": {
           "type": "json"
          },
          "url": "altair-data-36b714136668bb6747a1c1f9aae982f1.json"
         },
         "encoding": {
          "size": {
           "aggregate": "count",
           "legend": null,
           "type": "quantitative"
          },
          "x": {
           "bin": {
            "maxbins": 60
           },
           "field": "NPV",
           "type": "quantitative"
          },
          "y": {
           "field": "Exist_Fuel",
           "type": "nominal"
          }
         },
         "mark": "point"
        }
       ]
      },
      "image/png": "[encoded data removed]",
      "text/plain": [
       "<VegaLite 2 object>\n",
       "\n",
       "If you see this message, it means the renderer has not been properly enabled\n",
       "for the frontend that you are using. For more information, see\n",
       "https://altair-viz.github.io/user_guide/troubleshooting.html\n"
      ]
     },
     "execution_count": 26,
     "metadata": {},
     "output_type": "execute_result"
    }
   ],
   "source": [
    "main = alt.Chart(df_results.query('Exist_Fuel_Type == 2')).mark_point().encode(\n",
    "    y='Exist_Fuel',\n",
    "    x=alt.X('NPV', bin=alt.Bin(maxbins=60)),\n",
    "    size=alt.Size('count()', legend=None)\n",
    ")\n",
    "rule + main"
   ]
  },
  {
   "cell_type": "code",
   "execution_count": 27,
   "metadata": {},
   "outputs": [
    {
     "data": {
      "application/vnd.vegalite.v2+json": {
       "$schema": "https://vega.github.io/schema/vega-lite/v2.6.0.json",
       "config": {
        "view": {
         "height": 300,
         "width": 400
        }
       },
       "layer": [
        {
         "data": {
          "format": {
           "type": "json"
          },
          "url": "altair-data-2120a3aa2f1d0cc9fb04e27eb9867a4c.json"
         },
         "encoding": {
          "size": {
           "value": 2
          },
          "x": {
           "axis": {
            "title": "Net Present Value"
           },
           "field": "ThresholdValue",
           "type": "quantitative"
          }
         },
         "mark": {
          "color": "green",
          "type": "rule"
         }
        },
        {
         "data": {
          "format": {
           "type": "json"
          },
          "url": "altair-data-490c910e4e7ae0ee5e3a6900205ac012.json"
         },
         "encoding": {
          "size": {
           "aggregate": "count",
           "legend": null,
           "type": "quantitative"
          },
          "x": {
           "bin": {
            "maxbins": 60
           },
           "field": "NPV",
           "type": "quantitative"
          },
          "y": {
           "field": "Scenario",
           "type": "nominal"
          }
         },
         "mark": "point"
        }
       ]
      },
      "image/png": "[encoded data removed]",
      "text/plain": [
       "<VegaLite 2 object>\n",
       "\n",
       "If you see this message, it means the renderer has not been properly enabled\n",
       "for the frontend that you are using. For more information, see\n",
       "https://altair-viz.github.io/user_guide/troubleshooting.html\n"
      ]
     },
     "execution_count": 27,
     "metadata": {},
     "output_type": "execute_result"
    }
   ],
   "source": [
    "main = alt.Chart(df_results.query('Exist_Fuel_Type == 4')).mark_point().encode(\n",
    "    y='Scenario',\n",
    "    x=alt.X('NPV', bin=alt.Bin(maxbins=60)),\n",
    "    size=alt.Size('count()', legend=None)\n",
    ")\n",
    "rule + main"
   ]
  },
  {
   "cell_type": "code",
   "execution_count": 48,
   "metadata": {},
   "outputs": [
    {
     "data": {
      "application/vnd.vegalite.v2+json": {
       "$schema": "https://vega.github.io/schema/vega-lite/v2.6.0.json",
       "config": {
        "view": {
         "height": 300,
         "width": 400
        }
       },
       "data": {
        "format": {
         "type": "json"
        },
        "url": "altair-data-f46e02a22ccd89f6e39a3c3c0fb91ab1.json"
       },
       "encoding": {
        "color": {
         "field": "Econ",
         "scale": {
          "domain": [
           "Economic",
           "Close",
           "Not Economic"
          ],
          "range": [
           "green",
           "#FFBB00",
           "red"
          ]
         },
         "type": "nominal"
        },
        "order": {
         "field": "econ_order",
         "type": "quantitative"
        },
        "x": {
         "aggregate": "count",
         "axis": {
          "title": "Fraction of Cases Modeled"
         },
         "field": "Econ",
         "stack": "normalize",
         "type": "nominal"
        },
        "y": {
         "field": "Scenario",
         "type": "nominal"
        }
       },
       "mark": "bar"
      },
      "image/png": "[encoded data removed]",
      "text/plain": [
       "<VegaLite 2 object>\n",
       "\n",
       "If you see this message, it means the renderer has not been properly enabled\n",
       "for the frontend that you are using. For more information, see\n",
       "https://altair-viz.github.io/user_guide/troubleshooting.html\n"
      ]
     },
     "execution_count": 48,
     "metadata": {},
     "output_type": "execute_result"
    }
   ],
   "source": [
    "# Some data subsets, oil only\n",
    "df_oil = df_results.query('Exist_Fuel_Type == 4').copy()\n",
    "df_oil_pce = df_results.query('Exist_Fuel_Type == 4 and PCE > 0.0')\n",
    "df_oil_no_pce = df_results.query('Exist_Fuel_Type == 4 and PCE == 0.0')\n",
    "\n",
    "# PCE Communities\n",
    "cht = alt.Chart(df_oil_pce).mark_bar().encode(\n",
    "    x=alt.X('count(Econ)', stack='normalize', axis=alt.Axis(title='Fraction of Cases Modeled')),\n",
    "    y='Scenario',\n",
    "    color=alt.Color('Econ', scale=econ_color_scale),\n",
    "    order='econ_order',\n",
    ")\n",
    "cht.save('images/pce_scenarios.png', scale_factor=1.5)\n",
    "cht"
   ]
  },
  {
   "cell_type": "code",
   "execution_count": 47,
   "metadata": {},
   "outputs": [
    {
     "data": {
      "application/vnd.vegalite.v2+json": {
       "$schema": "https://vega.github.io/schema/vega-lite/v2.6.0.json",
       "config": {
        "view": {
         "height": 300,
         "width": 400
        }
       },
       "data": {
        "format": {
         "type": "json"
        },
        "url": "altair-data-4ef51561809bf644ec5ec89db10cd1d4.json"
       },
       "encoding": {
        "color": {
         "field": "Econ",
         "scale": {
          "domain": [
           "Economic",
           "Close",
           "Not Economic"
          ],
          "range": [
           "green",
           "#FFBB00",
           "red"
          ]
         },
         "type": "nominal"
        },
        "order": {
         "field": "econ_order",
         "type": "quantitative"
        },
        "x": {
         "aggregate": "count",
         "axis": {
          "title": "Fraction of Cases Modeled"
         },
         "field": "Econ",
         "stack": "normalize",
         "type": "nominal"
        },
        "y": {
         "field": "Scenario",
         "type": "nominal"
        }
       },
       "mark": "bar"
      },
      "image/png": "[encoded data removed]",
      "text/plain": [
       "<VegaLite 2 object>\n",
       "\n",
       "If you see this message, it means the renderer has not been properly enabled\n",
       "for the frontend that you are using. For more information, see\n",
       "https://altair-viz.github.io/user_guide/troubleshooting.html\n"
      ]
     },
     "execution_count": 47,
     "metadata": {},
     "output_type": "execute_result"
    }
   ],
   "source": [
    "# Non-PCE Communities\n",
    "cht = alt.Chart(df_oil_no_pce).mark_bar().encode(\n",
    "    x=alt.X('count(Econ)', stack='normalize', axis=alt.Axis(title='Fraction of Cases Modeled')),\n",
    "    y='Scenario',\n",
    "    color=alt.Color('Econ', scale=econ_color_scale),\n",
    "    order='econ_order',\n",
    ")\n",
    "cht.save('images/non_pce_scenarios.png', scale_factor=1.5)\n",
    "cht"
   ]
  },
  {
   "cell_type": "code",
   "execution_count": 49,
   "metadata": {},
   "outputs": [
    {
     "data": {
      "application/vnd.vegalite.v2+json": {
       "$schema": "https://vega.github.io/schema/vega-lite/v2.6.0.json",
       "config": {
        "view": {
         "height": 300,
         "width": 400
        }
       },
       "data": {
        "format": {
         "type": "json"
        },
        "url": "altair-data-8193be2cacc9dd994d065c8dc8a7c4d0.json"
       },
       "encoding": {
        "color": {
         "field": "Econ",
         "scale": {
          "domain": [
           "Economic",
           "Close",
           "Not Economic"
          ],
          "range": [
           "green",
           "#FFBB00",
           "red"
          ]
         },
         "type": "nominal"
        },
        "order": {
         "field": "econ_order",
         "type": "quantitative"
        },
        "x": {
         "aggregate": "count",
         "axis": {
          "title": "Fraction of Cases Modeled"
         },
         "field": "Econ",
         "stack": "normalize",
         "type": "nominal"
        },
        "y": {
         "axis": {
          "title": "Census Area"
         },
         "field": "Census_Area",
         "type": "nominal"
        }
       },
       "mark": "bar"
      },
      "image/png": "[encoded data removed]",
      "text/plain": [
       "<VegaLite 2 object>\n",
       "\n",
       "If you see this message, it means the renderer has not been properly enabled\n",
       "for the frontend that you are using. For more information, see\n",
       "https://altair-viz.github.io/user_guide/troubleshooting.html\n"
      ]
     },
     "execution_count": 49,
     "metadata": {},
     "output_type": "execute_result"
    }
   ],
   "source": [
    "# Econ split by Census Area, oil only\n",
    "cht = alt.Chart(df_oil).mark_bar().encode(\n",
    "    x=alt.X('count(Econ)', stack='normalize', axis=alt.Axis(title='Fraction of Cases Modeled')),\n",
    "    y=alt.Y('Census_Area', axis=alt.Axis(title='Census Area')),\n",
    "    color=alt.Color('Econ', scale=econ_color_scale),\n",
    "    order='econ_order',\n",
    ")\n",
    "cht.save('images/by_census_area.png', scale_factor=1.5)\n",
    "cht"
   ]
  },
  {
   "cell_type": "code",
   "execution_count": 56,
   "metadata": {},
   "outputs": [
    {
     "data": {
      "text/html": [
       "<div>\n",
       "<style scoped>\n",
       "    .dataframe tbody tr th:only-of-type {\n",
       "        vertical-align: middle;\n",
       "    }\n",
       "\n",
       "    .dataframe tbody tr th {\n",
       "        vertical-align: top;\n",
       "    }\n",
       "\n",
       "    .dataframe thead th {\n",
       "        text-align: right;\n",
       "    }\n",
       "</style>\n",
       "<table border=\"1\" class=\"dataframe\">\n",
       "  <thead>\n",
       "    <tr style=\"text-align: right;\">\n",
       "      <th></th>\n",
       "      <th>Elec_Rate_Incremental</th>\n",
       "      <th>Fuel_Price_Incremental</th>\n",
       "      <th>COP</th>\n",
       "      <th>PCE</th>\n",
       "      <th>Elec_Use_Jan</th>\n",
       "    </tr>\n",
       "    <tr>\n",
       "      <th>Census_Area</th>\n",
       "      <th></th>\n",
       "      <th></th>\n",
       "      <th></th>\n",
       "      <th></th>\n",
       "      <th></th>\n",
       "    </tr>\n",
       "  </thead>\n",
       "  <tbody>\n",
       "    <tr>\n",
       "      <th>Aleutians East Borough</th>\n",
       "      <td>0.482773</td>\n",
       "      <td>3.779867</td>\n",
       "      <td>3.036097</td>\n",
       "      <td>0.344467</td>\n",
       "      <td>456.616046</td>\n",
       "    </tr>\n",
       "    <tr>\n",
       "      <th>Aleutians West Census Area</th>\n",
       "      <td>0.599898</td>\n",
       "      <td>4.867333</td>\n",
       "      <td>3.039688</td>\n",
       "      <td>0.383767</td>\n",
       "      <td>492.763682</td>\n",
       "    </tr>\n",
       "    <tr>\n",
       "      <th>Anchorage municipality</th>\n",
       "      <td>0.186572</td>\n",
       "      <td>3.151667</td>\n",
       "      <td>2.839513</td>\n",
       "      <td>0.000000</td>\n",
       "      <td>629.363104</td>\n",
       "    </tr>\n",
       "    <tr>\n",
       "      <th>Bethel Census Area</th>\n",
       "      <td>0.463730</td>\n",
       "      <td>5.376519</td>\n",
       "      <td>2.799242</td>\n",
       "      <td>0.341166</td>\n",
       "      <td>390.200338</td>\n",
       "    </tr>\n",
       "    <tr>\n",
       "      <th>Bristol Bay Borough</th>\n",
       "      <td>0.344489</td>\n",
       "      <td>2.770000</td>\n",
       "      <td>2.868676</td>\n",
       "      <td>0.257800</td>\n",
       "      <td>566.691271</td>\n",
       "    </tr>\n",
       "    <tr>\n",
       "      <th>Denali Borough</th>\n",
       "      <td>0.230734</td>\n",
       "      <td>3.525760</td>\n",
       "      <td>2.828595</td>\n",
       "      <td>0.000000</td>\n",
       "      <td>629.363104</td>\n",
       "    </tr>\n",
       "    <tr>\n",
       "      <th>Dillingham Census Area</th>\n",
       "      <td>0.406339</td>\n",
       "      <td>4.961794</td>\n",
       "      <td>2.873573</td>\n",
       "      <td>0.228165</td>\n",
       "      <td>403.074932</td>\n",
       "    </tr>\n",
       "    <tr>\n",
       "      <th>Fairbanks North Star Borough</th>\n",
       "      <td>0.229822</td>\n",
       "      <td>3.211600</td>\n",
       "      <td>2.771738</td>\n",
       "      <td>0.000000</td>\n",
       "      <td>629.363104</td>\n",
       "    </tr>\n",
       "    <tr>\n",
       "      <th>Haines Borough</th>\n",
       "      <td>0.233611</td>\n",
       "      <td>3.428750</td>\n",
       "      <td>2.957857</td>\n",
       "      <td>0.020000</td>\n",
       "      <td>461.621171</td>\n",
       "    </tr>\n",
       "    <tr>\n",
       "      <th>Hoonah-Angoon Census Area</th>\n",
       "      <td>0.444198</td>\n",
       "      <td>3.880162</td>\n",
       "      <td>2.972379</td>\n",
       "      <td>0.269092</td>\n",
       "      <td>289.719532</td>\n",
       "    </tr>\n",
       "    <tr>\n",
       "      <th>Juneau City and Borough</th>\n",
       "      <td>0.111303</td>\n",
       "      <td>3.339000</td>\n",
       "      <td>2.957077</td>\n",
       "      <td>0.000000</td>\n",
       "      <td>629.363104</td>\n",
       "    </tr>\n",
       "    <tr>\n",
       "      <th>Kenai Peninsula Borough</th>\n",
       "      <td>0.219415</td>\n",
       "      <td>3.363442</td>\n",
       "      <td>2.879667</td>\n",
       "      <td>0.000000</td>\n",
       "      <td>629.363104</td>\n",
       "    </tr>\n",
       "    <tr>\n",
       "      <th>Ketchikan Gateway Borough</th>\n",
       "      <td>0.112112</td>\n",
       "      <td>3.588433</td>\n",
       "      <td>2.997301</td>\n",
       "      <td>0.000000</td>\n",
       "      <td>629.363104</td>\n",
       "    </tr>\n",
       "    <tr>\n",
       "      <th>Kodiak Island Borough</th>\n",
       "      <td>0.389695</td>\n",
       "      <td>4.094323</td>\n",
       "      <td>3.062293</td>\n",
       "      <td>0.175954</td>\n",
       "      <td>358.546986</td>\n",
       "    </tr>\n",
       "    <tr>\n",
       "      <th>Lake and Peninsula Borough</th>\n",
       "      <td>0.637027</td>\n",
       "      <td>4.573896</td>\n",
       "      <td>2.911760</td>\n",
       "      <td>0.369067</td>\n",
       "      <td>618.540722</td>\n",
       "    </tr>\n",
       "    <tr>\n",
       "      <th>Matanuska-Susitna Borough</th>\n",
       "      <td>0.193739</td>\n",
       "      <td>3.117467</td>\n",
       "      <td>2.875994</td>\n",
       "      <td>0.000000</td>\n",
       "      <td>629.363104</td>\n",
       "    </tr>\n",
       "    <tr>\n",
       "      <th>Nome Census Area</th>\n",
       "      <td>0.377791</td>\n",
       "      <td>4.780256</td>\n",
       "      <td>2.775565</td>\n",
       "      <td>0.233869</td>\n",
       "      <td>453.025004</td>\n",
       "    </tr>\n",
       "    <tr>\n",
       "      <th>North Slope Borough</th>\n",
       "      <td>0.292161</td>\n",
       "      <td>4.177933</td>\n",
       "      <td>2.732605</td>\n",
       "      <td>0.069900</td>\n",
       "      <td>746.284053</td>\n",
       "    </tr>\n",
       "    <tr>\n",
       "      <th>Northwest Arctic Borough</th>\n",
       "      <td>0.423480</td>\n",
       "      <td>7.065677</td>\n",
       "      <td>2.738462</td>\n",
       "      <td>0.310638</td>\n",
       "      <td>541.121222</td>\n",
       "    </tr>\n",
       "    <tr>\n",
       "      <th>Petersburg Borough</th>\n",
       "      <td>0.582930</td>\n",
       "      <td>3.909000</td>\n",
       "      <td>3.001448</td>\n",
       "      <td>0.153550</td>\n",
       "      <td>623.743790</td>\n",
       "    </tr>\n",
       "    <tr>\n",
       "      <th>Prince of Wales-Hyder Census Area</th>\n",
       "      <td>0.297952</td>\n",
       "      <td>3.658362</td>\n",
       "      <td>3.070653</td>\n",
       "      <td>0.018095</td>\n",
       "      <td>483.568849</td>\n",
       "    </tr>\n",
       "    <tr>\n",
       "      <th>Sitka City and Borough</th>\n",
       "      <td>0.163800</td>\n",
       "      <td>3.139500</td>\n",
       "      <td>3.055543</td>\n",
       "      <td>0.000000</td>\n",
       "      <td>629.363104</td>\n",
       "    </tr>\n",
       "    <tr>\n",
       "      <th>Skagway Municipality</th>\n",
       "      <td>0.228757</td>\n",
       "      <td>3.605000</td>\n",
       "      <td>2.956715</td>\n",
       "      <td>0.020000</td>\n",
       "      <td>485.143090</td>\n",
       "    </tr>\n",
       "    <tr>\n",
       "      <th>Southeast Fairbanks Census Area</th>\n",
       "      <td>0.372367</td>\n",
       "      <td>3.598571</td>\n",
       "      <td>2.752922</td>\n",
       "      <td>0.267143</td>\n",
       "      <td>365.955391</td>\n",
       "    </tr>\n",
       "    <tr>\n",
       "      <th>Valdez-Cordova Census Area</th>\n",
       "      <td>0.391692</td>\n",
       "      <td>3.429360</td>\n",
       "      <td>2.832833</td>\n",
       "      <td>0.152088</td>\n",
       "      <td>375.126129</td>\n",
       "    </tr>\n",
       "    <tr>\n",
       "      <th>Wade Hampton Census Area</th>\n",
       "      <td>0.346581</td>\n",
       "      <td>5.864819</td>\n",
       "      <td>2.806880</td>\n",
       "      <td>0.258054</td>\n",
       "      <td>450.053094</td>\n",
       "    </tr>\n",
       "    <tr>\n",
       "      <th>Wrangell City and Borough</th>\n",
       "      <td>0.114506</td>\n",
       "      <td>2.953200</td>\n",
       "      <td>3.029598</td>\n",
       "      <td>0.000000</td>\n",
       "      <td>629.363104</td>\n",
       "    </tr>\n",
       "    <tr>\n",
       "      <th>Yakutat City and Borough</th>\n",
       "      <td>0.168185</td>\n",
       "      <td>4.767000</td>\n",
       "      <td>2.963169</td>\n",
       "      <td>0.258900</td>\n",
       "      <td>482.762784</td>\n",
       "    </tr>\n",
       "    <tr>\n",
       "      <th>Yukon-Koyukuk Census Area</th>\n",
       "      <td>0.454404</td>\n",
       "      <td>5.713309</td>\n",
       "      <td>2.730986</td>\n",
       "      <td>0.382953</td>\n",
       "      <td>317.026354</td>\n",
       "    </tr>\n",
       "  </tbody>\n",
       "</table>\n",
       "</div>"
      ],
      "text/plain": [
       "                                   Elec_Rate_Incremental  \\\n",
       "Census_Area                                                \n",
       "Aleutians East Borough                          0.482773   \n",
       "Aleutians West Census Area                      0.599898   \n",
       "Anchorage municipality                          0.186572   \n",
       "Bethel Census Area                              0.463730   \n",
       "Bristol Bay Borough                             0.344489   \n",
       "Denali Borough                                  0.230734   \n",
       "Dillingham Census Area                          0.406339   \n",
       "Fairbanks North Star Borough                    0.229822   \n",
       "Haines Borough                                  0.233611   \n",
       "Hoonah-Angoon Census Area                       0.444198   \n",
       "Juneau City and Borough                         0.111303   \n",
       "Kenai Peninsula Borough                         0.219415   \n",
       "Ketchikan Gateway Borough                       0.112112   \n",
       "Kodiak Island Borough                           0.389695   \n",
       "Lake and Peninsula Borough                      0.637027   \n",
       "Matanuska-Susitna Borough                       0.193739   \n",
       "Nome Census Area                                0.377791   \n",
       "North Slope Borough                             0.292161   \n",
       "Northwest Arctic Borough                        0.423480   \n",
       "Petersburg Borough                              0.582930   \n",
       "Prince of Wales-Hyder Census Area               0.297952   \n",
       "Sitka City and Borough                          0.163800   \n",
       "Skagway Municipality                            0.228757   \n",
       "Southeast Fairbanks Census Area                 0.372367   \n",
       "Valdez-Cordova Census Area                      0.391692   \n",
       "Wade Hampton Census Area                        0.346581   \n",
       "Wrangell City and Borough                       0.114506   \n",
       "Yakutat City and Borough                        0.168185   \n",
       "Yukon-Koyukuk Census Area                       0.454404   \n",
       "\n",
       "                                   Fuel_Price_Incremental       COP       PCE  \\\n",
       "Census_Area                                                                     \n",
       "Aleutians East Borough                           3.779867  3.036097  0.344467   \n",
       "Aleutians West Census Area                       4.867333  3.039688  0.383767   \n",
       "Anchorage municipality                           3.151667  2.839513  0.000000   \n",
       "Bethel Census Area                               5.376519  2.799242  0.341166   \n",
       "Bristol Bay Borough                              2.770000  2.868676  0.257800   \n",
       "Denali Borough                                   3.525760  2.828595  0.000000   \n",
       "Dillingham Census Area                           4.961794  2.873573  0.228165   \n",
       "Fairbanks North Star Borough                     3.211600  2.771738  0.000000   \n",
       "Haines Borough                                   3.428750  2.957857  0.020000   \n",
       "Hoonah-Angoon Census Area                        3.880162  2.972379  0.269092   \n",
       "Juneau City and Borough                          3.339000  2.957077  0.000000   \n",
       "Kenai Peninsula Borough                          3.363442  2.879667  0.000000   \n",
       "Ketchikan Gateway Borough                        3.588433  2.997301  0.000000   \n",
       "Kodiak Island Borough                            4.094323  3.062293  0.175954   \n",
       "Lake and Peninsula Borough                       4.573896  2.911760  0.369067   \n",
       "Matanuska-Susitna Borough                        3.117467  2.875994  0.000000   \n",
       "Nome Census Area                                 4.780256  2.775565  0.233869   \n",
       "North Slope Borough                              4.177933  2.732605  0.069900   \n",
       "Northwest Arctic Borough                         7.065677  2.738462  0.310638   \n",
       "Petersburg Borough                               3.909000  3.001448  0.153550   \n",
       "Prince of Wales-Hyder Census Area                3.658362  3.070653  0.018095   \n",
       "Sitka City and Borough                           3.139500  3.055543  0.000000   \n",
       "Skagway Municipality                             3.605000  2.956715  0.020000   \n",
       "Southeast Fairbanks Census Area                  3.598571  2.752922  0.267143   \n",
       "Valdez-Cordova Census Area                       3.429360  2.832833  0.152088   \n",
       "Wade Hampton Census Area                         5.864819  2.806880  0.258054   \n",
       "Wrangell City and Borough                        2.953200  3.029598  0.000000   \n",
       "Yakutat City and Borough                         4.767000  2.963169  0.258900   \n",
       "Yukon-Koyukuk Census Area                        5.713309  2.730986  0.382953   \n",
       "\n",
       "                                   Elec_Use_Jan  \n",
       "Census_Area                                      \n",
       "Aleutians East Borough               456.616046  \n",
       "Aleutians West Census Area           492.763682  \n",
       "Anchorage municipality               629.363104  \n",
       "Bethel Census Area                   390.200338  \n",
       "Bristol Bay Borough                  566.691271  \n",
       "Denali Borough                       629.363104  \n",
       "Dillingham Census Area               403.074932  \n",
       "Fairbanks North Star Borough         629.363104  \n",
       "Haines Borough                       461.621171  \n",
       "Hoonah-Angoon Census Area            289.719532  \n",
       "Juneau City and Borough              629.363104  \n",
       "Kenai Peninsula Borough              629.363104  \n",
       "Ketchikan Gateway Borough            629.363104  \n",
       "Kodiak Island Borough                358.546986  \n",
       "Lake and Peninsula Borough           618.540722  \n",
       "Matanuska-Susitna Borough            629.363104  \n",
       "Nome Census Area                     453.025004  \n",
       "North Slope Borough                  746.284053  \n",
       "Northwest Arctic Borough             541.121222  \n",
       "Petersburg Borough                   623.743790  \n",
       "Prince of Wales-Hyder Census Area    483.568849  \n",
       "Sitka City and Borough               629.363104  \n",
       "Skagway Municipality                 485.143090  \n",
       "Southeast Fairbanks Census Area      365.955391  \n",
       "Valdez-Cordova Census Area           375.126129  \n",
       "Wade Hampton Census Area             450.053094  \n",
       "Wrangell City and Borough            629.363104  \n",
       "Yakutat City and Borough             482.762784  \n",
       "Yukon-Koyukuk Census Area            317.026354  "
      ]
     },
     "execution_count": 56,
     "metadata": {},
     "output_type": "execute_result"
    }
   ],
   "source": [
    "df_oil.groupby('Census_Area')[[\n",
    "    'Elec_Rate_Incremental', \n",
    "    'Fuel_Price_Incremental',\n",
    "    'COP',\n",
    "    'PCE',\n",
    "    'Elec_Use_Jan',\n",
    "]].mean()"
   ]
  },
  {
   "cell_type": "markdown",
   "metadata": {},
   "source": [
    "## Plotting of All Cases Run"
   ]
  },
  {
   "cell_type": "code",
   "execution_count": 69,
   "metadata": {},
   "outputs": [
    {
     "data": {
      "text/plain": [
       "'Aleutians East Borough Aleutians West Census Area Anchorage municipality Bethel Census Area Bristol Bay Borough Denali Borough Dillingham Census Area Fairbanks North Star Borough Haines Borough Hoonah-Angoon Census Area Juneau City and Borough Kenai Peninsula Borough Ketchikan Gateway Borough Kodiak Island Borough Lake and Peninsula Borough Matanuska-Susitna Borough Nome Census Area North Slope Borough Northwest Arctic Borough Petersburg Borough Prince of Wales-Hyder Census Area Sitka City and Borough Skagway Municipality Southeast Fairbanks Census Area Valdez-Cordova Census Area Wade Hampton Census Area Wrangell City and Borough Yakutat City and Borough Yukon-Koyukuk Census Area'"
      ]
     },
     "execution_count": 69,
     "metadata": {},
     "output_type": "execute_result"
    }
   ],
   "source": [
    "areas = sorted(lib.df_city.census_area.unique())\n",
    "' '.join(areas)"
   ]
  },
  {
   "cell_type": "code",
   "execution_count": 70,
   "metadata": {},
   "outputs": [],
   "source": [
    "# Make a Symbol Scale so that the same symbol is used for\n",
    "# each scenario.  Found that in Census areas that didn't have\n",
    "# any PCE, different symbols were being used for the Small and Large\n",
    "# Load scenarios than in PCE census areas.\n",
    "scenario_symbol_scale = alt.Scale(\n",
    "            domain=['Base', 'Large Load', 'Small Load', 'Low Elec', 'Community Bldg', 'No PCE'],\n",
    "            range=['circle', 'square', 'triangle-up', 'cross', 'diamond', 'triangle-right'])\n"
   ]
  },
  {
   "cell_type": "code",
   "execution_count": 72,
   "metadata": {},
   "outputs": [
    {
     "name": "stdout",
     "output_type": "stream",
     "text": [
      "Anchorage municipality\n",
      "Aleutians West Census Area\n",
      "Aleutians East Borough\n",
      "Yukon-Koyukuk Census Area\n",
      "Hoonah-Angoon Census Area\n",
      "Bethel Census Area\n",
      "Juneau City and Borough\n",
      "North Slope Borough\n",
      "Southeast Fairbanks Census Area\n",
      "Matanuska-Susitna Borough\n",
      "Denali Borough\n",
      "Lake and Peninsula Borough\n",
      "Valdez-Cordova Census Area\n",
      "Prince of Wales-Hyder Census Area\n",
      "Kenai Peninsula Borough\n",
      "Northwest Arctic Borough\n",
      "Nome Census Area\n",
      "Wade Hampton Census Area\n",
      "Dillingham Census Area\n",
      "Bristol Bay Borough\n",
      "Haines Borough\n",
      "Yakutat City and Borough\n",
      "Skagway Municipality\n",
      "Sitka City and Borough\n",
      "Wrangell City and Borough\n",
      "Petersburg Borough\n",
      "Ketchikan Gateway Borough\n",
      "Kodiak Island Borough\n",
      "Fairbanks North Star Borough\n"
     ]
    }
   ],
   "source": [
    "npv_limit = 20000.\n",
    "df_oil['npv_limited'] = limit_vals(df_oil.NPV, npv_limit)\n",
    "for ca in cen_areas:\n",
    "    print(ca)\n",
    "    df_ca = df_oil.query('Census_Area == @ca')\n",
    "    main = alt.Chart(df_ca).mark_point(\n",
    "        size=150, opacity=0.7, stroke='black', strokeWidth=1\n",
    "    ).encode(\n",
    "        x=alt.X('npv_limited', axis=alt.Axis(title='Net Present Value', grid=False), scale=alt.Scale(domain=(-npv_limit, npv_limit))),\n",
    "        y=alt.Y('City', axis=alt.Axis(title='Community', grid=True)),\n",
    "        shape=alt.Shape('Scenario', scale=scenario_symbol_scale),\n",
    "        color=alt.Color('Econ', scale=econ_color_scale),\n",
    "        fill=alt.Color('Econ', scale=econ_color_scale),\n",
    "        #tooltip=['Scenario']\n",
    "    )\n",
    "    (rule + main).save(f'images/census_area/{ca}.png', scale_factor=1.5)"
   ]
  },
  {
   "cell_type": "markdown",
   "metadata": {},
   "source": [
    "## Analysis of Other Results"
   ]
  },
  {
   "cell_type": "markdown",
   "metadata": {},
   "source": [
    "### Design Heating Temperature"
   ]
  },
  {
   "cell_type": "code",
   "execution_count": 32,
   "metadata": {},
   "outputs": [
    {
     "data": {
      "text/html": [
       "<div>\n",
       "<style scoped>\n",
       "    .dataframe tbody tr th:only-of-type {\n",
       "        vertical-align: middle;\n",
       "    }\n",
       "\n",
       "    .dataframe tbody tr th {\n",
       "        vertical-align: top;\n",
       "    }\n",
       "\n",
       "    .dataframe thead th {\n",
       "        text-align: right;\n",
       "    }\n",
       "</style>\n",
       "<table border=\"1\" class=\"dataframe\">\n",
       "  <thead>\n",
       "    <tr style=\"text-align: right;\">\n",
       "      <th></th>\n",
       "      <th>City</th>\n",
       "      <th>Design_Heat_Temp</th>\n",
       "    </tr>\n",
       "  </thead>\n",
       "  <tbody>\n",
       "    <tr>\n",
       "      <th>0</th>\n",
       "      <td>Tanacross</td>\n",
       "      <td>-44.8600</td>\n",
       "    </tr>\n",
       "    <tr>\n",
       "      <th>1</th>\n",
       "      <td>Gulkana</td>\n",
       "      <td>-24.5938</td>\n",
       "    </tr>\n",
       "    <tr>\n",
       "      <th>2</th>\n",
       "      <td>Ninilchik</td>\n",
       "      <td>5.0000</td>\n",
       "    </tr>\n",
       "    <tr>\n",
       "      <th>3</th>\n",
       "      <td>Alatna</td>\n",
       "      <td>-34.9600</td>\n",
       "    </tr>\n",
       "    <tr>\n",
       "      <th>4</th>\n",
       "      <td>Tununak</td>\n",
       "      <td>-2.2000</td>\n",
       "    </tr>\n",
       "  </tbody>\n",
       "</table>\n",
       "</div>"
      ],
      "text/plain": [
       "        City  Design_Heat_Temp\n",
       "0  Tanacross          -44.8600\n",
       "1    Gulkana          -24.5938\n",
       "2  Ninilchik            5.0000\n",
       "3     Alatna          -34.9600\n",
       "4    Tununak           -2.2000"
      ]
     },
     "execution_count": 32,
     "metadata": {},
     "output_type": "execute_result"
    }
   ],
   "source": [
    "city_temp = list(set(zip(df_oil.City, df_oil.Design_Heat_Temp)))\n",
    "df_dt = pd.DataFrame(city_temp, columns=['City', 'Design_Heat_Temp'])\n",
    "df_dt.head()"
   ]
  },
  {
   "cell_type": "code",
   "execution_count": 33,
   "metadata": {},
   "outputs": [
    {
     "data": {
      "text/plain": [
       "<matplotlib.axes._subplots.AxesSubplot at 0x7fafe5d315f8>"
      ]
     },
     "execution_count": 33,
     "metadata": {},
     "output_type": "execute_result"
    },
    {
     "data": {
      "image/png": "[encoded data removed]",
      "text/plain": [
       "<Figure size 432x288 with 1 Axes>"
      ]
     },
     "metadata": {
      "needs_background": "light"
     },
     "output_type": "display_data"
    }
   ],
   "source": [
    "df_dt.Design_Heat_Temp.hist(bins=30)"
   ]
  },
  {
   "cell_type": "code",
   "execution_count": 34,
   "metadata": {},
   "outputs": [
    {
     "data": {
      "application/vnd.vegalite.v2+json": {
       "$schema": "https://vega.github.io/schema/vega-lite/v2.6.0.json",
       "config": {
        "view": {
         "height": 300,
         "width": 400
        }
       },
       "data": {
        "format": {
         "type": "json"
        },
        "url": "altair-data-a00b53baed550429689aa3f01bc11d1d.json"
       },
       "encoding": {
        "size": {
         "aggregate": "count",
         "legend": null,
         "type": "quantitative"
        },
        "x": {
         "bin": {
          "maxbins": 40
         },
         "field": "Design_Heat_Temp",
         "type": "quantitative"
        }
       },
       "mark": "point"
      },
      "image/png": "[encoded data removed]",
      "text/plain": [
       "<VegaLite 2 object>\n",
       "\n",
       "If you see this message, it means the renderer has not been properly enabled\n",
       "for the frontend that you are using. For more information, see\n",
       "https://altair-viz.github.io/user_guide/troubleshooting.html\n"
      ]
     },
     "execution_count": 34,
     "metadata": {},
     "output_type": "execute_result"
    }
   ],
   "source": [
    "alt.Chart(df_dt).mark_point().encode(\n",
    "    x=alt.X('Design_Heat_Temp', bin=alt.Bin(maxbins=40)),\n",
    "    size=alt.Size('count()', legend=None)\n",
    ")"
   ]
  },
  {
   "cell_type": "markdown",
   "metadata": {},
   "source": [
    "### % of Heating Load Served by Heat Pump"
   ]
  },
  {
   "cell_type": "code",
   "execution_count": 36,
   "metadata": {},
   "outputs": [
    {
     "data": {
      "text/plain": [
       "<matplotlib.axes._subplots.AxesSubplot at 0x7fafe5c268d0>"
      ]
     },
     "execution_count": 36,
     "metadata": {},
     "output_type": "execute_result"
    },
    {
     "data": {
      "image/png": "[encoded data removed]",
      "text/plain": [
       "<Figure size 432x288 with 1 Axes>"
      ]
     },
     "metadata": {
      "needs_background": "light"
     },
     "output_type": "display_data"
    }
   ],
   "source": [
    "df_oil.HP_Load_Frac.hist(bins=30)"
   ]
  },
  {
   "cell_type": "markdown",
   "metadata": {},
   "source": [
    "## Analysis of Seasonal COP"
   ]
  },
  {
   "cell_type": "code",
   "execution_count": 98,
   "metadata": {},
   "outputs": [],
   "source": [
    "rcParams['font.size'] = 12.5            # set Font size in Chart"
   ]
  },
  {
   "cell_type": "code",
   "execution_count": 99,
   "metadata": {},
   "outputs": [
    {
     "data": {
      "image/png": "[encoded data removed]",
      "text/plain": [
       "<Figure size 576x360 with 1 Axes>"
      ]
     },
     "metadata": {
      "needs_background": "light"
     },
     "output_type": "display_data"
    }
   ],
   "source": [
    "df_oil.query('Scenario == \"Base\"').plot(x='Design_Heat_Temp', y='COP', kind='scatter')\n",
    "xlabel('Design Heating Temperature of Community, °F')\n",
    "ylabel('Seasonal COP')\n",
    "gcf().set_size_inches((8,5))\n",
    "tight_layout()\n",
    "savefig('images/seasonal_cop.png')"
   ]
  },
  {
   "cell_type": "code",
   "execution_count": 76,
   "metadata": {},
   "outputs": [
    {
     "data": {
      "text/plain": [
       "array([2.26766674, 3.01243964, 3.26991055])"
      ]
     },
     "execution_count": 76,
     "metadata": {},
     "output_type": "execute_result"
    }
   ],
   "source": [
    "# COP Curve at any outdoor tempreature\n",
    "\n",
    "from heatpump.home_heat_model import HomeHeatModel\n",
    "# Use the curve from the Heat Pump Calculator\n",
    "def cops_for_temps(temps, hspf):\n",
    "    \"\"\"Returns a numpy array of COPs for the associated array of \n",
    "    outdoor temperatures, passed in as 'temps'.  Calculates the \n",
    "    COPs for a heat pump with HSPF of 'hspf'.\n",
    "    \"\"\"\n",
    "    cops = np.interp(temps, HomeHeatModel.TEMPS_FIT, HomeHeatModel.COPS_FIT)\n",
    "    # my judgement on the 0.5 exponent; theory would say 1.0\n",
    "    cops *= (hspf / HomeHeatModel.BASE_HSPF) ** 0.5\n",
    "    return cops\n",
    "\n",
    "# Test points to see if they match.  This is at Base HSPF\n",
    "cops_for_temps([10.8, 34.5, 40], 11.33)"
   ]
  },
  {
   "cell_type": "code",
   "execution_count": 100,
   "metadata": {},
   "outputs": [
    {
     "data": {
      "image/png": "[encoded data removed]",
      "text/plain": [
       "<Figure size 576x360 with 1 Axes>"
      ]
     },
     "metadata": {
      "needs_background": "light"
     },
     "output_type": "display_data"
    }
   ],
   "source": [
    "temps = np.linspace(-10, 50)\n",
    "cops_10 = cops_for_temps(temps, 10.)\n",
    "cops_12 = cops_for_temps(temps, 12.)\n",
    "cops_14 = cops_for_temps(temps, 14.)\n",
    "plot(temps, cops_10)\n",
    "plot(temps, cops_12)\n",
    "plot(temps, cops_14)\n",
    "text(50.5, cops_10[-1], 'HSPF = 10', verticalalignment='center')\n",
    "text(50.5, cops_12[-1], 'HSPF = 12', verticalalignment='center')\n",
    "text(50.5, cops_14[-1], 'HSPF = 14', verticalalignment='center')\n",
    "xlim(-10, 60)\n",
    "xlabel('Outdoor Temperature, °F')\n",
    "ylabel('COP')\n",
    "gcf().set_size_inches((8,5))\n",
    "tight_layout()\n",
    "savefig('images/cop_vs_outdoor.png')"
   ]
  }
 ],
 "metadata": {
  "kernelspec": {
   "display_name": "Python 3",
   "language": "python",
   "name": "python3"
  },
  "language_info": {
   "codemirror_mode": {
    "name": "ipython",
    "version": 3
   },
   "file_extension": ".py",
   "mimetype": "text/x-python",
   "name": "python",
   "nbconvert_exporter": "python",
   "pygments_lexer": "ipython3",
   "version": "3.7.0"
  }
 },
 "nbformat": 4,
 "nbformat_minor": 2
}
