{
 "cells": [
  {
   "cell_type": "markdown",
   "metadata": {},
   "source": [
    "# Runs the Heat Pump Model for Multiple Scenaries across Multiple Communities"
   ]
  },
  {
   "cell_type": "code",
   "execution_count": 28,
   "metadata": {},
   "outputs": [
    {
     "name": "stdout",
     "output_type": "stream",
     "text": [
      "The autoreload extension is already loaded. To reload it, use:\n",
      "  %reload_ext autoreload\n"
     ]
    }
   ],
   "source": [
    "import sys\n",
    "import numpy as np\n",
    "import pandas as pd\n",
    "import qgrid\n",
    "\n",
    "sh = lambda df: qgrid.show_grid(df, show_toolbar=False)\n",
    "\n",
    "# import matplotlib pyplot commands\n",
    "from matplotlib.pyplot import *\n",
    " \n",
    "# Show Plots in the Notebook\n",
    "%matplotlib inline\n",
    " \n",
    "# 'style' the plot like fivethirtyeight.com website\n",
    "style.use('bmh')\n",
    "\n",
    "#---- Auto-reload of modules\n",
    "%load_ext autoreload\n",
    "%autoreload 2\n",
    "\n",
    "#---- Altair imports \n",
    "import altair as alt\n",
    "alt.data_transformers.enable('json');   # keeps Huge data out of Notebook"
   ]
  },
  {
   "cell_type": "markdown",
   "metadata": {},
   "source": [
    "## Loop through Cities Running all Scenarios"
   ]
  },
  {
   "cell_type": "code",
   "execution_count": 2,
   "metadata": {},
   "outputs": [],
   "source": [
    "# Bring the heat pump calculator into the Python Path.\n",
    "# This assumes that the heat-pump-calc project is present and on\n",
    "# the same directory level as this heat-pump-study project.\n",
    "sys.path.insert(0, '../../heat-pump-calc')\n",
    "import heatpump.library as lib\n",
    "import heatpump.hp_model as hpmod"
   ]
  },
  {
   "cell_type": "code",
   "execution_count": 40,
   "metadata": {},
   "outputs": [],
   "source": [
    "in_base = dict(\n",
    "    pce_limit=500,\n",
    "    co2_lbs_per_kwh=1.5,\n",
    "    exist_fuel_use=None,\n",
    "    exist_heat_effic=0.8,\n",
    "    exist_kwh_per_mmbtu=6.25,\n",
    "    includes_dhw=False,\n",
    "    includes_dryer=False,\n",
    "    includes_cooking=False,\n",
    "    occupant_count=3,\n",
    "    hp_model_id=-1,\n",
    "    low_temp_cutoff=5,\n",
    "    off_months_chks=[],\n",
    "    garage_stall_count=1,\n",
    "    garage_heated_by_hp=False,\n",
    "    indoor_heat_setpoint=70,\n",
    "    insul_level=2,\n",
    "    pct_exposed_to_hp=0.46,\n",
    "    doors_open_to_adjacent=True,\n",
    "    bedroom_temp_tolerance='med',\n",
    "    rebate_dol=0,\n",
    "    pct_financed=0,\n",
    "    loan_term=10,\n",
    "    loan_interest=0.05,\n",
    "    hp_life=14,\n",
    "    op_cost_chg=0,\n",
    "    discount_rate=0.05,\n",
    "    inflation_rate=0.02,\n",
    "    fuel_esc_rate=0.03,\n",
    "    elec_esc_rate=0.02,\n",
    ")\n",
    "\n",
    "# Inputs that need to be determined for each community\n",
    "# city_id\n",
    "# utility\n",
    "# bldg_floor_area\n",
    "# exist_unit_fuel_cost\n",
    "# elec_use_jan\n",
    "# elec_use_may\n",
    "# capital_cost,\n",
    "# sales_tax,"
   ]
  },
  {
   "cell_type": "code",
   "execution_count": 4,
   "metadata": {},
   "outputs": [],
   "source": [
    "in_test = in_base.copy()\n",
    "in_test['city_id'] = 1\n",
    "in_test['utility'] = lib.util_from_id(53)\n",
    "in_test['bldg_floor_area'] = 1700\n",
    "in_test['exist_heat_fuel_id'] = 4     # 4 - #1 Oil, 3 - Propane, 1 - Electricity\n",
    "in_test['exist_unit_fuel_cost'] = 2.69\n",
    "in_test['elec_use_jan'] = 674\n",
    "in_test['elec_use_may'] = 503\n",
    "in_test['capital_cost'] = 4000\n",
    "in_test['sales_tax'] =  0.06"
   ]
  },
  {
   "cell_type": "code",
   "execution_count": 5,
   "metadata": {},
   "outputs": [
    {
     "data": {
      "text/plain": [
       "{'fuel_unit': 'gallon',\n",
       " 'fuel_desc': '#1 Oil',\n",
       " 'design_heat_load': 27137.998944,\n",
       " 'design_heat_temp': -2.9200000000000017,\n",
       " 'cop': 2.768709522701937,\n",
       " 'hp_max_capacity_5F': 13309.359,\n",
       " 'max_hp_reached': True,\n",
       " 'co2_lbs_saved': 2599.0911896777543,\n",
       " 'co2_driving_miles_saved': 2914.2073439908268,\n",
       " 'hp_load_frac': 0.7482128214632623,\n",
       " 'irr': -0.024994180498934093,\n",
       " 'npv': -1918.8347917250733,\n",
       " 'fuel_use_base': 650.4120176530662,\n",
       " 'fuel_use_hp': 166.36443331460313,\n",
       " 'fuel_use_chg': -484.047584338463,\n",
       " 'fuel_price_incremental': 2.8514000000000004,\n",
       " 'elec_use_base': 6567.626453242359,\n",
       " 'elec_use_hp': 11989.447440876997,\n",
       " 'elec_use_chg': 5421.820987634637,\n",
       " 'elec_rate_avg_base': 0.2744137409227546,\n",
       " 'elec_rate_avg_hp': 0.2568969450238375,\n",
       " 'elec_rate_incremental': 0.23567828576080543}"
      ]
     },
     "execution_count": 5,
     "metadata": {},
     "output_type": "execute_result"
    }
   ],
   "source": [
    "mod = hpmod.HP_model(**in_test)\n",
    "mod.run()\n",
    "mod.summary"
   ]
  },
  {
   "cell_type": "code",
   "execution_count": 6,
   "metadata": {},
   "outputs": [
    {
     "data": {
      "text/plain": [
       "Name                                                         Anchorage\n",
       "Latitude                                                        61.152\n",
       "Longitude                                                     -149.864\n",
       "ERHRegionID                                                          2\n",
       "WAPRegionID                                                          2\n",
       "ImpCost                                                              1\n",
       "FuelRefer                                                        False\n",
       "FuelCityID                                                         NaN\n",
       "Oil1Price                                                         3.08\n",
       "Oil2Price                                                          NaN\n",
       "PropanePrice                                                       4.5\n",
       "BirchPrice                                                         325\n",
       "SprucePrice                                                        345\n",
       "CoalPrice                                                          175\n",
       "SteamPrice                                                         NaN\n",
       "HotWaterPrice                                                      NaN\n",
       "MunicipalSalesTax                                                  NaN\n",
       "BoroughSalesTax                                                    NaN\n",
       "TMYid                                                           702730\n",
       "TMYname                                          ANCHORAGE INTL AP, AK\n",
       "ElecUtilities        [(Anchorage ML&P - Residential, 2), (Anchorage...\n",
       "GasPrice                                                       0.93955\n",
       "aris_city                                                    Anchorage\n",
       "census_city                                     Anchorage municipality\n",
       "census_area                                     Anchorage municipality\n",
       "ancsa_region                                Cook Inlet Regional (CIRI)\n",
       "railbelt                                                      Railbelt\n",
       "hub                                                               True\n",
       "avg_elec_usage       [674.3176110825001, 616.54369648225, 568.80201...\n",
       "Name: 1, dtype: object"
      ]
     },
     "execution_count": 6,
     "metadata": {},
     "output_type": "execute_result"
    }
   ],
   "source": [
    "lib.city_from_id(1)"
   ]
  },
  {
   "cell_type": "code",
   "execution_count": 7,
   "metadata": {},
   "outputs": [
    {
     "data": {
      "text/plain": [
       "ID                                                              2\n",
       "Name                                 Anchorage ML&P - Residential\n",
       "Active                                                       True\n",
       "Type                                                            1\n",
       "IsCommercial                                                False\n",
       "ChargesRCC                                                   True\n",
       "PCE                                                           NaN\n",
       "CO2                                                           1.1\n",
       "CustomerChg                                                 13.62\n",
       "DemandCharge                                                  NaN\n",
       "NameShort                                                  Anchor\n",
       "Blocks          [(nan, 0.17457800125703232), (nan, nan), (nan,...\n",
       "Name: 2, dtype: object"
      ]
     },
     "execution_count": 7,
     "metadata": {},
     "output_type": "execute_result"
    }
   ],
   "source": [
    "lib.util_from_id(2)"
   ]
  },
  {
   "cell_type": "code",
   "execution_count": 8,
   "metadata": {},
   "outputs": [],
   "source": [
    "# Maps Census Area to average size of home.  Comes from the 2018 AHFC\n",
    "# Housing Assessment.\n",
    "census_to_size = {\n",
    " 'Anchorage municipality': 2057,\n",
    " 'Aleutians West Census Area': 1130,\n",
    " 'Aleutians East Borough': 1296,\n",
    " 'Yukon-Koyukuk Census Area': 947,\n",
    " 'Hoonah-Angoon Census Area': 1258,\n",
    " 'Bethel Census Area': 950,\n",
    " 'Juneau City and Borough': 1725,\n",
    " 'North Slope Borough': 1164,\n",
    " 'Southeast Fairbanks Census Area': 1745,\n",
    " 'Matanuska-Susitna Borough': 1912,\n",
    " 'Denali Borough': 1736,\n",
    " 'Lake and Peninsula Borough': 1026,\n",
    " 'Valdez-Cordova Census Area': 1781,\n",
    " 'Prince of Wales-Hyder Census Area': 1246,\n",
    " 'Kenai Peninsula Borough': 1890,\n",
    " 'Northwest Arctic Borough': 920,\n",
    " 'Nome Census Area': 1168,\n",
    " 'Wade Hampton Census Area': 834,\n",
    " 'Dillingham Census Area': 1150,\n",
    " 'Bristol Bay Borough': 1445,\n",
    " 'Haines Borough': 1730,\n",
    " 'Yakutat City and Borough': 1116,\n",
    " 'Skagway Municipality': 1672,\n",
    " 'Sitka City and Borough': 1629,\n",
    " 'Wrangell City and Borough': 1766,\n",
    " 'Petersburg Borough': 1714,\n",
    " 'Ketchikan Gateway Borough': 1734,\n",
    " 'Kodiak Island Borough': 1790,\n",
    " 'Fairbanks North Star Borough': 2068,\n",
    "}"
   ]
  },
  {
   "cell_type": "code",
   "execution_count": 44,
   "metadata": {},
   "outputs": [
    {
     "data": {
      "text/plain": [
       "[('Anchorage ML&P - Residential', 2),\n",
       " ('Anchorage ML&P - Commercial - Sm', 293),\n",
       " ('Anchorage ML&P - Commercial - Lg', 480),\n",
       " ('Chugach Electric- Residential', 1),\n",
       " ('Chugach Electric - Commercial - Sm', 361),\n",
       " ('Chugach Electric - Commercial - Lg', 548)]"
      ]
     },
     "execution_count": 44,
     "metadata": {},
     "output_type": "execute_result"
    }
   ],
   "source": [
    "lib.city_from_id(1).ElecUtilities"
   ]
  },
  {
   "cell_type": "code",
   "execution_count": 46,
   "metadata": {},
   "outputs": [
    {
     "data": {
      "text/plain": [
       "ID                                                            361\n",
       "Name                           Chugach Electric - Commercial - Sm\n",
       "Active                                                       True\n",
       "Type                                                            1\n",
       "IsCommercial                                                 True\n",
       "ChargesRCC                                                   True\n",
       "PCE                                                           NaN\n",
       "CO2                                                           1.1\n",
       "CustomerChg                                                    17\n",
       "DemandCharge                                                  NaN\n",
       "NameShort                                                  Chugac\n",
       "Blocks          [(nan, 0.15365799656137832), (nan, nan), (nan,...\n",
       "Name: 361, dtype: object"
      ]
     },
     "execution_count": 46,
     "metadata": {},
     "output_type": "execute_result"
    }
   ],
   "source": [
    "lib.util_from_id(361)"
   ]
  },
  {
   "cell_type": "code",
   "execution_count": 34,
   "metadata": {},
   "outputs": [
    {
     "data": {
      "text/html": [
       "<div>\n",
       "<style scoped>\n",
       "    .dataframe tbody tr th:only-of-type {\n",
       "        vertical-align: middle;\n",
       "    }\n",
       "\n",
       "    .dataframe tbody tr th {\n",
       "        vertical-align: top;\n",
       "    }\n",
       "\n",
       "    .dataframe thead th {\n",
       "        text-align: right;\n",
       "    }\n",
       "</style>\n",
       "<table border=\"1\" class=\"dataframe\">\n",
       "  <thead>\n",
       "    <tr style=\"text-align: right;\">\n",
       "      <th></th>\n",
       "      <th>Name</th>\n",
       "      <th>Oil1Price</th>\n",
       "    </tr>\n",
       "    <tr>\n",
       "      <th>ID</th>\n",
       "      <th></th>\n",
       "      <th></th>\n",
       "    </tr>\n",
       "  </thead>\n",
       "  <tbody>\n",
       "    <tr>\n",
       "      <th>45</th>\n",
       "      <td>Ambler</td>\n",
       "      <td>NaN</td>\n",
       "    </tr>\n",
       "    <tr>\n",
       "      <th>46</th>\n",
       "      <td>Buckland</td>\n",
       "      <td>6.50</td>\n",
       "    </tr>\n",
       "    <tr>\n",
       "      <th>47</th>\n",
       "      <td>Deering</td>\n",
       "      <td>3.25</td>\n",
       "    </tr>\n",
       "    <tr>\n",
       "      <th>48</th>\n",
       "      <td>Kiana</td>\n",
       "      <td>5.50</td>\n",
       "    </tr>\n",
       "    <tr>\n",
       "      <th>49</th>\n",
       "      <td>Kivalina</td>\n",
       "      <td>4.40</td>\n",
       "    </tr>\n",
       "    <tr>\n",
       "      <th>50</th>\n",
       "      <td>Kobuk</td>\n",
       "      <td>8.00</td>\n",
       "    </tr>\n",
       "    <tr>\n",
       "      <th>51</th>\n",
       "      <td>Kotzebue</td>\n",
       "      <td>5.85</td>\n",
       "    </tr>\n",
       "    <tr>\n",
       "      <th>52</th>\n",
       "      <td>Noatak</td>\n",
       "      <td>8.99</td>\n",
       "    </tr>\n",
       "    <tr>\n",
       "      <th>53</th>\n",
       "      <td>Noorvik</td>\n",
       "      <td>5.42</td>\n",
       "    </tr>\n",
       "    <tr>\n",
       "      <th>54</th>\n",
       "      <td>Selawik</td>\n",
       "      <td>7.50</td>\n",
       "    </tr>\n",
       "    <tr>\n",
       "      <th>55</th>\n",
       "      <td>Shungnak</td>\n",
       "      <td>8.25</td>\n",
       "    </tr>\n",
       "  </tbody>\n",
       "</table>\n",
       "</div>"
      ],
      "text/plain": [
       "        Name  Oil1Price\n",
       "ID                     \n",
       "45    Ambler        NaN\n",
       "46  Buckland       6.50\n",
       "47   Deering       3.25\n",
       "48     Kiana       5.50\n",
       "49  Kivalina       4.40\n",
       "50     Kobuk       8.00\n",
       "51  Kotzebue       5.85\n",
       "52    Noatak       8.99\n",
       "53   Noorvik       5.42\n",
       "54   Selawik       7.50\n",
       "55  Shungnak       8.25"
      ]
     },
     "execution_count": 34,
     "metadata": {},
     "output_type": "execute_result"
    }
   ],
   "source": [
    "lib.df_city.query('census_area == \"Northwest Arctic Borough\"')[['Name', 'Oil1Price']]"
   ]
  },
  {
   "cell_type": "code",
   "execution_count": 35,
   "metadata": {},
   "outputs": [],
   "source": [
    "# Fuel Prices to override what is in the library.  Key is\n",
    "# (City Name, Fuel Type ID).\n",
    "fuel_override = {\n",
    "    ('Ambler', 4): 9.53/1.03,\n",
    "    ('Buckland', 4): 6.89/1.06,\n",
    "    ('Deering', 4): 4.90/1.03,\n",
    "    ('Kiana', 4): 5.67/1.03,\n",
    "    ('Kivalina', 4): 4.49/1.03,\n",
    "    ('Kobuk', 4): 8.24/1.03,\n",
    "    ('Kotzebue', 4): 6.33/1.06,\n",
    "    ('Noatak', 4): 10.29/1.03,\n",
    "    ('Noorvik', 4): 5.64/1.04,\n",
    "    ('Selawk', 4): 7.99/1.06,\n",
    "    ('Shungnak', 4): 8.42/1.03,\n",
    "}"
   ]
  },
  {
   "cell_type": "code",
   "execution_count": 38,
   "metadata": {},
   "outputs": [
    {
     "name": "stdout",
     "output_type": "stream",
     "text": [
      "Adak\n",
      "Akhiok\n",
      "Akiachak\n",
      "Akiak\n",
      "Akutan\n",
      "Alakanuk\n",
      "Alatna\n",
      "Aleknagik\n",
      "Allakaket\n",
      "Ambler\n",
      "Anaktuvuk Pass - C\n",
      "Anaktuvuk Pass Res\n",
      "Anchor Point\n",
      "Anchorage\n",
      "Anderson\n",
      "Angoon\n",
      "Aniak\n",
      "Anvik\n",
      "Arctic Village\n",
      "Atka\n",
      "Atmautluak\n",
      "Atqasuk - Com\n",
      "Atqasuk - Res\n",
      "Auke Bay\n",
      "Barrow/Utqiavik\n",
      "Beaver\n",
      "Bethel\n",
      "Bettles\n",
      "Big Lake\n",
      "Birch Creek\n",
      "Bird Creek\n",
      "Brevig Mission\n",
      "Buckland\n",
      "Cantwell\n",
      "Central\n",
      "Chalkyitsik\n",
      "Chefornak\n",
      "Chenega\n",
      "Chevak\n",
      "Chickaloon\n",
      "Chicken\n",
      "Chignik\n",
      "Chignik Lake\n",
      "Chiniak\n",
      "Chistochina\n",
      "Chitina\n",
      "Chuathbaluk\n",
      "Chugiak\n",
      "Circle\n",
      "Clam Gulch\n",
      "Clark's Point\n",
      "Clear\n",
      "Coffman Cove\n",
      "Cold Bay\n",
      "Cooper Landing\n",
      "Copper Center\n",
      "Cordova\n",
      "Craig\n",
      "Crooked Creek\n",
      "Deering\n",
      "Delta Junction\n",
      "Denali Nat'l Park\n",
      "Dillingham\n",
      "Diomede\n",
      "Dot Lake\n",
      "Douglas\n",
      "Dutch Harbor\n",
      "Eagle\n",
      "Eagle River\n",
      "Eek\n",
      "Egegik\n",
      "Ekwok\n",
      "Elfin Cove\n",
      "Elim\n",
      "Emmonak\n",
      "English Bay/Nanwal\n",
      "Ester\n",
      "Evansville\n",
      "Eyak\n",
      "Fairbanks\n",
      "False Pass\n",
      "Faribanks - Chena Ridge\n",
      "Fort Yukon\n",
      "Gakona\n",
      "Galena\n",
      "Gambell\n",
      "Girdwood\n",
      "Glennallen\n",
      "Golovin\n",
      "Goodnews Bay\n",
      "Grayling\n",
      "Gulkana\n",
      "Gustavus\n",
      "Haines\n",
      "Healy\n",
      "Hollis\n",
      "Holy Cross\n",
      "Homer\n",
      "Hoonah\n",
      "Hooper Bay\n",
      "Hope\n",
      "Houston\n",
      "Hughes\n",
      "Huslia\n",
      "Hydaburg\n",
      "Hyder\n",
      "Igiugig\n",
      "Iliamna\n",
      "Indian\n",
      "Juneau, Airport\n",
      "Juneau, City of\n",
      "Kake\n",
      "Kaktovik - Com\n",
      "Kaktovik - Res\n",
      "Kaltag\n",
      "Karluk\n",
      "Kasaan\n",
      "Kasigluk\n",
      "Kasilof\n",
      "Kenai\n",
      "Kenny Lake\n",
      "Ketchikan\n",
      "Kiana\n",
      "King Cove\n",
      "King Salmon\n",
      "Kipnuk\n",
      "Kivalina\n",
      "Klawock\n",
      "Klukwan\n",
      "Kobuk\n",
      "Kodiak\n",
      "Kokhanok\n",
      "Koliganek\n",
      "Kongiganak\n",
      "Kotlik\n",
      "Kotzebue\n",
      "Koyuk\n",
      "Koyukuk\n",
      "Kwethluk\n",
      "Kwigillingok\n",
      "Larsen Bay\n",
      "Levelock\n",
      "Lime Village\n",
      "Lower Kalskag\n",
      "Manley Hot Springs\n",
      "Manokotak\n",
      "Marshall\n",
      "McCarthy\n",
      "McGrath\n",
      "Mekoryok\n",
      "Mentasta Lake\n",
      "Metlakatla\n",
      "Minchumina\n",
      "Minto\n",
      "Moose Pass\n",
      "Mountain Village\n",
      "Naknek\n",
      "Napakiak\n",
      "Napaskiak\n",
      "Naukati\n",
      "Nelson Lagoon\n",
      "Nenana\n",
      "New Stuyahok\n",
      "Newhalen\n",
      "Newtok\n",
      "Nightmute\n",
      "Nikiski\n",
      "Nikolaevsk\n",
      "Nikolai\n",
      "Nikolski\n",
      "Ninilchik\n",
      "Noatak\n",
      "Nome\n",
      "Nondalton\n",
      "Noorvik\n",
      "North Pole\n",
      "Northway\n",
      "Nuiqsut\n",
      "Nulato\n",
      "Nunapitchuk\n",
      "Nunum Iqua\n",
      "Old Harbor\n",
      "Oscarville\n",
      "Ouzinkie\n",
      "Palmer\n",
      "Paxson\n",
      "Pedro Bay\n",
      "Pelican\n",
      "Perryville\n",
      "Petersburg\n",
      "Pilot Point\n",
      "Pilot Station\n",
      "Pitkas Point\n",
      "Platinum\n",
      "Point Baker\n",
      "Point Hope Com\n",
      "Point Hope Res\n",
      "Point Lay\n",
      "Port Alexander\n",
      "Port Alsworth\n",
      "Port Graham\n",
      "Port Heiden\n",
      "Port Lions\n",
      "Port Protection\n",
      "Quinhagak\n",
      "Rampart\n",
      "Ruby\n",
      "Russian Mission\n",
      "Saint George\n",
      "Saint Mary's\n",
      "Saint Michael\n",
      "Saint Paul\n",
      "Salcha\n",
      "Sand Point\n",
      "Savoonga\n",
      "Saxman\n",
      "Scammon Bay\n",
      "Selawik\n",
      "Seldovia\n",
      "Seward\n",
      "Shageluk\n",
      "Shaktoolik\n",
      "Shishmaref\n",
      "Shungnak\n",
      "Sitka\n",
      "Skagway\n",
      "Skwentna\n",
      "Slana\n",
      "Sleetmute\n",
      "Soldotna\n",
      "South Naknek\n",
      "Stebbins\n",
      "Sterling\n",
      "Stevens Village\n",
      "Stony River\n",
      "Sutton\n",
      "Takotna\n",
      "Talkeetna\n",
      "Tanacross\n",
      "Tanana\n",
      "Tatitlek\n",
      "Tazlina\n",
      "Teller\n",
      "Tenakee Springs\n",
      "Tetlin\n",
      "Thorne Bay\n",
      "Togiak\n",
      "Tok\n",
      "Toksook Bay\n",
      "Tonsina\n",
      "Trapper Creek\n",
      "Tuluksak\n",
      "Tuntutuliak\n",
      "Tununak\n",
      "Twin Hills\n",
      "Tyonek\n",
      "Ugashik\n",
      "Unalakleet\n",
      "Unalaska\n",
      "Upper Kalskag\n",
      "Valdez\n",
      "Venetie\n",
      "Wainwright Com\n",
      "Wainwright Res\n",
      "Wales\n",
      "Ward Cove\n",
      "Wasilla\n",
      "Whale Pass\n",
      "White Mountain\n",
      "Whittier\n",
      "Willow\n",
      "Wiseman\n",
      "Wrangell\n",
      "Yakutat\n",
      "738\n"
     ]
    }
   ],
   "source": [
    "def find_res_util(city):\n",
    "    \"\"\"Returns the first residential electric utility for the city, or None\n",
    "    if no Residential utility exists.\n",
    "    \"\"\"\n",
    "    for _, util_id in city.ElecUtilities:\n",
    "        util = lib.util_from_id(util_id)\n",
    "        if not util.IsCommercial:\n",
    "            return util\n",
    "    return None\n",
    "\n",
    "def find_sm_comm_util(city):\n",
    "    \"\"\"Returns the first commercial utility that has no demand charge, or None\n",
    "    if no such utility exists.\n",
    "    \"\"\"\n",
    "    for _, util_id in city.ElecUtilities:\n",
    "        util = lib.util_from_id(util_id)\n",
    "        if util.IsCommercial and np.nan_to_num(util.DemandCharge)==0.0:\n",
    "            return util\n",
    "    return None\n",
    "    \n",
    "def scenarios(city_id, fuel_id):\n",
    "    '''Returns a list of (scenario name, input dictionary) tuples for all \n",
    "    of the scenarios being modeled for 'city_id' with the existing system\n",
    "    using 'fuel_id'.\n",
    "    '''\n",
    "    scenarios = []\n",
    "    city = lib.city_from_id(city_id)\n",
    "    \n",
    "    # ------------------- Base Case Scenario\n",
    "    \n",
    "    sc_base = in_base.copy()\n",
    "    sc_base['city_id'] = city_id\n",
    "    sc_base['exist_heat_fuel_id'] = fuel_id\n",
    "    \n",
    "    # If electric heat, then 100% efficient\n",
    "    if fuel_id == 1:\n",
    "        sc_base['exist_heat_effic'] = 1.0\n",
    "\n",
    "    # Capital Cost\n",
    "    # Each cost level is the same percentage above the one prior.\n",
    "    # Assume highest level (level 5) is 1.6 x lowest level.\n",
    "    cost_mult = 1.6 ** 0.25\n",
    "    sc_base['capital_cost'] = 4000.0 * cost_mult ** (city.ImpCost - 1)\n",
    "    \n",
    "    # Find the residential utility for this city\n",
    "    sc_base['utility'] = find_res_util(city)\n",
    "    \n",
    "    # Building Floor Area\n",
    "    sc_base['bldg_floor_area'] = census_to_size[city.census_area]\n",
    "    \n",
    "    # fuel price\n",
    "    if fuel_id != 1:\n",
    "        # Not Electricity\n",
    "        if (city.Name, fuel_id) in fuel_override:\n",
    "            # Override exists for fuel price\n",
    "            sc_base['exist_unit_fuel_cost'] =  fuel_override[(city.Name, fuel_id)]\n",
    "        else:\n",
    "            the_fuel = lib.fuel_from_id(fuel_id)\n",
    "            price_col = the_fuel['price_col']\n",
    "            price = np.nan_to_num(city[price_col])\n",
    "            sc_base['exist_unit_fuel_cost'] = price\n",
    "    else:\n",
    "        sc_base['exist_unit_fuel_cost'] = np.nan\n",
    "        \n",
    "    # January and May electricity use\n",
    "    sc_base['elec_use_jan'] = city.avg_elec_usage[0]\n",
    "    sc_base['elec_use_may'] = city.avg_elec_usage[4]\n",
    "    \n",
    "    # Sales Tax\n",
    "    sc_base['sales_tax'] = np.nan_to_num(city.MunicipalSalesTax) + np.nan_to_num(city.BoroughSalesTax)\n",
    "    \n",
    "    scenarios.append(('Base', sc_base))\n",
    "    \n",
    "    # --------------------- Small Load Scenario\n",
    "    \n",
    "    sc_small = sc_base.copy()\n",
    "    # 40% smaller floor area\n",
    "    sc_small['bldg_floor_area'] *= 0.6      \n",
    "    \n",
    "    # 20% reduction in base electric use\n",
    "    sc_small['elec_use_jan'] *= 0.8\n",
    "    sc_small['elec_use_may'] *= 0.8\n",
    "    \n",
    "    # Toyostove or Rinnai type efficiency and auxiliary use\n",
    "    if fuel_id == 4:\n",
    "        sc_base['exist_heat_effic'] = 0.84\n",
    "    elif fuel_id == 3:\n",
    "        sc_base['exist_heat_effic'] = 0.82\n",
    "    sc_small['exist_kwh_per_mmbtu'] = 3.0\n",
    "    \n",
    "    scenarios.append(('Small Load', sc_small))\n",
    "    \n",
    "    # --------------------- Large Load Scenario\n",
    "\n",
    "    sc_large = sc_base.copy()\n",
    "    # 50% larger floor area\n",
    "    sc_large['bldg_floor_area'] *= 1.5      \n",
    "    \n",
    "    # Trying to make this a heat pump favorable scenario, so leave base\n",
    "    # electric use the same.\n",
    "    \n",
    "    # Lower Oil and Propane efficiencies, higher auxiliary use\n",
    "    if fuel_id == 4 or fuel_id == 3:\n",
    "        sc_base['exist_heat_effic'] = 0.77\n",
    "        sc_large['exist_kwh_per_mmbtu'] = 9.0\n",
    "    \n",
    "    scenarios.append(('Large Load', sc_large))\n",
    "    \n",
    "    # -------------------- Base Case with Low Base Electricity Use\n",
    "    # In PCE communities this will look good.\n",
    "    \n",
    "    sc_low_elec = sc_base.copy()\n",
    "    \n",
    "    # 30% reduction in base electric use\n",
    "    sc_low_elec['elec_use_jan'] *= 0.7\n",
    "    sc_low_elec['elec_use_may'] *= 0.7\n",
    "    \n",
    "    scenarios.append(('Low Elec', sc_low_elec))\n",
    "\n",
    "    # ---------------------- Community Building, all kWh get PCE.\n",
    "    # Only true for communities that have not used their PCE allotment.\n",
    "    # Only run this scenario for communities with PCE.\n",
    "    \n",
    "    # Get small commercial electric utility\n",
    "    util = find_sm_comm_util(city)\n",
    "    if (util is not None) and np.nan_to_num(util.PCE) > 0.0:\n",
    "        \n",
    "        sc_commun = sc_base.copy()\n",
    "        sc_commun['util'] =  util\n",
    "        \n",
    "        # 2,000 square foot building\n",
    "        sc_commun['bldg_floor_area'] = 2000.0\n",
    "\n",
    "        # Base electric use doesn't matter.\n",
    "\n",
    "        # Set infinite PCE limit. \n",
    "        sc_commun['pce_limit'] = np.inf\n",
    "        \n",
    "        scenarios.append(('Community Bldg', sc_commun))\n",
    "    \n",
    "    return scenarios\n",
    "    \n",
    "sc_count = 0\n",
    "recs = []\n",
    "\n",
    "for city_name, city_id in lib.cities():\n",
    "    print(city_name)\n",
    "    city = lib.city_from_id(city_id)\n",
    "    \n",
    "    for fuel_id in (4, 3, 1):\n",
    "        for scenario_name, inp in scenarios(city_id, fuel_id):\n",
    "\n",
    "            # If no utility for the scenario or no fuel price if non-electric, skip it\n",
    "            if (inp['utility'] is None) or (fuel_id != 1 and inp['exist_unit_fuel_cost']==0.0):\n",
    "                continue\n",
    "\n",
    "            rec = {\n",
    "                'City': city_name,\n",
    "                'Exist_Fuel_Type': fuel_id,\n",
    "                'Scenario': scenario_name,\n",
    "                'Census_Area': city.census_area,\n",
    "                'ANCSA_Region': city.ancsa_region,\n",
    "                'Util_Name': inp['utility'].Name,\n",
    "                'PCE': np.nan_to_num(inp['utility'].PCE),\n",
    "                'Sq_Ft': inp['bldg_floor_area'],\n",
    "                'Capital_Cost': inp['capital_cost'],\n",
    "                'Elec_Use_Jan': inp['elec_use_jan'],\n",
    "                'Elec_Use_May': inp['elec_use_may'],\n",
    "            }\n",
    "\n",
    "            md = hpmod.HP_model(**inp)\n",
    "            md.run()\n",
    "            smy = md.summary\n",
    "            rec.update(\n",
    "                 Design_Heat_Load = smy['design_heat_load'],\n",
    "                 Design_Heat_Temp = smy['design_heat_temp'],\n",
    "                 COP = smy['cop'],\n",
    "                 Max_HP_Cap_Reached = smy['max_hp_reached'],\n",
    "                 HP_Load_Frac = smy['hp_load_frac'],\n",
    "                 IRR = smy['irr'],\n",
    "                 NPV = smy['npv'],\n",
    "                 Fuel_Use_Chg = smy['fuel_use_chg'],\n",
    "                 Fuel_Price_Incremental = smy['fuel_price_incremental'],\n",
    "                 Elec_Use_Chg = smy['elec_use_chg'],\n",
    "                 Elec_Rate_Incremental = smy['elec_rate_incremental'],            \n",
    "            )\n",
    "            recs.append(rec)\n",
    "            sc_count += 1\n",
    "    #if city_name == 'Adak':\n",
    "    #    break\n",
    "print(sc_count)\n",
    "df_results = pd.DataFrame(recs)\n",
    "df_results.to_pickle('results.pkl')"
   ]
  },
  {
   "cell_type": "code",
   "execution_count": 39,
   "metadata": {},
   "outputs": [
    {
     "data": {
      "application/vnd.jupyter.widget-view+json": {
       "model_id": "17858a1ae3964975bc27721f2c34e6f6",
       "version_major": 2,
       "version_minor": 0
      },
      "text/plain": [
       "QgridWidget(grid_options={'fullWidthRows': True, 'syncColumnCellResize': True, 'forceFitColumns': True, 'defau…"
      ]
     },
     "metadata": {},
     "output_type": "display_data"
    }
   ],
   "source": [
    "df_results = pd.read_pickle('results.pkl')\n",
    "sh(df_results)"
   ]
  },
  {
   "cell_type": "code",
   "execution_count": 42,
   "metadata": {},
   "outputs": [
    {
     "data": {
      "text/plain": [
       "<matplotlib.axes._subplots.AxesSubplot at 0x7caf78af1e80>"
      ]
     },
     "execution_count": 42,
     "metadata": {},
     "output_type": "execute_result"
    },
    {
     "data": {
      "image/png": "[encoded data removed]",
      "text/plain": [
       "<Figure size 432x288 with 1 Axes>"
      ]
     },
     "metadata": {
      "needs_background": "light"
     },
     "output_type": "display_data"
    }
   ],
   "source": [
    "df_results.query('Exist_Fuel_Type == 4').NPV.hist(bins=30)\n",
    "#xlim(-10000, 10000)"
   ]
  },
  {
   "cell_type": "markdown",
   "metadata": {},
   "source": [
    "## Test out Plotting"
   ]
  },
  {
   "cell_type": "code",
   "execution_count": 17,
   "metadata": {},
   "outputs": [],
   "source": [
    "df_test = pd.DataFrame({'Val': [-3500, -2000, -1900, 1230., 2420., 4560., 5230],\n",
    "                        'Scenario': ['a', 'b', 'c', 'd', 'e', 'f', 'g']})\n",
    "df_test['City'] = 'Kotzebue'\n",
    "df_test['Econ'] = 'Close'\n",
    "df_test.loc[df_test.Val < -2000, 'Econ'] =  'Not Economic'\n",
    "df_test.loc[df_test.Val > 0, 'Econ'] =  'Economic'\n",
    "df_test2 = df_test.copy()\n",
    "df_test2['Val'] -= 300\n",
    "df_test2['City'] = 'Ambler'\n",
    "df_test2['Econ'] = 'Close'\n",
    "df_test2.loc[df_test2.Val < -2000, 'Econ'] =  'Not Economic'\n",
    "df_test2.loc[df_test2.Val > 0, 'Econ'] =  'Economic'\n",
    "df_test = pd.concat([df_test, df_test2])"
   ]
  },
  {
   "cell_type": "code",
   "execution_count": 19,
   "metadata": {},
   "outputs": [
    {
     "data": {
      "application/vnd.vegalite.v2+json": {
       "$schema": "https://vega.github.io/schema/vega-lite/v2.6.0.json",
       "config": {
        "view": {
         "height": 300,
         "width": 400
        }
       },
       "layer": [
        {
         "data": {
          "format": {
           "type": "json"
          },
          "url": "altair-data-2120a3aa2f1d0cc9fb04e27eb9867a4c.json"
         },
         "encoding": {
          "size": {
           "value": 2
          },
          "x": {
           "field": "ThresholdValue",
           "type": "quantitative"
          }
         },
         "mark": {
          "color": "green",
          "type": "rule"
         },
         "selection": {
          "selector010": {
           "bind": "scales",
           "encodings": [
            "x",
            "y"
           ],
           "mark": {
            "fill": "#333",
            "fillOpacity": 0.125,
            "stroke": "white"
           },
           "on": "[mousedown, window:mouseup] > window:mousemove!",
           "resolve": "global",
           "translate": "[mousedown, window:mouseup] > window:mousemove!",
           "type": "interval",
           "zoom": "wheel!"
          }
         }
        },
        {
         "data": {
          "format": {
           "type": "json"
          },
          "url": "altair-data-b45e038703ffecee60b895a685074dbc.json"
         },
         "encoding": {
          "color": {
           "field": "Econ",
           "scale": {
            "domain": [
             "Economic",
             "Close",
             "Not Economic"
            ],
            "range": [
             "green",
             "#FFBB00",
             "red"
            ]
           },
           "type": "nominal"
          },
          "fill": {
           "field": "Econ",
           "scale": {
            "domain": [
             "Economic",
             "Close",
             "Not Economic"
            ],
            "range": [
             "green",
             "#FFBB00",
             "red"
            ]
           },
           "type": "nominal"
          },
          "shape": {
           "field": "Scenario",
           "type": "nominal"
          },
          "tooltip": [
           {
            "field": "Scenario",
            "type": "nominal"
           }
          ],
          "x": {
           "axis": {
            "grid": false,
            "title": "Net Present Value"
           },
           "field": "Val",
           "type": "quantitative"
          },
          "y": {
           "axis": {
            "grid": true,
            "title": "Community"
           },
           "field": "City",
           "type": "nominal"
          }
         },
         "mark": {
          "opacity": 0.7,
          "size": 150,
          "stroke": "black",
          "strokeWidth": 1,
          "type": "point"
         }
        }
       ]
      },
      "image/png": "[encoded data removed]",
      "text/plain": [
       "<VegaLite 2 object>\n",
       "\n",
       "If you see this message, it means the renderer has not been properly enabled\n",
       "for the frontend that you are using. For more information, see\n",
       "https://altair-viz.github.io/user_guide/troubleshooting.html\n"
      ]
     },
     "execution_count": 19,
     "metadata": {},
     "output_type": "execute_result"
    }
   ],
   "source": [
    "# make a color scale for economic payback\n",
    "color_scale = alt.Scale(\n",
    "            domain=['Economic', 'Close', 'Not Economic'],\n",
    "            range=['green', '#FFBB00', 'red'])\n",
    "\n",
    "main = alt.Chart(df_test).mark_point(\n",
    "    size=150, opacity=0.7, stroke='black', strokeWidth=1\n",
    ").encode(\n",
    "    x=alt.X('Val', axis=alt.Axis(title='Net Present Value', grid=False)),\n",
    "    y=alt.Y('City', axis=alt.Axis(title='Community', grid=True)),\n",
    "    shape='Scenario',\n",
    "    color=alt.Color('Econ', scale=color_scale),\n",
    "    fill=alt.Color('Econ', scale=color_scale),\n",
    "    tooltip=['Scenario']\n",
    ")\n",
    "rule_data = pd.DataFrame([{\"ThresholdValue\": 0, \"Threshold\": \"breakeven\"}])\n",
    "rule = alt.Chart(rule_data).mark_rule(color='green').encode(\n",
    "    x='ThresholdValue',\n",
    "    size=alt.value(2)\n",
    ")\n",
    "(rule + main).interactive()"
   ]
  },
  {
   "cell_type": "code",
   "execution_count": 9,
   "metadata": {},
   "outputs": [
    {
     "data": {
      "text/plain": [
       "(10, 10)"
      ]
     },
     "execution_count": 9,
     "metadata": {},
     "output_type": "execute_result"
    }
   ],
   "source": [
    "import logging\n",
    "logging.root.setLevel(logging.DEBUG)\n",
    "logging.root.getEffectiveLevel(), logging.DEBUG"
   ]
  }
 ],
 "metadata": {
  "kernelspec": {
   "display_name": "Python 3",
   "language": "python",
   "name": "python3"
  },
  "language_info": {
   "codemirror_mode": {
    "name": "ipython",
    "version": 3
   },
   "file_extension": ".py",
   "mimetype": "text/x-python",
   "name": "python",
   "nbconvert_exporter": "python",
   "pygments_lexer": "ipython3",
   "version": "3.7.0"
  }
 },
 "nbformat": 4,
 "nbformat_minor": 2
}
