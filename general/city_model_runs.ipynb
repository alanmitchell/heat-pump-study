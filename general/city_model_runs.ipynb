{
 "cells": [
  {
   "cell_type": "markdown",
   "metadata": {},
   "source": [
    "# Runs the Heat Pump Model for Multiple Scenaries across Multiple Communities"
   ]
  },
  {
   "cell_type": "code",
   "execution_count": 1,
   "metadata": {},
   "outputs": [
    {
     "data": {
      "text/plain": [
       "DataTransformerRegistry.enable('json')"
      ]
     },
     "execution_count": 1,
     "metadata": {},
     "output_type": "execute_result"
    }
   ],
   "source": [
    "import numpy as np\n",
    "import pandas as pd\n",
    "\n",
    "#---- Auto-reload of modules\n",
    "%load_ext autoreload\n",
    "%autoreload 2\n",
    "\n",
    "#---- Altair imports \n",
    "import altair as alt\n",
    "alt.data_transformers.enable('json')   # keeps Huge data out of Notebook"
   ]
  },
  {
   "cell_type": "markdown",
   "metadata": {},
   "source": [
    "## Test out Plotting"
   ]
  },
  {
   "cell_type": "code",
   "execution_count": 49,
   "metadata": {},
   "outputs": [],
   "source": [
    "df_test = pd.DataFrame({'Val': [-3500, -2000, -840, 1230., 2420., 4560., 5230],\n",
    "                        'Scenario': ['a', 'b', 'c', 'd', 'e', 'f', 'g']})\n",
    "df_test['City'] = 'Kotzebue'\n",
    "df_test['Econ'] = 'Close'\n",
    "df_test.loc[df_test.Val < -2000, 'Econ'] =  'Not Economic'\n",
    "df_test.loc[df_test.Val > 0, 'Econ'] =  'Economic'\n",
    "df_test2 = df_test.copy()\n",
    "df_test2['Val'] -= 300\n",
    "df_test2['City'] = 'Ambler'\n",
    "df_test = pd.concat([df_test, df_test2])"
   ]
  },
  {
   "cell_type": "code",
   "execution_count": 55,
   "metadata": {},
   "outputs": [
    {
     "data": {
      "application/vnd.vegalite.v2+json": {
       "$schema": "https://vega.github.io/schema/vega-lite/v2.6.0.json",
       "config": {
        "view": {
         "height": 300,
         "width": 400
        }
       },
       "layer": [
        {
         "data": {
          "format": {
           "type": "json"
          },
          "url": "altair-data-2120a3aa2f1d0cc9fb04e27eb9867a4c.json"
         },
         "encoding": {
          "size": {
           "value": 2
          },
          "x": {
           "field": "ThresholdValue",
           "type": "quantitative"
          }
         },
         "mark": {
          "color": "green",
          "type": "rule"
         },
         "selection": {
          "selector001": {
           "bind": "scales",
           "encodings": [
            "x",
            "y"
           ],
           "mark": {
            "fill": "#333",
            "fillOpacity": 0.125,
            "stroke": "white"
           },
           "on": "[mousedown, window:mouseup] > window:mousemove!",
           "resolve": "global",
           "translate": "[mousedown, window:mouseup] > window:mousemove!",
           "type": "interval",
           "zoom": "wheel!"
          }
         }
        },
        {
         "data": {
          "format": {
           "type": "json"
          },
          "url": "altair-data-ccb455528a9cd588c888da19f4f15633.json"
         },
         "encoding": {
          "color": {
           "field": "Econ",
           "scale": {
            "domain": [
             "Economic",
             "Close",
             "Not Economic"
            ],
            "range": [
             "green",
             "#FFBB00",
             "red"
            ]
           },
           "type": "nominal"
          },
          "fill": {
           "field": "Econ",
           "scale": {
            "domain": [
             "Economic",
             "Close",
             "Not Economic"
            ],
            "range": [
             "green",
             "#FFBB00",
             "red"
            ]
           },
           "type": "nominal"
          },
          "shape": {
           "field": "Scenario",
           "type": "nominal"
          },
          "tooltip": [
           {
            "field": "Scenario",
            "type": "nominal"
           }
          ],
          "x": {
           "axis": {
            "grid": false,
            "title": "Net Present Value"
           },
           "field": "Val",
           "type": "quantitative"
          },
          "y": {
           "axis": {
            "grid": true,
            "title": "Community"
           },
           "field": "City",
           "type": "nominal"
          }
         },
         "mark": {
          "size": 150,
          "type": "point"
         }
        }
       ]
      },
      "image/png": "[encoded data removed]",
      "text/plain": [
       "<VegaLite 2 object>\n",
       "\n",
       "If you see this message, it means the renderer has not been properly enabled\n",
       "for the frontend that you are using. For more information, see\n",
       "https://altair-viz.github.io/user_guide/troubleshooting.html\n"
      ]
     },
     "execution_count": 55,
     "metadata": {},
     "output_type": "execute_result"
    }
   ],
   "source": [
    "# make a color scale for economic payback\n",
    "color_scale = alt.Scale(\n",
    "            domain=['Economic', 'Close', 'Not Economic'],\n",
    "            range=['green', '#FFBB00', 'red'])\n",
    "\n",
    "main = alt.Chart(df_test).mark_point(size=150).encode(\n",
    "    x=alt.X('Val', axis=alt.Axis(title='Net Present Value', grid=False)),\n",
    "    y=alt.Y('City', axis=alt.Axis(title='Community', grid=True)),\n",
    "    shape='Scenario',\n",
    "    color=alt.Color('Econ', scale=color_scale),\n",
    "    fill=alt.Color('Econ', scale=color_scale),\n",
    "    tooltip=['Scenario']\n",
    ")\n",
    "rule_data = pd.DataFrame([{\"ThresholdValue\": 0, \"Threshold\": \"breakeven\"}])\n",
    "rule = alt.Chart(rule_data).mark_rule(color='green').encode(\n",
    "    x='ThresholdValue',\n",
    "    size=alt.value(2)\n",
    ")\n",
    "(rule + main).interactive()"
   ]
  },
  {
   "cell_type": "code",
   "execution_count": null,
   "metadata": {},
   "outputs": [],
   "source": []
  }
 ],
 "metadata": {
  "kernelspec": {
   "display_name": "Python 3",
   "language": "python",
   "name": "python3"
  },
  "language_info": {
   "codemirror_mode": {
    "name": "ipython",
    "version": 3
   },
   "file_extension": ".py",
   "mimetype": "text/x-python",
   "name": "python",
   "nbconvert_exporter": "python",
   "pygments_lexer": "ipython3",
   "version": "3.7.0"
  }
 },
 "nbformat": 4,
 "nbformat_minor": 2
}
