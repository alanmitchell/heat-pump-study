{
 "cells": [
  {
   "cell_type": "markdown",
   "metadata": {},
   "source": [
    "## Estimates Temperature Depression in Bedrooms when heat is not delivered direct to the bedroom."
   ]
  },
  {
   "cell_type": "markdown",
   "metadata": {},
   "source": [
    "Start with an observation of the bedroom temperature depression of Phil's NCAT house\n",
    "in Nome.  Observed bedrooms were 10 F cooler than main space when it was -20 F outside\n",
    "and the doors were shut.  When doors were open, depression was 1/3 that or about 3.3 deg F.\n",
    "His house was 896 ft2, R-40 Walls, R-50 Floor and Ceiling, triple pane.  Used about 200\n",
    "gallons of #1 Oil to heat with (just space heating).  That models out to a UA of about \n",
    "96 Btu/hour/deg-F, or expressed per square foot of home:  0.107 Btu/hr/F/ft2."
   ]
  },
  {
   "cell_type": "markdown",
   "metadata": {},
   "source": [
    "Can model the temperature in the bedrooms with a resistive divider network.  The reciprocal\n",
    "of the UA/ft2 is a measure of resistance.  The unknown resistance is that from the main\n",
    "space to the bedroom, but that can be solved for given the observation above.  The voltage\n",
    "in the resistive divider network is the difference between the balance point of the home\n",
    "and the outdoor temperature.  The Balance Point of the home above is about 56 deg F.\n",
    "\n",
    "If R is the unknown resistor from the main space to the bedroom, then:\n",
    "\n",
    "    temp depression in bedroom = R / (R + 1/UA-per-ft2) * (56 - -20) F\n",
    "                \"           = R / (R + 1/0.107) * 76 F\n",
    "                \"           = R / (R + 9.35) * 76 F\n",
    "                \n",
    "First solve for R with the doors shut.  The observed temperature depression was 10 F.  So,\n",
    "\n",
    "    10 F = R / (R + 9.35) * 76 F\n",
    "    R = 1.42  for Doors Shut\n",
    "    \n",
    "Then, solve R for doors open.  The observed temperature depresssion was 3 F.  So,\n",
    "\n",
    "    3.3 F = R / (R + 9.35) * 76 F\n",
    "    R = 0.424 for Doors Open\n",
    "\n"
   ]
  },
  {
   "cell_type": "code",
   "execution_count": 2,
   "metadata": {},
   "outputs": [],
   "source": [
    "# Write a function to estimate temperature depression given other UA values\n",
    "# and temperature conditions\n",
    "def temp_depression(ua_per_ft2, \n",
    "                    balance_point, \n",
    "                    outdoor_temp,\n",
    "                    doors_open):\n",
    "\n",
    "    r_to_bedroom = 0.424 if doors_open else 1.42\n",
    "    temp_delta = balance_point - outdoor_temp\n",
    "    temp_depress = temp_delta * r_to_bedroom / (r_to_bedroom + 1.0/ua_per_ft2)\n",
    "    return temp_depress"
   ]
  },
  {
   "cell_type": "code",
   "execution_count": 3,
   "metadata": {},
   "outputs": [
    {
     "data": {
      "text/plain": [
       "3.2983293921375054"
      ]
     },
     "execution_count": 3,
     "metadata": {},
     "output_type": "execute_result"
    }
   ],
   "source": [
    "# Check against original data, doors open\n",
    "temp_depression(0.107, 56, -20, True)"
   ]
  },
  {
   "cell_type": "code",
   "execution_count": 5,
   "metadata": {},
   "outputs": [
    {
     "data": {
      "text/plain": [
       "10.024341545566609"
      ]
     },
     "execution_count": 5,
     "metadata": {},
     "output_type": "execute_result"
    }
   ],
   "source": [
    "# Check against original data, doors close\n",
    "temp_depression(0.107, 56, -20, False)\n",
    "\n",
    "# They both check"
   ]
  },
  {
   "cell_type": "code",
   "execution_count": 7,
   "metadata": {},
   "outputs": [
    {
     "data": {
      "text/plain": [
       "(8.498976216727042, 2.9821573998667357)"
      ]
     },
     "execution_count": 7,
     "metadata": {},
     "output_type": "execute_result"
    }
   ],
   "source": [
    "# Check an Enstar average house with 20 F outdoors, balance temperature\n",
    "# 60 F.\n",
    "temp_depression(0.19, 60, 20, False), temp_depression(0.19, 60, 20, True)\n",
    "# Seems believable"
   ]
  }
 ],
 "metadata": {
  "kernelspec": {
   "display_name": "Python 3",
   "language": "python",
   "name": "python3"
  },
  "language_info": {
   "codemirror_mode": {
    "name": "ipython",
    "version": 3
   },
   "file_extension": ".py",
   "mimetype": "text/x-python",
   "name": "python",
   "nbconvert_exporter": "python",
   "pygments_lexer": "ipython3",
   "version": "3.7.0"
  }
 },
 "nbformat": 4,
 "nbformat_minor": 2
}
